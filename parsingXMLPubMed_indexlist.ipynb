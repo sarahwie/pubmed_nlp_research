{
 "cells": [
  {
   "cell_type": "code",
   "execution_count": 1,
   "metadata": {
    "collapsed": true
   },
   "outputs": [],
   "source": [
    "#Note: when running on local computer, change urls to '/home/sarahwie/Documents/zip/subset'"
   ]
  },
  {
   "cell_type": "code",
   "execution_count": 3,
   "metadata": {
    "collapsed": false
   },
   "outputs": [],
   "source": [
    "import xml.etree.ElementTree as ET\n",
    "import datetime\n",
    "import os\n",
    "import urlparse\n",
    "import zipfile\n",
    "import pickle\n",
    "\n",
    "from xml.etree.ElementTree import Element"
   ]
  },
  {
   "cell_type": "markdown",
   "metadata": {},
   "source": [
    "Set working directory to where files are:"
   ]
  },
  {
   "cell_type": "code",
   "execution_count": 30,
   "metadata": {
    "collapsed": false
   },
   "outputs": [],
   "source": [
    "os.chdir('/mnt/mypartition/Desktop2/PubMed')\n",
    "#os.chdir('/home/sarahwie/Documents/zip/subset')"
   ]
  },
  {
   "cell_type": "markdown",
   "metadata": {},
   "source": [
    "### The below was run to create our list of indexes where our subset is (called 'save.p')."
   ]
  },
  {
   "cell_type": "markdown",
   "metadata": {},
   "source": [
    "Read in PMIDs text file as a list:"
   ]
  },
  {
   "cell_type": "code",
   "execution_count": 31,
   "metadata": {
    "collapsed": false
   },
   "outputs": [],
   "source": [
    "my_list = [line.strip() for line in open('/mnt/mypartition/Desktop2/MUSC_PMIDs.txt', 'r')]\n",
    "#my_list = [line.strip() for line in open('/home/sarahwie/Documents/zip/MUSC_PMIDs.txt', 'r')]"
   ]
  },
  {
   "cell_type": "markdown",
   "metadata": {},
   "source": [
    "Convert list to dictionary:"
   ]
  },
  {
   "cell_type": "code",
   "execution_count": 32,
   "metadata": {
    "collapsed": false
   },
   "outputs": [],
   "source": [
    "pmids = dict(zip(my_list, range(len(my_list))))"
   ]
  },
  {
   "cell_type": "code",
   "execution_count": 33,
   "metadata": {
    "collapsed": false
   },
   "outputs": [
    {
     "name": "stdout",
     "output_type": "stream",
     "text": [
      "38814\n"
     ]
    }
   ],
   "source": [
    "print len(pmids)"
   ]
  },
  {
   "cell_type": "markdown",
   "metadata": {},
   "source": [
    "Match the pmids: note- edited to only include after 187 since those were successful last time. did this by moving 0001 to 0187 to another folder. Commented out to create a new empty \"full_list\" as we want to append to our existing populated one."
   ]
  },
  {
   "cell_type": "code",
   "execution_count": 39,
   "metadata": {
    "collapsed": false
   },
   "outputs": [
    {
     "name": "stdout",
     "output_type": "stream",
     "text": [
      "medline16n0189.xml.zip\n",
      "medline16n0190.xml.zip\n",
      "medline16n0191.xml.zip\n",
      "medline16n0192.xml.zip\n",
      "medline16n0193.xml.zip\n",
      "medline16n0194.xml.zip\n",
      "medline16n0195.xml.zip\n",
      "medline16n0196.xml.zip\n",
      "medline16n0197.xml.zip\n",
      "medline16n0198.xml.zip\n",
      "medline16n0199.xml.zip\n",
      "medline16n0200.xml.zip\n",
      "medline16n0201.xml.zip\n",
      "medline16n0202.xml.zip\n",
      "medline16n0203.xml.zip\n",
      "medline16n0204.xml.zip\n",
      "medline16n0205.xml.zip\n",
      "medline16n0206.xml.zip\n",
      "medline16n0207.xml.zip\n",
      "medline16n0208.xml.zip\n",
      "medline16n0209.xml.zip\n",
      "medline16n0210.xml.zip\n",
      "medline16n0211.xml.zip\n",
      "medline16n0212.xml.zip\n",
      "medline16n0213.xml.zip\n",
      "medline16n0214.xml.zip\n",
      "medline16n0215.xml.zip\n",
      "medline16n0216.xml.zip\n",
      "medline16n0217.xml.zip\n",
      "medline16n0218.xml.zip\n",
      "medline16n0219.xml.zip\n",
      "medline16n0220.xml.zip\n",
      "medline16n0221.xml.zip\n",
      "medline16n0222.xml.zip\n",
      "medline16n0223.xml.zip\n",
      "medline16n0224.xml.zip\n",
      "medline16n0225.xml.zip\n",
      "medline16n0226.xml.zip\n",
      "medline16n0227.xml.zip\n",
      "medline16n0228.xml.zip\n",
      "medline16n0229.xml.zip\n",
      "medline16n0230.xml.zip\n",
      "medline16n0231.xml.zip\n",
      "medline16n0232.xml.zip\n",
      "medline16n0233.xml.zip\n",
      "medline16n0234.xml.zip\n",
      "medline16n0235.xml.zip\n",
      "medline16n0236.xml.zip\n",
      "medline16n0237.xml.zip\n",
      "medline16n0238.xml.zip\n",
      "medline16n0239.xml.zip\n",
      "medline16n0240.xml.zip\n",
      "medline16n0241.xml.zip\n",
      "medline16n0242.xml.zip\n",
      "medline16n0243.xml.zip\n",
      "medline16n0244.xml.zip\n",
      "medline16n0245.xml.zip\n",
      "medline16n0246.xml.zip\n",
      "medline16n0247.xml.zip\n",
      "medline16n0248.xml.zip\n",
      "medline16n0249.xml.zip\n",
      "medline16n0250.xml.zip\n",
      "medline16n0251.xml.zip\n",
      "medline16n0252.xml.zip\n",
      "medline16n0253.xml.zip\n",
      "medline16n0254.xml.zip\n",
      "medline16n0255.xml.zip\n",
      "medline16n0256.xml.zip\n",
      "medline16n0257.xml.zip\n",
      "medline16n0258.xml.zip\n",
      "medline16n0259.xml.zip\n",
      "medline16n0260.xml.zip\n",
      "medline16n0261.xml.zip\n",
      "medline16n0262.xml.zip\n",
      "medline16n0263.xml.zip\n",
      "medline16n0264.xml.zip\n",
      "medline16n0265.xml.zip\n",
      "medline16n0266.xml.zip\n",
      "medline16n0267.xml.zip\n",
      "medline16n0268.xml.zip\n",
      "medline16n0269.xml.zip\n",
      "medline16n0270.xml.zip\n",
      "medline16n0271.xml.zip\n",
      "medline16n0272.xml.zip\n",
      "medline16n0273.xml.zip\n",
      "medline16n0274.xml.zip\n",
      "medline16n0275.xml.zip\n",
      "medline16n0276.xml.zip\n",
      "medline16n0277.xml.zip\n",
      "medline16n0278.xml.zip\n",
      "medline16n0279.xml.zip\n",
      "medline16n0280.xml.zip\n",
      "medline16n0281.xml.zip\n",
      "medline16n0282.xml.zip\n",
      "medline16n0283.xml.zip\n",
      "medline16n0284.xml.zip\n",
      "medline16n0285.xml.zip\n",
      "medline16n0286.xml.zip\n",
      "medline16n0287.xml.zip\n",
      "medline16n0288.xml.zip\n",
      "medline16n0289.xml.zip\n",
      "medline16n0290.xml.zip\n",
      "medline16n0291.xml.zip\n",
      "medline16n0292.xml.zip\n",
      "medline16n0293.xml.zip\n",
      "medline16n0294.xml.zip\n",
      "medline16n0295.xml.zip\n",
      "medline16n0296.xml.zip\n",
      "medline16n0297.xml.zip\n",
      "medline16n0298.xml.zip\n",
      "medline16n0299.xml.zip\n",
      "medline16n0300.xml.zip\n",
      "medline16n0301.xml.zip\n",
      "medline16n0302.xml.zip\n",
      "medline16n0303.xml.zip\n",
      "medline16n0304.xml.zip\n",
      "medline16n0305.xml.zip\n",
      "medline16n0306.xml.zip\n",
      "medline16n0307.xml.zip\n",
      "medline16n0308.xml.zip\n",
      "medline16n0309.xml.zip\n",
      "medline16n0310.xml.zip\n",
      "medline16n0311.xml.zip\n",
      "medline16n0312.xml.zip\n",
      "medline16n0313.xml.zip\n",
      "medline16n0314.xml.zip\n",
      "medline16n0315.xml.zip\n",
      "medline16n0316.xml.zip\n",
      "medline16n0317.xml.zip\n",
      "medline16n0318.xml.zip\n",
      "medline16n0319.xml.zip\n",
      "medline16n0320.xml.zip\n",
      "medline16n0321.xml.zip\n",
      "medline16n0322.xml.zip\n",
      "medline16n0323.xml.zip\n",
      "medline16n0324.xml.zip\n",
      "medline16n0325.xml.zip\n",
      "medline16n0326.xml.zip\n",
      "medline16n0327.xml.zip\n",
      "medline16n0328.xml.zip\n",
      "medline16n0329.xml.zip\n",
      "medline16n0330.xml.zip\n",
      "medline16n0331.xml.zip\n",
      "medline16n0332.xml.zip\n",
      "medline16n0333.xml.zip\n",
      "medline16n0334.xml.zip\n",
      "medline16n0335.xml.zip\n",
      "medline16n0336.xml.zip\n",
      "medline16n0337.xml.zip\n",
      "medline16n0338.xml.zip\n",
      "medline16n0339.xml.zip\n",
      "medline16n0340.xml.zip\n",
      "medline16n0341.xml.zip\n",
      "medline16n0342.xml.zip\n",
      "medline16n0343.xml.zip\n",
      "medline16n0344.xml.zip\n",
      "medline16n0345.xml.zip\n",
      "medline16n0346.xml.zip\n",
      "medline16n0347.xml.zip\n",
      "medline16n0348.xml.zip\n",
      "medline16n0349.xml.zip\n",
      "medline16n0350.xml.zip\n",
      "medline16n0351.xml.zip\n",
      "medline16n0352.xml.zip\n",
      "medline16n0353.xml.zip\n",
      "medline16n0354.xml.zip\n",
      "medline16n0355.xml.zip\n",
      "medline16n0356.xml.zip\n",
      "medline16n0357.xml.zip\n",
      "medline16n0358.xml.zip\n",
      "medline16n0359.xml.zip\n",
      "medline16n0360.xml.zip\n",
      "medline16n0361.xml.zip\n",
      "medline16n0362.xml.zip\n",
      "medline16n0363.xml.zip\n",
      "medline16n0364.xml.zip\n",
      "medline16n0365.xml.zip\n",
      "medline16n0366.xml.zip\n",
      "medline16n0367.xml.zip\n",
      "medline16n0368.xml.zip\n",
      "medline16n0369.xml.zip\n",
      "medline16n0370.xml.zip\n",
      "medline16n0371.xml.zip\n",
      "medline16n0372.xml.zip\n",
      "medline16n0373.xml.zip\n",
      "medline16n0374.xml.zip\n",
      "medline16n0375.xml.zip\n",
      "medline16n0376.xml.zip\n",
      "medline16n0377.xml.zip\n",
      "medline16n0378.xml.zip\n",
      "medline16n0379.xml.zip\n",
      "medline16n0380.xml.zip\n",
      "medline16n0381.xml.zip\n",
      "medline16n0382.xml.zip\n",
      "medline16n0383.xml.zip\n",
      "medline16n0384.xml.zip\n",
      "medline16n0385.xml.zip\n",
      "medline16n0386.xml.zip\n",
      "medline16n0387.xml.zip\n",
      "medline16n0388.xml.zip\n",
      "medline16n0389.xml.zip\n",
      "medline16n0390.xml.zip\n",
      "medline16n0391.xml.zip\n",
      "medline16n0392.xml.zip\n",
      "medline16n0393.xml.zip\n",
      "medline16n0394.xml.zip\n",
      "medline16n0395.xml.zip\n",
      "medline16n0396.xml.zip\n",
      "medline16n0397.xml.zip\n",
      "medline16n0398.xml.zip\n",
      "medline16n0399.xml.zip\n",
      "medline16n0400.xml.zip\n",
      "medline16n0401.xml.zip\n",
      "medline16n0402.xml.zip\n",
      "medline16n0403.xml.zip\n",
      "medline16n0404.xml.zip\n",
      "medline16n0405.xml.zip\n",
      "medline16n0406.xml.zip\n",
      "medline16n0407.xml.zip\n",
      "medline16n0408.xml.zip\n",
      "medline16n0409.xml.zip\n",
      "medline16n0410.xml.zip\n",
      "medline16n0411.xml.zip\n",
      "medline16n0412.xml.zip\n",
      "medline16n0413.xml.zip\n",
      "medline16n0414.xml.zip\n",
      "medline16n0415.xml.zip\n",
      "medline16n0416.xml.zip\n",
      "medline16n0417.xml.zip\n",
      "medline16n0418.xml.zip\n",
      "medline16n0419.xml.zip\n",
      "medline16n0420.xml.zip\n",
      "medline16n0421.xml.zip\n",
      "medline16n0422.xml.zip\n",
      "medline16n0423.xml.zip\n",
      "medline16n0424.xml.zip\n",
      "medline16n0425.xml.zip\n",
      "medline16n0426.xml.zip\n",
      "medline16n0427.xml.zip\n",
      "medline16n0428.xml.zip\n",
      "medline16n0429.xml.zip\n",
      "medline16n0430.xml.zip\n",
      "medline16n0431.xml.zip\n",
      "medline16n0432.xml.zip\n",
      "medline16n0433.xml.zip\n",
      "medline16n0434.xml.zip\n",
      "medline16n0435.xml.zip\n",
      "medline16n0436.xml.zip\n",
      "medline16n0437.xml.zip\n",
      "medline16n0438.xml.zip\n",
      "medline16n0439.xml.zip\n",
      "medline16n0440.xml.zip\n",
      "medline16n0441.xml.zip\n",
      "medline16n0442.xml.zip\n",
      "medline16n0443.xml.zip\n",
      "medline16n0444.xml.zip\n",
      "medline16n0445.xml.zip\n",
      "medline16n0446.xml.zip\n",
      "medline16n0447.xml.zip\n",
      "medline16n0448.xml.zip\n",
      "medline16n0449.xml.zip\n",
      "medline16n0450.xml.zip\n",
      "medline16n0451.xml.zip\n",
      "medline16n0452.xml.zip\n",
      "medline16n0453.xml.zip\n",
      "medline16n0454.xml.zip\n",
      "medline16n0455.xml.zip\n",
      "medline16n0456.xml.zip\n",
      "medline16n0457.xml.zip\n",
      "medline16n0458.xml.zip\n",
      "medline16n0459.xml.zip\n",
      "medline16n0460.xml.zip\n",
      "medline16n0461.xml.zip\n",
      "medline16n0462.xml.zip\n",
      "medline16n0463.xml.zip\n",
      "medline16n0464.xml.zip\n",
      "medline16n0465.xml.zip\n",
      "medline16n0466.xml.zip\n",
      "medline16n0467.xml.zip\n",
      "medline16n0468.xml.zip\n",
      "medline16n0469.xml.zip\n",
      "medline16n0470.xml.zip\n",
      "medline16n0471.xml.zip\n",
      "medline16n0472.xml.zip\n",
      "medline16n0473.xml.zip\n",
      "medline16n0474.xml.zip\n",
      "medline16n0475.xml.zip\n",
      "medline16n0476.xml.zip\n",
      "medline16n0477.xml.zip\n",
      "medline16n0478.xml.zip\n",
      "medline16n0479.xml.zip\n",
      "medline16n0480.xml.zip\n",
      "medline16n0481.xml.zip\n",
      "medline16n0482.xml.zip\n",
      "medline16n0483.xml.zip\n",
      "medline16n0484.xml.zip\n",
      "medline16n0485.xml.zip\n",
      "medline16n0486.xml.zip\n",
      "medline16n0487.xml.zip\n",
      "medline16n0488.xml.zip\n",
      "medline16n0489.xml.zip\n",
      "medline16n0490.xml.zip\n",
      "medline16n0491.xml.zip\n",
      "medline16n0492.xml.zip\n",
      "medline16n0493.xml.zip\n",
      "medline16n0494.xml.zip\n",
      "medline16n0495.xml.zip\n",
      "medline16n0496.xml.zip\n",
      "medline16n0497.xml.zip\n",
      "medline16n0498.xml.zip\n",
      "medline16n0499.xml.zip\n",
      "medline16n0500.xml.zip\n",
      "medline16n0501.xml.zip\n",
      "medline16n0502.xml.zip\n",
      "medline16n0503.xml.zip\n",
      "medline16n0504.xml.zip\n",
      "medline16n0505.xml.zip\n",
      "medline16n0506.xml.zip\n",
      "medline16n0507.xml.zip\n",
      "medline16n0508.xml.zip\n",
      "medline16n0509.xml.zip\n",
      "medline16n0510.xml.zip\n",
      "medline16n0511.xml.zip\n",
      "medline16n0512.xml.zip\n",
      "medline16n0513.xml.zip\n",
      "medline16n0514.xml.zip\n",
      "medline16n0515.xml.zip\n",
      "medline16n0516.xml.zip\n",
      "medline16n0517.xml.zip\n",
      "medline16n0518.xml.zip\n",
      "medline16n0519.xml.zip\n",
      "medline16n0520.xml.zip\n",
      "medline16n0521.xml.zip\n",
      "medline16n0522.xml.zip\n",
      "medline16n0523.xml.zip\n",
      "medline16n0524.xml.zip\n",
      "medline16n0525.xml.zip\n",
      "medline16n0526.xml.zip\n",
      "medline16n0527.xml.zip\n",
      "medline16n0528.xml.zip\n",
      "medline16n0529.xml.zip\n",
      "medline16n0530.xml.zip\n",
      "medline16n0531.xml.zip\n",
      "medline16n0532.xml.zip\n",
      "medline16n0533.xml.zip\n",
      "medline16n0534.xml.zip\n",
      "medline16n0535.xml.zip\n",
      "medline16n0536.xml.zip\n",
      "medline16n0537.xml.zip\n",
      "medline16n0538.xml.zip\n",
      "medline16n0539.xml.zip\n",
      "medline16n0540.xml.zip\n",
      "medline16n0541.xml.zip\n",
      "medline16n0542.xml.zip\n",
      "medline16n0543.xml.zip\n",
      "medline16n0544.xml.zip\n",
      "medline16n0545.xml.zip\n",
      "medline16n0546.xml.zip\n",
      "medline16n0547.xml.zip\n",
      "medline16n0548.xml.zip\n",
      "medline16n0549.xml.zip\n",
      "medline16n0550.xml.zip\n",
      "medline16n0551.xml.zip\n",
      "medline16n0552.xml.zip\n",
      "medline16n0553.xml.zip\n",
      "medline16n0554.xml.zip\n",
      "medline16n0555.xml.zip\n",
      "medline16n0556.xml.zip\n",
      "medline16n0557.xml.zip\n",
      "medline16n0558.xml.zip\n",
      "medline16n0559.xml.zip\n",
      "medline16n0560.xml.zip\n",
      "medline16n0561.xml.zip\n",
      "medline16n0562.xml.zip\n",
      "medline16n0563.xml.zip\n",
      "medline16n0564.xml.zip\n",
      "medline16n0565.xml.zip\n",
      "medline16n0566.xml.zip\n",
      "medline16n0567.xml.zip\n",
      "medline16n0568.xml.zip\n",
      "medline16n0569.xml.zip\n",
      "medline16n0570.xml.zip\n",
      "medline16n0571.xml.zip\n",
      "medline16n0572.xml.zip\n",
      "medline16n0573.xml.zip\n",
      "medline16n0574.xml.zip\n",
      "medline16n0575.xml.zip\n",
      "medline16n0576.xml.zip\n",
      "medline16n0577.xml.zip\n",
      "medline16n0578.xml.zip\n",
      "medline16n0579.xml.zip\n",
      "medline16n0580.xml.zip\n",
      "medline16n0581.xml.zip\n",
      "medline16n0582.xml.zip\n",
      "medline16n0583.xml.zip\n",
      "medline16n0584.xml.zip\n",
      "medline16n0585.xml.zip\n",
      "medline16n0586.xml.zip\n",
      "medline16n0587.xml.zip\n",
      "medline16n0588.xml.zip\n",
      "medline16n0589.xml.zip\n",
      "medline16n0590.xml.zip\n",
      "medline16n0591.xml.zip\n",
      "medline16n0592.xml.zip\n",
      "medline16n0593.xml.zip\n",
      "medline16n0594.xml.zip\n",
      "medline16n0595.xml.zip\n",
      "medline16n0596.xml.zip\n",
      "medline16n0597.xml.zip\n",
      "medline16n0598.xml.zip\n",
      "medline16n0599.xml.zip\n",
      "medline16n0600.xml.zip\n",
      "medline16n0601.xml.zip\n",
      "medline16n0602.xml.zip\n",
      "medline16n0603.xml.zip\n",
      "medline16n0604.xml.zip\n",
      "medline16n0605.xml.zip\n",
      "medline16n0606.xml.zip\n",
      "medline16n0607.xml.zip\n",
      "medline16n0608.xml.zip\n",
      "medline16n0609.xml.zip\n",
      "medline16n0610.xml.zip\n",
      "medline16n0611.xml.zip\n",
      "medline16n0612.xml.zip\n",
      "medline16n0613.xml.zip\n",
      "medline16n0614.xml.zip\n",
      "medline16n0615.xml.zip\n",
      "medline16n0616.xml.zip\n",
      "medline16n0617.xml.zip\n",
      "medline16n0618.xml.zip\n",
      "medline16n0619.xml.zip\n",
      "medline16n0620.xml.zip\n",
      "medline16n0621.xml.zip\n",
      "medline16n0622.xml.zip\n",
      "medline16n0623.xml.zip\n",
      "medline16n0624.xml.zip\n",
      "medline16n0625.xml.zip\n",
      "medline16n0626.xml.zip\n",
      "medline16n0627.xml.zip\n",
      "medline16n0628.xml.zip\n",
      "medline16n0629.xml.zip\n",
      "medline16n0630.xml.zip\n",
      "medline16n0631.xml.zip\n",
      "medline16n0632.xml.zip\n",
      "medline16n0633.xml.zip\n",
      "medline16n0634.xml.zip\n",
      "medline16n0635.xml.zip\n",
      "medline16n0636.xml.zip\n",
      "medline16n0637.xml.zip\n",
      "medline16n0638.xml.zip\n",
      "medline16n0639.xml.zip\n",
      "medline16n0640.xml.zip\n",
      "medline16n0641.xml.zip\n",
      "medline16n0642.xml.zip\n",
      "medline16n0643.xml.zip\n",
      "medline16n0644.xml.zip\n",
      "medline16n0645.xml.zip\n",
      "medline16n0646.xml.zip\n",
      "medline16n0647.xml.zip\n",
      "medline16n0648.xml.zip\n",
      "medline16n0649.xml.zip\n",
      "medline16n0650.xml.zip\n",
      "medline16n0651.xml.zip\n",
      "medline16n0652.xml.zip\n",
      "medline16n0653.xml.zip\n",
      "medline16n0654.xml.zip\n",
      "medline16n0655.xml.zip\n",
      "medline16n0656.xml.zip\n",
      "medline16n0657.xml.zip\n",
      "medline16n0658.xml.zip\n",
      "medline16n0659.xml.zip\n",
      "medline16n0660.xml.zip\n",
      "medline16n0661.xml.zip\n",
      "medline16n0662.xml.zip\n",
      "medline16n0663.xml.zip\n",
      "medline16n0664.xml.zip\n",
      "medline16n0665.xml.zip\n",
      "medline16n0666.xml.zip\n",
      "medline16n0667.xml.zip\n",
      "medline16n0668.xml.zip\n",
      "medline16n0669.xml.zip\n",
      "medline16n0670.xml.zip\n",
      "medline16n0671.xml.zip\n",
      "medline16n0672.xml.zip\n",
      "medline16n0673.xml.zip\n",
      "medline16n0674.xml.zip\n",
      "medline16n0675.xml.zip\n",
      "medline16n0676.xml.zip\n",
      "medline16n0677.xml.zip\n",
      "medline16n0678.xml.zip\n",
      "medline16n0679.xml.zip\n",
      "medline16n0680.xml.zip\n",
      "medline16n0681.xml.zip\n",
      "medline16n0682.xml.zip\n",
      "medline16n0683.xml.zip\n",
      "medline16n0684.xml.zip\n",
      "medline16n0685.xml.zip\n",
      "medline16n0686.xml.zip\n",
      "medline16n0687.xml.zip\n",
      "medline16n0688.xml.zip\n",
      "medline16n0689.xml.zip\n",
      "medline16n0690.xml.zip\n",
      "medline16n0691.xml.zip\n",
      "medline16n0692.xml.zip\n",
      "medline16n0693.xml.zip\n",
      "medline16n0694.xml.zip\n",
      "medline16n0695.xml.zip\n",
      "medline16n0696.xml.zip\n",
      "medline16n0697.xml.zip\n",
      "medline16n0698.xml.zip\n",
      "medline16n0699.xml.zip\n",
      "medline16n0700.xml.zip\n",
      "medline16n0701.xml.zip\n",
      "medline16n0702.xml.zip\n",
      "medline16n0703.xml.zip\n",
      "medline16n0704.xml.zip\n",
      "medline16n0705.xml.zip\n",
      "medline16n0706.xml.zip\n",
      "medline16n0707.xml.zip\n",
      "medline16n0708.xml.zip\n",
      "medline16n0709.xml.zip\n",
      "medline16n0710.xml.zip\n",
      "medline16n0711.xml.zip\n",
      "medline16n0712.xml.zip\n",
      "medline16n0713.xml.zip\n",
      "medline16n0714.xml.zip\n",
      "medline16n0715.xml.zip\n",
      "medline16n0716.xml.zip\n",
      "medline16n0717.xml.zip\n",
      "medline16n0718.xml.zip\n",
      "medline16n0719.xml.zip\n",
      "medline16n0720.xml.zip\n",
      "medline16n0721.xml.zip\n",
      "medline16n0722.xml.zip\n",
      "medline16n0723.xml.zip\n",
      "medline16n0724.xml.zip\n",
      "medline16n0725.xml.zip\n",
      "medline16n0726.xml.zip\n",
      "medline16n0727.xml.zip\n",
      "medline16n0728.xml.zip\n",
      "medline16n0729.xml.zip\n",
      "medline16n0730.xml.zip\n",
      "medline16n0731.xml.zip\n",
      "medline16n0732.xml.zip\n",
      "medline16n0733.xml.zip\n",
      "medline16n0734.xml.zip\n",
      "medline16n0735.xml.zip\n",
      "medline16n0736.xml.zip\n",
      "medline16n0737.xml.zip\n",
      "medline16n0738.xml.zip\n",
      "medline16n0739.xml.zip\n",
      "medline16n0740.xml.zip\n",
      "medline16n0741.xml.zip\n",
      "medline16n0742.xml.zip\n",
      "medline16n0743.xml.zip\n",
      "medline16n0744.xml.zip\n",
      "medline16n0745.xml.zip\n",
      "medline16n0746.xml.zip\n",
      "medline16n0747.xml.zip\n",
      "medline16n0748.xml.zip\n",
      "medline16n0749.xml.zip\n",
      "medline16n0750.xml.zip\n",
      "medline16n0751.xml.zip\n",
      "medline16n0752.xml.zip\n",
      "medline16n0753.xml.zip\n",
      "medline16n0754.xml.zip\n",
      "medline16n0755.xml.zip\n",
      "medline16n0756.xml.zip\n",
      "medline16n0757.xml.zip\n",
      "medline16n0758.xml.zip\n",
      "medline16n0759.xml.zip\n",
      "medline16n0760.xml.zip\n",
      "medline16n0761.xml.zip\n",
      "medline16n0762.xml.zip\n",
      "medline16n0763.xml.zip\n",
      "medline16n0764.xml.zip\n",
      "medline16n0765.xml.zip\n",
      "medline16n0766.xml.zip\n",
      "medline16n0767.xml.zip\n",
      "medline16n0768.xml.zip\n",
      "medline16n0769.xml.zip\n",
      "medline16n0770.xml.zip\n",
      "medline16n0771.xml.zip\n",
      "medline16n0772.xml.zip\n",
      "medline16n0773.xml.zip\n",
      "medline16n0774.xml.zip\n",
      "medline16n0775.xml.zip\n",
      "medline16n0776.xml.zip\n",
      "medline16n0777.xml.zip\n",
      "medline16n0778.xml.zip\n",
      "medline16n0779.xml.zip\n",
      "medline16n0780.xml.zip\n",
      "medline16n0781.xml.zip\n",
      "medline16n0782.xml.zip\n",
      "medline16n0783.xml.zip\n",
      "medline16n0784.xml.zip\n",
      "medline16n0785.xml.zip\n",
      "medline16n0786.xml.zip\n",
      "medline16n0787.xml.zip\n",
      "medline16n0788.xml.zip\n",
      "medline16n0789.xml.zip\n",
      "medline16n0790.xml.zip\n",
      "medline16n0791.xml.zip\n",
      "medline16n0792.xml.zip\n",
      "medline16n0793.xml.zip\n",
      "medline16n0794.xml.zip\n",
      "medline16n0795.xml.zip\n",
      "medline16n0796.xml.zip\n",
      "medline16n0797.xml.zip\n",
      "medline16n0798.xml.zip\n",
      "medline16n0799.xml.zip\n",
      "medline16n0800.xml.zip\n",
      "medline16n0801.xml.zip\n",
      "medline16n0802.xml.zip\n",
      "medline16n0803.xml.zip\n",
      "medline16n0804.xml.zip\n",
      "medline16n0805.xml.zip\n",
      "medline16n0806.xml.zip\n",
      "medline16n0807.xml.zip\n",
      "medline16n0808.xml.zip\n",
      "medline16n0809.xml.zip\n",
      "medline16n0810.xml.zip\n",
      "medline16n0811.xml.zip\n",
      "medline16n0812.xml.zip\n",
      "7:36:09\n"
     ]
    }
   ],
   "source": [
    "a = datetime.datetime.now().replace(microsecond=0)\n",
    "\n",
    "#full_list = []\n",
    "\n",
    "#read in files in directory (in order)\n",
    "for filename in sorted(os.listdir('/mnt/mypartition/Desktop2/PubMed/')):\n",
    "    if filename.endswith(\".xml.zip\"):\n",
    "        print filename\n",
    "        #inside loop that goes through each file and unzips:\n",
    "        zip_file = zipfile.ZipFile(urlparse.urljoin('/mnt/mypartition/Desktop2/PubMed/',filename))\n",
    "        zip_file.extractall()\n",
    "        unzip_name = zip_file.namelist()[0]\n",
    "        \n",
    "        i=0\n",
    "        indices_list = []\n",
    "        \n",
    "        xml_file = ET.parse(urlparse.urljoin('./zip/',unzip_name))\n",
    "        root = xml_file.getroot()\n",
    "        \n",
    "        for record in root.findall('MedlineCitation'):\n",
    "            pmid = record.find('PMID').text\n",
    "            abs = record.find('Article').find('Abstract')\n",
    "            \n",
    "            #find out if pmid matches dictionary and if record has an abstract\n",
    "            if abs != None and pmid in pmids:\n",
    "                \n",
    "                #append the index to a list\n",
    "                indices_list.append(i)\n",
    "                #remove the pmid from pmids dict so that at the end we can see what's left.\n",
    "                #will also speed up search time.\n",
    "                pmids.pop(pmid)\n",
    "            i=i+1\n",
    "    \n",
    "        #then append indices_list to the full_list (note: check if in numeric order)\n",
    "        full_list.append(indices_list)\n",
    "        \n",
    "        #then remove unzipped file\n",
    "        os.remove(urlparse.urljoin('./zip/', unzip_name))\n",
    "        \n",
    "pickle.dump(full_list, open('save.p', 'wb'))\n",
    "        \n",
    "b = datetime.datetime.now().replace(microsecond=0)\n",
    "print(b-a)"
   ]
  },
  {
   "cell_type": "markdown",
   "metadata": {},
   "source": [
    "Issue: should be 811 (not including file 188 that broke). Looks like the first 187 weren't saved :/"
   ]
  },
  {
   "cell_type": "markdown",
   "metadata": {},
   "source": [
    "Redo the first 187 files and save to a separate list. Note: make sure to first rerun the creation of the pmids dictionary."
   ]
  },
  {
   "cell_type": "code",
   "execution_count": 7,
   "metadata": {
    "collapsed": false
   },
   "outputs": [
    {
     "name": "stdout",
     "output_type": "stream",
     "text": [
      "medline16n0001.xml.zip\n",
      "medline16n0002.xml.zip\n",
      "medline16n0003.xml.zip\n",
      "medline16n0004.xml.zip\n",
      "medline16n0005.xml.zip\n",
      "medline16n0006.xml.zip\n",
      "medline16n0007.xml.zip\n",
      "medline16n0008.xml.zip\n",
      "medline16n0009.xml.zip\n",
      "medline16n0010.xml.zip\n",
      "medline16n0011.xml.zip\n",
      "medline16n0012.xml.zip\n",
      "medline16n0013.xml.zip\n",
      "medline16n0014.xml.zip\n",
      "medline16n0015.xml.zip\n",
      "medline16n0016.xml.zip\n",
      "medline16n0017.xml.zip\n",
      "medline16n0018.xml.zip\n",
      "medline16n0019.xml.zip\n",
      "medline16n0020.xml.zip\n",
      "medline16n0021.xml.zip\n",
      "medline16n0022.xml.zip\n",
      "medline16n0023.xml.zip\n",
      "medline16n0024.xml.zip\n",
      "medline16n0025.xml.zip\n",
      "medline16n0026.xml.zip\n",
      "medline16n0027.xml.zip\n",
      "medline16n0028.xml.zip\n",
      "medline16n0029.xml.zip\n",
      "medline16n0030.xml.zip\n",
      "medline16n0031.xml.zip\n",
      "medline16n0032.xml.zip\n",
      "medline16n0033.xml.zip\n",
      "medline16n0034.xml.zip\n",
      "medline16n0035.xml.zip\n",
      "medline16n0036.xml.zip\n",
      "medline16n0037.xml.zip\n",
      "medline16n0038.xml.zip\n",
      "medline16n0039.xml.zip\n",
      "medline16n0040.xml.zip\n",
      "medline16n0041.xml.zip\n",
      "medline16n0042.xml.zip\n",
      "medline16n0043.xml.zip\n",
      "medline16n0044.xml.zip\n",
      "medline16n0045.xml.zip\n",
      "medline16n0046.xml.zip\n",
      "medline16n0047.xml.zip\n",
      "medline16n0048.xml.zip\n",
      "medline16n0049.xml.zip\n",
      "medline16n0050.xml.zip\n",
      "medline16n0051.xml.zip\n",
      "medline16n0052.xml.zip\n",
      "medline16n0053.xml.zip\n",
      "medline16n0054.xml.zip\n",
      "medline16n0055.xml.zip\n",
      "medline16n0056.xml.zip\n",
      "medline16n0057.xml.zip\n",
      "medline16n0058.xml.zip\n",
      "medline16n0059.xml.zip\n",
      "medline16n0060.xml.zip\n",
      "medline16n0061.xml.zip\n",
      "medline16n0062.xml.zip\n",
      "medline16n0063.xml.zip\n",
      "medline16n0064.xml.zip\n",
      "medline16n0065.xml.zip\n",
      "medline16n0066.xml.zip\n",
      "medline16n0067.xml.zip\n",
      "medline16n0068.xml.zip\n",
      "medline16n0069.xml.zip\n",
      "medline16n0070.xml.zip\n",
      "medline16n0071.xml.zip\n",
      "medline16n0072.xml.zip\n",
      "medline16n0073.xml.zip\n",
      "medline16n0074.xml.zip\n",
      "medline16n0075.xml.zip\n",
      "medline16n0076.xml.zip\n",
      "medline16n0077.xml.zip\n",
      "medline16n0078.xml.zip\n",
      "medline16n0079.xml.zip\n",
      "medline16n0080.xml.zip\n",
      "medline16n0081.xml.zip\n",
      "medline16n0082.xml.zip\n",
      "medline16n0083.xml.zip\n",
      "medline16n0084.xml.zip\n",
      "medline16n0085.xml.zip\n",
      "medline16n0086.xml.zip\n",
      "medline16n0087.xml.zip\n",
      "medline16n0088.xml.zip\n",
      "medline16n0089.xml.zip\n",
      "medline16n0090.xml.zip\n",
      "medline16n0091.xml.zip\n",
      "medline16n0092.xml.zip\n",
      "medline16n0093.xml.zip\n",
      "medline16n0094.xml.zip\n",
      "medline16n0095.xml.zip\n",
      "medline16n0096.xml.zip\n",
      "medline16n0097.xml.zip\n",
      "medline16n0098.xml.zip\n",
      "medline16n0099.xml.zip\n",
      "medline16n0100.xml.zip\n",
      "medline16n0101.xml.zip\n",
      "medline16n0102.xml.zip\n",
      "medline16n0103.xml.zip\n",
      "medline16n0104.xml.zip\n",
      "medline16n0105.xml.zip\n",
      "medline16n0106.xml.zip\n",
      "medline16n0107.xml.zip\n",
      "medline16n0108.xml.zip\n",
      "medline16n0109.xml.zip\n",
      "medline16n0110.xml.zip\n",
      "medline16n0111.xml.zip\n",
      "medline16n0112.xml.zip\n",
      "medline16n0113.xml.zip\n",
      "medline16n0114.xml.zip\n",
      "medline16n0115.xml.zip\n",
      "medline16n0116.xml.zip\n",
      "medline16n0117.xml.zip\n",
      "medline16n0118.xml.zip\n",
      "medline16n0119.xml.zip\n",
      "medline16n0120.xml.zip\n",
      "medline16n0121.xml.zip\n",
      "medline16n0122.xml.zip\n",
      "medline16n0123.xml.zip\n",
      "medline16n0124.xml.zip\n",
      "medline16n0125.xml.zip\n",
      "medline16n0126.xml.zip\n",
      "medline16n0127.xml.zip\n",
      "medline16n0128.xml.zip\n",
      "medline16n0129.xml.zip\n",
      "medline16n0130.xml.zip\n",
      "medline16n0131.xml.zip\n",
      "medline16n0132.xml.zip\n",
      "medline16n0133.xml.zip\n",
      "medline16n0134.xml.zip\n",
      "medline16n0135.xml.zip\n",
      "medline16n0136.xml.zip\n",
      "medline16n0137.xml.zip\n",
      "medline16n0138.xml.zip\n",
      "medline16n0139.xml.zip\n",
      "medline16n0140.xml.zip\n",
      "medline16n0141.xml.zip\n",
      "medline16n0142.xml.zip\n",
      "medline16n0143.xml.zip\n",
      "medline16n0144.xml.zip\n",
      "medline16n0145.xml.zip\n",
      "medline16n0146.xml.zip\n",
      "medline16n0147.xml.zip\n",
      "medline16n0148.xml.zip\n",
      "medline16n0149.xml.zip\n",
      "medline16n0150.xml.zip\n",
      "medline16n0151.xml.zip\n",
      "medline16n0152.xml.zip\n",
      "medline16n0153.xml.zip\n",
      "medline16n0154.xml.zip\n",
      "medline16n0155.xml.zip\n",
      "medline16n0156.xml.zip\n",
      "medline16n0157.xml.zip\n",
      "medline16n0158.xml.zip\n",
      "medline16n0159.xml.zip\n",
      "medline16n0160.xml.zip\n",
      "medline16n0161.xml.zip\n",
      "medline16n0162.xml.zip\n",
      "medline16n0163.xml.zip\n",
      "medline16n0164.xml.zip\n",
      "medline16n0165.xml.zip\n",
      "medline16n0166.xml.zip\n",
      "medline16n0167.xml.zip\n",
      "medline16n0168.xml.zip\n",
      "medline16n0169.xml.zip\n",
      "medline16n0170.xml.zip\n",
      "medline16n0171.xml.zip\n",
      "medline16n0172.xml.zip\n",
      "medline16n0173.xml.zip\n",
      "medline16n0174.xml.zip\n",
      "medline16n0175.xml.zip\n",
      "medline16n0176.xml.zip\n",
      "medline16n0177.xml.zip\n",
      "medline16n0178.xml.zip\n",
      "medline16n0179.xml.zip\n",
      "medline16n0180.xml.zip\n",
      "medline16n0181.xml.zip\n",
      "medline16n0182.xml.zip\n",
      "medline16n0183.xml.zip\n",
      "medline16n0184.xml.zip\n",
      "medline16n0185.xml.zip\n",
      "medline16n0186.xml.zip\n",
      "medline16n0187.xml.zip\n",
      "1:38:59\n"
     ]
    }
   ],
   "source": [
    "a = datetime.datetime.now().replace(microsecond=0)\n",
    "\n",
    "list2 = []\n",
    "\n",
    "#read in files in directory (in order)\n",
    "for filename in sorted(os.listdir('/mnt/mypartition/Desktop2/PubMed/')):\n",
    "    if filename.endswith(\".xml.zip\"):\n",
    "        print filename\n",
    "        #inside loop that goes through each file and unzips:\n",
    "        zip_file = zipfile.ZipFile(urlparse.urljoin('/mnt/mypartition/Desktop2/PubMed/',filename))\n",
    "        zip_file.extractall()\n",
    "        unzip_name = zip_file.namelist()[0]\n",
    "        \n",
    "        i=0\n",
    "        indices_list = []\n",
    "        \n",
    "        xml_file = ET.parse(urlparse.urljoin('./zip/',unzip_name))\n",
    "        root = xml_file.getroot()\n",
    "        \n",
    "        for record in root.findall('MedlineCitation'):\n",
    "            pmid = record.find('PMID').text\n",
    "            abs = record.find('Article').find('Abstract')\n",
    "            \n",
    "            #find out if pmid matches dictionary and if record has an abstract\n",
    "            if abs != None and pmid in pmids:\n",
    "                \n",
    "                #append the index to a list\n",
    "                indices_list.append(i)\n",
    "                #remove the pmid from pmids dict so that at the end we can see what's left.\n",
    "                #will also speed up search time.\n",
    "                pmids.pop(pmid)\n",
    "            i=i+1\n",
    "    \n",
    "        #then append indices_list to the full list (note: check if in numeric order)\n",
    "        list2.append(indices_list)\n",
    "        \n",
    "        #then remove unzipped file\n",
    "        os.remove(urlparse.urljoin('./zip/', unzip_name))\n",
    "        \n",
    "pickle.dump(list2, open('list2.p', 'wb'))\n",
    "        \n",
    "b = datetime.datetime.now().replace(microsecond=0)\n",
    "print(b-a)"
   ]
  },
  {
   "cell_type": "markdown",
   "metadata": {},
   "source": [
    "Try one more time to read in file 188 (still no luck)"
   ]
  },
  {
   "cell_type": "code",
   "execution_count": 29,
   "metadata": {
    "collapsed": false
   },
   "outputs": [
    {
     "ename": "BadZipfile",
     "evalue": "File is not a zip file",
     "output_type": "error",
     "traceback": [
      "\u001b[1;31m---------------------------------------------------------------------------\u001b[0m",
      "\u001b[1;31mBadZipfile\u001b[0m                                Traceback (most recent call last)",
      "\u001b[1;32m<ipython-input-29-34eae0d0bc5e>\u001b[0m in \u001b[0;36m<module>\u001b[1;34m()\u001b[0m\n\u001b[0;32m      1\u001b[0m \u001b[0mlist188\u001b[0m \u001b[1;33m=\u001b[0m \u001b[1;33m[\u001b[0m\u001b[1;33m]\u001b[0m\u001b[1;33m\u001b[0m\u001b[0m\n\u001b[0;32m      2\u001b[0m \u001b[1;33m\u001b[0m\u001b[0m\n\u001b[1;32m----> 3\u001b[1;33m \u001b[0mzip_file\u001b[0m \u001b[1;33m=\u001b[0m \u001b[0mzipfile\u001b[0m\u001b[1;33m.\u001b[0m\u001b[0mZipFile\u001b[0m\u001b[1;33m(\u001b[0m\u001b[1;34m'/mnt/mypartition/Desktop2/medline16n0188.xml.zip'\u001b[0m\u001b[1;33m)\u001b[0m\u001b[1;33m\u001b[0m\u001b[0m\n\u001b[0m\u001b[0;32m      4\u001b[0m \u001b[0mzip_file\u001b[0m\u001b[1;33m.\u001b[0m\u001b[0mextractall\u001b[0m\u001b[1;33m(\u001b[0m\u001b[1;33m)\u001b[0m\u001b[1;33m\u001b[0m\u001b[0m\n\u001b[0;32m      5\u001b[0m \u001b[0munzip_name\u001b[0m \u001b[1;33m=\u001b[0m \u001b[0mzip_file\u001b[0m\u001b[1;33m.\u001b[0m\u001b[0mnamelist\u001b[0m\u001b[1;33m(\u001b[0m\u001b[1;33m)\u001b[0m\u001b[1;33m[\u001b[0m\u001b[1;36m0\u001b[0m\u001b[1;33m]\u001b[0m\u001b[1;33m\u001b[0m\u001b[0m\n",
      "\u001b[1;32m/home/nlp-vm/anaconda2/lib/python2.7/zipfile.pyc\u001b[0m in \u001b[0;36m__init__\u001b[1;34m(self, file, mode, compression, allowZip64)\u001b[0m\n\u001b[0;32m    768\u001b[0m         \u001b[1;32mtry\u001b[0m\u001b[1;33m:\u001b[0m\u001b[1;33m\u001b[0m\u001b[0m\n\u001b[0;32m    769\u001b[0m             \u001b[1;32mif\u001b[0m \u001b[0mkey\u001b[0m \u001b[1;33m==\u001b[0m \u001b[1;34m'r'\u001b[0m\u001b[1;33m:\u001b[0m\u001b[1;33m\u001b[0m\u001b[0m\n\u001b[1;32m--> 770\u001b[1;33m                 \u001b[0mself\u001b[0m\u001b[1;33m.\u001b[0m\u001b[0m_RealGetContents\u001b[0m\u001b[1;33m(\u001b[0m\u001b[1;33m)\u001b[0m\u001b[1;33m\u001b[0m\u001b[0m\n\u001b[0m\u001b[0;32m    771\u001b[0m             \u001b[1;32melif\u001b[0m \u001b[0mkey\u001b[0m \u001b[1;33m==\u001b[0m \u001b[1;34m'w'\u001b[0m\u001b[1;33m:\u001b[0m\u001b[1;33m\u001b[0m\u001b[0m\n\u001b[0;32m    772\u001b[0m                 \u001b[1;31m# set the modified flag so central directory gets written\u001b[0m\u001b[1;33m\u001b[0m\u001b[1;33m\u001b[0m\u001b[0m\n",
      "\u001b[1;32m/home/nlp-vm/anaconda2/lib/python2.7/zipfile.pyc\u001b[0m in \u001b[0;36m_RealGetContents\u001b[1;34m(self)\u001b[0m\n\u001b[0;32m    809\u001b[0m             \u001b[1;32mraise\u001b[0m \u001b[0mBadZipfile\u001b[0m\u001b[1;33m(\u001b[0m\u001b[1;34m\"File is not a zip file\"\u001b[0m\u001b[1;33m)\u001b[0m\u001b[1;33m\u001b[0m\u001b[0m\n\u001b[0;32m    810\u001b[0m         \u001b[1;32mif\u001b[0m \u001b[1;32mnot\u001b[0m \u001b[0mendrec\u001b[0m\u001b[1;33m:\u001b[0m\u001b[1;33m\u001b[0m\u001b[0m\n\u001b[1;32m--> 811\u001b[1;33m             \u001b[1;32mraise\u001b[0m \u001b[0mBadZipfile\u001b[0m\u001b[1;33m,\u001b[0m \u001b[1;34m\"File is not a zip file\"\u001b[0m\u001b[1;33m\u001b[0m\u001b[0m\n\u001b[0m\u001b[0;32m    812\u001b[0m         \u001b[1;32mif\u001b[0m \u001b[0mself\u001b[0m\u001b[1;33m.\u001b[0m\u001b[0mdebug\u001b[0m \u001b[1;33m>\u001b[0m \u001b[1;36m1\u001b[0m\u001b[1;33m:\u001b[0m\u001b[1;33m\u001b[0m\u001b[0m\n\u001b[0;32m    813\u001b[0m             \u001b[1;32mprint\u001b[0m \u001b[0mendrec\u001b[0m\u001b[1;33m\u001b[0m\u001b[0m\n",
      "\u001b[1;31mBadZipfile\u001b[0m: File is not a zip file"
     ]
    }
   ],
   "source": [
    "list188 = []\n",
    "\n",
    "zip_file = zipfile.ZipFile('/mnt/mypartition/Desktop2/medline16n0188.xml.zip')\n",
    "zip_file.extractall()\n",
    "unzip_name = zip_file.namelist()[0]\n",
    "        \n",
    "i=0\n",
    "\n",
    "xml_file = ET.parse(urlparse.urljoin('./zip/',unzip_name))\n",
    "root = xml_file.getroot()\n",
    "        \n",
    "for record in root.findall('MedlineCitation'):\n",
    "    pmid = record.find('PMID').text\n",
    "    abs = record.find('Article').find('Abstract')\n",
    "            \n",
    "    #find out if pmid matches dictionary and if record has an abstract\n",
    "    if abs != None and pmid in pmids:\n",
    "                \n",
    "        #append the index to a list\n",
    "        list188.append(i)\n",
    "        #remove the pmid from pmids dict so that at the end we can see what's left.\n",
    "        #will also speed up search time.\n",
    "        pmids.pop(pmid)\n",
    "    i=i+1\n",
    "    \n",
    "#then remove unzipped file\n",
    "os.remove(urlparse.urljoin('./zip/', unzip_name))"
   ]
  },
  {
   "cell_type": "markdown",
   "metadata": {},
   "source": [
    "Extend this new list by the old list to have the complete set of 811 (NOT including an empty list for file 188)."
   ]
  },
  {
   "cell_type": "code",
   "execution_count": 10,
   "metadata": {
    "collapsed": false
   },
   "outputs": [
    {
     "name": "stdout",
     "output_type": "stream",
     "text": [
      "187\n"
     ]
    }
   ],
   "source": [
    "print len(list2)"
   ]
  },
  {
   "cell_type": "code",
   "execution_count": 9,
   "metadata": {
    "collapsed": true
   },
   "outputs": [],
   "source": [
    "os.chdir('/mnt/mypartition/Desktop2/')"
   ]
  },
  {
   "cell_type": "code",
   "execution_count": 4,
   "metadata": {
    "collapsed": false
   },
   "outputs": [
    {
     "ename": "IOError",
     "evalue": "[Errno 2] No such file or directory: 'list2.p'",
     "output_type": "error",
     "traceback": [
      "\u001b[1;31m---------------------------------------------------------------------------\u001b[0m",
      "\u001b[1;31mIOError\u001b[0m                                   Traceback (most recent call last)",
      "\u001b[1;32m<ipython-input-4-eaacbdcb3403>\u001b[0m in \u001b[0;36m<module>\u001b[1;34m()\u001b[0m\n\u001b[0;32m      1\u001b[0m \u001b[0mfull_list1\u001b[0m \u001b[1;33m=\u001b[0m \u001b[0mpickle\u001b[0m\u001b[1;33m.\u001b[0m\u001b[0mload\u001b[0m\u001b[1;33m(\u001b[0m\u001b[0mopen\u001b[0m\u001b[1;33m(\u001b[0m\u001b[1;34m'save.p'\u001b[0m\u001b[1;33m,\u001b[0m \u001b[1;34m'rb'\u001b[0m\u001b[1;33m)\u001b[0m\u001b[1;33m)\u001b[0m\u001b[1;33m\u001b[0m\u001b[0m\n\u001b[1;32m----> 2\u001b[1;33m \u001b[0mlist2\u001b[0m \u001b[1;33m=\u001b[0m \u001b[0mpickle\u001b[0m\u001b[1;33m.\u001b[0m\u001b[0mload\u001b[0m\u001b[1;33m(\u001b[0m\u001b[0mopen\u001b[0m\u001b[1;33m(\u001b[0m\u001b[1;34m'list2.p'\u001b[0m\u001b[1;33m,\u001b[0m \u001b[1;34m'rb'\u001b[0m\u001b[1;33m)\u001b[0m\u001b[1;33m)\u001b[0m\u001b[1;33m\u001b[0m\u001b[0m\n\u001b[0m",
      "\u001b[1;31mIOError\u001b[0m: [Errno 2] No such file or directory: 'list2.p'"
     ]
    }
   ],
   "source": [
    "full_list1 = pickle.load(open('save.p', 'rb'))\n",
    "list2 = pickle.load(open('list2.p', 'rb'))"
   ]
  },
  {
   "cell_type": "code",
   "execution_count": 5,
   "metadata": {
    "collapsed": false
   },
   "outputs": [
    {
     "name": "stdout",
     "output_type": "stream",
     "text": [
      "624\n"
     ]
    },
    {
     "ename": "NameError",
     "evalue": "name 'list2' is not defined",
     "output_type": "error",
     "traceback": [
      "\u001b[1;31m---------------------------------------------------------------------------\u001b[0m",
      "\u001b[1;31mNameError\u001b[0m                                 Traceback (most recent call last)",
      "\u001b[1;32m<ipython-input-5-ec7ea50959f5>\u001b[0m in \u001b[0;36m<module>\u001b[1;34m()\u001b[0m\n\u001b[0;32m      1\u001b[0m \u001b[1;32mprint\u001b[0m \u001b[0mlen\u001b[0m\u001b[1;33m(\u001b[0m\u001b[0mfull_list1\u001b[0m\u001b[1;33m)\u001b[0m\u001b[1;33m\u001b[0m\u001b[0m\n\u001b[1;32m----> 2\u001b[1;33m \u001b[1;32mprint\u001b[0m \u001b[0mlen\u001b[0m\u001b[1;33m(\u001b[0m\u001b[0mlist2\u001b[0m\u001b[1;33m)\u001b[0m\u001b[1;33m\u001b[0m\u001b[0m\n\u001b[0m",
      "\u001b[1;31mNameError\u001b[0m: name 'list2' is not defined"
     ]
    }
   ],
   "source": [
    "print len(full_list1)\n",
    "print len(list2)"
   ]
  },
  {
   "cell_type": "code",
   "execution_count": 13,
   "metadata": {
    "collapsed": false
   },
   "outputs": [],
   "source": [
    "list2.extend(full_list1)"
   ]
  },
  {
   "cell_type": "code",
   "execution_count": 14,
   "metadata": {
    "collapsed": false
   },
   "outputs": [
    {
     "data": {
      "text/plain": [
       "811"
      ]
     },
     "execution_count": 14,
     "metadata": {},
     "output_type": "execute_result"
    }
   ],
   "source": [
    "len(list2)"
   ]
  },
  {
   "cell_type": "code",
   "execution_count": 15,
   "metadata": {
    "collapsed": true
   },
   "outputs": [],
   "source": [
    "inxs_list = list2\n",
    "pickle.dump(inxs_list, open('inxs_list.p', 'wb'))"
   ]
  },
  {
   "cell_type": "markdown",
   "metadata": {},
   "source": [
    "Pmids didn't save properly. Will have to redo based on PMIDs of subset file once created."
   ]
  },
  {
   "cell_type": "markdown",
   "metadata": {},
   "source": [
    "### Some random testing stuff"
   ]
  },
  {
   "cell_type": "code",
   "execution_count": 196,
   "metadata": {
    "collapsed": false
   },
   "outputs": [
    {
     "name": "stdout",
     "output_type": "stream",
     "text": [
      "19871337\n",
      "yes\n"
     ]
    }
   ],
   "source": [
    "pmid = root.findall('MedlineCitation')[0].find('PMID').text\n",
    "print pmid\n",
    "if pmid in pmids:\n",
    "    print 'yes'"
   ]
  },
  {
   "cell_type": "code",
   "execution_count": 188,
   "metadata": {
    "collapsed": false
   },
   "outputs": [
    {
     "name": "stderr",
     "output_type": "stream",
     "text": [
      "/home/nlp-vm/anaconda2/lib/python2.7/site-packages/ipykernel/__main__.py:1: DeprecationWarning: This method will be removed in future versions.  Use 'list(elem)' or iteration over elem instead.\n",
      "  if __name__ == '__main__':\n"
     ]
    },
    {
     "data": {
      "text/plain": [
       "'7377239'"
      ]
     },
     "execution_count": 188,
     "metadata": {},
     "output_type": "execute_result"
    }
   ],
   "source": [
    "el = root.getchildren()[407]\n",
    "el.find('PMID').text"
   ]
  },
  {
   "cell_type": "code",
   "execution_count": 198,
   "metadata": {
    "collapsed": false
   },
   "outputs": [],
   "source": [
    "#flatten list\n",
    "checkingList = [item for sublist in inxs_list for item in sublist]\n",
    "#print checkingList[400:500]\n",
    "#print inxs_list[500:600]"
   ]
  },
  {
   "cell_type": "code",
   "execution_count": 201,
   "metadata": {
    "collapsed": false
   },
   "outputs": [
    {
     "data": {
      "text/plain": [
       "20816"
      ]
     },
     "execution_count": 201,
     "metadata": {},
     "output_type": "execute_result"
    }
   ],
   "source": [
    "checkingList[0]"
   ]
  },
  {
   "cell_type": "code",
   "execution_count": 199,
   "metadata": {
    "collapsed": false
   },
   "outputs": [
    {
     "name": "stdout",
     "output_type": "stream",
     "text": [
      "32409\n"
     ]
    }
   ],
   "source": [
    "print len(checkingList)"
   ]
  },
  {
   "cell_type": "code",
   "execution_count": 131,
   "metadata": {
    "collapsed": false
   },
   "outputs": [
    {
     "name": "stdout",
     "output_type": "stream",
     "text": [
      "38343\n"
     ]
    }
   ],
   "source": [
    "print len(pmids)"
   ]
  },
  {
   "cell_type": "code",
   "execution_count": 47,
   "metadata": {
    "collapsed": false
   },
   "outputs": [
    {
     "name": "stdout",
     "output_type": "stream",
     "text": [
      "30\n"
     ]
    }
   ],
   "source": [
    "#compare pmids dict now with original\n",
    "shared_items = set(pmids.items()) & set(pmids2.items())\n",
    "print 38814-len(shared_items)"
   ]
  },
  {
   "cell_type": "code",
   "execution_count": 173,
   "metadata": {
    "collapsed": false
   },
   "outputs": [],
   "source": [
    "#Checking that the dictionary was properly created by sorting\n",
    "import operator\n",
    "sorted_pmids = sorted(pmids.items(), key=operator.itemgetter(1))\n",
    "#print sorted_pmids"
   ]
  },
  {
   "cell_type": "code",
   "execution_count": 5,
   "metadata": {
    "collapsed": false
   },
   "outputs": [
    {
     "data": {
      "text/plain": [
       "'/mnt/mypartition/Desktop2'"
      ]
     },
     "execution_count": 5,
     "metadata": {},
     "output_type": "execute_result"
    }
   ],
   "source": [
    "os.getcwd()"
   ]
  },
  {
   "cell_type": "code",
   "execution_count": 41,
   "metadata": {
    "collapsed": false
   },
   "outputs": [
    {
     "name": "stdout",
     "output_type": "stream",
     "text": [
      "Mitral valve prolapse (MVP) is a common cardiac valve disease that affects nearly 1 in 40 individuals. It can manifest as mitral regurgitation and is the leading indication for mitral valve surgery. Despite a clear heritable component, the genetic aetiology leading to non-syndromic MVP has remained elusive. Four affected individuals from a large multigenerational family segregating non-syndromic MVP underwent capture sequencing of the linked interval on chromosome 11. We report a missense mutation in the DCHS1 gene, the human homologue of the Drosophila cell polarity gene dachsous (ds), that segregates with MVP in the family. Morpholino knockdown of the zebrafish homologue dachsous1b resulted in a cardiac atrioventricular canal defect that could be rescued by wild-type human DCHS1, but not by DCHS1 messenger RNA with the familial mutation. Further genetic studies identified two additional families in which a second deleterious DCHS1 mutation segregates with MVP. Both DCHS1 mutations reduce protein stability as demonstrated in zebrafish, cultured cells and, notably, in mitral valve interstitial cells (MVICs) obtained during mitral valve repair surgery of a proband. Dchs1(+/-) mice had prolapse of thickened mitral leaflets, which could be traced back to developmental errors in valve morphogenesis. DCHS1 deficiency in MVP patient MVICs, as well as in Dchs1(+/-) mouse MVICs, result in altered migration and cellular patterning, supporting these processes as aetiological underpinnings for the disease. Understanding the role of DCHS1 in mitral valve development and MVP pathogenesis holds potential for therapeutic insights for this very common disease. \n"
     ]
    }
   ],
   "source": [
    "print root[1146].find('Article').find('Abstract').find('AbstractText').text"
   ]
  }
 ],
 "metadata": {
  "kernelspec": {
   "display_name": "Python 2",
   "language": "python",
   "name": "python2"
  },
  "language_info": {
   "codemirror_mode": {
    "name": "ipython",
    "version": 2
   },
   "file_extension": ".py",
   "mimetype": "text/x-python",
   "name": "python",
   "nbconvert_exporter": "python",
   "pygments_lexer": "ipython2",
   "version": "2.7.11"
  }
 },
 "nbformat": 4,
 "nbformat_minor": 0
}
