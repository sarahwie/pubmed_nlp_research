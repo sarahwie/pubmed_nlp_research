{
 "cells": [
  {
   "cell_type": "code",
   "execution_count": 24,
   "metadata": {
    "collapsed": false
   },
   "outputs": [],
   "source": [
    "import xml.etree.ElementTree as ET\n",
    "import pandas as pd\n",
    "import os\n",
    "\n",
    "import matplotlib\n",
    "import matplotlib.pyplot as plt\n",
    "matplotlib.style.use('ggplot')"
   ]
  },
  {
   "cell_type": "code",
   "execution_count": 5,
   "metadata": {
    "collapsed": false
   },
   "outputs": [],
   "source": [
    "os.chdir('/home/sarahwie/Documents/pubmed-nlp-research/')"
   ]
  },
  {
   "cell_type": "code",
   "execution_count": 3,
   "metadata": {
    "collapsed": false
   },
   "outputs": [],
   "source": [
    "tree = ET.parse('testXMLwrite.xml')\n",
    "root = tree.getroot()"
   ]
  },
  {
   "cell_type": "code",
   "execution_count": 2,
   "metadata": {
    "collapsed": false
   },
   "outputs": [],
   "source": [
    "#using this file for our example\n",
    "xml_file = ET.parse('/home/sarahwie/Documents/zip/subset/zip/medline16n0189.xml')\n",
    "root = xml_file.getroot()"
   ]
  },
  {
   "cell_type": "markdown",
   "metadata": {},
   "source": [
    "Note: some strings (in foreign languages/with accent marks) are encoded as unicode (see below). \n",
    "But this most likely wont be the case with MUSC's journals."
   ]
  },
  {
   "cell_type": "code",
   "execution_count": 4,
   "metadata": {
    "collapsed": false
   },
   "outputs": [
    {
     "name": "stdout",
     "output_type": "stream",
     "text": [
      "<type 'unicode'>\n",
      "La semaine des hôpitaux : organe fondé par l'Association d'enseignement médical des hôpitaux de Paris\n"
     ]
    },
    {
     "name": "stderr",
     "output_type": "stream",
     "text": [
      "/home/sarahwie/anaconda2/lib/python2.7/site-packages/ipykernel/__main__.py:3: DeprecationWarning: This method will be removed in future versions.  Use 'list(elem)' or iteration over elem instead.\n",
      "  app.launch_new_instance()\n"
     ]
    }
   ],
   "source": [
    "record = root.getchildren()[0]\n",
    "title = record.find('Article').find('Journal').find('Title').text\n",
    "print type(title)\n",
    "print title"
   ]
  },
  {
   "cell_type": "code",
   "execution_count": 98,
   "metadata": {
    "collapsed": false
   },
   "outputs": [
    {
     "name": "stdout",
     "output_type": "stream",
     "text": [
      "30000\n"
     ]
    }
   ],
   "source": [
    "titles = []\n",
    "for record in root.findall('MedlineCitation'):\n",
    "    title = record.find('Article').find('Journal').find('Title').text\n",
    "    #get a list of titles\n",
    "    titles.append(title)\n",
    "print len(titles)"
   ]
  },
  {
   "cell_type": "code",
   "execution_count": 99,
   "metadata": {
    "collapsed": false
   },
   "outputs": [
    {
     "name": "stdout",
     "output_type": "stream",
     "text": [
      "[('Lancet (London, England)', 525), ('The Journal of biological chemistry', 361), ('British medical journal', 345), ('The New England journal of medicine', 275), ('Methods in enzymology', 261), ('Biochimica et biophysica acta', 246), ('Journal of immunology (Baltimore, Md. : 1950)', 230), ('Proceedings of the National Academy of Sciences of the United States of America', 213), ('JAMA', 209), ('Journal of bacteriology', 202)]\n"
     ]
    }
   ],
   "source": [
    "#Another try (bar chart this time). Need a diff. layout dataframe than for the histograms.\n",
    "from collections import Counter\n",
    "\n",
    "data = Counter(titles).most_common()[0:10]\n",
    "print data"
   ]
  },
  {
   "cell_type": "code",
   "execution_count": 100,
   "metadata": {
    "collapsed": false
   },
   "outputs": [
    {
     "data": {
      "text/html": [
       "<div>\n",
       "<table border=\"1\" class=\"dataframe\">\n",
       "  <thead>\n",
       "    <tr style=\"text-align: right;\">\n",
       "      <th></th>\n",
       "      <th>0</th>\n",
       "      <th>1</th>\n",
       "    </tr>\n",
       "  </thead>\n",
       "  <tbody>\n",
       "    <tr>\n",
       "      <th>0</th>\n",
       "      <td>Lancet (London, England)</td>\n",
       "      <td>525</td>\n",
       "    </tr>\n",
       "    <tr>\n",
       "      <th>1</th>\n",
       "      <td>The Journal of biological chemistry</td>\n",
       "      <td>361</td>\n",
       "    </tr>\n",
       "    <tr>\n",
       "      <th>2</th>\n",
       "      <td>British medical journal</td>\n",
       "      <td>345</td>\n",
       "    </tr>\n",
       "    <tr>\n",
       "      <th>3</th>\n",
       "      <td>The New England journal of medicine</td>\n",
       "      <td>275</td>\n",
       "    </tr>\n",
       "    <tr>\n",
       "      <th>4</th>\n",
       "      <td>Methods in enzymology</td>\n",
       "      <td>261</td>\n",
       "    </tr>\n",
       "    <tr>\n",
       "      <th>5</th>\n",
       "      <td>Biochimica et biophysica acta</td>\n",
       "      <td>246</td>\n",
       "    </tr>\n",
       "    <tr>\n",
       "      <th>6</th>\n",
       "      <td>Journal of immunology (Baltimore, Md. : 1950)</td>\n",
       "      <td>230</td>\n",
       "    </tr>\n",
       "    <tr>\n",
       "      <th>7</th>\n",
       "      <td>Proceedings of the National Academy of Science...</td>\n",
       "      <td>213</td>\n",
       "    </tr>\n",
       "    <tr>\n",
       "      <th>8</th>\n",
       "      <td>JAMA</td>\n",
       "      <td>209</td>\n",
       "    </tr>\n",
       "    <tr>\n",
       "      <th>9</th>\n",
       "      <td>Journal of bacteriology</td>\n",
       "      <td>202</td>\n",
       "    </tr>\n",
       "  </tbody>\n",
       "</table>\n",
       "</div>"
      ],
      "text/plain": [
       "                                                   0    1\n",
       "0                           Lancet (London, England)  525\n",
       "1                The Journal of biological chemistry  361\n",
       "2                            British medical journal  345\n",
       "3                The New England journal of medicine  275\n",
       "4                              Methods in enzymology  261\n",
       "5                      Biochimica et biophysica acta  246\n",
       "6      Journal of immunology (Baltimore, Md. : 1950)  230\n",
       "7  Proceedings of the National Academy of Science...  213\n",
       "8                                               JAMA  209\n",
       "9                            Journal of bacteriology  202"
      ]
     },
     "execution_count": 100,
     "metadata": {},
     "output_type": "execute_result"
    }
   ],
   "source": [
    "df = pd.DataFrame(data)\n",
    "df"
   ]
  },
  {
   "cell_type": "code",
   "execution_count": 101,
   "metadata": {
    "collapsed": false
   },
   "outputs": [
    {
     "name": "stdout",
     "output_type": "stream",
     "text": [
      "[0, 1, 2, 3, 4, 5, 6, 7, 8, 9]\n",
      "['Lancet (London, England)', 'The Journal of biological chemistry', 'British medical journal', 'The New England journal of medicine', 'Methods in enzymology', 'Biochimica et biophysica acta', 'Journal of immunology (Baltimore, Md. : 1950)', 'Proceedings of the National Academy of Sciences of the United States of America', 'JAMA', 'Journal of bacteriology']\n"
     ]
    }
   ],
   "source": [
    "x = df.index.tolist()\n",
    "print x\n",
    "\n",
    "labels = df.loc[:,0].tolist()\n",
    "print labels"
   ]
  },
  {
   "cell_type": "code",
   "execution_count": 97,
   "metadata": {
    "collapsed": false
   },
   "outputs": [
    {
     "data": {
      "text/plain": [
       "([<matplotlib.axis.XTick at 0x7f061e229850>,\n",
       "  <matplotlib.axis.XTick at 0x7f06463d4d50>,\n",
       "  <matplotlib.axis.XTick at 0x7f06462723d0>,\n",
       "  <matplotlib.axis.XTick at 0x7f06462729d0>,\n",
       "  <matplotlib.axis.XTick at 0x7f061e26c9d0>,\n",
       "  <matplotlib.axis.XTick at 0x7f061e26ca10>,\n",
       "  <matplotlib.axis.XTick at 0x7f064627d810>,\n",
       "  <matplotlib.axis.XTick at 0x7f0646226890>,\n",
       "  <matplotlib.axis.XTick at 0x7f06462260d0>,\n",
       "  <matplotlib.axis.XTick at 0x7f061e263b10>],\n",
       " <a list of 10 Text xticklabel objects>)"
      ]
     },
     "execution_count": 97,
     "metadata": {},
     "output_type": "execute_result"
    },
    {
     "data": {
      "image/png": "[encoded data removed]",
      "text/plain": [
       "<matplotlib.figure.Figure at 0x7f0646380a90>"
      ]
     },
     "metadata": {},
     "output_type": "display_data"
    }
   ],
   "source": [
    "#make histogram\n",
    "\n",
    "%matplotlib inline\n",
    "\n",
    "pltjournals = df.plot.bar()\n",
    "#xticks(arange(len(title_id)),title_id)\n",
    "plt.title('Distribution of Top 10 Journals in Subset')\n",
    "plt.xlabel(\"Journals by Index\")\n",
    "plt.ylabel(\"Num. Occurrences in Subset\")\n",
    "plt.xticks(x, labels, rotation='vertical')\n",
    "#plt.axis([0.0,1.0, 0.0, 4.0])"
   ]
  },
  {
   "cell_type": "code",
   "execution_count": null,
   "metadata": {
    "collapsed": true
   },
   "outputs": [],
   "source": []
  },
  {
   "cell_type": "code",
   "execution_count": null,
   "metadata": {
    "collapsed": true
   },
   "outputs": [],
   "source": []
  },
  {
   "cell_type": "code",
   "execution_count": null,
   "metadata": {
    "collapsed": true
   },
   "outputs": [],
   "source": []
  },
  {
   "cell_type": "code",
   "execution_count": null,
   "metadata": {
    "collapsed": true
   },
   "outputs": [],
   "source": []
  },
  {
   "cell_type": "code",
   "execution_count": null,
   "metadata": {
    "collapsed": true
   },
   "outputs": [],
   "source": []
  },
  {
   "cell_type": "code",
   "execution_count": null,
   "metadata": {
    "collapsed": true
   },
   "outputs": [],
   "source": []
  },
  {
   "cell_type": "code",
   "execution_count": null,
   "metadata": {
    "collapsed": true
   },
   "outputs": [],
   "source": []
  }
 ],
 "metadata": {
  "kernelspec": {
   "display_name": "Python 2",
   "language": "python",
   "name": "python2"
  },
  "language_info": {
   "codemirror_mode": {
    "name": "ipython",
    "version": 2
   },
   "file_extension": ".py",
   "mimetype": "text/x-python",
   "name": "python",
   "nbconvert_exporter": "python",
   "pygments_lexer": "ipython2",
   "version": "2.7.11"
  }
 },
 "nbformat": 4,
 "nbformat_minor": 0
}
