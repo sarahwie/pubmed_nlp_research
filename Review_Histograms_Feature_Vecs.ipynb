{
 "cells": [
  {
   "cell_type": "code",
   "execution_count": 3,
   "metadata": {
    "collapsed": true
   },
   "outputs": [],
   "source": [
    "import pickle\n",
    "import numpy as np\n",
    "import pandas as pd\n",
    "import matplotlib\n",
    "import matplotlib.pyplot as plt\n",
    "matplotlib.style.use('ggplot')"
   ]
  },
  {
   "cell_type": "code",
   "execution_count": 48,
   "metadata": {
    "collapsed": true
   },
   "outputs": [],
   "source": [
    "#Average probs for 0 and 1 for each doc\n",
    "probs = pickle.load(open('probs.p','rb'))"
   ]
  },
  {
   "cell_type": "code",
   "execution_count": 53,
   "metadata": {
    "collapsed": false
   },
   "outputs": [
    {
     "data": {
      "text/html": [
       "<div>\n",
       "<table border=\"1\" class=\"dataframe\">\n",
       "  <thead>\n",
       "    <tr style=\"text-align: right;\">\n",
       "      <th></th>\n",
       "      <th>0</th>\n",
       "      <th>1</th>\n",
       "    </tr>\n",
       "    <tr>\n",
       "      <th>doc</th>\n",
       "      <th></th>\n",
       "      <th></th>\n",
       "    </tr>\n",
       "  </thead>\n",
       "  <tbody>\n",
       "    <tr>\n",
       "      <th>0</th>\n",
       "      <td>0.484133</td>\n",
       "      <td>0.515867</td>\n",
       "    </tr>\n",
       "    <tr>\n",
       "      <th>1</th>\n",
       "      <td>0.573073</td>\n",
       "      <td>0.426927</td>\n",
       "    </tr>\n",
       "    <tr>\n",
       "      <th>2</th>\n",
       "      <td>0.261172</td>\n",
       "      <td>0.738828</td>\n",
       "    </tr>\n",
       "  </tbody>\n",
       "</table>\n",
       "</div>"
      ],
      "text/plain": [
       "            0         1\n",
       "doc                    \n",
       "0    0.484133  0.515867\n",
       "1    0.573073  0.426927\n",
       "2    0.261172  0.738828"
      ]
     },
     "execution_count": 53,
     "metadata": {},
     "output_type": "execute_result"
    }
   ],
   "source": [
    "probs[0:3]"
   ]
  },
  {
   "cell_type": "code",
   "execution_count": 45,
   "metadata": {
    "collapsed": true
   },
   "outputs": [],
   "source": [
    "test1 = pickle.load(open('test1.p','rb'))"
   ]
  },
  {
   "cell_type": "code",
   "execution_count": 46,
   "metadata": {
    "collapsed": false
   },
   "outputs": [
    {
     "name": "stdout",
     "output_type": "stream",
     "text": [
      "             id  sentiment                                             review\n",
      "21130  \"5706_2\"          0  \"This movie is like the thousand \\\"cat and mou...\n"
     ]
    }
   ],
   "source": [
    "print test1.iloc[[0]]"
   ]
  },
  {
   "cell_type": "code",
   "execution_count": 54,
   "metadata": {
    "collapsed": true
   },
   "outputs": [],
   "source": [
    "docs = pickle.load(open('docs.p','rb'))"
   ]
  },
  {
   "cell_type": "code",
   "execution_count": 55,
   "metadata": {
    "collapsed": false
   },
   "outputs": [
    {
     "name": "stdout",
     "output_type": "stream",
     "text": [
      "[[u'this', u'movie', u'is', u'like', u'the', u'thousand', u'cat', u'and', u'mouse', u'movies', u'that', u'preceded', u'it'], [u'the', u'following', u'may', u'look', u'like', u'a', u'spoiler', u'but', u'it', u'really', u'just', u'describes', u'a', u'large', u'class', u'of', u'movies', u'there', u'is', u'the', u'passionate', u'wise', u'main', u'character', u'his', u'goofy', u'but', u'well', u'meaning', u'sidekick', u'with', u'his', u'ill', u'placed', u'attempts', u'at', u'humorous', u'comments', u'the', u'initially', u'hostile', u'but', u'soon', u'softened', u'gorgeous', u'lady', u'who', u'triggers', u'the', u'inevitable', u'unlikely', u'love', u'story', u'the', u'loved', u'ones', u'taken', u'hostage', u'and', u'of', u'course', u'the', u'careless', u'evil', u'adversary', u'with', u'his', u'brutal', u'minions'], [u'everybody', u'has', u'seen', u'tons', u'of', u'these', u'movies', u'already', u'and', u'national', u'treasure', u'is', u'like', u'any', u'one', u'of', u'them', u'with', u'only', u'a', u'slightly', u'modified', u'wrapping'], [u'every', u'turn', u'of', u'the', u'story', u'was', u'easily', u'predicted', u'and', u'i', u'can', u'assure', u'you', u'i', u'am', u'not', u'the', u'sharpest', u'tool', u'in', u'the', u'shed'], [u'i', u'am', u'quite', u'tired', u'of', u'feeling', u'tricked', u'for', u'money', u'after', u'exiting', u'the', u'theater', u'from', u'a', u'hollywood', u'movie', u'and', u'if', u'you', u'have', u'ever', u'felt', u'that', u'way', u'too', u'heed', u'my', u'warning', u'stay', u'miles', u'away', u'from', u'this', u'movie']]\n"
     ]
    }
   ],
   "source": [
    "print docs[0]"
   ]
  },
  {
   "cell_type": "code",
   "execution_count": 56,
   "metadata": {
    "collapsed": true
   },
   "outputs": [],
   "source": [
    "models = pickle.load(open('models.p','rb'))"
   ]
  },
  {
   "cell_type": "code",
   "execution_count": 57,
   "metadata": {
    "collapsed": true
   },
   "outputs": [],
   "source": [
    "probssentences = pickle.load(open('probssentences.p', 'rb'))"
   ]
  },
  {
   "cell_type": "code",
   "execution_count": 58,
   "metadata": {
    "collapsed": false
   },
   "outputs": [
    {
     "data": {
      "text/html": [
       "<div>\n",
       "<table border=\"1\" class=\"dataframe\">\n",
       "  <thead>\n",
       "    <tr style=\"text-align: right;\">\n",
       "      <th></th>\n",
       "      <th>0</th>\n",
       "      <th>1</th>\n",
       "      <th>doc</th>\n",
       "    </tr>\n",
       "  </thead>\n",
       "  <tbody>\n",
       "    <tr>\n",
       "      <th>0</th>\n",
       "      <td>0.5986</td>\n",
       "      <td>0.4014</td>\n",
       "      <td>0</td>\n",
       "    </tr>\n",
       "    <tr>\n",
       "      <th>1</th>\n",
       "      <td>0.00792023</td>\n",
       "      <td>0.99208</td>\n",
       "      <td>0</td>\n",
       "    </tr>\n",
       "    <tr>\n",
       "      <th>2</th>\n",
       "      <td>0.369248</td>\n",
       "      <td>0.630752</td>\n",
       "      <td>0</td>\n",
       "    </tr>\n",
       "    <tr>\n",
       "      <th>3</th>\n",
       "      <td>0.445318</td>\n",
       "      <td>0.554682</td>\n",
       "      <td>0</td>\n",
       "    </tr>\n",
       "    <tr>\n",
       "      <th>4</th>\n",
       "      <td>0.999581</td>\n",
       "      <td>0.000419095</td>\n",
       "      <td>0</td>\n",
       "    </tr>\n",
       "    <tr>\n",
       "      <th>5</th>\n",
       "      <td>0.00449226</td>\n",
       "      <td>0.995508</td>\n",
       "      <td>1</td>\n",
       "    </tr>\n",
       "    <tr>\n",
       "      <th>6</th>\n",
       "      <td>0.918007</td>\n",
       "      <td>0.0819928</td>\n",
       "      <td>1</td>\n",
       "    </tr>\n",
       "    <tr>\n",
       "      <th>7</th>\n",
       "      <td>0.55223</td>\n",
       "      <td>0.44777</td>\n",
       "      <td>1</td>\n",
       "    </tr>\n",
       "    <tr>\n",
       "      <th>8</th>\n",
       "      <td>0.986808</td>\n",
       "      <td>0.0131918</td>\n",
       "      <td>1</td>\n",
       "    </tr>\n",
       "    <tr>\n",
       "      <th>9</th>\n",
       "      <td>0.721142</td>\n",
       "      <td>0.278858</td>\n",
       "      <td>1</td>\n",
       "    </tr>\n",
       "    <tr>\n",
       "      <th>10</th>\n",
       "      <td>0.111639</td>\n",
       "      <td>0.888361</td>\n",
       "      <td>1</td>\n",
       "    </tr>\n",
       "    <tr>\n",
       "      <th>11</th>\n",
       "      <td>0.717194</td>\n",
       "      <td>0.282805</td>\n",
       "      <td>1</td>\n",
       "    </tr>\n",
       "    <tr>\n",
       "      <th>12</th>\n",
       "      <td>0.0193013</td>\n",
       "      <td>0.980699</td>\n",
       "      <td>2</td>\n",
       "    </tr>\n",
       "    <tr>\n",
       "      <th>13</th>\n",
       "      <td>0.0159692</td>\n",
       "      <td>0.984031</td>\n",
       "      <td>2</td>\n",
       "    </tr>\n",
       "    <tr>\n",
       "      <th>14</th>\n",
       "      <td>0.0224181</td>\n",
       "      <td>0.977582</td>\n",
       "      <td>2</td>\n",
       "    </tr>\n",
       "    <tr>\n",
       "      <th>15</th>\n",
       "      <td>0.986999</td>\n",
       "      <td>0.0130013</td>\n",
       "      <td>2</td>\n",
       "    </tr>\n",
       "    <tr>\n",
       "      <th>16</th>\n",
       "      <td>0.0593864</td>\n",
       "      <td>0.940614</td>\n",
       "      <td>3</td>\n",
       "    </tr>\n",
       "    <tr>\n",
       "      <th>17</th>\n",
       "      <td>0.0795348</td>\n",
       "      <td>0.920465</td>\n",
       "      <td>3</td>\n",
       "    </tr>\n",
       "    <tr>\n",
       "      <th>18</th>\n",
       "      <td>0.00578835</td>\n",
       "      <td>0.994212</td>\n",
       "      <td>3</td>\n",
       "    </tr>\n",
       "    <tr>\n",
       "      <th>19</th>\n",
       "      <td>0.00138163</td>\n",
       "      <td>0.998618</td>\n",
       "      <td>4</td>\n",
       "    </tr>\n",
       "  </tbody>\n",
       "</table>\n",
       "</div>"
      ],
      "text/plain": [
       "             0            1 doc\n",
       "0       0.5986       0.4014   0\n",
       "1   0.00792023      0.99208   0\n",
       "2     0.369248     0.630752   0\n",
       "3     0.445318     0.554682   0\n",
       "4     0.999581  0.000419095   0\n",
       "5   0.00449226     0.995508   1\n",
       "6     0.918007    0.0819928   1\n",
       "7      0.55223      0.44777   1\n",
       "8     0.986808    0.0131918   1\n",
       "9     0.721142     0.278858   1\n",
       "10    0.111639     0.888361   1\n",
       "11    0.717194     0.282805   1\n",
       "12   0.0193013     0.980699   2\n",
       "13   0.0159692     0.984031   2\n",
       "14   0.0224181     0.977582   2\n",
       "15    0.986999    0.0130013   2\n",
       "16   0.0593864     0.940614   3\n",
       "17   0.0795348     0.920465   3\n",
       "18  0.00578835     0.994212   3\n",
       "19  0.00138163     0.998618   4"
      ]
     },
     "execution_count": 58,
     "metadata": {},
     "output_type": "execute_result"
    }
   ],
   "source": [
    "probssentences[0:20]"
   ]
  },
  {
   "cell_type": "code",
   "execution_count": 59,
   "metadata": {
    "collapsed": true
   },
   "outputs": [],
   "source": [
    "#append the true class value\n",
    "probssentences[\"truelabel\"] = 0\n",
    "for i in range(len(probssentences)):\n",
    "    #get true label value from test1 where index matches doc number\n",
    "    j = probssentences.iloc[i]['doc']\n",
    "    probssentences.set_value(i, 'truelabel', test1.iloc[[j]][\"sentiment\"])"
   ]
  },
  {
   "cell_type": "code",
   "execution_count": 73,
   "metadata": {
    "collapsed": false
   },
   "outputs": [
    {
     "name": "stdout",
     "output_type": "stream",
     "text": [
      "              id  sentiment                                             review\n",
      "21130   \"5706_2\"          0  \"This movie is like the thousand \\\"cat and mou...\n",
      "3404   \"11132_3\"          0  \"A documentarist, like any filmmaker, must con...\n",
      "14560  \"10770_7\"          1  \"With a well thought out cast, this movie was ...\n",
      "6671   \"1058_10\"          1  \"this is the best sci-fi that I have seen in m...\n",
      "10982  \"12239_1\"          0  \"Ever since I was eight years old I have been ...\n",
      "5526     \"966_7\"          1  \"2005 Toronto Film Festival Report It is offic...\n",
      "19301  \"11645_2\"          0  \"This is a review of 'Freddy Mercury The Untol...\n",
      "17060   \"5920_9\"          1  \"American icon Henry Fonda portrays \\\"Elegant\\...\n",
      "24744   \"9501_2\"          0  \"This is the page for \\\"House of Exorcism\\\", b...\n",
      "5253    \"7877_4\"          0  \"The makers of this film have created a future...\n",
      "             0           1\n",
      "doc                       \n",
      "0     0.484133    0.515867\n",
      "1     0.573073    0.426927\n",
      "2     0.261172    0.738828\n",
      "3    0.0482365    0.951763\n",
      "4     0.536646    0.463354\n",
      "5     0.335723    0.664277\n",
      "6     0.527615    0.472385\n",
      "7    0.0064288    0.993571\n",
      "8     0.594172    0.405828\n",
      "9     0.992335  0.00766541\n",
      "[u'this', u'movie', u'is', u'like', u'the', u'thousand', u'cat', u'and', u'mouse', u'movies', u'that', u'preceded', u'it']\n"
     ]
    }
   ],
   "source": [
    "#check that correct true labels were added\n",
    "#seems like it\n",
    "print test1[0:10]\n",
    "print probs[0:10]\n",
    "print docs[0][0]"
   ]
  },
  {
   "cell_type": "code",
   "execution_count": 83,
   "metadata": {
    "collapsed": false
   },
   "outputs": [
    {
     "name": "stdout",
     "output_type": "stream",
     "text": [
      "33\n",
      "738\n",
      "3987\n",
      "5239\n",
      "9041\n",
      "9559\n",
      "9836\n",
      "11675\n",
      "12458\n"
     ]
    }
   ],
   "source": [
    "#count number of sentences for each review\n",
    "#also print reviews with the most sentences\n",
    "#Note: don't think this is the most accurate since these reviews may or may not be better classified for having more sentences\n",
    "for i in range(len(probs)):\n",
    "    rows = probssentences.loc[probssentences['doc'] == probs.index.values[i]]\n",
    "    numrows = rows.shape\n",
    "    if numrows[0] > 60:\n",
    "        print probs.index.values[i]"
   ]
  },
  {
   "cell_type": "code",
   "execution_count": 86,
   "metadata": {
    "collapsed": false
   },
   "outputs": [
    {
     "name": "stdout",
     "output_type": "stream",
     "text": [
      "10\n"
     ]
    }
   ],
   "source": [
    "#average number of sentences per review:\n",
    "print len(probssentences)/len(probs)"
   ]
  },
  {
   "cell_type": "code",
   "execution_count": 106,
   "metadata": {
    "collapsed": false
   },
   "outputs": [],
   "source": [
    "#get subsets based on inxs returned above\n",
    "subset1 = probssentences.loc[probssentences[\"doc\"] == 33]\n",
    "subset2 = probssentences.loc[probssentences[\"doc\"] == 738]\n",
    "subset3 = probssentences.loc[probssentences[\"doc\"] == 3987]\n",
    "subset4 = probssentences.loc[probssentences[\"doc\"] == 5239]\n",
    "subset5 = probssentences.loc[probssentences[\"doc\"] == 9041]\n",
    "subset6 = probssentences.loc[probssentences[\"doc\"] == 9559]\n",
    "subset7 = probssentences.loc[probssentences[\"doc\"] == 9836]\n",
    "subset8 = probssentences.loc[probssentences[\"doc\"] == 11675]"
   ]
  },
  {
   "cell_type": "code",
   "execution_count": 82,
   "metadata": {
    "collapsed": false
   },
   "outputs": [
    {
     "name": "stdout",
     "output_type": "stream",
     "text": [
      "[[[u'smallville', u'episode', u'justice', u'is', u'the', u'best', u'episode', u'of', u'smallville'], [], [], [], [], [], [], [], [], [], [], [], [], [], [], [], [], [], [], [], [], [], [], [], [], [], [], [], [], [], [], [], [], [], [], [], [], [], [], [], [], [], [], [], [], [], [], [], [], [], [], [], [], [], [], [], [], [], [], [], [], [], [], [], [], [], [], [], [], [], [], [], [], [], [], [], [], [], [], [], [], [], [], [], [], [], [], [], [], [], [], [], [], [], [], [], [], [], [], [], [], [], [], [], [], [], [], [], [], [], [], [], [], [], [], [], [], [], [], [], [], [], [], [], [], [], [], [], [], [], [], [], [], [], [], [], [], [], [], [], [], [], [], [], [u'it', u's', u'my', u'favorite', u'episode', u'of', u'smallville'], [], [], [], [], [], [], [], [], [], [], [], [], [], [], [], [], [], [], [], [], [], [], [], [], [], [], [], [], [], [], [], [], [], [], [], [], [], [], [], [], [], [], [], [], [], [], [], [], [], [], [], [], [], [], [], [], [], [], [], [], [], [], [], [], [], [], [], [], [], [], [], [], [], [], [], [], [], [], [], [], [], [], [], [], [], [], [], [], [], [], [], [], [], [], [], [], [], [], [], [], [], [], [], [], [], [], [], [], [], [], [], [], [], [], [], [], [], [], [], [], [], [], [], [], [], [], [], [], [], [], [], [], [], [], [], [], []]]\n"
     ]
    }
   ],
   "source": [
    "#testing mistakes: check that none of the docs have blanks. Note* index 12458 does.\n",
    "#This review goes \"smallville episode justice is the best episode of smallville\"(tons of blanks)\"it is my favorite episode of smallville\"(tons of blanks)\n",
    "#sentence parsing error of some sort\n",
    "print docs[12458:12459]"
   ]
  },
  {
   "cell_type": "code",
   "execution_count": 107,
   "metadata": {
    "collapsed": false
   },
   "outputs": [
    {
     "name": "stdout",
     "output_type": "stream",
     "text": [
      "62\n",
      "70\n",
      "86\n",
      "63\n",
      "71\n",
      "118\n",
      "69\n",
      "67\n"
     ]
    }
   ],
   "source": [
    "#check that all subsets are the correct indices\n",
    "print len(subset1)\n",
    "print len(subset2)\n",
    "print len(subset3)\n",
    "print len(subset4)\n",
    "print len(subset5)\n",
    "print len(subset6)\n",
    "print len(subset7)\n",
    "print len(subset8)"
   ]
  },
  {
   "cell_type": "markdown",
   "metadata": {},
   "source": [
    "## Plot 1 (neg)"
   ]
  },
  {
   "cell_type": "code",
   "execution_count": 108,
   "metadata": {
    "collapsed": false
   },
   "outputs": [
    {
     "name": "stdout",
     "output_type": "stream",
     "text": [
      "            0         1 doc  truelabel\n",
      "342  0.833163  0.166837  33          0\n"
     ]
    }
   ],
   "source": [
    "print subset1[0:1]"
   ]
  },
  {
   "cell_type": "code",
   "execution_count": 142,
   "metadata": {
    "collapsed": false
   },
   "outputs": [],
   "source": [
    "#subset to the only column being that of the probabilities for each class\n",
    "probspos = subset1[[1]]\n",
    "probsneg = subset1[[0]]"
   ]
  },
  {
   "cell_type": "code",
   "execution_count": 161,
   "metadata": {
    "collapsed": false
   },
   "outputs": [],
   "source": [
    "#positive plot \n",
    "#note: negative plot is the exact same just opposite (because 0 and 1 prob values are connected and sum to 1)\n",
    "%matplotlib inline\n",
    "\n",
    "#pltpos = plt.hist(probspos)\n",
    "#plt.title('Probability Distribution of Negative Sentence Scores among Misclassified True Negative Reviews (MaxDiff method)')\n",
    "#plt.xlabel(\"Probabilities assigned to sentences of being negative\")\n",
    "#plt.ylabel(\"Frequency\")\n",
    "#plt.axis([0.0,1.0,0.0,3000.0])"
   ]
  },
  {
   "cell_type": "code",
   "execution_count": 143,
   "metadata": {
    "collapsed": false
   },
   "outputs": [
    {
     "data": {
      "text/plain": [
       "[0.0, 1.0, 0.0, 40.0]"
      ]
     },
     "execution_count": 143,
     "metadata": {},
     "output_type": "execute_result"
    },
    {
     "data": {
      "image/png": "[encoded data removed]",
      "text/plain": [
       "<matplotlib.figure.Figure at 0x7fdf9883ee50>"
      ]
     },
     "metadata": {},
     "output_type": "display_data"
    }
   ],
   "source": [
    "#negative plot\n",
    "%matplotlib inline\n",
    "\n",
    "pltneg = plt.hist(probsneg)\n",
    "#plt.title('Probability Distribution of Negative Sentence Scores among Misclassified True Negative Reviews (MaxDiff method)')\n",
    "#plt.xlabel(\"Probabilities assigned to sentences of being negative\")\n",
    "plt.ylabel(\"Number of Sentences\")\n",
    "plt.axis([0.0,1.0,0.0,40.0])"
   ]
  },
  {
   "cell_type": "markdown",
   "metadata": {},
   "source": [
    "## Plot 2 (neg)"
   ]
  },
  {
   "cell_type": "code",
   "execution_count": 112,
   "metadata": {
    "collapsed": false
   },
   "outputs": [
    {
     "name": "stdout",
     "output_type": "stream",
     "text": [
      "             0         1  doc  truelabel\n",
      "8155  0.614754  0.385246  738          0\n"
     ]
    }
   ],
   "source": [
    "print subset2[0:1]"
   ]
  },
  {
   "cell_type": "code",
   "execution_count": 144,
   "metadata": {
    "collapsed": false
   },
   "outputs": [],
   "source": [
    "#subset to the only column being that of the probabilities of the true label\n",
    "probsneg = subset2[[0]]"
   ]
  },
  {
   "cell_type": "code",
   "execution_count": 145,
   "metadata": {
    "collapsed": false
   },
   "outputs": [
    {
     "data": {
      "text/plain": [
       "[0.0, 1.0, 0.0, 40.0]"
      ]
     },
     "execution_count": 145,
     "metadata": {},
     "output_type": "execute_result"
    },
    {
     "data": {
      "image/png": "[encoded data removed]",
      "text/plain": [
       "<matplotlib.figure.Figure at 0x7fdf9a9b22d0>"
      ]
     },
     "metadata": {},
     "output_type": "display_data"
    }
   ],
   "source": [
    "#negative plot\n",
    "%matplotlib inline\n",
    "\n",
    "pltneg = plt.hist(probsneg)\n",
    "#plt.title('Probability Distribution of Negative Sentence Scores among Misclassified True Negative Reviews (MaxDiff method)')\n",
    "#plt.xlabel(\"Probabilities assigned to sentences of being negative\")\n",
    "#plt.ylabel(\"Frequency\")\n",
    "plt.axis([0.0,1.0,0.0,40.0])"
   ]
  },
  {
   "cell_type": "markdown",
   "metadata": {},
   "source": [
    "## Plot 3 (neg)"
   ]
  },
  {
   "cell_type": "code",
   "execution_count": 117,
   "metadata": {
    "collapsed": false
   },
   "outputs": [
    {
     "name": "stdout",
     "output_type": "stream",
     "text": [
      "               0         1   doc  truelabel\n",
      "42811  0.0853548  0.914645  3987          0\n"
     ]
    }
   ],
   "source": [
    "print subset3[0:1]"
   ]
  },
  {
   "cell_type": "code",
   "execution_count": 146,
   "metadata": {
    "collapsed": true
   },
   "outputs": [],
   "source": [
    "#subset to the only column being that of the probabilities of the true label\n",
    "probspos = subset3[[0]]"
   ]
  },
  {
   "cell_type": "code",
   "execution_count": 147,
   "metadata": {
    "collapsed": false
   },
   "outputs": [
    {
     "data": {
      "text/plain": [
       "[0.0, 1.0, 0.0, 40.0]"
      ]
     },
     "execution_count": 147,
     "metadata": {},
     "output_type": "execute_result"
    },
    {
     "data": {
      "image/png": "[encoded data removed]",
      "text/plain": [
       "<matplotlib.figure.Figure at 0x7fdf95960d90>"
      ]
     },
     "metadata": {},
     "output_type": "display_data"
    }
   ],
   "source": [
    "#negative plot\n",
    "%matplotlib inline\n",
    "\n",
    "pltneg = plt.hist(probsneg)\n",
    "#plt.title('Probability Distribution of Negative Sentence Scores among Misclassified True Negative Reviews (MaxDiff method)')\n",
    "#plt.xlabel(\"Probabilities assigned to sentences of being negative\")\n",
    "#plt.ylabel(\"Frequency\")\n",
    "plt.axis([0.0,1.0,0.0,40.0])"
   ]
  },
  {
   "cell_type": "markdown",
   "metadata": {},
   "source": [
    "## Plot 4 (pos)"
   ]
  },
  {
   "cell_type": "code",
   "execution_count": 120,
   "metadata": {
    "collapsed": false
   },
   "outputs": [
    {
     "name": "stdout",
     "output_type": "stream",
     "text": [
      "              0         1   doc  truelabel\n",
      "56468  0.817997  0.182003  5239          1\n"
     ]
    }
   ],
   "source": [
    "print subset4[0:1]"
   ]
  },
  {
   "cell_type": "code",
   "execution_count": 148,
   "metadata": {
    "collapsed": true
   },
   "outputs": [],
   "source": [
    "#subset to the only column being that of the probabilities of the true label\n",
    "probspos = subset4[[1]]"
   ]
  },
  {
   "cell_type": "code",
   "execution_count": 149,
   "metadata": {
    "collapsed": false
   },
   "outputs": [
    {
     "data": {
      "text/plain": [
       "[0.0, 1.0, 0.0, 40.0]"
      ]
     },
     "execution_count": 149,
     "metadata": {},
     "output_type": "execute_result"
    },
    {
     "data": {
      "image/png": "[encoded data removed]",
      "text/plain": [
       "<matplotlib.figure.Figure at 0x7fdf95b5eb90>"
      ]
     },
     "metadata": {},
     "output_type": "display_data"
    }
   ],
   "source": [
    "#positive plot\n",
    "%matplotlib inline\n",
    "\n",
    "pltpos = plt.hist(probspos)\n",
    "#plt.title('Probability Distribution of Negative Sentence Scores among Misclassified True Negative Reviews (MaxDiff method)')\n",
    "#plt.xlabel(\"Probabilities assigned to sentences of being negative\")\n",
    "#plt.ylabel(\"Frequency\")\n",
    "plt.axis([0.0,1.0,0.0,40.0])"
   ]
  },
  {
   "cell_type": "markdown",
   "metadata": {},
   "source": [
    "## Plot 5 (neg)"
   ]
  },
  {
   "cell_type": "code",
   "execution_count": 129,
   "metadata": {
    "collapsed": false
   },
   "outputs": [
    {
     "name": "stdout",
     "output_type": "stream",
     "text": [
      "              0         1   doc  truelabel\n",
      "96719  0.258636  0.741364  9041          0\n"
     ]
    }
   ],
   "source": [
    "print subset5[0:1]"
   ]
  },
  {
   "cell_type": "code",
   "execution_count": 150,
   "metadata": {
    "collapsed": true
   },
   "outputs": [],
   "source": [
    "#subset to the only column being that of the probabilities of the true label\n",
    "probsneg = subset5[[0]]"
   ]
  },
  {
   "cell_type": "code",
   "execution_count": 151,
   "metadata": {
    "collapsed": false
   },
   "outputs": [
    {
     "data": {
      "text/plain": [
       "[0.0, 1.0, 0.0, 40.0]"
      ]
     },
     "execution_count": 151,
     "metadata": {},
     "output_type": "execute_result"
    },
    {
     "data": {
      "image/png": "[encoded data removed]",
      "text/plain": [
       "<matplotlib.figure.Figure at 0x7fdf95be0f50>"
      ]
     },
     "metadata": {},
     "output_type": "display_data"
    }
   ],
   "source": [
    "#negative plot\n",
    "%matplotlib inline\n",
    "\n",
    "pltneg = plt.hist(probsneg)\n",
    "#plt.title('Probability Distribution of Negative Sentence Scores among Misclassified True Negative Reviews (MaxDiff method)')\n",
    "#plt.xlabel(\"Probabilities assigned to sentences of being negative\")\n",
    "#plt.ylabel(\"Frequency\")\n",
    "plt.axis([0.0,1.0,0.0,40.0])"
   ]
  },
  {
   "cell_type": "markdown",
   "metadata": {},
   "source": [
    "## Plot 6 (neg)"
   ]
  },
  {
   "cell_type": "code",
   "execution_count": 130,
   "metadata": {
    "collapsed": false
   },
   "outputs": [
    {
     "name": "stdout",
     "output_type": "stream",
     "text": [
      "               0         1   doc  truelabel\n",
      "102063  0.335907  0.664093  9559          0\n"
     ]
    }
   ],
   "source": [
    "print subset6[0:1]"
   ]
  },
  {
   "cell_type": "code",
   "execution_count": 152,
   "metadata": {
    "collapsed": true
   },
   "outputs": [],
   "source": [
    "#subset to the only column being that of the probabilities of the true label\n",
    "probsneg = subset6[[0]]"
   ]
  },
  {
   "cell_type": "code",
   "execution_count": 153,
   "metadata": {
    "collapsed": false
   },
   "outputs": [
    {
     "data": {
      "text/plain": [
       "[0.0, 1.0, 0.0, 40.0]"
      ]
     },
     "execution_count": 153,
     "metadata": {},
     "output_type": "execute_result"
    },
    {
     "data": {
      "image/png": "[encoded data removed]",
      "text/plain": [
       "<matplotlib.figure.Figure at 0x7fdf763db950>"
      ]
     },
     "metadata": {},
     "output_type": "display_data"
    }
   ],
   "source": [
    "#negative plot\n",
    "%matplotlib inline\n",
    "\n",
    "pltneg = plt.hist(probsneg)\n",
    "#plt.title('Probability Distribution of Negative Sentence Scores among Misclassified True Negative Reviews (MaxDiff method)')\n",
    "#plt.xlabel(\"Probabilities assigned to sentences of being negative\")\n",
    "#plt.ylabel(\"Frequency\")\n",
    "plt.axis([0.0,1.0,0.0,40.0])"
   ]
  },
  {
   "cell_type": "markdown",
   "metadata": {},
   "source": [
    "## Plot 7 (pos)"
   ]
  },
  {
   "cell_type": "code",
   "execution_count": 135,
   "metadata": {
    "collapsed": false
   },
   "outputs": [
    {
     "name": "stdout",
     "output_type": "stream",
     "text": [
      "               0         1   doc  truelabel\n",
      "105097  0.122349  0.877651  9836          1\n"
     ]
    }
   ],
   "source": [
    "print subset7[0:1]"
   ]
  },
  {
   "cell_type": "code",
   "execution_count": 154,
   "metadata": {
    "collapsed": true
   },
   "outputs": [],
   "source": [
    "#subset to the only column being that of the probabilities of the true label\n",
    "probspos = subset7[[1]]"
   ]
  },
  {
   "cell_type": "code",
   "execution_count": 155,
   "metadata": {
    "collapsed": false
   },
   "outputs": [
    {
     "data": {
      "text/plain": [
       "[0.0, 1.0, 0.0, 40.0]"
      ]
     },
     "execution_count": 155,
     "metadata": {},
     "output_type": "execute_result"
    },
    {
     "data": {
      "image/png": "[encoded data removed]",
      "text/plain": [
       "<matplotlib.figure.Figure at 0x7fdf98f8e890>"
      ]
     },
     "metadata": {},
     "output_type": "display_data"
    }
   ],
   "source": [
    "#positive plot\n",
    "%matplotlib inline\n",
    "\n",
    "pltpos = plt.hist(probspos)\n",
    "#plt.title('Probability Distribution of Negative Sentence Scores among Misclassified True Negative Reviews (MaxDiff method)')\n",
    "#plt.xlabel(\"Probabilities assigned to sentences of being negative\")\n",
    "#plt.ylabel(\"Frequency\")\n",
    "plt.axis([0.0,1.0,0.0,40.0])"
   ]
  },
  {
   "cell_type": "markdown",
   "metadata": {},
   "source": [
    "## Plot 8 (pos)"
   ]
  },
  {
   "cell_type": "code",
   "execution_count": 156,
   "metadata": {
    "collapsed": false
   },
   "outputs": [
    {
     "name": "stdout",
     "output_type": "stream",
     "text": [
      "          0    1    doc  truelabel\n",
      "124330  0.5  0.5  11675          1\n"
     ]
    }
   ],
   "source": [
    "print subset8[0:1]"
   ]
  },
  {
   "cell_type": "code",
   "execution_count": 157,
   "metadata": {
    "collapsed": true
   },
   "outputs": [],
   "source": [
    "#subset to the only column being that of the probabilities of the true label\n",
    "probspos = subset8[[1]]"
   ]
  },
  {
   "cell_type": "code",
   "execution_count": 158,
   "metadata": {
    "collapsed": false
   },
   "outputs": [
    {
     "data": {
      "text/plain": [
       "[0.0, 1.0, 0.0, 40.0]"
      ]
     },
     "execution_count": 158,
     "metadata": {},
     "output_type": "execute_result"
    },
    {
     "data": {
      "image/png": "[encoded data removed]",
      "text/plain": [
       "<matplotlib.figure.Figure at 0x7fdff81f36d0>"
      ]
     },
     "metadata": {},
     "output_type": "display_data"
    }
   ],
   "source": [
    "#positive plot\n",
    "%matplotlib inline\n",
    "\n",
    "pltpos = plt.hist(probspos)\n",
    "#plt.title('Probability Distribution of Negative Sentence Scores among Misclassified True Negative Reviews (MaxDiff method)')\n",
    "#plt.xlabel(\"Probabilities assigned to sentences of being negative\")\n",
    "#plt.ylabel(\"Frequency\")\n",
    "plt.axis([0.0,1.0,0.0,40.0])"
   ]
  }
 ],
 "metadata": {
  "kernelspec": {
   "display_name": "Python 2",
   "language": "python",
   "name": "python2"
  },
  "language_info": {
   "codemirror_mode": {
    "name": "ipython",
    "version": 2
   },
   "file_extension": ".py",
   "mimetype": "text/x-python",
   "name": "python",
   "nbconvert_exporter": "python",
   "pygments_lexer": "ipython2",
   "version": "2.7.11"
  }
 },
 "nbformat": 4,
 "nbformat_minor": 0
}
