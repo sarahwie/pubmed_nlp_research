{
 "cells": [
  {
   "cell_type": "code",
   "execution_count": 1,
   "metadata": {
    "collapsed": true
   },
   "outputs": [],
   "source": [
    "#Note: when running on local computer, change urls to '/home/sarahwie/Documents/zip/subset'"
   ]
  },
  {
   "cell_type": "code",
   "execution_count": 29,
   "metadata": {
    "collapsed": false
   },
   "outputs": [],
   "source": [
    "import xml.etree.ElementTree as ET\n",
    "import datetime\n",
    "import os\n",
    "import urlparse\n",
    "import zipfile\n",
    "import pickle\n",
    "\n",
    "from xml.etree.ElementTree import Element"
   ]
  },
  {
   "cell_type": "markdown",
   "metadata": {},
   "source": [
    "Set working directory to where files are:"
   ]
  },
  {
   "cell_type": "code",
   "execution_count": 30,
   "metadata": {
    "collapsed": false
   },
   "outputs": [],
   "source": [
    "os.chdir('/mnt/mypartition/Desktop2/PubMed')\n",
    "#os.chdir('/home/sarahwie/Documents/zip/subset')"
   ]
  },
  {
   "cell_type": "markdown",
   "metadata": {},
   "source": [
    "### Create PMIDs dictionary"
   ]
  },
  {
   "cell_type": "code",
   "execution_count": 31,
   "metadata": {
    "collapsed": false
   },
   "outputs": [],
   "source": [
    "my_list = [line.strip() for line in open('/mnt/mypartition/Desktop2/MUSC_PMIDs.txt', 'r')]\n",
    "#my_list = [line.strip() for line in open('/home/sarahwie/Documents/zip/MUSC_PMIDs.txt', 'r')]"
   ]
  },
  {
   "cell_type": "markdown",
   "metadata": {},
   "source": [
    "Convert list to dictionary:"
   ]
  },
  {
   "cell_type": "code",
   "execution_count": 32,
   "metadata": {
    "collapsed": false
   },
   "outputs": [],
   "source": [
    "pmids = dict(zip(my_list, range(len(my_list))))"
   ]
  },
  {
   "cell_type": "code",
   "execution_count": 33,
   "metadata": {
    "collapsed": false
   },
   "outputs": [
    {
     "name": "stdout",
     "output_type": "stream",
     "text": [
      "38814\n"
     ]
    }
   ],
   "source": [
    "print len(pmids)"
   ]
  },
  {
   "cell_type": "markdown",
   "metadata": {},
   "source": [
    "### Now that we have our list of indexes, extract the XML for these indexes and append to a new file:"
   ]
  },
  {
   "cell_type": "code",
   "execution_count": null,
   "metadata": {
    "collapsed": true
   },
   "outputs": [],
   "source": [
    "inxs_list = pickle.load(open('/mnt/mypartition/Desktop2/inxs_list.p', 'rb'))"
   ]
  },
  {
   "cell_type": "code",
   "execution_count": 34,
   "metadata": {
    "collapsed": false,
    "scrolled": true
   },
   "outputs": [
    {
     "name": "stdout",
     "output_type": "stream",
     "text": [
      "811\n"
     ]
    }
   ],
   "source": [
    "print len(inxs_list)"
   ]
  },
  {
   "cell_type": "code",
   "execution_count": 39,
   "metadata": {
    "collapsed": true
   },
   "outputs": [],
   "source": [
    "#make new XML file\n",
    "rootNew = Element('MedlineCitationSet')\n",
    "children = []"
   ]
  },
  {
   "cell_type": "code",
   "execution_count": 223,
   "metadata": {
    "collapsed": false
   },
   "outputs": [
    {
     "name": "stdout",
     "output_type": "stream",
     "text": [
      "medline16n0189.xml.zip\n"
     ]
    },
    {
     "name": "stderr",
     "output_type": "stream",
     "text": [
      "/home/nlp-vm/anaconda2/lib/python2.7/site-packages/ipykernel/__main__.py:19: DeprecationWarning: This method will be removed in future versions.  Use 'list(elem)' or iteration over elem instead.\n"
     ]
    },
    {
     "name": "stdout",
     "output_type": "stream",
     "text": [
      "medline16n0190.xml.zip\n",
      "medline16n0191.xml.zip\n",
      "medline16n0192.xml.zip\n",
      "medline16n0193.xml.zip\n",
      "medline16n0194.xml.zip\n",
      "medline16n0195.xml.zip\n",
      "medline16n0196.xml.zip\n",
      "medline16n0197.xml.zip\n",
      "medline16n0198.xml.zip\n",
      "medline16n0199.xml.zip\n",
      "medline16n0200.xml.zip\n",
      "medline16n0201.xml.zip\n",
      "medline16n0202.xml.zip\n",
      "medline16n0203.xml.zip\n",
      "medline16n0204.xml.zip\n",
      "medline16n0205.xml.zip\n",
      "medline16n0206.xml.zip\n",
      "medline16n0207.xml.zip\n",
      "medline16n0208.xml.zip\n",
      "medline16n0209.xml.zip\n",
      "medline16n0210.xml.zip\n",
      "medline16n0211.xml.zip\n",
      "medline16n0212.xml.zip\n",
      "medline16n0213.xml.zip\n",
      "medline16n0214.xml.zip\n",
      "medline16n0215.xml.zip\n",
      "medline16n0216.xml.zip\n",
      "medline16n0217.xml.zip\n",
      "medline16n0218.xml.zip\n",
      "medline16n0219.xml.zip\n",
      "medline16n0220.xml.zip\n",
      "medline16n0221.xml.zip\n",
      "medline16n0222.xml.zip\n",
      "medline16n0223.xml.zip\n",
      "medline16n0224.xml.zip\n",
      "medline16n0225.xml.zip\n",
      "medline16n0226.xml.zip\n",
      "medline16n0227.xml.zip\n",
      "medline16n0228.xml.zip\n",
      "medline16n0229.xml.zip\n",
      "medline16n0230.xml.zip\n",
      "medline16n0231.xml.zip\n",
      "medline16n0232.xml.zip\n",
      "medline16n0233.xml.zip\n",
      "medline16n0234.xml.zip\n",
      "medline16n0235.xml.zip\n",
      "medline16n0236.xml.zip\n",
      "medline16n0237.xml.zip\n",
      "medline16n0238.xml.zip\n",
      "medline16n0239.xml.zip\n",
      "medline16n0240.xml.zip\n",
      "medline16n0241.xml.zip\n",
      "medline16n0242.xml.zip\n",
      "medline16n0243.xml.zip\n",
      "medline16n0244.xml.zip\n",
      "medline16n0245.xml.zip\n",
      "medline16n0246.xml.zip\n",
      "medline16n0247.xml.zip\n",
      "medline16n0248.xml.zip\n",
      "medline16n0249.xml.zip\n",
      "medline16n0250.xml.zip\n",
      "medline16n0251.xml.zip\n",
      "medline16n0252.xml.zip\n",
      "medline16n0253.xml.zip\n",
      "medline16n0254.xml.zip\n",
      "medline16n0255.xml.zip\n",
      "medline16n0256.xml.zip\n",
      "medline16n0257.xml.zip\n",
      "medline16n0258.xml.zip\n",
      "medline16n0259.xml.zip\n",
      "medline16n0260.xml.zip\n",
      "medline16n0261.xml.zip\n",
      "medline16n0262.xml.zip\n",
      "medline16n0263.xml.zip\n",
      "medline16n0264.xml.zip\n",
      "medline16n0265.xml.zip\n",
      "medline16n0266.xml.zip\n",
      "medline16n0267.xml.zip\n",
      "medline16n0268.xml.zip\n",
      "medline16n0269.xml.zip\n",
      "medline16n0270.xml.zip\n",
      "medline16n0271.xml.zip\n",
      "medline16n0272.xml.zip\n",
      "medline16n0273.xml.zip\n",
      "medline16n0274.xml.zip\n",
      "medline16n0275.xml.zip\n",
      "medline16n0276.xml.zip\n",
      "medline16n0277.xml.zip\n",
      "medline16n0278.xml.zip\n",
      "medline16n0279.xml.zip\n",
      "medline16n0280.xml.zip\n",
      "medline16n0281.xml.zip\n",
      "medline16n0282.xml.zip\n",
      "medline16n0283.xml.zip\n",
      "medline16n0284.xml.zip\n",
      "medline16n0285.xml.zip\n",
      "medline16n0286.xml.zip\n",
      "medline16n0287.xml.zip\n",
      "medline16n0288.xml.zip\n",
      "medline16n0289.xml.zip\n",
      "medline16n0290.xml.zip\n",
      "medline16n0291.xml.zip\n",
      "medline16n0292.xml.zip\n",
      "medline16n0293.xml.zip\n",
      "medline16n0294.xml.zip\n",
      "medline16n0295.xml.zip\n",
      "medline16n0296.xml.zip\n",
      "medline16n0297.xml.zip\n",
      "medline16n0298.xml.zip\n",
      "medline16n0299.xml.zip\n",
      "medline16n0300.xml.zip\n",
      "medline16n0301.xml.zip\n",
      "medline16n0302.xml.zip\n",
      "medline16n0303.xml.zip\n",
      "medline16n0304.xml.zip\n",
      "medline16n0305.xml.zip\n",
      "medline16n0306.xml.zip\n",
      "medline16n0307.xml.zip\n",
      "medline16n0308.xml.zip\n",
      "medline16n0309.xml.zip\n",
      "medline16n0310.xml.zip\n",
      "medline16n0311.xml.zip\n",
      "medline16n0312.xml.zip\n",
      "medline16n0313.xml.zip\n",
      "medline16n0314.xml.zip\n",
      "medline16n0315.xml.zip\n",
      "medline16n0316.xml.zip\n",
      "medline16n0317.xml.zip\n",
      "medline16n0318.xml.zip\n",
      "medline16n0319.xml.zip\n",
      "medline16n0320.xml.zip\n",
      "medline16n0321.xml.zip\n",
      "medline16n0322.xml.zip\n",
      "medline16n0323.xml.zip\n",
      "medline16n0324.xml.zip\n",
      "medline16n0325.xml.zip\n",
      "medline16n0326.xml.zip\n",
      "medline16n0327.xml.zip\n",
      "medline16n0328.xml.zip\n",
      "medline16n0329.xml.zip\n",
      "medline16n0330.xml.zip\n",
      "medline16n0331.xml.zip\n",
      "medline16n0332.xml.zip\n",
      "medline16n0333.xml.zip\n",
      "medline16n0334.xml.zip\n",
      "medline16n0335.xml.zip\n",
      "medline16n0336.xml.zip\n",
      "medline16n0337.xml.zip\n",
      "medline16n0338.xml.zip\n",
      "medline16n0339.xml.zip\n",
      "medline16n0340.xml.zip\n",
      "medline16n0341.xml.zip\n",
      "medline16n0342.xml.zip\n",
      "medline16n0343.xml.zip\n",
      "medline16n0344.xml.zip\n",
      "medline16n0345.xml.zip\n",
      "medline16n0346.xml.zip\n",
      "medline16n0347.xml.zip\n",
      "medline16n0348.xml.zip\n",
      "medline16n0349.xml.zip\n",
      "medline16n0350.xml.zip\n",
      "medline16n0351.xml.zip\n",
      "medline16n0352.xml.zip\n",
      "medline16n0353.xml.zip\n",
      "medline16n0354.xml.zip\n",
      "medline16n0355.xml.zip\n",
      "medline16n0356.xml.zip\n",
      "medline16n0357.xml.zip\n",
      "medline16n0358.xml.zip\n",
      "medline16n0359.xml.zip\n",
      "medline16n0360.xml.zip\n",
      "medline16n0361.xml.zip\n",
      "medline16n0362.xml.zip\n",
      "medline16n0363.xml.zip\n",
      "medline16n0364.xml.zip\n",
      "medline16n0365.xml.zip\n",
      "medline16n0366.xml.zip\n",
      "medline16n0367.xml.zip\n",
      "medline16n0368.xml.zip\n",
      "medline16n0369.xml.zip\n",
      "medline16n0370.xml.zip\n",
      "medline16n0371.xml.zip\n",
      "medline16n0372.xml.zip\n",
      "medline16n0373.xml.zip\n",
      "medline16n0374.xml.zip\n",
      "medline16n0375.xml.zip\n",
      "medline16n0376.xml.zip\n",
      "medline16n0377.xml.zip\n",
      "medline16n0378.xml.zip\n",
      "medline16n0379.xml.zip\n",
      "medline16n0380.xml.zip\n",
      "medline16n0381.xml.zip\n",
      "medline16n0382.xml.zip\n",
      "medline16n0383.xml.zip\n",
      "medline16n0384.xml.zip\n",
      "medline16n0385.xml.zip\n",
      "medline16n0386.xml.zip\n",
      "medline16n0387.xml.zip\n",
      "medline16n0388.xml.zip\n",
      "medline16n0389.xml.zip\n",
      "medline16n0390.xml.zip\n",
      "medline16n0391.xml.zip\n",
      "medline16n0392.xml.zip\n",
      "medline16n0393.xml.zip\n",
      "medline16n0394.xml.zip\n",
      "medline16n0395.xml.zip\n",
      "medline16n0396.xml.zip\n",
      "medline16n0397.xml.zip\n",
      "medline16n0398.xml.zip\n",
      "medline16n0399.xml.zip\n",
      "medline16n0400.xml.zip\n",
      "medline16n0401.xml.zip\n",
      "medline16n0402.xml.zip\n",
      "medline16n0403.xml.zip\n",
      "medline16n0404.xml.zip\n",
      "medline16n0405.xml.zip\n",
      "medline16n0406.xml.zip\n",
      "medline16n0407.xml.zip\n",
      "medline16n0408.xml.zip\n",
      "medline16n0409.xml.zip\n",
      "medline16n0410.xml.zip\n",
      "medline16n0411.xml.zip\n",
      "medline16n0412.xml.zip\n",
      "medline16n0413.xml.zip\n",
      "medline16n0414.xml.zip\n",
      "medline16n0415.xml.zip\n",
      "medline16n0416.xml.zip\n",
      "medline16n0417.xml.zip\n",
      "medline16n0418.xml.zip\n",
      "medline16n0419.xml.zip\n",
      "medline16n0420.xml.zip\n",
      "medline16n0421.xml.zip\n",
      "medline16n0422.xml.zip\n",
      "medline16n0423.xml.zip\n",
      "medline16n0424.xml.zip\n",
      "medline16n0425.xml.zip\n",
      "medline16n0426.xml.zip\n",
      "medline16n0427.xml.zip\n",
      "medline16n0428.xml.zip\n",
      "medline16n0429.xml.zip\n",
      "medline16n0430.xml.zip\n",
      "medline16n0431.xml.zip\n",
      "medline16n0432.xml.zip\n",
      "medline16n0433.xml.zip\n",
      "medline16n0434.xml.zip\n",
      "medline16n0435.xml.zip\n",
      "medline16n0436.xml.zip\n",
      "medline16n0437.xml.zip\n",
      "medline16n0438.xml.zip\n",
      "medline16n0439.xml.zip\n",
      "medline16n0440.xml.zip\n",
      "medline16n0441.xml.zip\n",
      "medline16n0442.xml.zip\n",
      "medline16n0443.xml.zip\n",
      "medline16n0444.xml.zip\n",
      "medline16n0445.xml.zip\n",
      "medline16n0446.xml.zip\n",
      "medline16n0447.xml.zip\n",
      "medline16n0448.xml.zip\n",
      "medline16n0449.xml.zip\n",
      "medline16n0450.xml.zip\n",
      "medline16n0451.xml.zip\n",
      "medline16n0452.xml.zip\n",
      "medline16n0453.xml.zip\n",
      "medline16n0454.xml.zip\n",
      "medline16n0455.xml.zip\n",
      "medline16n0456.xml.zip\n",
      "medline16n0457.xml.zip\n",
      "medline16n0458.xml.zip\n",
      "medline16n0459.xml.zip\n",
      "medline16n0460.xml.zip\n",
      "medline16n0461.xml.zip\n",
      "medline16n0462.xml.zip\n",
      "medline16n0463.xml.zip\n",
      "medline16n0464.xml.zip\n",
      "medline16n0465.xml.zip\n",
      "medline16n0466.xml.zip\n",
      "medline16n0467.xml.zip\n",
      "medline16n0468.xml.zip\n",
      "medline16n0469.xml.zip\n",
      "medline16n0470.xml.zip\n",
      "medline16n0471.xml.zip\n",
      "medline16n0472.xml.zip\n",
      "medline16n0473.xml.zip\n",
      "medline16n0474.xml.zip\n",
      "medline16n0475.xml.zip\n",
      "medline16n0476.xml.zip\n",
      "medline16n0477.xml.zip\n",
      "medline16n0478.xml.zip\n",
      "medline16n0479.xml.zip\n",
      "medline16n0480.xml.zip\n",
      "medline16n0481.xml.zip\n",
      "medline16n0482.xml.zip\n",
      "medline16n0483.xml.zip\n",
      "medline16n0484.xml.zip\n",
      "medline16n0485.xml.zip\n",
      "medline16n0486.xml.zip\n",
      "medline16n0487.xml.zip\n",
      "medline16n0488.xml.zip\n",
      "medline16n0489.xml.zip\n",
      "medline16n0490.xml.zip\n",
      "medline16n0491.xml.zip\n",
      "medline16n0492.xml.zip\n",
      "medline16n0493.xml.zip\n",
      "medline16n0494.xml.zip\n",
      "medline16n0495.xml.zip\n",
      "medline16n0496.xml.zip\n",
      "medline16n0497.xml.zip\n",
      "medline16n0498.xml.zip\n",
      "medline16n0499.xml.zip\n",
      "medline16n0500.xml.zip\n",
      "medline16n0501.xml.zip\n",
      "medline16n0502.xml.zip\n",
      "medline16n0503.xml.zip\n",
      "medline16n0504.xml.zip\n",
      "medline16n0505.xml.zip\n",
      "medline16n0506.xml.zip\n",
      "medline16n0507.xml.zip\n",
      "medline16n0508.xml.zip\n",
      "medline16n0509.xml.zip\n",
      "medline16n0510.xml.zip\n",
      "medline16n0511.xml.zip\n",
      "medline16n0512.xml.zip\n",
      "medline16n0513.xml.zip\n",
      "medline16n0514.xml.zip\n",
      "medline16n0515.xml.zip\n",
      "medline16n0516.xml.zip\n",
      "medline16n0517.xml.zip\n",
      "medline16n0518.xml.zip\n",
      "medline16n0519.xml.zip\n",
      "medline16n0520.xml.zip\n",
      "medline16n0521.xml.zip\n",
      "medline16n0522.xml.zip\n",
      "medline16n0523.xml.zip\n",
      "medline16n0524.xml.zip\n",
      "medline16n0525.xml.zip\n",
      "medline16n0526.xml.zip\n",
      "medline16n0527.xml.zip\n",
      "medline16n0528.xml.zip\n",
      "medline16n0529.xml.zip\n",
      "medline16n0530.xml.zip\n",
      "medline16n0531.xml.zip\n",
      "medline16n0532.xml.zip\n",
      "medline16n0533.xml.zip\n",
      "medline16n0534.xml.zip\n",
      "medline16n0535.xml.zip\n",
      "medline16n0536.xml.zip\n",
      "medline16n0537.xml.zip\n",
      "medline16n0538.xml.zip\n",
      "medline16n0539.xml.zip\n",
      "medline16n0540.xml.zip\n",
      "medline16n0541.xml.zip\n",
      "medline16n0542.xml.zip\n",
      "medline16n0543.xml.zip\n",
      "medline16n0544.xml.zip\n",
      "medline16n0545.xml.zip\n",
      "medline16n0546.xml.zip\n",
      "medline16n0547.xml.zip\n",
      "medline16n0548.xml.zip\n",
      "medline16n0549.xml.zip\n",
      "medline16n0550.xml.zip\n",
      "medline16n0551.xml.zip\n",
      "medline16n0552.xml.zip\n",
      "medline16n0553.xml.zip\n",
      "medline16n0554.xml.zip\n",
      "medline16n0555.xml.zip\n",
      "medline16n0556.xml.zip\n",
      "medline16n0557.xml.zip\n",
      "medline16n0558.xml.zip\n",
      "medline16n0559.xml.zip\n",
      "medline16n0560.xml.zip\n",
      "medline16n0561.xml.zip\n",
      "medline16n0562.xml.zip\n",
      "medline16n0563.xml.zip\n",
      "medline16n0564.xml.zip\n",
      "medline16n0565.xml.zip\n",
      "medline16n0566.xml.zip\n",
      "medline16n0567.xml.zip\n",
      "medline16n0568.xml.zip\n",
      "medline16n0569.xml.zip\n",
      "medline16n0570.xml.zip\n",
      "medline16n0571.xml.zip\n",
      "medline16n0572.xml.zip\n",
      "medline16n0573.xml.zip\n",
      "medline16n0574.xml.zip\n",
      "medline16n0575.xml.zip\n",
      "medline16n0576.xml.zip\n",
      "medline16n0577.xml.zip\n",
      "medline16n0578.xml.zip\n",
      "medline16n0579.xml.zip\n",
      "medline16n0580.xml.zip\n",
      "medline16n0581.xml.zip\n",
      "medline16n0582.xml.zip\n",
      "medline16n0583.xml.zip\n",
      "medline16n0584.xml.zip\n",
      "medline16n0585.xml.zip\n",
      "medline16n0586.xml.zip\n",
      "medline16n0587.xml.zip\n",
      "medline16n0588.xml.zip\n",
      "medline16n0589.xml.zip\n",
      "medline16n0590.xml.zip\n",
      "medline16n0591.xml.zip\n",
      "medline16n0592.xml.zip\n",
      "medline16n0593.xml.zip\n",
      "medline16n0594.xml.zip\n",
      "medline16n0595.xml.zip\n",
      "medline16n0596.xml.zip\n",
      "medline16n0597.xml.zip\n",
      "medline16n0598.xml.zip\n",
      "medline16n0599.xml.zip\n",
      "medline16n0600.xml.zip\n",
      "medline16n0601.xml.zip\n",
      "medline16n0602.xml.zip\n",
      "medline16n0603.xml.zip\n",
      "medline16n0604.xml.zip\n",
      "medline16n0605.xml.zip\n",
      "medline16n0606.xml.zip\n",
      "medline16n0607.xml.zip\n",
      "medline16n0608.xml.zip\n",
      "medline16n0609.xml.zip\n",
      "medline16n0610.xml.zip\n",
      "medline16n0611.xml.zip\n",
      "medline16n0612.xml.zip\n",
      "medline16n0613.xml.zip\n",
      "medline16n0614.xml.zip\n",
      "medline16n0615.xml.zip\n",
      "medline16n0616.xml.zip\n",
      "medline16n0617.xml.zip\n",
      "medline16n0618.xml.zip\n",
      "medline16n0619.xml.zip\n",
      "medline16n0620.xml.zip\n",
      "medline16n0621.xml.zip\n",
      "medline16n0622.xml.zip\n",
      "medline16n0623.xml.zip\n",
      "medline16n0624.xml.zip\n",
      "medline16n0625.xml.zip\n",
      "medline16n0626.xml.zip\n",
      "medline16n0627.xml.zip\n",
      "medline16n0628.xml.zip\n",
      "medline16n0629.xml.zip\n",
      "medline16n0630.xml.zip\n",
      "medline16n0631.xml.zip\n",
      "medline16n0632.xml.zip\n",
      "medline16n0633.xml.zip\n",
      "medline16n0634.xml.zip\n",
      "medline16n0635.xml.zip\n",
      "medline16n0636.xml.zip\n",
      "medline16n0637.xml.zip\n",
      "medline16n0638.xml.zip\n",
      "medline16n0639.xml.zip\n",
      "medline16n0640.xml.zip\n",
      "medline16n0641.xml.zip\n",
      "medline16n0642.xml.zip\n",
      "medline16n0643.xml.zip\n",
      "medline16n0644.xml.zip\n",
      "medline16n0645.xml.zip\n",
      "medline16n0646.xml.zip\n",
      "medline16n0647.xml.zip\n",
      "medline16n0648.xml.zip\n",
      "medline16n0649.xml.zip\n",
      "medline16n0650.xml.zip\n",
      "medline16n0651.xml.zip\n",
      "medline16n0652.xml.zip\n",
      "medline16n0653.xml.zip\n",
      "medline16n0654.xml.zip\n",
      "medline16n0655.xml.zip\n",
      "medline16n0656.xml.zip\n",
      "medline16n0657.xml.zip\n",
      "medline16n0658.xml.zip\n",
      "medline16n0659.xml.zip\n",
      "medline16n0660.xml.zip\n",
      "medline16n0661.xml.zip\n",
      "medline16n0662.xml.zip\n",
      "medline16n0663.xml.zip\n",
      "medline16n0664.xml.zip\n",
      "medline16n0665.xml.zip\n",
      "medline16n0666.xml.zip\n",
      "medline16n0667.xml.zip\n",
      "medline16n0668.xml.zip\n",
      "medline16n0669.xml.zip\n",
      "medline16n0670.xml.zip\n",
      "medline16n0671.xml.zip\n",
      "medline16n0672.xml.zip\n",
      "medline16n0673.xml.zip\n",
      "medline16n0674.xml.zip\n",
      "medline16n0675.xml.zip\n",
      "medline16n0676.xml.zip\n",
      "medline16n0677.xml.zip\n",
      "medline16n0678.xml.zip\n",
      "medline16n0679.xml.zip\n",
      "medline16n0680.xml.zip\n",
      "medline16n0681.xml.zip\n",
      "medline16n0682.xml.zip\n",
      "medline16n0683.xml.zip\n",
      "medline16n0684.xml.zip\n",
      "medline16n0685.xml.zip\n",
      "medline16n0686.xml.zip\n",
      "medline16n0687.xml.zip\n",
      "medline16n0688.xml.zip\n",
      "medline16n0689.xml.zip\n",
      "medline16n0690.xml.zip\n",
      "medline16n0691.xml.zip\n",
      "medline16n0692.xml.zip\n",
      "medline16n0693.xml.zip\n",
      "medline16n0694.xml.zip\n",
      "medline16n0695.xml.zip\n",
      "medline16n0696.xml.zip\n",
      "medline16n0697.xml.zip\n",
      "medline16n0698.xml.zip\n",
      "medline16n0699.xml.zip\n",
      "medline16n0700.xml.zip\n",
      "medline16n0701.xml.zip\n",
      "medline16n0702.xml.zip\n",
      "medline16n0703.xml.zip\n",
      "medline16n0704.xml.zip\n",
      "medline16n0705.xml.zip\n",
      "medline16n0706.xml.zip\n",
      "medline16n0707.xml.zip\n",
      "medline16n0708.xml.zip\n",
      "medline16n0709.xml.zip\n",
      "medline16n0710.xml.zip\n",
      "medline16n0711.xml.zip\n",
      "medline16n0712.xml.zip\n",
      "medline16n0713.xml.zip\n",
      "medline16n0714.xml.zip\n",
      "medline16n0715.xml.zip\n",
      "medline16n0716.xml.zip\n",
      "medline16n0717.xml.zip\n",
      "medline16n0718.xml.zip\n",
      "medline16n0719.xml.zip\n",
      "medline16n0720.xml.zip\n",
      "medline16n0721.xml.zip\n",
      "medline16n0722.xml.zip\n",
      "medline16n0723.xml.zip\n",
      "medline16n0724.xml.zip\n",
      "medline16n0725.xml.zip\n",
      "medline16n0726.xml.zip\n",
      "medline16n0727.xml.zip\n",
      "medline16n0728.xml.zip\n",
      "medline16n0729.xml.zip\n",
      "medline16n0730.xml.zip\n",
      "medline16n0731.xml.zip\n",
      "medline16n0732.xml.zip\n",
      "medline16n0733.xml.zip\n",
      "medline16n0734.xml.zip\n",
      "medline16n0735.xml.zip\n",
      "medline16n0736.xml.zip\n",
      "medline16n0737.xml.zip\n",
      "medline16n0738.xml.zip\n",
      "medline16n0739.xml.zip\n",
      "medline16n0740.xml.zip\n",
      "medline16n0741.xml.zip\n",
      "medline16n0742.xml.zip\n",
      "medline16n0743.xml.zip\n",
      "medline16n0744.xml.zip\n",
      "medline16n0745.xml.zip\n",
      "medline16n0746.xml.zip\n",
      "medline16n0747.xml.zip\n",
      "medline16n0748.xml.zip\n",
      "medline16n0749.xml.zip\n",
      "medline16n0750.xml.zip\n",
      "medline16n0751.xml.zip\n",
      "medline16n0752.xml.zip\n",
      "medline16n0753.xml.zip\n",
      "medline16n0754.xml.zip\n",
      "medline16n0755.xml.zip\n",
      "medline16n0756.xml.zip\n",
      "medline16n0757.xml.zip\n",
      "medline16n0758.xml.zip\n",
      "medline16n0759.xml.zip\n",
      "medline16n0760.xml.zip\n",
      "medline16n0761.xml.zip\n",
      "medline16n0762.xml.zip\n",
      "medline16n0763.xml.zip\n",
      "medline16n0764.xml.zip\n",
      "medline16n0765.xml.zip\n",
      "medline16n0766.xml.zip\n",
      "medline16n0767.xml.zip\n",
      "medline16n0768.xml.zip\n",
      "medline16n0769.xml.zip\n",
      "medline16n0770.xml.zip\n",
      "medline16n0771.xml.zip\n",
      "medline16n0772.xml.zip\n",
      "medline16n0773.xml.zip\n",
      "medline16n0774.xml.zip\n",
      "medline16n0775.xml.zip\n",
      "medline16n0776.xml.zip\n",
      "medline16n0777.xml.zip\n",
      "medline16n0778.xml.zip\n",
      "medline16n0779.xml.zip\n",
      "medline16n0780.xml.zip\n",
      "medline16n0781.xml.zip\n",
      "medline16n0782.xml.zip\n",
      "medline16n0783.xml.zip\n",
      "medline16n0784.xml.zip\n",
      "medline16n0785.xml.zip\n",
      "medline16n0786.xml.zip\n",
      "medline16n0787.xml.zip\n",
      "medline16n0788.xml.zip\n",
      "medline16n0789.xml.zip\n",
      "medline16n0790.xml.zip\n",
      "medline16n0791.xml.zip\n",
      "medline16n0792.xml.zip\n",
      "medline16n0793.xml.zip\n",
      "medline16n0794.xml.zip\n",
      "medline16n0795.xml.zip\n",
      "medline16n0796.xml.zip\n",
      "medline16n0797.xml.zip\n",
      "medline16n0798.xml.zip\n",
      "medline16n0799.xml.zip\n",
      "medline16n0800.xml.zip\n",
      "medline16n0801.xml.zip\n",
      "medline16n0802.xml.zip\n",
      "medline16n0803.xml.zip\n",
      "medline16n0804.xml.zip\n",
      "medline16n0805.xml.zip\n",
      "medline16n0806.xml.zip\n",
      "medline16n0807.xml.zip\n",
      "medline16n0808.xml.zip\n",
      "medline16n0809.xml.zip\n",
      "medline16n0810.xml.zip\n",
      "medline16n0811.xml.zip\n",
      "medline16n0812.xml.zip\n",
      "8:13:33\n"
     ]
    }
   ],
   "source": [
    "a = datetime.datetime.now().replace(microsecond=0)\n",
    "\n",
    "i = 0\n",
    "#read in files in directory (in order)\n",
    "for filename in sorted(os.listdir('/mnt/mypartition/Desktop2/PubMed/')):\n",
    "    if filename.endswith(\".xml.zip\"):\n",
    "        print filename\n",
    "        #inside loop that goes through each file and unzips:\n",
    "        zip_file = zipfile.ZipFile(urlparse.urljoin('/mnt/mypartition/Desktop2/PubMed/',filename))\n",
    "        zip_file.extractall()\n",
    "        unzip_name = zip_file.namelist()[0]\n",
    "        \n",
    "        xml_file = ET.parse(urlparse.urljoin('./zip/',unzip_name))\n",
    "        root = xml_file.getroot()\n",
    "        \n",
    "        #get indexes for file:\n",
    "        for inx in inxs_list[i]:\n",
    "            #pull this index out of the xml\n",
    "            children.append(root.getchildren()[inx])\n",
    "        i = i + 1\n",
    "        \n",
    "        #then remove unzipped file\n",
    "        os.remove(urlparse.urljoin('./zip/', unzip_name))\n",
    "        \n",
    "#add elements to root of tree\n",
    "rootNew.extend(children)\n",
    "\n",
    "#create tree and write to file\n",
    "tree = ET.ElementTree(rootNew)\n",
    "tree.write(\"testXMLwrite.xml\")\n",
    "        \n",
    "pickle.dump(rootNew, open('rootNew.p', 'wb'))\n",
    "\n",
    "b = datetime.datetime.now().replace(microsecond=0)\n",
    "print(b-a)"
   ]
  },
  {
   "cell_type": "markdown",
   "metadata": {},
   "source": [
    "### Testing that this process worked"
   ]
  },
  {
   "cell_type": "code",
   "execution_count": 44,
   "metadata": {
    "collapsed": false
   },
   "outputs": [],
   "source": [
    "rootNew = tree.getroot()\n",
    "#OR\n",
    "#rootNew = pickle.load(open('/mnt/mypartition/Desktop2/rootNew.p', 'rb'))"
   ]
  },
  {
   "cell_type": "code",
   "execution_count": 45,
   "metadata": {
    "collapsed": false
   },
   "outputs": [
    {
     "name": "stdout",
     "output_type": "stream",
     "text": [
      "64880\n"
     ]
    },
    {
     "name": "stderr",
     "output_type": "stream",
     "text": [
      "/home/nlp-vm/anaconda2/lib/python2.7/site-packages/ipykernel/__main__.py:1: DeprecationWarning: This method will be removed in future versions.  Use 'list(elem)' or iteration over elem instead.\n",
      "  if __name__ == '__main__':\n"
     ]
    }
   ],
   "source": [
    "# how many PMID's made it into the subset file?\n",
    "print len(rootNew.findall('MedlineCitation'))\n",
    "print len(rootNew.getchildren())"
   ]
  },
  {
   "cell_type": "code",
   "execution_count": 23,
   "metadata": {
    "collapsed": false
   },
   "outputs": [
    {
     "name": "stdout",
     "output_type": "stream",
     "text": [
      "38814\n"
     ]
    }
   ],
   "source": [
    "#make sure pmids code has been freshly run and no elements have been popped\n",
    "print len(pmids)"
   ]
  },
  {
   "cell_type": "code",
   "execution_count": 25,
   "metadata": {
    "collapsed": false
   },
   "outputs": [
    {
     "name": "stdout",
     "output_type": "stream",
     "text": [
      "38814\n"
     ]
    }
   ],
   "source": [
    "pmids2 = pmids.copy()\n",
    "print len(pmids2)\n",
    "i = 0\n",
    "j = 0\n",
    "k = 0\n",
    "for record in rootNew.findall('MedlineCitation'):\n",
    "    pmid = record.find('PMID').text\n",
    "    if pmid in pmids2:\n",
    "        pmids2.pop(pmid)\n",
    "        k = k + 1\n",
    "        #print i\n",
    "    else:\n",
    "        j = j + 1\n",
    "        #print i\n",
    "    i = i + 1\n",
    "    \n",
    "pickle.dump(pmids2, open('pmidsLeft.p', 'wb'))"
   ]
  },
  {
   "cell_type": "code",
   "execution_count": 27,
   "metadata": {
    "collapsed": false
   },
   "outputs": [
    {
     "name": "stdout",
     "output_type": "stream",
     "text": [
      "471\n",
      "31937\n",
      "32408\n"
     ]
    }
   ],
   "source": [
    "#number of records in pmids dictionary (should be same as i value)\n",
    "print k\n",
    "#number not***should be 0\n",
    "print j\n",
    "#total number of records (expecting 32408)\n",
    "print i"
   ]
  },
  {
   "cell_type": "code",
   "execution_count": 28,
   "metadata": {
    "collapsed": false
   },
   "outputs": [
    {
     "name": "stdout",
     "output_type": "stream",
     "text": [
      "38343\n"
     ]
    }
   ],
   "source": [
    "#How many PMIDs weren't in records (expecting ~6405)\n",
    "print len(pmids2)"
   ]
  },
  {
   "cell_type": "code",
   "execution_count": null,
   "metadata": {
    "collapsed": true
   },
   "outputs": [],
   "source": []
  },
  {
   "cell_type": "markdown",
   "metadata": {},
   "source": [
    "### Extra testing stuff"
   ]
  },
  {
   "cell_type": "code",
   "execution_count": null,
   "metadata": {
    "collapsed": true
   },
   "outputs": [],
   "source": [
    "# getting pmid duplicates\n",
    "i = 0\n",
    "seen = set()\n",
    "for record in rootNew.findall('MedlineCitation'):    \n",
    "    #get pmid\n",
    "    pmid = record.find('PMID').text\n",
    "    if pmid not in seen:\n",
    "        seen.add(x)\n",
    "    else:\n",
    "        print i\n",
    "    i = i + 1\n",
    "\n",
    "\n",
    "rootNew.remove(record)"
   ]
  },
  {
   "cell_type": "code",
   "execution_count": 47,
   "metadata": {
    "collapsed": false
   },
   "outputs": [
    {
     "name": "stdout",
     "output_type": "stream",
     "text": [
      "30\n"
     ]
    }
   ],
   "source": [
    "#compare pmids dict now with original\n",
    "shared_items = set(pmids.items()) & set(pmids2.items())\n",
    "print 38814-len(shared_items)"
   ]
  },
  {
   "cell_type": "code",
   "execution_count": 173,
   "metadata": {
    "collapsed": false
   },
   "outputs": [],
   "source": [
    "#Checking that the dictionary was properly created by sorting\n",
    "import operator\n",
    "sorted_pmids = sorted(pmids.items(), key=operator.itemgetter(1))\n",
    "#print sorted_pmids"
   ]
  }
 ],
 "metadata": {
  "kernelspec": {
   "display_name": "Python 2",
   "language": "python",
   "name": "python2"
  },
  "language_info": {
   "codemirror_mode": {
    "name": "ipython",
    "version": 2
   },
   "file_extension": ".py",
   "mimetype": "text/x-python",
   "name": "python",
   "nbconvert_exporter": "python",
   "pygments_lexer": "ipython2",
   "version": "2.7.11"
  }
 },
 "nbformat": 4,
 "nbformat_minor": 0
}
