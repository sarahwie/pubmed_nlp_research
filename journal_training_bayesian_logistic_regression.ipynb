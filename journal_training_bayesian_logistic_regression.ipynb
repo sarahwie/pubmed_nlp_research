{
 "cells": [
  {
   "cell_type": "code",
   "execution_count": 7,
   "metadata": {
    "collapsed": true
   },
   "outputs": [],
   "source": [
    "import pickle\n",
    "import datetime\n",
    "import os\n",
    "import sys\n",
    "\n",
    "import sklearn\n",
    "from sklearn.cross_validation import StratifiedKFold\n",
    "from sklearn.feature_extraction.text import TfidfVectorizer\n",
    "import bayes_logistic\n",
    "from sklearn.metrics import roc_auc_score\n",
    "import numpy as np"
   ]
  },
  {
   "cell_type": "code",
   "execution_count": 2,
   "metadata": {
    "collapsed": true
   },
   "outputs": [],
   "source": [
    "#Import data from the processing of data in the journal_training_word2vec notebook\n",
    "df = pickle.load(open('/home/sarahwie/Documents/pubmed-nlp-research/pickled_objects/dfJournals.p', 'rb'))"
   ]
  },
  {
   "cell_type": "code",
   "execution_count": 3,
   "metadata": {
    "collapsed": false
   },
   "outputs": [
    {
     "name": "stdout",
     "output_type": "stream",
     "text": [
      "(422, 3)\n",
      "['sentiment' 'journal' 'abstract']\n"
     ]
    }
   ],
   "source": [
    "print df.shape\n",
    "print df.columns.values"
   ]
  },
  {
   "cell_type": "code",
   "execution_count": null,
   "metadata": {
    "collapsed": true
   },
   "outputs": [],
   "source": [
    "#on VM\n",
    "os.chdir('/mnt/mypartition/Desktop2/pubmed_nlp_research/DeepLearningMovies_datasets/')\n",
    "import KaggleWord2VecUtility"
   ]
  },
  {
   "cell_type": "code",
   "execution_count": 4,
   "metadata": {
    "collapsed": true
   },
   "outputs": [],
   "source": [
    "#on local:\n",
    "sys.path.append('/home/sarahwie/Documents/pubmed-nlp-research/DeepLearningMovies_datasets/')\n",
    "from KaggleWord2VecUtility import KaggleWord2VecUtility\n",
    "DATADIR='/home/sarahwie/Documents/pubmed-nlp-research/DeepLearningMovies_datasets/'"
   ]
  },
  {
   "cell_type": "markdown",
   "metadata": {},
   "source": [
    "### Get training and testing sets from df via cross-validation"
   ]
  },
  {
   "cell_type": "code",
   "execution_count": 70,
   "metadata": {
    "collapsed": false
   },
   "outputs": [
    {
     "name": "stdout",
     "output_type": "stream",
     "text": [
      "('ROUND', 1)\n",
      "Cleaning and parsing the training set abstracts...\n",
      "\n",
      "Creating the bag of words...\n",
      "\n",
      "Training the random forest...\n",
      "Cleaning and parsing the test set abstracts...\n",
      "\n",
      "Adding tfidf weights...\n",
      "Using the random forest to make sentiment label predictions...\n",
      "Scoring the test set\n",
      "[0 1 0 0 1 0 1 0 0 1 0 0 0 0 0 1 0 0 0 1 0 0 1 0 0 0 0 0 1 1 0 1 1 1 1 1 1\n",
      " 1 1 0 0 0 0 1 0 0 0 0 0 0 0 0 0 1 1 0 1 1 1 1 1 0 1 1 1 1 1 1 1 1 1 1 1 1\n",
      " 0 1 1 1 1 1 0 1 1 1 1]\n",
      "0.835294117647\n",
      "('ROUND', 2)\n",
      "Cleaning and parsing the training set abstracts...\n",
      "\n",
      "Creating the bag of words...\n",
      "\n",
      "Training the random forest...\n",
      "Cleaning and parsing the test set abstracts...\n",
      "\n",
      "Adding tfidf weights...\n",
      "Using the random forest to make sentiment label predictions...\n",
      "Scoring the test set\n",
      "[0 0 1 0 0 0 0 0 1 0 0 0 0 0 0 0 0 0 1 0 0 0 0 0 0 1 0 1 1 1 1 0 1 1 1 0 0\n",
      " 0 0 0 0 0 0 0 0 0 0 0 0 1 1 1 1 1 1 1 1 1 1 1 1 0 1 1 1 1 1 1 0 1 0 1 0 0\n",
      " 1 1 1 1 1 1 1 1 1 0 1]\n",
      "0.870588235294\n",
      "('ROUND', 3)\n",
      "Cleaning and parsing the training set abstracts...\n",
      "\n",
      "Creating the bag of words...\n",
      "\n",
      "Training the random forest...\n",
      "Cleaning and parsing the test set abstracts...\n",
      "\n",
      "Adding tfidf weights...\n",
      "Using the random forest to make sentiment label predictions...\n",
      "Scoring the test set\n",
      "[0 0 1 0 0 0 0 0 0 0 1 0 0 0 0 0 0 0 0 0 0 0 0 0 0 0 0 0 0 0 0 0 0 0 1 1 1\n",
      " 0 1 1 1 1 1 1 1 1 1 0 0 0 0 0 0 0 1 0 1 1 1 1 1 1 1 1 1 0 1 1 0 1 1 0 1 1\n",
      " 1 1 1 1 1 1 1 0 1 1]\n",
      "0.892857142857\n",
      "('ROUND', 4)\n",
      "Cleaning and parsing the training set abstracts...\n",
      "\n",
      "Creating the bag of words...\n",
      "\n",
      "Training the random forest...\n",
      "Cleaning and parsing the test set abstracts...\n",
      "\n",
      "Adding tfidf weights...\n",
      "Using the random forest to make sentiment label predictions...\n",
      "Scoring the test set\n",
      "[0 0 1 0 0 1 0 0 0 0 1 0 0 1 1 0 0 0 0 0 1 0 0 0 0 0 0 0 1 1 1 1 1 1 1 1 1\n",
      " 1 1 1 0 0 0 0 0 0 0 0 0 0 0 0 0 1 1 1 1 1 1 1 1 1 1 1 1 1 1 1 1 1 1 1 1 1\n",
      " 1 1 1 1 1 1 1 1 1 1]\n",
      "0.916666666667\n",
      "('ROUND', 5)\n",
      "Cleaning and parsing the training set abstracts...\n",
      "\n",
      "Creating the bag of words...\n",
      "\n",
      "Training the random forest...\n",
      "Cleaning and parsing the test set abstracts...\n",
      "\n",
      "Adding tfidf weights...\n",
      "Using the random forest to make sentiment label predictions...\n",
      "Scoring the test set\n",
      "[0 0 0 0 0 1 0 0 0 0 0 0 0 0 0 0 0 0 1 0 0 0 0 0 0 0 0 0 0 1 1 0 1 1 1 1 1\n",
      " 1 0 1 1 1 1 1 1 0 1 1 0 0 0 0 0 0 0 0 0 0 1 1 1 1 0 1 0 0 0 1 0 1 1 1 1 1\n",
      " 1 1 1 1 1 0 1 1 1 1]\n",
      "0.857142857143\n",
      "('Average score of 5 rotations:', 0.8745098039215685)\n",
      "0:00:04\n"
     ]
    }
   ],
   "source": [
    "a = datetime.datetime.now().replace(microsecond=0)\n",
    "\n",
    "#5-fold stratified cross validation\n",
    "\n",
    "#because no validation set, 4/5 of values go to train and 1/5 to test\n",
    "#is this too high?***\n",
    "#even though we shuffle, not as randomly distributed as the former method was\n",
    "y = df[\"sentiment\"].values\n",
    "skf = StratifiedKFold(y, n_folds=5, shuffle=True)\n",
    "\n",
    "j = 1\n",
    "avg = []\n",
    "for train_index, test_index in skf:\n",
    "    print(\"ROUND\", j)\n",
    "    j = j + 1\n",
    "    #use the indexes to subset the df pandas dataframe\n",
    "    train1, test1 = df.iloc[train_index], df.iloc[test_index]\n",
    "    \n",
    "    print \"Cleaning and parsing the training set abstracts...\\n\"\n",
    "    # Initialize an empty list to hold the clean reviews\n",
    "    clean_train_reviews = []\n",
    "\n",
    "    # Loop over each review; create an index i that goes from 0 to the length\n",
    "    # of the pandas df column\n",
    "    for i in range(train1[\"abstract\"].size):\n",
    "        # Call our function for each one, and add the result to the list of\n",
    "        # clean reviews\n",
    "        clean_train_reviews.append(KaggleWord2VecUtility.review_to_words( train1[\"abstract\"].iloc[i] ) )\n",
    "    \n",
    "    #with tfidf word weighting\n",
    "    #uses L2 norm by default\n",
    "    print \"Creating the bag of words...\\n\"\n",
    "\n",
    "    # Initialize the \"TfidfVectorizer\" object, which is scikit-learn's\n",
    "    # bag of words tool.  \n",
    "    vectorizer = TfidfVectorizer(analyzer = \"word\",   \\\n",
    "                             tokenizer = None,    \\\n",
    "                             preprocessor = None, \\\n",
    "                             stop_words = None)\n",
    "                            #max_features = 5000\n",
    "\n",
    "    # fit_transform() does two functions: First, it fits the model\n",
    "    # and learns the vocabulary; second, it transforms our training data\n",
    "    # into feature vectors. The input to fit_transform should be a list of \n",
    "    # strings.\n",
    "    train_data_features = vectorizer.fit_transform(clean_train_reviews)\n",
    "\n",
    "    # Numpy arrays are easy to work with, so convert the result to an \n",
    "    # array\n",
    "    train_data_features = train_data_features.toarray()\n",
    "    \n",
    "    print \"Training the random forest...\"\n",
    "\n",
    "    # Initialize a Random Forest classifier with 100 trees\n",
    "    forest = RandomForestClassifier(n_estimators = 100, max_depth=1000) \n",
    "\n",
    "    # Fit the forest to the training set, using the bag of words as \n",
    "    # features and the sentiment labels as the response variable\n",
    "    #\n",
    "    # This may take a few minutes to run\n",
    "    forest = forest.fit( train_data_features, train1[\"sentiment\"] )\n",
    "    \n",
    "    #Moving on to test set...\n",
    "    # Create an empty list and append the clean reviews one by one\n",
    "    clean_test_reviews = [] \n",
    "\n",
    "    print \"Cleaning and parsing the test set abstracts...\\n\"\n",
    "    for i in range(test1[\"abstract\"].size):\n",
    "        clean_test_reviews.append(KaggleWord2VecUtility.review_to_words( test1[\"abstract\"].iloc[i] ) )\n",
    "\n",
    "    print \"Adding tfidf weights...\"\n",
    "    # Get a bag of words for the test set, and convert to a numpy array\n",
    "    test_data_features = vectorizer.transform(clean_test_reviews)\n",
    "    test_data_features = test_data_features.toarray()\n",
    "\n",
    "    print \"Using the random forest to make sentiment label predictions...\"\n",
    "    # Use the random forest to make sentiment label predictions\n",
    "    result = forest.predict(test_data_features)\n",
    "\n",
    "    # Copy the results to a pandas dataframe with an \"id\" column and\n",
    "    # a \"sentiment\" column\n",
    "    #output = pd.DataFrame( data={\"id\":test1[\"id\"], \"sentiment\":result} )\n",
    "\n",
    "    print \"Scoring the test set\"\n",
    "    predictions = result\n",
    "    print predictions\n",
    "        \n",
    "    score = roc_auc_score(test1[\"sentiment\"], predictions)\n",
    "    score = np.size(np.where(predictions == test1[\"sentiment\"]))*1./np.size(predictions)\n",
    "    print score\n",
    "    #append to average\n",
    "    avg.append(score)\n",
    "\n",
    "\n",
    "print(\"Average score of 5 rotations:\", sum(avg)/float(len(avg)))\n",
    "    \n",
    "b = datetime.datetime.now().replace(microsecond=0)\n",
    "print(b-a)"
   ]
  },
  {
   "cell_type": "code",
   "execution_count": null,
   "metadata": {
    "collapsed": true
   },
   "outputs": [],
   "source": []
  },
  {
   "cell_type": "code",
   "execution_count": null,
   "metadata": {
    "collapsed": true
   },
   "outputs": [],
   "source": []
  },
  {
   "cell_type": "code",
   "execution_count": null,
   "metadata": {
    "collapsed": true
   },
   "outputs": [],
   "source": []
  },
  {
   "cell_type": "code",
   "execution_count": null,
   "metadata": {
    "collapsed": true
   },
   "outputs": [],
   "source": []
  },
  {
   "cell_type": "code",
   "execution_count": null,
   "metadata": {
    "collapsed": true
   },
   "outputs": [],
   "source": []
  },
  {
   "cell_type": "code",
   "execution_count": null,
   "metadata": {
    "collapsed": true
   },
   "outputs": [],
   "source": []
  },
  {
   "cell_type": "markdown",
   "metadata": {},
   "source": [
    "### Import KaggleWord2VecUtility since didn't work from file"
   ]
  },
  {
   "cell_type": "code",
   "execution_count": 15,
   "metadata": {
    "collapsed": true
   },
   "outputs": [],
   "source": [
    "import re\n",
    "import nltk\n",
    "\n",
    "import pandas as pd\n",
    "import numpy as np\n",
    "\n",
    "from bs4 import BeautifulSoup\n",
    "from nltk.corpus import stopwords\n",
    "\n",
    "\n",
    "class KaggleWord2VecUtility(object):\n",
    "    \"\"\"KaggleWord2VecUtility is a utility class for processing raw HTML text into segments for further learning\"\"\"\n",
    "\n",
    "    @staticmethod\n",
    "    def review_to_wordlist( review, remove_stopwords=False ):\n",
    "        # Function to convert a document to a sequence of words,\n",
    "        # optionally removing stop words.  Returns a list of words.\n",
    "        #\n",
    "        # 1. Remove HTML\n",
    "        review_text = BeautifulSoup(review).get_text()\n",
    "        #\n",
    "        # 2. Remove non-letters\n",
    "        review_text = re.sub(\"[^a-zA-Z]\",\" \", review_text)\n",
    "        #\n",
    "        # 3. Convert words to lower case and split them\n",
    "        words = review_text.lower().split()\n",
    "        #\n",
    "        # 4. Optionally remove stop words (false by default)\n",
    "        if remove_stopwords:\n",
    "            stops = set(stopwords.words(\"english\"))\n",
    "            words = [w for w in words if not w in stops]\n",
    "        #\n",
    "        # 5. Return a list of words\n",
    "        return(words)\n",
    "    \n",
    "    @staticmethod\n",
    "    def review_to_words( review, remove_stopwords=False ):\n",
    "        # Function to convert a raw review to a string of words\n",
    "        # The input is a single string (a raw movie review), and \n",
    "        # the output is a single string (a preprocessed movie review)\n",
    "        #\n",
    "        # 1. Remove HTML\n",
    "        review_text = BeautifulSoup(review).get_text() \n",
    "        #\n",
    "        # 2. Remove non-letters        \n",
    "        review_text = re.sub(\"[^a-zA-Z]\", \" \", review_text) \n",
    "        #\n",
    "        # 3. Convert to lower case, split into individual words\n",
    "        words = review_text.lower().split()                             \n",
    "        #\n",
    "        # 4. Optionally remove stop words (false by default)\n",
    "        if remove_stopwords:\n",
    "            stops = set(stopwords.words(\"english\"))\n",
    "            words = [w for w in words if not w in stops]   \n",
    "        #\n",
    "        # 6. Join the words back into one string separated by space, \n",
    "        # and return the result.\n",
    "        return( \" \".join( words ))   \n",
    "\n",
    "    # Define a function to split a review into parsed sentences\n",
    "    @staticmethod\n",
    "    def review_to_sentences( review, tokenizer, remove_stopwords=False ):\n",
    "        # Function to split a review into parsed sentences. Returns a\n",
    "        # list of sentences, where each sentence is a list of words\n",
    "        #\n",
    "        # 1. Use the NLTK tokenizer to split the paragraph into sentences\n",
    "        raw_sentences = tokenizer.tokenize(review.decode('utf8').strip())\n",
    "        #\n",
    "        # 2. Loop over each sentence\n",
    "        sentences = []\n",
    "        for raw_sentence in raw_sentences:\n",
    "            # If a sentence is empty, skip it\n",
    "            if len(raw_sentence) > 0:\n",
    "                # Otherwise, call review_to_wordlist to get a list of words\n",
    "                sentences.append( KaggleWord2VecUtility.review_to_wordlist( raw_sentence, \\\n",
    "                  remove_stopwords ))\n",
    "        #\n",
    "        # Return the list of sentences (each sentence is a list of words,\n",
    "        # so this returns a list of lists\n",
    "        return sentences"
   ]
  }
 ],
 "metadata": {
  "kernelspec": {
   "display_name": "Python 2",
   "language": "python",
   "name": "python2"
  },
  "language_info": {
   "codemirror_mode": {
    "name": "ipython",
    "version": 2
   },
   "file_extension": ".py",
   "mimetype": "text/x-python",
   "name": "python",
   "nbconvert_exporter": "python",
   "pygments_lexer": "ipython2",
   "version": "2.7.11"
  }
 },
 "nbformat": 4,
 "nbformat_minor": 0
}
