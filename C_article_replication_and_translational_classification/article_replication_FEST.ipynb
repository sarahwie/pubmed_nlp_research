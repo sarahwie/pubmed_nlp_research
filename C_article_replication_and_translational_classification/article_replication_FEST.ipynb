{
 "cells": [
  {
   "cell_type": "code",
   "execution_count": 2,
   "metadata": {
    "collapsed": false
   },
   "outputs": [],
   "source": [
    "import pickle\n",
    "import sys\n",
    "import os\n",
    "import datetime\n",
    "\n",
    "import sklearn\n",
    "import pandas as pd\n",
    "import numpy as np\n",
    "from sklearn.cross_validation import StratifiedKFold\n",
    "from sklearn.datasets import dump_svmlight_file\n",
    "from sklearn.feature_extraction.text import TfidfVectorizer\n",
    "from sklearn.metrics import roc_auc_score\n",
    "\n",
    "from subprocess import call"
   ]
  },
  {
   "cell_type": "code",
   "execution_count": 3,
   "metadata": {
    "collapsed": false
   },
   "outputs": [],
   "source": [
    "#Import data from the processing of data in the journal_training_word2vec notebook\n",
    "#df = pickle.load(open('/home/sarahwie/Documents/pubmed-nlp-research/article_replication/df.p', 'rb'))\n",
    "df = pickle.load(open('/mnt/mypartition/Desktop2/dfJournals_trans_categories.p', 'rb'))"
   ]
  },
  {
   "cell_type": "code",
   "execution_count": 7,
   "metadata": {
    "collapsed": false
   },
   "outputs": [
    {
     "name": "stdout",
     "output_type": "stream",
     "text": [
      "(97049, 5)\n",
      "['label' 'title' 'abstract' 'qualifier_terms' 'descriptor_terms']\n"
     ]
    }
   ],
   "source": [
    "print df.shape\n",
    "print df.columns.values"
   ]
  },
  {
   "cell_type": "code",
   "execution_count": 6,
   "metadata": {
    "collapsed": true
   },
   "outputs": [],
   "source": [
    "#for the journals VM dataframe, change the label of the 'sentiment' column to 'label'\n",
    "df.columns = ['label', 'title', 'abstract', 'qualifier_terms', 'descriptor_terms']"
   ]
  },
  {
   "cell_type": "code",
   "execution_count": 8,
   "metadata": {
    "collapsed": false
   },
   "outputs": [
    {
     "data": {
      "text/html": [
       "<div>\n",
       "<table border=\"1\" class=\"dataframe\">\n",
       "  <thead>\n",
       "    <tr style=\"text-align: right;\">\n",
       "      <th></th>\n",
       "      <th>label</th>\n",
       "      <th>title</th>\n",
       "      <th>abstract</th>\n",
       "      <th>qualifier_terms</th>\n",
       "      <th>descriptor_terms</th>\n",
       "    </tr>\n",
       "  </thead>\n",
       "  <tbody>\n",
       "    <tr>\n",
       "      <th>0</th>\n",
       "      <td>T0</td>\n",
       "      <td>Quantification of the relative contributions o...</td>\n",
       "      <td>Amyotrophic lateral sclerosis (ALS) and fronto...</td>\n",
       "      <td></td>\n",
       "      <td></td>\n",
       "    </tr>\n",
       "    <tr>\n",
       "      <th>1</th>\n",
       "      <td>T0</td>\n",
       "      <td>Ubiquitin Specific Protease 36 (USP36) control...</td>\n",
       "      <td>Ubiquitination of the TrkA neurotrophin recept...</td>\n",
       "      <td></td>\n",
       "      <td></td>\n",
       "    </tr>\n",
       "    <tr>\n",
       "      <th>2</th>\n",
       "      <td>T0</td>\n",
       "      <td>Functional Diversity of Cytotoxic tRNase/immun...</td>\n",
       "      <td>Contact-dependent growth inhibition (CDI) is a...</td>\n",
       "      <td></td>\n",
       "      <td></td>\n",
       "    </tr>\n",
       "    <tr>\n",
       "      <th>3</th>\n",
       "      <td>T0</td>\n",
       "      <td>Identification of a distinct substrate binding...</td>\n",
       "      <td>The type III secretion system (T3SS) effector ...</td>\n",
       "      <td></td>\n",
       "      <td></td>\n",
       "    </tr>\n",
       "    <tr>\n",
       "      <th>4</th>\n",
       "      <td>T0</td>\n",
       "      <td>Role of chondroitin sulfate (CS) modification ...</td>\n",
       "      <td>Protein tyrosine phosphatase receptor type Z (...</td>\n",
       "      <td></td>\n",
       "      <td></td>\n",
       "    </tr>\n",
       "    <tr>\n",
       "      <th>5</th>\n",
       "      <td>T0</td>\n",
       "      <td>Chemically programmed bispecific antibodies in...</td>\n",
       "      <td>Chemically programmed bispecific antibodies (b...</td>\n",
       "      <td></td>\n",
       "      <td></td>\n",
       "    </tr>\n",
       "    <tr>\n",
       "      <th>6</th>\n",
       "      <td>T0</td>\n",
       "      <td>Non-mutagenic Suppression of Enterocyte Ferrop...</td>\n",
       "      <td>Iron transfer across the basolateral membrane ...</td>\n",
       "      <td></td>\n",
       "      <td></td>\n",
       "    </tr>\n",
       "    <tr>\n",
       "      <th>7</th>\n",
       "      <td>T0</td>\n",
       "      <td>Structural plasticity of cholesteryl ester tra...</td>\n",
       "      <td>Cholesteryl ester transfer protein (CETP) medi...</td>\n",
       "      <td></td>\n",
       "      <td></td>\n",
       "    </tr>\n",
       "    <tr>\n",
       "      <th>8</th>\n",
       "      <td>T0</td>\n",
       "      <td>Identification of a Membrane-Bound Prepore Spe...</td>\n",
       "      <td>Pore-forming toxins (PFT) are cytolytic protei...</td>\n",
       "      <td></td>\n",
       "      <td></td>\n",
       "    </tr>\n",
       "    <tr>\n",
       "      <th>9</th>\n",
       "      <td>T0</td>\n",
       "      <td>EspR-dependent ESAT-6 secretion of Mycobacteri...</td>\n",
       "      <td>Attenuation of M. bovis BCG strain is related ...</td>\n",
       "      <td></td>\n",
       "      <td></td>\n",
       "    </tr>\n",
       "  </tbody>\n",
       "</table>\n",
       "</div>"
      ],
      "text/plain": [
       "  label                                              title  \\\n",
       "0    T0  Quantification of the relative contributions o...   \n",
       "1    T0  Ubiquitin Specific Protease 36 (USP36) control...   \n",
       "2    T0  Functional Diversity of Cytotoxic tRNase/immun...   \n",
       "3    T0  Identification of a distinct substrate binding...   \n",
       "4    T0  Role of chondroitin sulfate (CS) modification ...   \n",
       "5    T0  Chemically programmed bispecific antibodies in...   \n",
       "6    T0  Non-mutagenic Suppression of Enterocyte Ferrop...   \n",
       "7    T0  Structural plasticity of cholesteryl ester tra...   \n",
       "8    T0  Identification of a Membrane-Bound Prepore Spe...   \n",
       "9    T0  EspR-dependent ESAT-6 secretion of Mycobacteri...   \n",
       "\n",
       "                                            abstract qualifier_terms  \\\n",
       "0  Amyotrophic lateral sclerosis (ALS) and fronto...                   \n",
       "1  Ubiquitination of the TrkA neurotrophin recept...                   \n",
       "2  Contact-dependent growth inhibition (CDI) is a...                   \n",
       "3  The type III secretion system (T3SS) effector ...                   \n",
       "4  Protein tyrosine phosphatase receptor type Z (...                   \n",
       "5  Chemically programmed bispecific antibodies (b...                   \n",
       "6  Iron transfer across the basolateral membrane ...                   \n",
       "7  Cholesteryl ester transfer protein (CETP) medi...                   \n",
       "8  Pore-forming toxins (PFT) are cytolytic protei...                   \n",
       "9  Attenuation of M. bovis BCG strain is related ...                   \n",
       "\n",
       "  descriptor_terms  \n",
       "0                   \n",
       "1                   \n",
       "2                   \n",
       "3                   \n",
       "4                   \n",
       "5                   \n",
       "6                   \n",
       "7                   \n",
       "8                   \n",
       "9                   "
      ]
     },
     "execution_count": 8,
     "metadata": {},
     "output_type": "execute_result"
    }
   ],
   "source": [
    "df[0:10]"
   ]
  },
  {
   "cell_type": "code",
   "execution_count": 65,
   "metadata": {
    "collapsed": false
   },
   "outputs": [],
   "source": [
    "#on local:\n",
    "sys.path.append('/home/sarahwie/Documents/pubmed-nlp-research/DeepLearningMovies_datasets/')\n",
    "from KaggleWord2VecUtility import KaggleWord2VecUtility\n",
    "DATADIR='/home/sarahwie/Documents/pubmed-nlp-research/DeepLearningMovies_datasets/'"
   ]
  },
  {
   "cell_type": "code",
   "execution_count": null,
   "metadata": {
    "collapsed": true
   },
   "outputs": [],
   "source": [
    "a = datetime.datetime.now().replace(microsecond=0)\n",
    "\n",
    "\n",
    "\n",
    "b = datetime.datetime.now().replace(microsecond=0)\n",
    "print(b-a)"
   ]
  },
  {
   "cell_type": "code",
   "execution_count": 77,
   "metadata": {
    "collapsed": false
   },
   "outputs": [
    {
     "name": "stdout",
     "output_type": "stream",
     "text": [
      "('ROUND', 1)\n",
      "Cleaning and parsing the training set abstracts...\n",
      "\n",
      "Creating the bag of words...\n",
      "\n",
      "Cleaning and parsing the test set abstracts...\n",
      "\n",
      "Adding tfidf weights...\n",
      "Training the random forest...\n",
      "Using the random forest to make sentiment label predictions...\n",
      "Scoring the test set\n",
      "0.607142857143\n",
      "('ROUND', 2)\n",
      "Cleaning and parsing the training set abstracts...\n",
      "\n",
      "Creating the bag of words...\n",
      "\n",
      "Cleaning and parsing the test set abstracts...\n",
      "\n",
      "Adding tfidf weights...\n",
      "Training the random forest...\n",
      "Using the random forest to make sentiment label predictions...\n",
      "Scoring the test set\n",
      "0.678571428571\n",
      "('ROUND', 3)\n",
      "Cleaning and parsing the training set abstracts...\n",
      "\n",
      "Creating the bag of words...\n",
      "\n",
      "Cleaning and parsing the test set abstracts...\n",
      "\n",
      "Adding tfidf weights...\n",
      "Training the random forest...\n",
      "Using the random forest to make sentiment label predictions...\n",
      "Scoring the test set\n",
      "0.730769230769\n",
      "('ROUND', 4)\n",
      "Cleaning and parsing the training set abstracts...\n",
      "\n",
      "Creating the bag of words...\n",
      "\n",
      "Cleaning and parsing the test set abstracts...\n",
      "\n",
      "Adding tfidf weights...\n",
      "Training the random forest...\n",
      "Using the random forest to make sentiment label predictions...\n",
      "Scoring the test set\n",
      "0.692307692308\n",
      "('ROUND', 5)\n",
      "Cleaning and parsing the training set abstracts...\n",
      "\n",
      "Creating the bag of words...\n",
      "\n",
      "Cleaning and parsing the test set abstracts...\n",
      "\n",
      "Adding tfidf weights...\n",
      "Training the random forest...\n",
      "Using the random forest to make sentiment label predictions...\n",
      "Scoring the test set\n",
      "0.653846153846\n",
      "('Average score of 5 rotations:', 0.67252747252747258)\n",
      "0:00:05\n"
     ]
    }
   ],
   "source": [
    "def stratified_5_fold_cv(df, mesh_terms, title, label):\n",
    "\n",
    "    df['boolean_label'] = 1\n",
    "    for row in df.iterrows():\n",
    "        if row[1]['label'] != label:\n",
    "            df.set_value(row[0], 'boolean_label', 0)\n",
    "        \n",
    "    #5-fold stratified cross validation\n",
    "    #because no validation set, 4/5 of values go to train and 1/5 to test\n",
    "    y = df['boolean_label'].values\n",
    "    skf = StratifiedKFold(y, n_folds=5, shuffle=True)\n",
    "\n",
    "    j = 1\n",
    "    avg = []\n",
    "    for train_index, test_index in skf:\n",
    "        print(\"ROUND\", j)\n",
    "        j = j + 1\n",
    "        #use the indexes to subset the df pandas dataframe\n",
    "        train1, test1 = df.iloc[train_index], df.iloc[test_index]\n",
    "\n",
    "        print \"Cleaning and parsing the training set abstracts...\\n\"\n",
    "        # Initialize an empty list to hold the clean reviews\n",
    "        clean_train_reviews = []\n",
    "\n",
    "        # Loop over each review; create an index i that goes from 0 to the length\n",
    "        # of the pandas df column\n",
    "        for i in range(train1[\"abstract\"].size):\n",
    "            # Call our function for each one, and add the result to the list of\n",
    "            # clean reviews\n",
    "            words = KaggleWord2VecUtility.review_to_words( train1[\"title\"].iloc[i])\n",
    "            words = words + KaggleWord2VecUtility.review_to_words( train1[\"descriptor_terms\"].iloc[i])\n",
    "            words = words + KaggleWord2VecUtility.review_to_words( train1[\"qualifier_terms\"].iloc[i])\n",
    "            words = words + KaggleWord2VecUtility.review_to_words( train1[\"abstract\"].iloc[i])\n",
    "            clean_train_reviews.append(words)\n",
    "\n",
    "        #with tfidf word weighting\n",
    "        #uses L2 norm by default\n",
    "        print \"Creating the bag of words...\\n\"\n",
    "\n",
    "        # Initialize the \"TfidfVectorizer\" object, which is scikit-learn's\n",
    "        # bag of words tool.  \n",
    "        vectorizer = TfidfVectorizer(analyzer = \"word\",   \\\n",
    "                                 tokenizer = None,    \\\n",
    "                                 preprocessor = None, \\\n",
    "                                 stop_words = None)\n",
    "                                #max_features = 5000\n",
    "\n",
    "        # fit_transform() does two functions: First, it fits the model\n",
    "        # and learns the vocabulary; second, it transforms our training data\n",
    "        # into feature vectors. The input to fit_transform should be a list of \n",
    "        # strings.\n",
    "        train_data_features = vectorizer.fit_transform(clean_train_reviews)\n",
    "\n",
    "        # Numpy arrays are easy to work with, so convert the result to an \n",
    "        # array\n",
    "        train_data_features = train_data_features.toarray()\n",
    "\n",
    "        #Moving on to test set...\n",
    "        # Create an empty list and append the clean reviews one by one\n",
    "        clean_test_reviews = [] \n",
    "\n",
    "        print \"Cleaning and parsing the test set abstracts...\\n\"\n",
    "        for i in range(test1[\"abstract\"].size):    \n",
    "            words = KaggleWord2VecUtility.review_to_words( test1[\"title\"].iloc[i])\n",
    "            words = words + KaggleWord2VecUtility.review_to_words( test1[\"descriptor_terms\"].iloc[i])\n",
    "            words = words + KaggleWord2VecUtility.review_to_words( test1[\"qualifier_terms\"].iloc[i])\n",
    "            words = words + KaggleWord2VecUtility.review_to_words( test1[\"abstract\"].iloc[i])\n",
    "            clean_test_reviews.append(words)\n",
    "\n",
    "        print \"Adding tfidf weights...\"\n",
    "        # Get a bag of words for the test set, and convert to a numpy array\n",
    "        test_data_features = vectorizer.transform(clean_test_reviews)\n",
    "        test_data_features = test_data_features.toarray()\n",
    "\n",
    "        #------------------------------------------------------------------------------------------------------------    \n",
    "        print \"Training the random forest...\"\n",
    "\n",
    "        X = train_data_features\n",
    "        y = train1.boolean_label\n",
    "\n",
    "        dump_svmlight_file(X,y,'svmlight.dat',zero_based=True,multilabel=False)\n",
    "\n",
    "        X_test = test_data_features\n",
    "        y_test = test1.boolean_label\n",
    "\n",
    "        dump_svmlight_file(X_test,y_test,'svmlight_test.dat',zero_based=True,multilabel=False)\n",
    "\n",
    "        call([\"/home/sarahwie/Downloads/fest/festlearn\", \"-c 3\", \n",
    "          \"./svmlight.dat\", \"modelA\"])\n",
    "\n",
    "        print \"Using the random forest to make sentiment label predictions...\"\\\n",
    "\n",
    "        #get predictions for test set\n",
    "        call([\"/home/sarahwie/Downloads/fest/festclassify\", \n",
    "          \"./svmlight_test.dat\", \"modelA\", \"./probs\"])\n",
    "\n",
    "        print \"Scoring the test set\"\n",
    "        probs = pd.read_table('./probs', header=None)\n",
    "        probs.columns = ['probs']\n",
    "\n",
    "        predictions = np.ones((probs.shape[0]))\n",
    "        predictions[np.where(probs.iloc[:,0] < 0.5)] = 0 # The first column is the negative model\n",
    "\n",
    "        score = roc_auc_score(test1[\"boolean_label\"], predictions)\n",
    "        print score\n",
    "\n",
    "        #append to average\n",
    "        avg.append(score)\n",
    "\n",
    "\n",
    "    print(\"Average score of 5 rotations:\", sum(avg)/float(len(avg)))\n",
    "    \n"
   ]
  },
  {
   "cell_type": "code",
   "execution_count": 8,
   "metadata": {
    "collapsed": false
   },
   "outputs": [
    {
     "name": "stdout",
     "output_type": "stream",
     "text": [
      "354\n",
      "177\n",
      "177\n"
     ]
    }
   ],
   "source": [
    "#get training and testing set just for our purposes\n",
    "fracTrain = 0.5\n",
    "nSamples = df.shape[0]\n",
    "order = np.random.permutation(nSamples) # come up with a random ordering\n",
    "splitIndex = int(np.round(nSamples*fracTrain))\n",
    "train1 = df.ix[order[:splitIndex],:]\n",
    "test1 = df.ix[order[splitIndex:],:]\n",
    "print nSamples\n",
    "print train1.shape[0]\n",
    "print test1.shape[0]"
   ]
  },
  {
   "cell_type": "code",
   "execution_count": 9,
   "metadata": {
    "collapsed": false
   },
   "outputs": [
    {
     "name": "stdout",
     "output_type": "stream",
     "text": [
      "Cleaning and parsing the training set abstracts...\n",
      "\n"
     ]
    },
    {
     "name": "stderr",
     "output_type": "stream",
     "text": [
      "/home/sarahwie/anaconda2/lib/python2.7/site-packages/bs4/__init__.py:166: UserWarning: No parser was explicitly specified, so I'm using the best available HTML parser for this system (\"lxml\"). This usually isn't a problem, but if you run this code on another system, or in a different virtual environment, it may use a different parser and behave differently.\n",
      "\n",
      "To get rid of this warning, change this:\n",
      "\n",
      " BeautifulSoup([your markup])\n",
      "\n",
      "to this:\n",
      "\n",
      " BeautifulSoup([your markup], \"lxml\")\n",
      "\n",
      "  markup_type=markup_type))\n"
     ]
    },
    {
     "name": "stdout",
     "output_type": "stream",
     "text": [
      "Creating the bag of words...\n",
      "\n"
     ]
    }
   ],
   "source": [
    "print \"Cleaning and parsing the training set abstracts...\\n\"\n",
    "# Initialize an empty list to hold the clean reviews\n",
    "clean_train_reviews = []\n",
    "\n",
    "# Loop over each review; create an index i that goes from 0 to the length\n",
    "# of the pandas df column\n",
    "for i in range(train1[\"abstract\"].size):\n",
    "    # Call our function for each one, and add the result to the list of\n",
    "    # clean reviews\n",
    "    words = KaggleWord2VecUtility.review_to_words( train1[\"title\"].iloc[i])\n",
    "    words = words + KaggleWord2VecUtility.review_to_words( train1[\"descriptor_terms\"].iloc[i])\n",
    "    words = words + KaggleWord2VecUtility.review_to_words( train1[\"qualifier_terms\"].iloc[i])\n",
    "    words = words + KaggleWord2VecUtility.review_to_words( train1[\"abstract\"].iloc[i])\n",
    "    clean_train_reviews.append(words)\n",
    "\n",
    "#with tfidf word weighting\n",
    "#uses L2 norm by default\n",
    "print \"Creating the bag of words...\\n\"\n",
    "\n",
    "# Initialize the \"TfidfVectorizer\" object, which is scikit-learn's\n",
    "# bag of words tool.  \n",
    "vectorizer = TfidfVectorizer(analyzer = \"word\",   \\\n",
    "                         tokenizer = None,    \\\n",
    "                         preprocessor = None, \\\n",
    "                         stop_words = None)\n",
    "                        #max_features = 5000\n",
    "\n",
    "# fit_transform() does two functions: First, it fits the model\n",
    "# and learns the vocabulary; second, it transforms our training data\n",
    "# into feature vectors. The input to fit_transform should be a list of \n",
    "# strings.\n",
    "train_data_features = vectorizer.fit_transform(clean_train_reviews)\n",
    "\n",
    "# Numpy arrays are easy to work with, so convert the result to an \n",
    "# array\n",
    "train_data_features = train_data_features.toarray()"
   ]
  },
  {
   "cell_type": "code",
   "execution_count": 40,
   "metadata": {
    "collapsed": false
   },
   "outputs": [
    {
     "name": "stdout",
     "output_type": "stream",
     "text": [
      "Cleaning and parsing the test set abstracts...\n",
      "\n",
      "Adding tfidf weights...\n"
     ]
    }
   ],
   "source": [
    "#Moving on to test set...\n",
    "# Create an empty list and append the clean reviews one by one\n",
    "clean_test_reviews = [] \n",
    "\n",
    "print \"Cleaning and parsing the test set abstracts...\\n\"\n",
    "for i in range(test1[\"abstract\"].size):    \n",
    "    words = KaggleWord2VecUtility.review_to_words( test1[\"title\"].iloc[i])\n",
    "    words = words + KaggleWord2VecUtility.review_to_words( test1[\"descriptor_terms\"].iloc[i])\n",
    "    words = words + KaggleWord2VecUtility.review_to_words( test1[\"qualifier_terms\"].iloc[i])\n",
    "    words = words + KaggleWord2VecUtility.review_to_words( test1[\"abstract\"].iloc[i])\n",
    "    clean_test_reviews.append(words)\n",
    "\n",
    "print \"Adding tfidf weights...\"\n",
    "# Get a bag of words for the test set, and convert to a numpy array\n",
    "test_data_features = vectorizer.transform(clean_test_reviews)\n",
    "test_data_features = test_data_features.toarray()"
   ]
  },
  {
   "cell_type": "code",
   "execution_count": 10,
   "metadata": {
    "collapsed": false
   },
   "outputs": [
    {
     "name": "stdout",
     "output_type": "stream",
     "text": [
      "[[ 0.  0.  0. ...,  0.  0.  0.]\n",
      " [ 0.  0.  0. ...,  0.  0.  0.]\n",
      " [ 0.  0.  0. ...,  0.  0.  0.]\n",
      " ..., \n",
      " [ 0.  0.  0. ...,  0.  0.  0.]\n",
      " [ 0.  0.  0. ...,  0.  0.  0.]\n",
      " [ 0.  0.  0. ...,  0.  0.  0.]]\n",
      "(177, 6564)\n"
     ]
    }
   ],
   "source": [
    "print train_data_features\n",
    "print train_data_features.shape"
   ]
  },
  {
   "cell_type": "code",
   "execution_count": 41,
   "metadata": {
    "collapsed": false
   },
   "outputs": [
    {
     "name": "stdout",
     "output_type": "stream",
     "text": [
      "[[ 0.  0.  0. ...,  0.  0.  0.]\n",
      " [ 0.  0.  0. ...,  0.  0.  0.]\n",
      " [ 0.  0.  0. ...,  0.  0.  0.]\n",
      " ..., \n",
      " [ 0.  0.  0. ...,  0.  0.  0.]\n",
      " [ 0.  0.  0. ...,  0.  0.  0.]\n",
      " [ 0.  0.  0. ...,  0.  0.  0.]]\n",
      "(177, 6564)\n"
     ]
    }
   ],
   "source": [
    "print test_data_features\n",
    "print test_data_features.shape"
   ]
  },
  {
   "cell_type": "code",
   "execution_count": 11,
   "metadata": {
    "collapsed": false
   },
   "outputs": [
    {
     "data": {
      "text/plain": [
       "'/home/sarahwie/Documents/pubmed-nlp-research/article_replication'"
      ]
     },
     "execution_count": 11,
     "metadata": {},
     "output_type": "execute_result"
    }
   ],
   "source": [
    "os.getcwd()"
   ]
  },
  {
   "cell_type": "code",
   "execution_count": 17,
   "metadata": {
    "collapsed": false
   },
   "outputs": [],
   "source": [
    "#X = df[np.setdiff1d(df.columns,['pmid','label', 'boolean_label'])]\n",
    "#y = df.boolean_label\n",
    "\n",
    "#print df[0:5]\n",
    "#print X[0:5]\n",
    "\n",
    "X = train_data_features\n",
    "y = train1.boolean_label\n",
    "\n",
    "dump_svmlight_file(X,y,'svmlight.dat',zero_based=True,multilabel=False)"
   ]
  },
  {
   "cell_type": "code",
   "execution_count": 42,
   "metadata": {
    "collapsed": true
   },
   "outputs": [],
   "source": [
    "X_test = test_data_features\n",
    "y_test = test1.boolean_label\n",
    "\n",
    "dump_svmlight_file(X_test,y_test,'svmlight_test.dat',zero_based=True,multilabel=False)"
   ]
  },
  {
   "cell_type": "markdown",
   "metadata": {
    "collapsed": true
   },
   "source": [
    "This file is now ready to be input to a ML algorithm (e.g. random forest FEST)."
   ]
  },
  {
   "cell_type": "markdown",
   "metadata": {},
   "source": [
    "### Now: implement FEST C files here in python."
   ]
  },
  {
   "cell_type": "code",
   "execution_count": 20,
   "metadata": {
    "collapsed": false
   },
   "outputs": [],
   "source": [
    "os.chdir('/home/sarahwie/Documents/pubmed-nlp-research/article_replication/')"
   ]
  },
  {
   "cell_type": "code",
   "execution_count": 21,
   "metadata": {
    "collapsed": false
   },
   "outputs": [],
   "source": [
    "#didn't work really\n",
    "X_train, y_train = load_svmlight_file('svmlight.dat')"
   ]
  },
  {
   "cell_type": "code",
   "execution_count": 14,
   "metadata": {
    "collapsed": false
   },
   "outputs": [
    {
     "name": "stdout",
     "output_type": "stream",
     "text": [
      "(177, 6564)\n",
      "(177,)\n",
      "[ 1.  0.  0.  0.  1.  0.  1.  0.  0.  0.  0.  0.  1.  0.  0.  0.  0.  1.\n",
      "  1.  1.  0.  0.  0.  0.  1.  1.  1.  0.  0.  0.  0.  0.  0.  0.  0.  0.\n",
      "  0.  0.  1.  0.  0.  0.  0.  0.  0.  1.  1.  0.  0.  0.  1.  1.  0.  0.\n",
      "  1.  1.  0.  0.  0.  0.  1.  0.  0.  1.  0.  0.  0.  0.  0.  0.  0.  0.\n",
      "  0.  1.  0.  0.  1.  1.  0.  1.  0.  0.  1.  0.  0.  0.  0.  0.  1.  0.\n",
      "  1.  0.  1.  0.  0.  0.  1.  0.  0.  0.  1.  0.  0.  0.  0.  0.  0.  0.\n",
      "  0.  0.  0.  1.  0.  0.  0.  0.  0.  0.  0.  0.  0.  1.  0.  0.  0.  0.\n",
      "  0.  1.  0.  0.  0.  1.  0.  1.  0.  1.  0.  1.  0.  0.  1.  1.  0.  0.\n",
      "  0.  0.  0.  0.  0.  0.  0.  0.  0.  0.  0.  0.  0.  0.  0.  0.  0.  0.\n",
      "  0.  0.  0.  0.  0.  0.  0.  1.  0.  0.  1.  1.  0.  0.  0.]\n",
      "<class 'scipy.sparse.csr.csr_matrix'>\n",
      "<type 'numpy.ndarray'>\n"
     ]
    }
   ],
   "source": [
    "print X_train.shape\n",
    "print y_train.shape\n",
    "#labels\n",
    "print y_train\n",
    "print type(X_train)\n",
    "print type(y_train)"
   ]
  },
  {
   "cell_type": "markdown",
   "metadata": {
    "collapsed": true
   },
   "source": [
    "### Now onto FEST implementation"
   ]
  },
  {
   "cell_type": "code",
   "execution_count": 44,
   "metadata": {
    "collapsed": false
   },
   "outputs": [
    {
     "data": {
      "text/plain": [
       "'/home/sarahwie/Documents/pubmed-nlp-research/article_replication'"
      ]
     },
     "execution_count": 44,
     "metadata": {},
     "output_type": "execute_result"
    }
   ],
   "source": [
    "os.getcwd()"
   ]
  },
  {
   "cell_type": "code",
   "execution_count": 43,
   "metadata": {
    "collapsed": false
   },
   "outputs": [
    {
     "data": {
      "text/plain": [
       "0"
      ]
     },
     "execution_count": 43,
     "metadata": {},
     "output_type": "execute_result"
    }
   ],
   "source": [
    "from subprocess import check_call\n",
    "call([\"/home/sarahwie/Downloads/fest/festlearn\", \"-c 3\", \n",
    "      \"./svmlight.dat\", \"modelA\"])"
   ]
  },
  {
   "cell_type": "code",
   "execution_count": 53,
   "metadata": {
    "collapsed": false
   },
   "outputs": [
    {
     "data": {
      "text/plain": [
       "0"
      ]
     },
     "execution_count": 53,
     "metadata": {},
     "output_type": "execute_result"
    }
   ],
   "source": [
    "#get predictions for test set\n",
    "call([\"/home/sarahwie/Downloads/fest/festclassify\", \n",
    "      \"./svmlight_test.dat\", \"modelA\", \"./probs\"])"
   ]
  },
  {
   "cell_type": "code",
   "execution_count": 56,
   "metadata": {
    "collapsed": true
   },
   "outputs": [],
   "source": [
    "probs = pd.read_table('./probs', header=None)"
   ]
  },
  {
   "cell_type": "code",
   "execution_count": 57,
   "metadata": {
    "collapsed": false
   },
   "outputs": [
    {
     "name": "stdout",
     "output_type": "stream",
     "text": [
      "        probs\n",
      "0    0.205000\n",
      "1    0.368215\n",
      "2    0.050000\n",
      "3    0.105000\n",
      "4    0.040000\n",
      "5    0.110000\n",
      "6    0.399999\n",
      "7    0.434999\n",
      "8    0.125000\n",
      "9    0.085000\n",
      "10   0.215000\n",
      "11   0.085001\n",
      "12   0.240000\n",
      "13   0.150000\n",
      "14   0.534999\n",
      "15   0.069983\n",
      "16   0.219999\n",
      "17   0.120000\n",
      "18   0.147500\n",
      "19   0.110000\n",
      "20   0.130000\n",
      "21   0.140000\n",
      "22   0.305000\n",
      "23   0.175000\n",
      "24   0.115000\n",
      "25   0.298333\n",
      "26   0.279999\n",
      "27   0.439999\n",
      "28   0.430000\n",
      "29   0.093216\n",
      "..        ...\n",
      "147  0.315000\n",
      "148  0.205000\n",
      "149  0.140000\n",
      "150  0.185000\n",
      "151  0.269999\n",
      "152  0.050000\n",
      "153  0.160000\n",
      "154  0.275833\n",
      "155  0.439999\n",
      "156  0.105000\n",
      "157  0.120000\n",
      "158  0.230000\n",
      "159  0.213216\n",
      "160  0.505000\n",
      "161  0.230000\n",
      "162  0.315002\n",
      "163  0.055000\n",
      "164  0.143636\n",
      "165  0.090000\n",
      "166  0.135001\n",
      "167  0.474999\n",
      "168  0.360000\n",
      "169  0.200000\n",
      "170  0.185000\n",
      "171  0.130000\n",
      "172  0.299999\n",
      "173  0.370000\n",
      "174  0.145000\n",
      "175  0.190000\n",
      "176  0.160000\n",
      "\n",
      "[177 rows x 1 columns]\n"
     ]
    }
   ],
   "source": [
    "probs.columns = ['probs']\n",
    "print probs"
   ]
  },
  {
   "cell_type": "code",
   "execution_count": 58,
   "metadata": {
    "collapsed": false
   },
   "outputs": [
    {
     "name": "stdout",
     "output_type": "stream",
     "text": [
      "(177,)\n",
      "[ 0.  0.  0.  0.  0.  0.  0.  0.  0.  0.  0.  0.  0.  0.  1.  0.  0.  0.\n",
      "  0.  0.  0.  0.  0.  0.  0.  0.  0.  0.  0.  0.  0.  0.  0.  0.  0.  0.\n",
      "  0.  0.  0.  0.  0.  0.  0.  0.  0.  0.  0.  0.  0.  0.  0.  0.  0.  0.\n",
      "  0.  0.  0.  0.  0.  0.  0.  0.  0.  0.  0.  0.  0.  0.  0.  0.  0.  0.\n",
      "  0.  0.  0.  0.  0.  0.  0.  0.  0.  0.  0.  0.  0.  0.  0.  0.  0.  0.\n",
      "  0.  0.  0.  0.  0.  0.  0.  0.  0.  0.  0.  0.  0.  0.  0.  0.  0.  0.\n",
      "  1.  0.  0.  1.  0.  0.  0.  0.  0.  0.  0.  0.  0.  1.  0.  0.  0.  0.\n",
      "  0.  0.  0.  0.  0.  0.  0.  0.  0.  0.  0.  0.  0.  0.  0.  0.  0.  0.\n",
      "  0.  0.  0.  0.  0.  0.  0.  0.  0.  0.  0.  0.  0.  0.  0.  0.  1.  0.\n",
      "  0.  0.  0.  0.  0.  0.  0.  0.  0.  0.  0.  0.  0.  0.  0.]\n"
     ]
    }
   ],
   "source": [
    "predictions = np.ones((probs.shape[0]))\n",
    "print np.shape(predictions)\n",
    "predictions[np.where(probs.iloc[:,0] < 0.5)] = 0 # The first column is the negative model\n",
    "print predictions"
   ]
  },
  {
   "cell_type": "code",
   "execution_count": 59,
   "metadata": {
    "collapsed": false
   },
   "outputs": [
    {
     "name": "stdout",
     "output_type": "stream",
     "text": [
      "(177,)\n",
      "(177,)\n"
     ]
    }
   ],
   "source": [
    "print predictions.shape\n",
    "print test1[\"boolean_label\"].shape"
   ]
  },
  {
   "cell_type": "code",
   "execution_count": 63,
   "metadata": {
    "collapsed": false
   },
   "outputs": [
    {
     "name": "stdout",
     "output_type": "stream",
     "text": [
      "0.533703590992\n"
     ]
    }
   ],
   "source": [
    "#get AUC score\n",
    "score = roc_auc_score(test1[\"boolean_label\"], predictions)\n",
    "#core = np.size(np.where(predictions == test1[\"boolean_label\"]))*1./np.size(predictions)\n",
    "print score"
   ]
  },
  {
   "cell_type": "code",
   "execution_count": null,
   "metadata": {
    "collapsed": true
   },
   "outputs": [],
   "source": []
  },
  {
   "cell_type": "code",
   "execution_count": 5,
   "metadata": {
    "collapsed": true
   },
   "outputs": [],
   "source": [
    "import re\n",
    "import nltk\n",
    "\n",
    "import pandas as pd\n",
    "import numpy as np\n",
    "\n",
    "from bs4 import BeautifulSoup\n",
    "from nltk.corpus import stopwords\n",
    "\n",
    "\n",
    "class KaggleWord2VecUtility(object):\n",
    "    \"\"\"KaggleWord2VecUtility is a utility class for processing raw HTML text into segments for further learning\"\"\"\n",
    "\n",
    "    @staticmethod\n",
    "    def review_to_wordlist( review, remove_stopwords=False ):\n",
    "        # Function to convert a document to a sequence of words,\n",
    "        # optionally removing stop words.  Returns a list of words.\n",
    "        #\n",
    "        # 1. Remove HTML\n",
    "        review_text = BeautifulSoup(review).get_text()\n",
    "        #\n",
    "        # 2. Remove non-letters\n",
    "        review_text = re.sub(\"[^a-zA-Z]\",\" \", review_text)\n",
    "        #\n",
    "        # 3. Convert words to lower case and split them\n",
    "        words = review_text.lower().split()\n",
    "        #\n",
    "        # 4. Optionally remove stop words (false by default)\n",
    "        if remove_stopwords:\n",
    "            stops = set(stopwords.words(\"english\"))\n",
    "            words = [w for w in words if not w in stops]\n",
    "        #\n",
    "        # 5. Return a list of words\n",
    "        return(words)\n",
    "    \n",
    "    @staticmethod\n",
    "    def review_to_words( review, remove_stopwords=False ):\n",
    "        # Function to convert a raw review to a string of words\n",
    "        # The input is a single string (a raw movie review), and \n",
    "        # the output is a single string (a preprocessed movie review)\n",
    "        #\n",
    "        # 1. Remove HTML\n",
    "        review_text = BeautifulSoup(review).get_text() \n",
    "        #\n",
    "        # 2. Remove non-letters        \n",
    "        review_text = re.sub(\"[^a-zA-Z]\", \" \", review_text) \n",
    "        #\n",
    "        # 3. Convert to lower case, split into individual words\n",
    "        words = review_text.lower().split()                             \n",
    "        #\n",
    "        # 4. Optionally remove stop words (false by default)\n",
    "        if remove_stopwords:\n",
    "            stops = set(stopwords.words(\"english\"))\n",
    "            words = [w for w in words if not w in stops]   \n",
    "        #\n",
    "        # 6. Join the words back into one string separated by space, \n",
    "        # and return the result.\n",
    "        return( \" \".join( words ))   \n",
    "\n",
    "    # Define a function to split a review into parsed sentences\n",
    "    @staticmethod\n",
    "    def review_to_sentences( review, tokenizer, remove_stopwords=False ):\n",
    "        # Function to split a review into parsed sentences. Returns a\n",
    "        # list of sentences, where each sentence is a list of words\n",
    "        #\n",
    "        # 1. Use the NLTK tokenizer to split the paragraph into sentences\n",
    "        raw_sentences = tokenizer.tokenize(review.decode('utf8').strip())\n",
    "        #\n",
    "        # 2. Loop over each sentence\n",
    "        sentences = []\n",
    "        for raw_sentence in raw_sentences:\n",
    "            # If a sentence is empty, skip it\n",
    "            if len(raw_sentence) > 0:\n",
    "                # Otherwise, call review_to_wordlist to get a list of words\n",
    "                sentences.append( KaggleWord2VecUtility.review_to_wordlist( raw_sentence, \\\n",
    "                  remove_stopwords ))\n",
    "        #\n",
    "        # Return the list of sentences (each sentence is a list of words,\n",
    "        # so this returns a list of lists\n",
    "        return sentences"
   ]
  }
 ],
 "metadata": {
  "kernelspec": {
   "display_name": "Python 2",
   "language": "python",
   "name": "python2"
  },
  "language_info": {
   "codemirror_mode": {
    "name": "ipython",
    "version": 2
   },
   "file_extension": ".py",
   "mimetype": "text/x-python",
   "name": "python",
   "nbconvert_exporter": "python",
   "pygments_lexer": "ipython2",
   "version": "2.7.11"
  }
 },
 "nbformat": 4,
 "nbformat_minor": 0
}
