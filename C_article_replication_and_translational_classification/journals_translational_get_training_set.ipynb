{
 "cells": [
  {
   "cell_type": "code",
   "execution_count": 2,
   "metadata": {
    "collapsed": true
   },
   "outputs": [],
   "source": [
    "#get num records\n",
    "import xml.etree.ElementTree as ET\n",
    "import pandas as pd\n",
    "import numpy as np\n",
    "import pickle\n",
    "import datetime"
   ]
  },
  {
   "cell_type": "markdown",
   "metadata": {},
   "source": [
    "### Function for converting XML to pandas dataframe:\n",
    "'pubmed_result_new_t0.xml' files correspond with dfJournals_try2.p\n",
    "\n",
    "\n",
    "'pubmed_result_t0' files correspond wth dfJournals_trans_categories.p"
   ]
  },
  {
   "cell_type": "code",
   "execution_count": 3,
   "metadata": {
    "collapsed": true
   },
   "outputs": [],
   "source": [
    "#convert XML subset to pandas dataframe\n",
    "def iter_docs(author):\n",
    "    author_attr = author.attrib\n",
    "    for record in author.findall('PubmedArticle'):\n",
    "        doc_dict = author_attr.copy()\n",
    "\n",
    "        title = record.find('MedlineCitation').find('Article').find('ArticleTitle')\n",
    "        if title.text is not None:\n",
    "            if type(title.text) != str:\n",
    "                title.text = title.text.encode('utf8')\n",
    "            doc_dict['title'] = title.text\n",
    "        else:\n",
    "            doc_dict['title'] = ''\n",
    "        \n",
    "        abstract = ''\n",
    "        abst_root = record.find('MedlineCitation').find('Article').find('Abstract')\n",
    "        if abst_root is not None:\n",
    "            for abst in abst_root.findall('AbstractText'):\n",
    "                if abst.text is not None:\n",
    "                    if type(abst.text) != str:\n",
    "                        abst.text = abst.text.encode('utf8')\n",
    "                    abstract = abstract + abst.text\n",
    "        doc_dict['abstract'] = abstract\n",
    "        \n",
    "        #get MeSH terms as unicode strings to simplify later processing\n",
    "        meshDescriptor = ''\n",
    "        meshQualifier = ''\n",
    "        if record.find('MedlineCitation').find('MeshHeadingList') is not None:\n",
    "            for mesh in record.find('MedlineCitation').find('MeshHeadingList').findall('MeshHeading'):\n",
    "                if mesh.find('DescriptorName') is not None:\n",
    "                    for desc in mesh.findall('DescriptorName'):\n",
    "                        if meshDescriptor == '':\n",
    "                            meshDescriptor = desc.text\n",
    "                        else:\n",
    "                            meshDescriptor = meshDescriptor + ' ' + desc.text\n",
    "                if mesh.find('QualifierName') is not None:\n",
    "                    for qual in mesh.findall('QualifierName'):\n",
    "                        if meshQualifier == '':\n",
    "                            meshQualifier = qual.text\n",
    "                        else:\n",
    "                            meshQualifier = meshQualifier + ' ' + qual.text\n",
    "        doc_dict['qualifier_terms'] = meshQualifier\n",
    "        doc_dict['descriptor_terms'] = meshDescriptor\n",
    "        \n",
    "        yield doc_dict"
   ]
  },
  {
   "cell_type": "markdown",
   "metadata": {},
   "source": [
    "### Read in T0 file"
   ]
  },
  {
   "cell_type": "code",
   "execution_count": 4,
   "metadata": {
    "collapsed": false
   },
   "outputs": [
    {
     "name": "stdout",
     "output_type": "stream",
     "text": [
      "0:02:09\n"
     ]
    }
   ],
   "source": [
    "a = datetime.datetime.now().replace(microsecond=0)\n",
    "\n",
    "#using this file for our example (on local only)\n",
    "xml_file = ET.parse('/mnt/mypartition/pubmed_nlp_research/C_article_replication_and_translational_classification/meeting/pubmed_result_t0.xml')\n",
    "root = xml_file.getroot()\n",
    "\n",
    "b = datetime.datetime.now().replace(microsecond=0)\n",
    "print b-a"
   ]
  },
  {
   "cell_type": "markdown",
   "metadata": {},
   "source": [
    "### Convert T0 file to pandas dataframe, and assign labels."
   ]
  },
  {
   "cell_type": "code",
   "execution_count": 5,
   "metadata": {
    "collapsed": false
   },
   "outputs": [],
   "source": [
    "#convert XML subset to pandas dataframe\n",
    "df0 = pd.DataFrame(list(iter_docs(root)))\n",
    "df0['sentiment'] = 'T0'\n",
    "df0 = df0[['sentiment', 'title', 'abstract', 'qualifier_terms', 'descriptor_terms']]"
   ]
  },
  {
   "cell_type": "code",
   "execution_count": 6,
   "metadata": {
    "collapsed": false
   },
   "outputs": [
    {
     "data": {
      "text/plain": [
       "(35786, 5)"
      ]
     },
     "execution_count": 6,
     "metadata": {},
     "output_type": "execute_result"
    }
   ],
   "source": [
    "#many don't have any MeSH terms\n",
    "df0.shape"
   ]
  },
  {
   "cell_type": "markdown",
   "metadata": {},
   "source": [
    "### Read in T1/T2 file"
   ]
  },
  {
   "cell_type": "code",
   "execution_count": 10,
   "metadata": {
    "collapsed": false
   },
   "outputs": [
    {
     "name": "stdout",
     "output_type": "stream",
     "text": [
      "0:02:35\n"
     ]
    }
   ],
   "source": [
    "a = datetime.datetime.now().replace(microsecond=0)\n",
    "\n",
    "#using this file for our example (on local only)\n",
    "xml_file1 = ET.parse('/mnt/mypartition/pubmed_nlp_research/C_article_replication_and_translational_classification/meeting/pubmed_result_T1T2_meeting.xml')\n",
    "root1 = xml_file1.getroot()\n",
    "\n",
    "b = datetime.datetime.now().replace(microsecond=0)\n",
    "print b-a"
   ]
  },
  {
   "cell_type": "markdown",
   "metadata": {},
   "source": [
    "### Convert T1/T2 file to pandas dataframe, and assign labels."
   ]
  },
  {
   "cell_type": "code",
   "execution_count": 11,
   "metadata": {
    "collapsed": false
   },
   "outputs": [],
   "source": [
    "#convert XML subset to pandas dataframe\n",
    "df1 = pd.DataFrame(list(iter_docs(root1)))\n",
    "df1['sentiment'] = 'T1/T2'\n",
    "df1 = df1[['sentiment', 'title', 'abstract', 'qualifier_terms', 'descriptor_terms']]"
   ]
  },
  {
   "cell_type": "code",
   "execution_count": 12,
   "metadata": {
    "collapsed": false
   },
   "outputs": [
    {
     "data": {
      "text/plain": [
       "(45354, 5)"
      ]
     },
     "execution_count": 12,
     "metadata": {},
     "output_type": "execute_result"
    }
   ],
   "source": [
    "df1.shape"
   ]
  },
  {
   "cell_type": "markdown",
   "metadata": {},
   "source": [
    "### Read in T3/T4 file part 1 (or in second run case, only 1 part so ignore the next reading in)"
   ]
  },
  {
   "cell_type": "code",
   "execution_count": 7,
   "metadata": {
    "collapsed": false
   },
   "outputs": [
    {
     "name": "stdout",
     "output_type": "stream",
     "text": [
      "0:02:11\n"
     ]
    }
   ],
   "source": [
    "a = datetime.datetime.now().replace(microsecond=0)\n",
    "\n",
    "#using this file for our example (on local only)\n",
    "xml_file2 = ET.parse('/mnt/mypartition/pubmed_nlp_research/C_article_replication_and_translational_classification/meeting/pubmed_result_T3T4_meeting.xml')\n",
    "root2 = xml_file2.getroot()\n",
    "\n",
    "b = datetime.datetime.now().replace(microsecond=0)\n",
    "print b-a"
   ]
  },
  {
   "cell_type": "markdown",
   "metadata": {},
   "source": [
    "### Convert T3/T4 file part 1 to pandas dataframe, and assign labels."
   ]
  },
  {
   "cell_type": "code",
   "execution_count": 8,
   "metadata": {
    "collapsed": true
   },
   "outputs": [],
   "source": [
    "#convert XML subset to pandas dataframe\n",
    "df2 = pd.DataFrame(list(iter_docs(root2)))\n",
    "df2['sentiment'] = 'T3/T4'\n",
    "df2 = df2[['sentiment', 'title', 'abstract', 'qualifier_terms', 'descriptor_terms']]"
   ]
  },
  {
   "cell_type": "code",
   "execution_count": 9,
   "metadata": {
    "collapsed": false
   },
   "outputs": [
    {
     "data": {
      "text/plain": [
       "(43995, 5)"
      ]
     },
     "execution_count": 9,
     "metadata": {},
     "output_type": "execute_result"
    }
   ],
   "source": [
    "df2.shape"
   ]
  },
  {
   "cell_type": "markdown",
   "metadata": {},
   "source": [
    "### Read in T3/T4 file part 2 (skip round 2)"
   ]
  },
  {
   "cell_type": "code",
   "execution_count": 39,
   "metadata": {
    "collapsed": false
   },
   "outputs": [
    {
     "name": "stdout",
     "output_type": "stream",
     "text": [
      "0:02:04\n"
     ]
    }
   ],
   "source": [
    "a = datetime.datetime.now().replace(microsecond=0)\n",
    "\n",
    "#using this file for our example (on local only)\n",
    "xml_file3 = ET.parse('/mnt/mypartition/pubmed_result_t3t4_secondhalf.xml')\n",
    "root3 = xml_file3.getroot()\n",
    "\n",
    "b = datetime.datetime.now().replace(microsecond=0)\n",
    "print b-a"
   ]
  },
  {
   "cell_type": "markdown",
   "metadata": {},
   "source": [
    "### Convert T3/T4 file part 2 to pandas dataframe, and assign labels. (skip round 2)"
   ]
  },
  {
   "cell_type": "code",
   "execution_count": 40,
   "metadata": {
    "collapsed": true
   },
   "outputs": [],
   "source": [
    "#convert XML subset to pandas dataframe\n",
    "df3 = pd.DataFrame(list(iter_docs(root3)))\n",
    "df3['sentiment'] = 'T3/T4'\n",
    "df3 = df3[['sentiment', 'title', 'abstract', 'qualifier_terms', 'descriptor_terms']]"
   ]
  },
  {
   "cell_type": "code",
   "execution_count": 41,
   "metadata": {
    "collapsed": false
   },
   "outputs": [
    {
     "data": {
      "text/plain": [
       "(28380, 5)"
      ]
     },
     "execution_count": 41,
     "metadata": {},
     "output_type": "execute_result"
    }
   ],
   "source": [
    "df3.shape"
   ]
  },
  {
   "cell_type": "code",
   "execution_count": null,
   "metadata": {
    "collapsed": true
   },
   "outputs": [],
   "source": []
  },
  {
   "cell_type": "markdown",
   "metadata": {},
   "source": [
    "### Concatenate dataframes"
   ]
  },
  {
   "cell_type": "code",
   "execution_count": 13,
   "metadata": {
    "collapsed": true
   },
   "outputs": [],
   "source": [
    "frames = [df0, df1, df2] #, df3]\n",
    "df = pd.concat(frames, ignore_index=True)"
   ]
  },
  {
   "cell_type": "code",
   "execution_count": 14,
   "metadata": {
    "collapsed": false
   },
   "outputs": [
    {
     "name": "stdout",
     "output_type": "stream",
     "text": [
      "(125135, 5)\n"
     ]
    }
   ],
   "source": [
    "print df.shape"
   ]
  },
  {
   "cell_type": "code",
   "execution_count": 15,
   "metadata": {
    "collapsed": false
   },
   "outputs": [
    {
     "name": "stdout",
     "output_type": "stream",
     "text": [
      "35786\n",
      "45354\n",
      "43995\n"
     ]
    }
   ],
   "source": [
    "print len(np.where(df['sentiment']=='T0')[0])\n",
    "print len(np.where(df['sentiment']=='T1/T2')[0])\n",
    "print len(np.where(df['sentiment']=='T3/T4')[0])\n",
    "#counts match"
   ]
  },
  {
   "cell_type": "code",
   "execution_count": 16,
   "metadata": {
    "collapsed": false
   },
   "outputs": [],
   "source": [
    "pickle.dump(df, open('/mnt/mypartition/pubmed_nlp_research/C_article_replication_and_translational_classification/pickled_objects/dfJournals_meeting.p', 'wb'))"
   ]
  },
  {
   "cell_type": "markdown",
   "metadata": {},
   "source": [
    "### Make sure all records have an abstract"
   ]
  },
  {
   "cell_type": "code",
   "execution_count": 3,
   "metadata": {
    "collapsed": true
   },
   "outputs": [],
   "source": [
    "import pickle\n",
    "df = pickle.load(open('/mnt/mypartition/pubmed_nlp_research/C_article_replication_and_translational_classification/pickled_objects/dfJournals_trans_categories.p', 'rb'))"
   ]
  },
  {
   "cell_type": "code",
   "execution_count": 4,
   "metadata": {
    "collapsed": false
   },
   "outputs": [
    {
     "name": "stdout",
     "output_type": "stream",
     "text": [
      "(97049, 5)\n",
      "(97048, 5)\n"
     ]
    }
   ],
   "source": [
    "print df.shape\n",
    "df = df.loc[df['abstract'] != '']\n",
    "print df.shape"
   ]
  },
  {
   "cell_type": "code",
   "execution_count": 5,
   "metadata": {
    "collapsed": true
   },
   "outputs": [],
   "source": [
    "pickle.dump(df, open('/mnt/mypartition/pubmed_nlp_research/C_article_replication_and_translational_classification/pickled_objects/dfJournals_trans_categories.p', 'wb'))"
   ]
  }
 ],
 "metadata": {
  "kernelspec": {
   "display_name": "Python 2",
   "language": "python",
   "name": "python2"
  },
  "language_info": {
   "codemirror_mode": {
    "name": "ipython",
    "version": 2
   },
   "file_extension": ".py",
   "mimetype": "text/x-python",
   "name": "python",
   "nbconvert_exporter": "python",
   "pygments_lexer": "ipython2",
   "version": "2.7.11"
  }
 },
 "nbformat": 4,
 "nbformat_minor": 0
}
