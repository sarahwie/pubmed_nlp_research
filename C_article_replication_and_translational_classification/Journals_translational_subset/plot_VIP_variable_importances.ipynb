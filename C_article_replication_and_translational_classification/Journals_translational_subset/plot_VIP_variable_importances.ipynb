{
 "cells": [
  {
   "cell_type": "code",
   "execution_count": 2,
   "metadata": {
    "collapsed": true
   },
   "outputs": [],
   "source": [
    "import pickle\n",
    "import numpy as np\n",
    "import sklearn\n",
    "from sklearn.feature_extraction.text import TfidfVectorizer"
   ]
  },
  {
   "cell_type": "code",
   "execution_count": 3,
   "metadata": {
    "collapsed": false
   },
   "outputs": [],
   "source": [
    "vectorizerT0 = pickle.load(open('/mnt/mypartition/Desktop2/pubmed_nlp_research/pickled_objects/vectorizerT0.p', 'rb'))\n",
    "forestT0 = pickle.load(open('/mnt/mypartition/Desktop2/pubmed_nlp_research/pickled_objects/forestT0.p', 'rb'))\n",
    "featsT0 = pickle.load(open('/mnt/mypartition/Desktop2/pubmed_nlp_research/pickled_objects/featsT0.p.p', 'rb'))"
   ]
  },
  {
   "cell_type": "code",
   "execution_count": 4,
   "metadata": {
    "collapsed": true
   },
   "outputs": [],
   "source": [
    "vectorizerT1T2= pickle.load(open('/mnt/mypartition/Desktop2/pubmed_nlp_research/pickled_objects/vectorizerT1T2.p', 'rb'))\n",
    "forestT1T2 = pickle.load(open('/mnt/mypartition/Desktop2/pubmed_nlp_research/pickled_objects/forestT1T2.p', 'rb'))\n",
    "featsT1T2 = pickle.load(open('/mnt/mypartition/Desktop2/pubmed_nlp_research/pickled_objects/featsT1T2.p.p', 'rb'))"
   ]
  },
  {
   "cell_type": "code",
   "execution_count": 5,
   "metadata": {
    "collapsed": true
   },
   "outputs": [],
   "source": [
    "vectorizerT3T4 = pickle.load(open('/mnt/mypartition/Desktop2/pubmed_nlp_research/pickled_objects/vectorizerT3T4.p', 'rb'))\n",
    "forestT3T4 = pickle.load(open('/mnt/mypartition/Desktop2/pubmed_nlp_research/pickled_objects/forestT3T4.p', 'rb'))\n",
    "featsT3T4 = pickle.load(open('/mnt/mypartition/Desktop2/pubmed_nlp_research/pickled_objects/featsT3T4.p.p', 'rb'))"
   ]
  },
  {
   "cell_type": "code",
   "execution_count": 11,
   "metadata": {
    "collapsed": false
   },
   "outputs": [
    {
     "name": "stdout",
     "output_type": "stream",
     "text": [
      "5000\n",
      "5000\n",
      "39\n",
      "39\n",
      "39\n"
     ]
    }
   ],
   "source": [
    "# Take a look at the words in the vocabulary\n",
    "vocab = vectorizerT0.get_feature_names()\n",
    "#print vocab\n",
    "print len(vocab)\n",
    "print len(featsT0)\n",
    "inxs = np.where(featsT0 > 0.005)\n",
    "print len(inxs[0])\n",
    "feats = featsT0[inxs]\n",
    "print len(feats)\n",
    "voc = [vocab[i] for (x,i) in np.ndenumerate(inxs)]\n",
    "print len(voc)"
   ]
  },
  {
   "cell_type": "code",
   "execution_count": 7,
   "metadata": {
    "collapsed": false
   },
   "outputs": [
    {
     "name": "stdout",
     "output_type": "stream",
     "text": [
      "5000\n",
      "5000\n",
      "38\n",
      "38\n",
      "38\n"
     ]
    }
   ],
   "source": [
    "# repeat for T1/T2\n",
    "vocab = vectorizerT1T2.get_feature_names()\n",
    "#print vocab\n",
    "print len(vocab)\n",
    "print len(featsT1T2)\n",
    "inxs = np.where(featsT1T2 > 0.003)\n",
    "print len(inxs[0])\n",
    "feats = featsT1T2[inxs]\n",
    "print len(feats)\n",
    "voc = [vocab[i] for (x,i) in np.ndenumerate(inxs)]\n",
    "print len(voc)"
   ]
  },
  {
   "cell_type": "code",
   "execution_count": 8,
   "metadata": {
    "collapsed": false
   },
   "outputs": [
    {
     "name": "stdout",
     "output_type": "stream",
     "text": [
      "5000\n",
      "5000\n",
      "25\n",
      "25\n",
      "25\n"
     ]
    }
   ],
   "source": [
    "# T3/T4\n",
    "vocab = vectorizerT3T4.get_feature_names()\n",
    "#print vocab\n",
    "print len(vocab)\n",
    "print len(featsT3T4)\n",
    "inxs = np.where(featsT3T4 > 0.005)\n",
    "print len(inxs[0])\n",
    "feats = featsT3T4[inxs]\n",
    "print len(feats)\n",
    "voc = [vocab[i] for (x,i) in np.ndenumerate(inxs)]\n",
    "print len(voc)"
   ]
  },
  {
   "cell_type": "code",
   "execution_count": 12,
   "metadata": {
    "collapsed": false
   },
   "outputs": [],
   "source": [
    "import matplotlib.pyplot as plt\n",
    "\n",
    "plt.figure(figsize=(6 * 1.618, 6))\n",
    "index = np.arange(len(voc))\n",
    "bar_width = 0.35\n",
    "plt.bar(index, feats, color = 'black', alpha=0.5)\n",
    "plt.xlabel('features')\n",
    "plt.ylabel('importance')\n",
    "plt.title('Feature importance')\n",
    "plt.xticks(index + bar_width, voc)\n",
    "locs, labels = plt.xticks()\n",
    "plt.setp(labels, rotation = 90)\n",
    "plt.tight_layout()\n",
    "plt.show()"
   ]
  },
  {
   "cell_type": "code",
   "execution_count": 1,
   "metadata": {
    "collapsed": false
   },
   "outputs": [
    {
     "ename": "NameError",
     "evalue": "name 'np' is not defined",
     "output_type": "error",
     "traceback": [
      "\u001b[1;31m---------------------------------------------------------------------------\u001b[0m",
      "\u001b[1;31mNameError\u001b[0m                                 Traceback (most recent call last)",
      "\u001b[1;32m<ipython-input-1-7bb9fdf54147>\u001b[0m in \u001b[0;36m<module>\u001b[1;34m()\u001b[0m\n\u001b[0;32m      2\u001b[0m \u001b[1;33m\u001b[0m\u001b[0m\n\u001b[0;32m      3\u001b[0m \u001b[1;31m# Sum up the counts of each vocabulary word\u001b[0m\u001b[1;33m\u001b[0m\u001b[1;33m\u001b[0m\u001b[0m\n\u001b[1;32m----> 4\u001b[1;33m \u001b[0mdist\u001b[0m \u001b[1;33m=\u001b[0m \u001b[0mnp\u001b[0m\u001b[1;33m.\u001b[0m\u001b[0msum\u001b[0m\u001b[1;33m(\u001b[0m\u001b[0mtrain_data_features\u001b[0m\u001b[1;33m,\u001b[0m \u001b[0maxis\u001b[0m\u001b[1;33m=\u001b[0m\u001b[1;36m0\u001b[0m\u001b[1;33m)\u001b[0m\u001b[1;33m\u001b[0m\u001b[0m\n\u001b[0m\u001b[0;32m      5\u001b[0m \u001b[1;33m\u001b[0m\u001b[0m\n\u001b[0;32m      6\u001b[0m \u001b[1;31m# For each, print the vocabulary word and the number of times it\u001b[0m\u001b[1;33m\u001b[0m\u001b[1;33m\u001b[0m\u001b[0m\n",
      "\u001b[1;31mNameError\u001b[0m: name 'np' is not defined"
     ]
    }
   ],
   "source": [
    "#print weights of each word:\n",
    "\n",
    "# Sum up the counts of each vocabulary word\n",
    "dist = np.sum(train_data_features, axis=0)\n",
    "\n",
    "# For each, print the vocabulary word and the number of times it \n",
    "# appears in the training set\n",
    "for tag, count in zip(vocab, dist):\n",
    "    print count, tag"
   ]
  },
  {
   "cell_type": "markdown",
   "metadata": {},
   "source": [
    "### Check what's happening with misclassifying the paper's dataset reviews"
   ]
  },
  {
   "cell_type": "code",
   "execution_count": 18,
   "metadata": {
    "collapsed": false
   },
   "outputs": [
    {
     "name": "stdout",
     "output_type": "stream",
     "text": [
      "354\n",
      "354\n"
     ]
    }
   ],
   "source": [
    "arr0 = pickle.load(open('/mnt/mypartition/Desktop2/pubmed_nlp_research/pickled_objects/predsT0.p', 'rb'))\n",
    "print len(arr0)\n",
    "df_val = pickle.load(open('/mnt/mypartition/Desktop2/pubmed_nlp_research/article_replication/df.p', 'rb'))\n",
    "print len(df_val)"
   ]
  },
  {
   "cell_type": "code",
   "execution_count": 26,
   "metadata": {
    "collapsed": true
   },
   "outputs": [],
   "source": [
    "df_val['boolean_label'] = 1\n",
    "for row in df_val.iterrows():\n",
    "    if row[1]['label'] != 'T0':\n",
    "        df_val.set_value(row[0], 'boolean_label', 0)"
   ]
  },
  {
   "cell_type": "code",
   "execution_count": 33,
   "metadata": {
    "collapsed": false
   },
   "outputs": [
    {
     "name": "stdout",
     "output_type": "stream",
     "text": [
      "Occupational exposure to nickel (Ni) is associated with an increased risk of lung and nasal cancers. Ni compounds exhibit weak mutagenic activity, alter the cell's epigenetic homeostasis, and activate signaling pathways. However, changes in gene expression associated with Ni exposure have only been investigated in vitro. This study was conducted in a Chinese population to determine whether occupational exposure to Ni was associated with differential gene expression profiles in the peripheral blood mononuclear cells (PBMC) of Ni-refinery workers when compared with referents.Eight Ni-refinery workers and ten referents were selected. PBMC RNA was extracted and gene expression profiling was conducted using Affymetrix exon arrays. Differentially expressed genes (DEG) between both groups were identified in a global analysis.There were a total of 2,756 DEGs in the Ni-refinery workers relative to the referents [false discovery rate (FDR) adjusted P < 0.05] with 770 upregulated genes and 1,986 downregulated genes. DNA repair and epigenetic genes were significantly overrepresented (P < 0.0002) among the DEGs. Of 31 DNA repair genes, 29 were repressed in the Ni-refinery workers and 2 were overexpressed. Of the 16 epigenetic genes, 12 were repressed in the Ni-refinery workers and 4 were overexpressed.The results of this study indicate that occupational exposure to Ni is associated with alterations in gene expression profiles in PBMCs of subjects.Gene expression may be useful in identifying patterns of deregulation that precede clinical identification of Ni-induced cancers.\n"
     ]
    }
   ],
   "source": [
    "print df_val['abstract'].iloc[0]"
   ]
  },
  {
   "cell_type": "code",
   "execution_count": 29,
   "metadata": {
    "collapsed": false
   },
   "outputs": [
    {
     "name": "stdout",
     "output_type": "stream",
     "text": [
      "0\n"
     ]
    }
   ],
   "source": [
    "print arr0[0]"
   ]
  },
  {
   "cell_type": "code",
   "execution_count": null,
   "metadata": {
    "collapsed": true
   },
   "outputs": [],
   "source": []
  },
  {
   "cell_type": "code",
   "execution_count": null,
   "metadata": {
    "collapsed": true
   },
   "outputs": [],
   "source": []
  },
  {
   "cell_type": "code",
   "execution_count": null,
   "metadata": {
    "collapsed": true
   },
   "outputs": [],
   "source": []
  }
 ],
 "metadata": {
  "kernelspec": {
   "display_name": "Python 2",
   "language": "python",
   "name": "python2"
  },
  "language_info": {
   "codemirror_mode": {
    "name": "ipython",
    "version": 2
   },
   "file_extension": ".py",
   "mimetype": "text/x-python",
   "name": "python",
   "nbconvert_exporter": "python",
   "pygments_lexer": "ipython2",
   "version": "2.7.11"
  }
 },
 "nbformat": 4,
 "nbformat_minor": 0
}
