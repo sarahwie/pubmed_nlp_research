{
 "cells": [
  {
   "cell_type": "code",
   "execution_count": 67,
   "metadata": {
    "collapsed": true
   },
   "outputs": [],
   "source": [
    "%matplotlib inline  "
   ]
  },
  {
   "cell_type": "code",
   "execution_count": 18,
   "metadata": {
    "collapsed": false
   },
   "outputs": [],
   "source": [
    "import pickle\n",
    "import sys\n",
    "import os\n",
    "import datetime\n",
    "\n",
    "import sklearn\n",
    "import pandas as pd\n",
    "import numpy as np\n",
    "from sklearn.cross_validation import StratifiedKFold\n",
    "from sklearn.feature_extraction.text import TfidfVectorizer\n",
    "from sklearn.multiclass import OneVsRestClassifier\n",
    "from sklearn.ensemble import RandomForestClassifier\n",
    "from sklearn.metrics import roc_auc_score\n",
    "from sklearn.metrics import roc_curve, auc\n",
    "from sklearn import tree\n",
    "from sklearn.preprocessing import label_binarize\n",
    "import matplotlib.pyplot as plt"
   ]
  },
  {
   "cell_type": "code",
   "execution_count": 381,
   "metadata": {
    "collapsed": false
   },
   "outputs": [],
   "source": [
    "#Import data from the processing of data in the journal_training_word2vec notebook\n",
    "#df = pickle.load(open('/home/sarahwie/Documents/pubmed-nlp-research/C_article_replication_and_translational_classification/df.p', 'rb'))\n",
    "df = pickle.load(open('/mnt/mypartition/pubmed_nlp_research/C_article_replication_and_translational_classification/pickled_objects/dfJournals_trans_categories.p', 'rb'))"
   ]
  },
  {
   "cell_type": "code",
   "execution_count": 382,
   "metadata": {
    "collapsed": false,
    "scrolled": true
   },
   "outputs": [
    {
     "name": "stdout",
     "output_type": "stream",
     "text": [
      "(97049, 5)\n",
      "['sentiment' 'title' 'abstract' 'qualifier_terms' 'descriptor_terms']\n",
      "['T0' 'T1/T2' 'T3/T4']\n"
     ]
    }
   ],
   "source": [
    "print df.shape\n",
    "print df.columns.values\n",
    "print df['sentiment'].unique()"
   ]
  },
  {
   "cell_type": "code",
   "execution_count": 383,
   "metadata": {
    "collapsed": true
   },
   "outputs": [],
   "source": [
    "#for the journals VM dataframe, change the label of the 'sentiment' column to 'label'\n",
    "df.columns = ['label', 'title', 'abstract', 'qualifier_terms', 'descriptor_terms']"
   ]
  },
  {
   "cell_type": "code",
   "execution_count": 384,
   "metadata": {
    "collapsed": false
   },
   "outputs": [
    {
     "data": {
      "text/html": [
       "<div>\n",
       "<table border=\"1\" class=\"dataframe\">\n",
       "  <thead>\n",
       "    <tr style=\"text-align: right;\">\n",
       "      <th></th>\n",
       "      <th>label</th>\n",
       "      <th>title</th>\n",
       "      <th>abstract</th>\n",
       "      <th>qualifier_terms</th>\n",
       "      <th>descriptor_terms</th>\n",
       "    </tr>\n",
       "  </thead>\n",
       "  <tbody>\n",
       "    <tr>\n",
       "      <th>0</th>\n",
       "      <td>T0</td>\n",
       "      <td>Quantification of the relative contributions o...</td>\n",
       "      <td>Amyotrophic lateral sclerosis (ALS) and fronto...</td>\n",
       "      <td></td>\n",
       "      <td></td>\n",
       "    </tr>\n",
       "    <tr>\n",
       "      <th>1</th>\n",
       "      <td>T0</td>\n",
       "      <td>Ubiquitin Specific Protease 36 (USP36) control...</td>\n",
       "      <td>Ubiquitination of the TrkA neurotrophin recept...</td>\n",
       "      <td></td>\n",
       "      <td></td>\n",
       "    </tr>\n",
       "    <tr>\n",
       "      <th>2</th>\n",
       "      <td>T0</td>\n",
       "      <td>Functional Diversity of Cytotoxic tRNase/immun...</td>\n",
       "      <td>Contact-dependent growth inhibition (CDI) is a...</td>\n",
       "      <td></td>\n",
       "      <td></td>\n",
       "    </tr>\n",
       "    <tr>\n",
       "      <th>3</th>\n",
       "      <td>T0</td>\n",
       "      <td>Identification of a distinct substrate binding...</td>\n",
       "      <td>The type III secretion system (T3SS) effector ...</td>\n",
       "      <td></td>\n",
       "      <td></td>\n",
       "    </tr>\n",
       "    <tr>\n",
       "      <th>4</th>\n",
       "      <td>T0</td>\n",
       "      <td>Role of chondroitin sulfate (CS) modification ...</td>\n",
       "      <td>Protein tyrosine phosphatase receptor type Z (...</td>\n",
       "      <td></td>\n",
       "      <td></td>\n",
       "    </tr>\n",
       "    <tr>\n",
       "      <th>5</th>\n",
       "      <td>T0</td>\n",
       "      <td>Chemically programmed bispecific antibodies in...</td>\n",
       "      <td>Chemically programmed bispecific antibodies (b...</td>\n",
       "      <td></td>\n",
       "      <td></td>\n",
       "    </tr>\n",
       "    <tr>\n",
       "      <th>6</th>\n",
       "      <td>T0</td>\n",
       "      <td>Non-mutagenic Suppression of Enterocyte Ferrop...</td>\n",
       "      <td>Iron transfer across the basolateral membrane ...</td>\n",
       "      <td></td>\n",
       "      <td></td>\n",
       "    </tr>\n",
       "    <tr>\n",
       "      <th>7</th>\n",
       "      <td>T0</td>\n",
       "      <td>Structural plasticity of cholesteryl ester tra...</td>\n",
       "      <td>Cholesteryl ester transfer protein (CETP) medi...</td>\n",
       "      <td></td>\n",
       "      <td></td>\n",
       "    </tr>\n",
       "    <tr>\n",
       "      <th>8</th>\n",
       "      <td>T0</td>\n",
       "      <td>Identification of a Membrane-Bound Prepore Spe...</td>\n",
       "      <td>Pore-forming toxins (PFT) are cytolytic protei...</td>\n",
       "      <td></td>\n",
       "      <td></td>\n",
       "    </tr>\n",
       "    <tr>\n",
       "      <th>9</th>\n",
       "      <td>T0</td>\n",
       "      <td>EspR-dependent ESAT-6 secretion of Mycobacteri...</td>\n",
       "      <td>Attenuation of M. bovis BCG strain is related ...</td>\n",
       "      <td></td>\n",
       "      <td></td>\n",
       "    </tr>\n",
       "  </tbody>\n",
       "</table>\n",
       "</div>"
      ],
      "text/plain": [
       "  label                                              title  \\\n",
       "0    T0  Quantification of the relative contributions o...   \n",
       "1    T0  Ubiquitin Specific Protease 36 (USP36) control...   \n",
       "2    T0  Functional Diversity of Cytotoxic tRNase/immun...   \n",
       "3    T0  Identification of a distinct substrate binding...   \n",
       "4    T0  Role of chondroitin sulfate (CS) modification ...   \n",
       "5    T0  Chemically programmed bispecific antibodies in...   \n",
       "6    T0  Non-mutagenic Suppression of Enterocyte Ferrop...   \n",
       "7    T0  Structural plasticity of cholesteryl ester tra...   \n",
       "8    T0  Identification of a Membrane-Bound Prepore Spe...   \n",
       "9    T0  EspR-dependent ESAT-6 secretion of Mycobacteri...   \n",
       "\n",
       "                                            abstract qualifier_terms  \\\n",
       "0  Amyotrophic lateral sclerosis (ALS) and fronto...                   \n",
       "1  Ubiquitination of the TrkA neurotrophin recept...                   \n",
       "2  Contact-dependent growth inhibition (CDI) is a...                   \n",
       "3  The type III secretion system (T3SS) effector ...                   \n",
       "4  Protein tyrosine phosphatase receptor type Z (...                   \n",
       "5  Chemically programmed bispecific antibodies (b...                   \n",
       "6  Iron transfer across the basolateral membrane ...                   \n",
       "7  Cholesteryl ester transfer protein (CETP) medi...                   \n",
       "8  Pore-forming toxins (PFT) are cytolytic protei...                   \n",
       "9  Attenuation of M. bovis BCG strain is related ...                   \n",
       "\n",
       "  descriptor_terms  \n",
       "0                   \n",
       "1                   \n",
       "2                   \n",
       "3                   \n",
       "4                   \n",
       "5                   \n",
       "6                   \n",
       "7                   \n",
       "8                   \n",
       "9                   "
      ]
     },
     "execution_count": 384,
     "metadata": {},
     "output_type": "execute_result"
    }
   ],
   "source": [
    "df[0:10]"
   ]
  },
  {
   "cell_type": "code",
   "execution_count": 385,
   "metadata": {
    "collapsed": false
   },
   "outputs": [],
   "source": [
    "df['boolean_label'] = 1\n",
    "for row in df.iterrows():\n",
    "    if row[1]['label'] != 'T0':\n",
    "        df.set_value(row[0], 'boolean_label', 0)"
   ]
  },
  {
   "cell_type": "code",
   "execution_count": 386,
   "metadata": {
    "collapsed": false
   },
   "outputs": [
    {
     "name": "stdout",
     "output_type": "stream",
     "text": [
      "('ROUND', 1)\n",
      "Cleaning and parsing the training set abstracts...\n",
      "\n",
      "77637\n",
      "Creating the bag of words...\n",
      "\n",
      "5000\n",
      "(77637, 5000)\n",
      "Cleaning and parsing the test set abstracts...\n",
      "\n",
      "Adding tfidf weights and converting to Bag of Words...\n",
      "0:05:05\n"
     ]
    }
   ],
   "source": [
    "a = datetime.datetime.now().replace(microsecond=0)\n",
    "\n",
    "y = df['label'].values\n",
    "skf = StratifiedKFold(y, n_folds=5, shuffle=True)\n",
    "\n",
    "#include mesh terms in bag of words?\n",
    "mesh_terms = False\n",
    "#remove stopwords?\n",
    "stops = True\n",
    "#if we want to set max features or not for the BOWs\n",
    "maxF = 5000\n",
    "#if want to stem\n",
    "stem = True\n",
    "\n",
    "j = 1\n",
    "avgT0 = []\n",
    "avgT1T2 = []\n",
    "avgT3T4 = []\n",
    "for train_index, test_index in skf:\n",
    "    #get first test/train split and use\n",
    "    if j == 1:\n",
    "\n",
    "        print(\"ROUND\", j)\n",
    "        j = j + 1\n",
    "        #use the indexes to subset the df pandas dataframe\n",
    "        train1, test1 = df.iloc[train_index], df.iloc[test_index]\n",
    "\n",
    "        print \"Cleaning and parsing the training set abstracts...\\n\"\n",
    "        # Initialize an empty list to hold the clean reviews\n",
    "        clean_train_reviews = []\n",
    "\n",
    "        # Loop over each review; create an index i that goes from 0 to the length\n",
    "        # of the pandas df column\n",
    "        for i in range(train1[\"abstract\"].size):\n",
    "            # Call our function for each one, and add the result to the list of\n",
    "            # clean reviews\n",
    "            words = KaggleWord2VecUtility.review_to_words( train1[\"abstract\"].iloc[i], remove_stopwords=stops, stemmer=stem)\n",
    "            words = words + ' ' + KaggleWord2VecUtility.review_to_words( train1[\"title\"].iloc[i], remove_stopwords=stops, stemmer=stem)\n",
    "            if mesh_terms:\n",
    "                words = words + ' ' + KaggleWord2VecUtility.review_to_words( train1[\"descriptor_terms\"].iloc[i], remove_stopwords=stops, stemmer=stem)\n",
    "                words = words + ' ' + KaggleWord2VecUtility.review_to_words( train1[\"qualifier_terms\"].iloc[i], remove_stopwords=stops, stemmer=stem)\n",
    "            clean_train_reviews.append(words)\n",
    "\n",
    "        print len(clean_train_reviews)\n",
    "\n",
    "        #with tfidf word weighting\n",
    "        #uses L2 norm by default\n",
    "        print \"Creating the bag of words...\\n\"\n",
    "\n",
    "        # Initialize the \"TfidfVectorizer\" object, which is scikit-learn's\n",
    "        # bag of words tool.  \n",
    "        vectorizer = TfidfVectorizer(analyzer = \"word\",   \\\n",
    "                                 tokenizer = None,    \\\n",
    "                                 preprocessor = None, \\\n",
    "                                #already removed stopwords when preprocessing reviews into words\n",
    "                                 stop_words = None,\n",
    "                                max_features = maxF)\n",
    "\n",
    "        # fit_transform() does two functions: First, it fits the model\n",
    "        # and learns the vocabulary; second, it transforms our training data\n",
    "        # into feature vectors. The input to fit_transform should be a list of \n",
    "        # strings.\n",
    "        train_data_features = vectorizer.fit_transform(clean_train_reviews)\n",
    "        print len(vectorizer.get_feature_names())\n",
    "\n",
    "        # Numpy arrays are easy to work with, so convert the result to an \n",
    "        # array\n",
    "        train_data_features = train_data_features.toarray()\n",
    "        print train_data_features.shape\n",
    "\n",
    "        #Moving on to test set...\n",
    "        # Create an empty list and append the clean reviews one by one\n",
    "        clean_test_reviews = [] \n",
    "\n",
    "        print \"Cleaning and parsing the test set abstracts...\\n\"\n",
    "        for i in range(test1[\"abstract\"].size):    \n",
    "            words = KaggleWord2VecUtility.review_to_words( test1[\"abstract\"].iloc[i], remove_stopwords=stops, stemmer=stem)\n",
    "            words = words + ' ' + KaggleWord2VecUtility.review_to_words( test1[\"title\"].iloc[i], remove_stopwords=stops, stemmer=stem)\n",
    "            if mesh_terms:\n",
    "                words = words + ' ' + KaggleWord2VecUtility.review_to_words( test1[\"descriptor_terms\"].iloc[i], remove_stopwords=stops, stemmer=stem)\n",
    "                words = words + ' ' + KaggleWord2VecUtility.review_to_words( test1[\"qualifier_terms\"].iloc[i], remove_stopwords=stops, stemmer=stem)\n",
    "            clean_test_reviews.append(words)\n",
    "\n",
    "        print \"Adding tfidf weights and converting to Bag of Words...\"\n",
    "        # Get a bag of words for the test set, and convert to a numpy array\n",
    "        test_data_features = vectorizer.transform(clean_test_reviews)\n",
    "        test_data_features = test_data_features.toarray()\n",
    "\n",
    "b = datetime.datetime.now().replace(microsecond=0)\n",
    "print(b-a)"
   ]
  },
  {
   "cell_type": "code",
   "execution_count": 387,
   "metadata": {
    "collapsed": false
   },
   "outputs": [
    {
     "name": "stdout",
     "output_type": "stream",
     "text": [
      "Using the decision tree to make sentiment label predictions...\n",
      "Scoring the test set\n",
      "0.894813198402\n"
     ]
    }
   ],
   "source": [
    "print \"Using the decision tree to make sentiment label predictions...\"\n",
    "forest = tree.DecisionTreeClassifier(min_samples_leaf=1000)\n",
    "forest = forest.fit( train_data_features, train1['boolean_label'] )\n",
    "result = forest.predict(test_data_features)\n",
    "\n",
    "print \"Scoring the test set\"\n",
    "\n",
    "# Compute ROC curve and ROC area for each class\n",
    "# fpr = dict()\n",
    "# tpr = dict()\n",
    "# roc_auc = dict()\n",
    "# for i in range(n_classes):\n",
    "#     fpr[i], tpr[i], _ = roc_curve(x_test[:, i], result[:, i])\n",
    "#     roc_auc[i] = auc(fpr[i], tpr[i])\n",
    "\n",
    "# print roc_auc\n",
    "\n",
    "print roc_auc_score(test1['boolean_label'], result)"
   ]
  },
  {
   "cell_type": "code",
   "execution_count": 390,
   "metadata": {
    "collapsed": false
   },
   "outputs": [],
   "source": [
    "# from sklearn import tree\n",
    "# forest = tree.DecisionTreeClassifier(min_samples_leaf=1000)\n",
    "# forest = forest.fit( train_data_features, train1['boolean_label'] )\n",
    "\n",
    "# feats = forest.feature_importances_\n",
    "\n",
    "with open('./original/treeNoStopsNoMeshStemmed.dot', 'w') as dotfile:\n",
    "    tree.export_graphviz(\n",
    "        forest,\n",
    "        dotfile,\n",
    "        feature_names=vectorizer.get_feature_names(),\n",
    "        class_names=['T0','not T0']\n",
    "        )"
   ]
  },
  {
   "cell_type": "code",
   "execution_count": 76,
   "metadata": {
    "collapsed": false
   },
   "outputs": [
    {
     "name": "stdout",
     "output_type": "stream",
     "text": [
      "[ 0.         0.         0.        ...,  0.         0.0113479  0.       ]\n"
     ]
    }
   ],
   "source": [
    "print train_data_features[::,3311]"
   ]
  },
  {
   "cell_type": "markdown",
   "metadata": {},
   "source": [
    "## Testing words as features one by one"
   ]
  },
  {
   "cell_type": "code",
   "execution_count": 134,
   "metadata": {
    "collapsed": false
   },
   "outputs": [
    {
     "name": "stdout",
     "output_type": "stream",
     "text": [
      "[3311]\n",
      "(77637, 1)\n",
      "(19412, 1)\n"
     ]
    }
   ],
   "source": [
    "# Get value for patients as only feature\n",
    "names=vectorizer.get_feature_names()\n",
    "names = np.array([x.encode('UTF8') for x in names])\n",
    "column_inx = np.where(names == 'patients')[0]\n",
    "print column_inx\n",
    "\n",
    "features_patients_train = train_data_features[::,column_inx]\n",
    "print features_patients_train.shape\n",
    "features_patients_test = test_data_features[::,column_inx]\n",
    "print features_patients_test.shape"
   ]
  },
  {
   "cell_type": "code",
   "execution_count": 444,
   "metadata": {
    "collapsed": false
   },
   "outputs": [
    {
     "name": "stdout",
     "output_type": "stream",
     "text": [
      "3312\n",
      "3626\n",
      "(77637, 7)\n",
      "(19412, 7)\n",
      "[[ 0.          0.          0.         ...,  0.03555043  0.          0.09127225]\n",
      " [ 0.          0.          0.12315879 ...,  0.02160223  0.          0.        ]\n",
      " [ 0.          0.          0.12718985 ...,  0.03718215  0.          0.04773076]\n",
      " ..., \n",
      " [ 0.          0.          0.         ...,  0.          0.03800569  0.        ]\n",
      " [ 0.00997692  0.          0.         ...,  0.          0.02474163  0.        ]\n",
      " [ 0.          0.          0.         ...,  0.          0.04030108  0.        ]]\n"
     ]
    }
   ],
   "source": [
    "names=vectorizer.get_feature_names()\n",
    "names = np.array([x.encode('UTF8') for x in names])\n",
    "\n",
    "print np.where(names == 'patient')[0][0]\n",
    "print np.where(names == 'proof')[0][0]\n",
    "\n",
    "#column_inx must be in format [1,9] (a list)\n",
    "column_inx = []\n",
    "column_inx.append(np.where(names == 'patient')[0][0])\n",
    "column_inx.append(np.where(names == 'proof')[0][0])\n",
    "column_inx.append(np.where(names == 'protein')[0][0])\n",
    "column_inx.append(np.where(names == 'concept')[0][0])\n",
    "column_inx.append(np.where(names == 'cell')[0][0])\n",
    "column_inx.append(np.where(names == 'compar')[0][0])\n",
    "column_inx.append(np.where(names == 'express')[0][0])\n",
    "\n",
    "features_patients_train = train_data_features[::,column_inx]\n",
    "print features_patients_train.shape\n",
    "features_patients_test = test_data_features[::,column_inx]\n",
    "print features_patients_test.shape\n",
    "print features_patients_train"
   ]
  },
  {
   "cell_type": "code",
   "execution_count": 445,
   "metadata": {
    "collapsed": true
   },
   "outputs": [],
   "source": [
    "# This may take a few minutes to run\n",
    "forest = tree.DecisionTreeClassifier(min_samples_leaf=1000)\n",
    "forest = forest.fit( features_patients_train, train1['boolean_label'] )"
   ]
  },
  {
   "cell_type": "code",
   "execution_count": 419,
   "metadata": {
    "collapsed": false
   },
   "outputs": [],
   "source": [
    "with open('./original/treeNoStopsNoMeshPatients.dot', 'w') as dotfile:\n",
    "    tree.export_graphviz(\n",
    "        forest,\n",
    "        dotfile,\n",
    "        feature_names=['patient', 'proof'],\n",
    "        class_names=['T0','not T0']\n",
    "        )"
   ]
  },
  {
   "cell_type": "code",
   "execution_count": 406,
   "metadata": {
    "collapsed": false
   },
   "outputs": [
    {
     "name": "stdout",
     "output_type": "stream",
     "text": [
      "<type 'numpy.ndarray'>\n",
      "31655\n",
      "(77637, 1)\n",
      "Percent with score > 0.062 (the cutoff on printed decision tree) for 'patients':\n",
      "0.407679328155\n",
      "Percent with value of true: \n",
      "0.368741708206\n",
      "\n",
      "28628\n",
      "77637\n",
      "\n",
      "whats the overlap?\n",
      "0.350168089957\n"
     ]
    }
   ],
   "source": [
    "print type(train1['boolean_label'].values)\n",
    "print len(np.where(features_patients_train > 0.0)[0])\n",
    "print features_patients_train.shape\n",
    "print \"Percent with score > 0.062 (the cutoff on printed decision tree) for 'patients':\"\n",
    "print len(np.where(features_patients_train > 0.0062)[0])/float(features_patients_train.shape[0])\n",
    "print \"Percent with value of true: \"\n",
    "print len(np.where(train1['boolean_label'] == 1)[0])/float(len(train1))\n",
    "print \"\"\n",
    "print len(np.where(train1['boolean_label'] == 1)[0])\n",
    "print len(train1)\n",
    "print \"\"\n",
    "#print np.where(np.logical_and(train1['boolean_label'].as_matrix() ==1,features_patients_train == 0.0))\n",
    "print \"whats the overlap?\"\n",
    "inxs1 = np.where(features_patients_train <= 0.0062)[0]\n",
    "inxs2 = np.where(train1['boolean_label'] == 1)[0]\n",
    "print len(np.intersect1d(inxs1,inxs2))/float(len(train1))"
   ]
  },
  {
   "cell_type": "code",
   "execution_count": 446,
   "metadata": {
    "collapsed": false
   },
   "outputs": [
    {
     "name": "stdout",
     "output_type": "stream",
     "text": [
      "Using the random forest to make sentiment label predictions...\n",
      "(19412, 7)\n",
      "Scoring the test set\n",
      "0.841469525116\n"
     ]
    }
   ],
   "source": [
    "print \"Using the random forest to make sentiment label predictions...\"\n",
    "result = forest.predict(features_patients_test)\n",
    "print features_patients_test.shape\n",
    "\n",
    "print \"Scoring the test set\"\n",
    "\n",
    "# Compute ROC curve and ROC area for each class\n",
    "# fpr = dict()\n",
    "# tpr = dict()\n",
    "# roc_auc = dict()\n",
    "# for i in range(n_classes):\n",
    "#     fpr[i], tpr[i], _ = roc_curve(x_test[:, i], result[:, i])\n",
    "#     roc_auc[i] = auc(fpr[i], tpr[i])\n",
    "\n",
    "# print roc_auc\n",
    "\n",
    "print roc_auc_score(test1['boolean_label'], result)"
   ]
  },
  {
   "cell_type": "code",
   "execution_count": 447,
   "metadata": {
    "collapsed": false
   },
   "outputs": [
    {
     "name": "stdout",
     "output_type": "stream",
     "text": [
      "(354, 7)\n",
      "Using the random forest to make sentiment label predictions...\n",
      "Scoring the test set\n",
      "0.617091049383\n"
     ]
    }
   ],
   "source": [
    "#Also on validation:\n",
    "features_patients_val = test_data_features_val[::,column_inx]\n",
    "print features_patients_val.shape\n",
    "\n",
    "print \"Using the random forest to make sentiment label predictions...\"\n",
    "resultVal = forest.predict(features_patients_val)\n",
    "\n",
    "print \"Scoring the test set\"\n",
    "\n",
    "# Compute ROC curve and ROC area for each class\n",
    "# fpr = dict()\n",
    "# tpr = dict()\n",
    "# roc_auc = dict()\n",
    "# for i in range(n_classes):\n",
    "#     fpr[i], tpr[i], _ = roc_curve(x_test[:, i], result[:, i])\n",
    "#     roc_auc[i] = auc(fpr[i], tpr[i])\n",
    "\n",
    "# print roc_auc\n",
    "\n",
    "print roc_auc_score(df_val['boolean_label'], resultVal)"
   ]
  },
  {
   "cell_type": "code",
   "execution_count": 448,
   "metadata": {
    "collapsed": false
   },
   "outputs": [
    {
     "name": "stdout",
     "output_type": "stream",
     "text": [
      "('average:', 0.84147750232986251)\n"
     ]
    }
   ],
   "source": [
    "#Also test on 55 subsets of test set of size ~350 each\n",
    "from sklearn.cross_validation import StratifiedKFold\n",
    "y = test1['boolean_label'].values\n",
    "skf = StratifiedKFold(y, n_folds=55, shuffle=True)\n",
    "\n",
    "avg = []\n",
    "for train_index, test_index in skf:\n",
    "\n",
    "    feats = features_patients_test[test_index, ::]\n",
    "    labs = test1['boolean_label'].iloc[test_index]\n",
    "#     print feats.shape\n",
    "#     print labs.shape\n",
    "\n",
    "    result = forest.predict(feats)\n",
    "    score = roc_auc_score(labs, result)\n",
    "    avg.append(score)\n",
    "    \n",
    "print ('average:', sum(avg)/float(len(avg)))"
   ]
  },
  {
   "cell_type": "markdown",
   "metadata": {},
   "source": [
    "### Misclassified as not T0"
   ]
  },
  {
   "cell_type": "code",
   "execution_count": 337,
   "metadata": {
    "collapsed": false
   },
   "outputs": [
    {
     "name": "stdout",
     "output_type": "stream",
     "text": [
      "(array([129, 131, 138, 139, 142, 144, 147, 148, 153, 155, 157, 158, 160,\n",
      "       161, 162, 165, 170, 173, 176, 178, 179, 180, 185, 187, 196, 202,\n",
      "       204, 206, 208, 209, 210, 214, 215, 218, 220, 222, 223, 224, 227,\n",
      "       232, 233, 234, 236, 237, 238, 239, 240, 241, 242, 243, 278, 280,\n",
      "       284, 286, 288, 290, 293, 294, 295, 298, 299, 300, 302, 306, 307,\n",
      "       308, 311, 312, 313, 314, 317, 319, 320, 324, 325, 330, 332, 335,\n",
      "       336, 337, 338, 340, 341, 343, 344, 349, 351]),)\n",
      "(354,)\n",
      "[0 1 0 0 0 1 0 1 0 0 0 1 1 0 1 0 1 0 0 1 0 0 0 0 0 1 1 1 0 1 1 0 1 0 1 1 0\n",
      " 1 1 0 0 1 1 0 0 1 0 0 0 0 1 0 0 0 0 0 1 0 0 0 1 0 0 1 1 0 0 1 0 1 0 0 0 0\n",
      " 0 0 0 0 0 0 0 1 0 0 1 1 0 0 0 0 0 0 0 0 1 1 1 0 0 0 1 0 0 0 0 1 0 1 1 0 0\n",
      " 0 1 0 1 0 0 1 0 1 0 1 0 1 1 1 0 1 1 1 0 0 0 0 0 0 0 0 0 0 0 0 0 0 0 0 0 0\n",
      " 1 0 0 0 1 0 0 1 0 1 1 0 0 0 0 0 0 0 0 0 0 0 0 0 0 0 0 0 0 0 0 0 0 0 0 0 0\n",
      " 0 0 0 0 0 0 0 0 0 0 0 0 0 0 0 0 0 0 0 0 0 0 0 1 0 0 0 0 0 0 0 0 0 0 0 0 0\n",
      " 0 0 0 0 0 0 0 0 0 0 0 0 0 1 0 0 0 0 0 0 1 0 0 0 0 0 0 0 0 1 0 1 0 0 0 0 0\n",
      " 0 1 0 0 0 0 0 0 0 0 1 0 0 0 0 0 1 1 1 1 0 0 0 0 0 0 0 0 0 1 0 0 0 0 0 0 0\n",
      " 0 0 0 0 1 0 0 0 0 0 0 0 0 0 0 0 0 1 0 0 0 0 0 0 0 0 0 0 0 0 0 0 0 0 0 0 0\n",
      " 0 0 0 0 0 0 0 0 1 0 0 0 0 0 1 0 0 0 0 0 0]\n",
      "[1 1 1 1 1 1 1 1 1 1 1 1 1 1 1 1 1 1 1 1 1 1 1 1 1 1 1 1 1 1 1 1 1 1 1 1 1\n",
      " 1 1 1 1 1 1 1 1 1 1 1 1 1 1 1 1 1 1 1 1 1 1 1 1 1 1 1 1 1 1 1 1 1 1 1 1 1\n",
      " 1 1 1 1 1 1 1 1 1 1 1 1 1 1 1 1 1 1 1 1 1 1 1 1 1 1 1 1 1 1 1 1 1 1 1 1 1\n",
      " 1 1 1 1 1 1 1 1 1 1 1 1 1 1 1 1 1 1 0 0 0 0 0 0 0 0 0 0 0 0 0 0 0 0 0 0 0\n",
      " 0 0 0 0 0 0 0 0 0 0 0 0 0 0 0 0 0 0 0 0 0 0 0 0 0 0 0 0 0 0 0 0 0 0 0 0 0\n",
      " 0 0 0 0 0 0 0 0 0 0 0 0 0 0 0 0 0 0 0 0 0 0 0 0 0 0 0 0 0 0 0 0 0 0 0 0 0\n",
      " 0 0 0 0 0 0 0 0 0 0 0 0 0 0 0 0 0 0 0 0 0 0 0 1 1 1 1 1 1 1 1 1 1 1 1 1 1\n",
      " 1 1 1 1 1 1 1 1 1 1 1 1 1 1 1 1 1 1 1 0 0 0 0 0 0 0 0 0 0 0 0 0 0 0 0 0 0\n",
      " 0 0 0 0 0 0 0 0 0 0 0 0 0 0 0 0 0 0 0 0 0 0 0 0 0 0 0 0 0 0 0 0 0 0 0 0 0\n",
      " 0 0 0 0 0 0 0 0 0 0 0 0 0 0 0 0 0 0 0 0 0]\n"
     ]
    }
   ],
   "source": [
    "#get an abstract from a review that failed to classify in df_val\n",
    "test_data_features_val.shape\n",
    "print np.where((df_val['boolean_label'] == 0) & (resultVal == 1))\n",
    "print result_val.shape\n",
    "print result_val\n",
    "print df_val['boolean_label'].as_matrix()"
   ]
  },
  {
   "cell_type": "code",
   "execution_count": 360,
   "metadata": {
    "collapsed": false
   },
   "outputs": [
    {
     "name": "stdout",
     "output_type": "stream",
     "text": [
      "True Value:\n",
      "1\n",
      "Predicted Value:\n",
      "0\n",
      "Abstract: \n",
      "To obtain quantitative neurometabolite measurements, specifically myoinositol (mI) and glutamate plus glutamine (Glx), markers of glial and neuronal excitation, in deep gray matter structures after mild traumatic brain injury (mTBI) using proton magnetic resonance spectroscopy ((1)H-MRS) and to compare these measurements against normal healthy control subjects.This study approved by the institutional review board is Health Insurance Portability and Accountability Act compliant. T1-weighted MRI and multi-voxel (1)H-MRS imaging were acquired at 3 tesla from 26 patients with mTBI an average of 22 days postinjury and from 13 age-matched healthy controls. Two-way analysis of variance was used to compare patients and controls for mean N-acetylaspartate, choline, creatine (Cr), Glx, and mI levels as well as the respective ratios to Cr within the caudate, globus pallidus, putamen, and thalamus.Quantitative putaminal mI was higher in patients with mTBI compared with controls (p = 0.02). Quantitative neurometabolite ratios of putaminal mI and Glx relative to Cr, mI/Cr, and Glx/Cr were also higher among patients with mTBI compared with controls (p = 0.01 and 0.02, respectively). No other differences in neurometabolite levels or ratios were observed in any other brain region evaluated.Increased putaminal mI, mI/Cr, and Glx/Cr in patients after mTBI compared with control subjects supports the notion of a complex glial and excitatory response to injury without concomitant neuronal loss, evidenced by preserved N-acetylaspartate levels in this region.\n",
      "Title:\n",
      "Myoinositol and glutamate complex neurometabolite abnormality after mild traumatic brain injury.\n",
      "Tfidf score for 'patients':\n",
      "[ 0.11097868]\n"
     ]
    }
   ],
   "source": [
    "print \"True Value:\"\n",
    "print df_val['boolean_label'].iloc[6]\n",
    "print \"Predicted Value:\"\n",
    "print result_val[6]\n",
    "print \"Abstract: \"\n",
    "print df_val['abstract'].iloc[6]\n",
    "print \"Title:\"\n",
    "print df_val['title'].iloc[6]\n",
    "print \"Tfidf score for 'patients':\"\n",
    "print features_patients_val[6]"
   ]
  },
  {
   "cell_type": "code",
   "execution_count": 331,
   "metadata": {
    "collapsed": false
   },
   "outputs": [
    {
     "name": "stdout",
     "output_type": "stream",
     "text": [
      "obtain quantitative neurometabolite measurements specifically myoinositol mi glutamate plus glutamine glx markers glial neuronal excitation deep gray matter structures mild traumatic brain injury mtbi using proton magnetic resonance spectroscopy h mrs compare measurements normal healthy control subjects study approved institutional review board health insurance portability accountability act compliant weighted mri multi voxel h mrs imaging acquired tesla patients mtbi average days postinjury age matched healthy controls two way analysis variance used compare patients controls mean n acetylaspartate choline creatine cr glx mi levels well respective ratios cr within caudate globus pallidus putamen thalamus quantitative putaminal mi higher patients mtbi compared controls p quantitative neurometabolite ratios putaminal mi glx relative cr mi cr glx cr also higher among patients mtbi compared controls p respectively differences neurometabolite levels ratios observed brain region evaluated increased putaminal mi mi cr glx cr patients mtbi compared control subjects supports notion complex glial excitatory response injury without concomitant neuronal loss evidenced preserved n acetylaspartate levels region myoinositol glutamate complex neurometabolite abnormality mild traumatic brain injury\n"
     ]
    }
   ],
   "source": [
    "print clean_test_reviews_val[6]\n",
    "# print ''\n",
    "# for i in range(len(test_data_features_val)):\n",
    "#     if test_data_features_val[0][i] != 0:\n",
    "#         print test_data_features_val[0][i]\n",
    "#         print vectorizer.get_feature_names()[i]"
   ]
  },
  {
   "cell_type": "markdown",
   "metadata": {},
   "source": [
    "### Misclassified as T0 but not actually"
   ]
  },
  {
   "cell_type": "code",
   "execution_count": 330,
   "metadata": {
    "collapsed": false
   },
   "outputs": [
    {
     "name": "stdout",
     "output_type": "stream",
     "text": [
      "True Value:\n",
      "0\n",
      "Predicted Value:\n",
      "1\n",
      "Abstract: \n",
      "Little is known about the effects of different quantities of whey protein on exercise training-induced changes in body composition and indices of metabolic syndrome in middle-aged overweight and obese adults. Therefore, we examined the effects of consuming 0.8-MJ supplements with 0 (n = 126), 10 (n = 112), 20 (n = 44), or 30 (n = 45) g whey protein twice daily in conjunction with resistance (2 d/wk) and aerobic (1 d/wk) exercise training in a double-blind, randomized, placebo-controlled, community-based 9-mo study in men (n = 117) and women (n = 210); (age: 48 ± 7.9 y; BMI: 30.0 ± 2.8 kg/m(2)). Whey protein supplementation did not influence any of the following outcomes, some of which were affected by training. Among all participants, strength increased by 15 ± 12% (P < 0.001) and maximal oxygen uptake capacity (VO(2)max) increased by 9 ± 15% (P < 0.001). Body weight was unchanged (0.1 ± 3.7 kg, P = 0.80), lean body mass increased by 1.9 ± 2.8% (0.95 ± 1.3 kg, P < 0.001), and fat mass decreased by 2.6 ± 9.4% (-0.86 ± 3.1 kg, P = 0.001). Oral-glucose-tolerance testing showed that plasma glucose AUC was unchanged (-18.0 ± 170 mmol/L·  3 h, P = 0.16), insulin AUC decreased by 2.6 ± 32% (-7.5 ± 29 nmol/L·  3 h, P = 0.01), and HOMA-IR (0.2 ± 2.0, P = 0.81) and the insulin sensitivity index (0.3 ± 3.0, P = 0.63) were unchanged. Plasma concentrations of TG; total, LDL, and HDL cholesterol; C-reactive protein; plasminogen activator inhibitor-1; blood pressure; and waist circumference were unchanged. Whey protein supplementation did not affect exercise training-induced responses in body composition and indices of metabolic syndrome in middle-aged overweight and obese adults who maintained body weight.\n",
      "Title:\n",
      "Whey protein supplementation does not affect exercise training-induced changes in body composition and indices of metabolic syndrome in middle-aged overweight and obese adults.\n",
      "Tfidf score for patients:\n",
      "[ 0.]\n"
     ]
    }
   ],
   "source": [
    "print \"True Value:\"\n",
    "print df_val['boolean_label'].iloc[129]\n",
    "print \"Predicted Value:\"\n",
    "print result_val[129]\n",
    "print \"Abstract: \"\n",
    "print df_val['abstract'].iloc[129]\n",
    "print \"Title:\"\n",
    "print df_val['title'].iloc[129]\n",
    "print \"Tfidf score for patients:\"\n",
    "print features_patients_val[129]"
   ]
  },
  {
   "cell_type": "code",
   "execution_count": 361,
   "metadata": {
    "collapsed": false
   },
   "outputs": [
    {
     "name": "stdout",
     "output_type": "stream",
     "text": [
      "little known effects different quantities whey protein exercise training induced changes body composition indices metabolic syndrome middle aged overweight obese adults therefore examined effects consuming mj supplements n n n n g whey protein twice daily conjunction resistance wk aerobic wk exercise training double blind randomized placebo controlled community based mo study men n women n age bmi kg whey protein supplementation influence following outcomes affected training among participants strength increased p whey protein supplementation affect exercise training induced changes body composition indices metabolic syndrome middle aged overweight obese adults\n"
     ]
    }
   ],
   "source": [
    "print clean_test_reviews_val[129]"
   ]
  },
  {
   "cell_type": "markdown",
   "metadata": {},
   "source": [
    "### Correctly classified as T0"
   ]
  },
  {
   "cell_type": "code",
   "execution_count": null,
   "metadata": {
    "collapsed": true
   },
   "outputs": [],
   "source": []
  },
  {
   "cell_type": "markdown",
   "metadata": {},
   "source": [
    "### Correctly classified as not T0"
   ]
  },
  {
   "cell_type": "code",
   "execution_count": null,
   "metadata": {
    "collapsed": true
   },
   "outputs": [],
   "source": []
  },
  {
   "cell_type": "markdown",
   "metadata": {
    "collapsed": true
   },
   "source": [
    "### External validation on paper's dataset"
   ]
  },
  {
   "cell_type": "code",
   "execution_count": 409,
   "metadata": {
    "collapsed": true
   },
   "outputs": [],
   "source": [
    "df_val = pickle.load(open('/mnt/mypartition/pubmed_nlp_research/C_article_replication_and_translational_classification/df.p', 'rb'))"
   ]
  },
  {
   "cell_type": "code",
   "execution_count": 410,
   "metadata": {
    "collapsed": false
   },
   "outputs": [
    {
     "name": "stdout",
     "output_type": "stream",
     "text": [
      "(354, 6)\n",
      "['pmid' 'title' 'abstract' 'qualifier_terms' 'descriptor_terms' 'label']\n",
      "['T0' 'T1/T2' 'T3/T4' 'TX']\n"
     ]
    },
    {
     "data": {
      "text/html": [
       "<div>\n",
       "<table border=\"1\" class=\"dataframe\">\n",
       "  <thead>\n",
       "    <tr style=\"text-align: right;\">\n",
       "      <th></th>\n",
       "      <th>pmid</th>\n",
       "      <th>title</th>\n",
       "      <th>abstract</th>\n",
       "      <th>qualifier_terms</th>\n",
       "      <th>descriptor_terms</th>\n",
       "      <th>label</th>\n",
       "    </tr>\n",
       "  </thead>\n",
       "  <tbody>\n",
       "    <tr>\n",
       "      <th>0</th>\n",
       "      <td>23195993</td>\n",
       "      <td>Gene expression profiles in peripheral blood m...</td>\n",
       "      <td>Occupational exposure to nickel (Ni) is associ...</td>\n",
       "      <td>genetics metabolism epidemiology drug effects ...</td>\n",
       "      <td>Adult Asian Continental Ancestry Group Biomark...</td>\n",
       "      <td>T0</td>\n",
       "    </tr>\n",
       "    <tr>\n",
       "      <th>1</th>\n",
       "      <td>25077433</td>\n",
       "      <td>SOX2 is a cancer-specific regulator of tumour ...</td>\n",
       "      <td>Although the principles that balance stem cell...</td>\n",
       "      <td>genetics metabolism pathology metabolism patho...</td>\n",
       "      <td>Animals Carcinoma, Squamous Cell Cell Line, Tu...</td>\n",
       "      <td>T0</td>\n",
       "    </tr>\n",
       "    <tr>\n",
       "      <th>2</th>\n",
       "      <td>24107601</td>\n",
       "      <td>Imaging and cerebrospinal fluid biomarkers in ...</td>\n",
       "      <td>The pathophysiological process of Alzheimer's ...</td>\n",
       "      <td>cerebrospinal fluid genetics radionuclide imag...</td>\n",
       "      <td>Aged Aged, 80 and over Alzheimer Disease Amylo...</td>\n",
       "      <td>T0</td>\n",
       "    </tr>\n",
       "    <tr>\n",
       "      <th>3</th>\n",
       "      <td>24891029</td>\n",
       "      <td>Preliminary evidence of cognitive and brain ab...</td>\n",
       "      <td>To ascertain whether pediatric obesity without...</td>\n",
       "      <td>pathology physiopathology physiopathology</td>\n",
       "      <td>Adolescent Attention Brain Cognition Executive...</td>\n",
       "      <td>T0</td>\n",
       "    </tr>\n",
       "    <tr>\n",
       "      <th>4</th>\n",
       "      <td>21691448</td>\n",
       "      <td>Obese Adolescents with Type 2 Diabetes Mellitu...</td>\n",
       "      <td>The rates of type 2 diabetes (T2DM) continue t...</td>\n",
       "      <td></td>\n",
       "      <td></td>\n",
       "      <td>T0</td>\n",
       "    </tr>\n",
       "    <tr>\n",
       "      <th>5</th>\n",
       "      <td>22765222</td>\n",
       "      <td>Diversity of 5S rRNA genes within individual p...</td>\n",
       "      <td>We examined intragenomic variation of paralogo...</td>\n",
       "      <td>chemistry classification genetics chemistry ge...</td>\n",
       "      <td>Bacteria DNA, Ribosomal Databases, Nucleic Aci...</td>\n",
       "      <td>T0</td>\n",
       "    </tr>\n",
       "    <tr>\n",
       "      <th>6</th>\n",
       "      <td>24401686</td>\n",
       "      <td>Myoinositol and glutamate complex neurometabol...</td>\n",
       "      <td>To obtain quantitative neurometabolite measure...</td>\n",
       "      <td>analogs &amp; derivatives metabolism metabolism me...</td>\n",
       "      <td>Adult Aspartic Acid Brain Injuries Case-Contro...</td>\n",
       "      <td>T0</td>\n",
       "    </tr>\n",
       "    <tr>\n",
       "      <th>7</th>\n",
       "      <td>22914093</td>\n",
       "      <td>Antibiotics in early life alter the murine col...</td>\n",
       "      <td>Antibiotics administered in low doses have bee...</td>\n",
       "      <td>drug effects physiology administration &amp; dosag...</td>\n",
       "      <td>Adiposity Age Factors Animals Anti-Bacterial A...</td>\n",
       "      <td>T0</td>\n",
       "    </tr>\n",
       "    <tr>\n",
       "      <th>8</th>\n",
       "      <td>23426830</td>\n",
       "      <td>Elevated serum anti-Müllerian hormone in adole...</td>\n",
       "      <td>Serum anti-Müllerian hormone (AMH) is linked t...</td>\n",
       "      <td>blood pathology ultrasonography blood ultrason...</td>\n",
       "      <td>Adolescent Anti-Mullerian Hormone Child Female...</td>\n",
       "      <td>T0</td>\n",
       "    </tr>\n",
       "    <tr>\n",
       "      <th>9</th>\n",
       "      <td>24344399</td>\n",
       "      <td>Association of obesity-mediated insulin resist...</td>\n",
       "      <td>The hypothalamus is important in hunger and me...</td>\n",
       "      <td>blood analysis anatomy &amp; histology blood blood...</td>\n",
       "      <td>Adolescent Adult Brain-Derived Neurotrophic Fa...</td>\n",
       "      <td>T0</td>\n",
       "    </tr>\n",
       "  </tbody>\n",
       "</table>\n",
       "</div>"
      ],
      "text/plain": [
       "       pmid                                              title  \\\n",
       "0  23195993  Gene expression profiles in peripheral blood m...   \n",
       "1  25077433  SOX2 is a cancer-specific regulator of tumour ...   \n",
       "2  24107601  Imaging and cerebrospinal fluid biomarkers in ...   \n",
       "3  24891029  Preliminary evidence of cognitive and brain ab...   \n",
       "4  21691448  Obese Adolescents with Type 2 Diabetes Mellitu...   \n",
       "5  22765222  Diversity of 5S rRNA genes within individual p...   \n",
       "6  24401686  Myoinositol and glutamate complex neurometabol...   \n",
       "7  22914093  Antibiotics in early life alter the murine col...   \n",
       "8  23426830  Elevated serum anti-Müllerian hormone in adole...   \n",
       "9  24344399  Association of obesity-mediated insulin resist...   \n",
       "\n",
       "                                            abstract  \\\n",
       "0  Occupational exposure to nickel (Ni) is associ...   \n",
       "1  Although the principles that balance stem cell...   \n",
       "2  The pathophysiological process of Alzheimer's ...   \n",
       "3  To ascertain whether pediatric obesity without...   \n",
       "4  The rates of type 2 diabetes (T2DM) continue t...   \n",
       "5  We examined intragenomic variation of paralogo...   \n",
       "6  To obtain quantitative neurometabolite measure...   \n",
       "7  Antibiotics administered in low doses have bee...   \n",
       "8  Serum anti-Müllerian hormone (AMH) is linked t...   \n",
       "9  The hypothalamus is important in hunger and me...   \n",
       "\n",
       "                                     qualifier_terms  \\\n",
       "0  genetics metabolism epidemiology drug effects ...   \n",
       "1  genetics metabolism pathology metabolism patho...   \n",
       "2  cerebrospinal fluid genetics radionuclide imag...   \n",
       "3          pathology physiopathology physiopathology   \n",
       "4                                                      \n",
       "5  chemistry classification genetics chemistry ge...   \n",
       "6  analogs & derivatives metabolism metabolism me...   \n",
       "7  drug effects physiology administration & dosag...   \n",
       "8  blood pathology ultrasonography blood ultrason...   \n",
       "9  blood analysis anatomy & histology blood blood...   \n",
       "\n",
       "                                    descriptor_terms label  \n",
       "0  Adult Asian Continental Ancestry Group Biomark...    T0  \n",
       "1  Animals Carcinoma, Squamous Cell Cell Line, Tu...    T0  \n",
       "2  Aged Aged, 80 and over Alzheimer Disease Amylo...    T0  \n",
       "3  Adolescent Attention Brain Cognition Executive...    T0  \n",
       "4                                                       T0  \n",
       "5  Bacteria DNA, Ribosomal Databases, Nucleic Aci...    T0  \n",
       "6  Adult Aspartic Acid Brain Injuries Case-Contro...    T0  \n",
       "7  Adiposity Age Factors Animals Anti-Bacterial A...    T0  \n",
       "8  Adolescent Anti-Mullerian Hormone Child Female...    T0  \n",
       "9  Adolescent Adult Brain-Derived Neurotrophic Fa...    T0  "
      ]
     },
     "execution_count": 410,
     "metadata": {},
     "output_type": "execute_result"
    }
   ],
   "source": [
    "#check that column names are the same\n",
    "print df_val.shape\n",
    "print df_val.columns.values\n",
    "print df_val['label'].unique()\n",
    "df_val[0:10]"
   ]
  },
  {
   "cell_type": "code",
   "execution_count": 411,
   "metadata": {
    "collapsed": true
   },
   "outputs": [],
   "source": [
    "df_val['boolean_label'] = 1\n",
    "for row in df_val.iterrows():\n",
    "    if row[1]['label'] != 'T0':\n",
    "        df_val.set_value(row[0], 'boolean_label', 0)"
   ]
  },
  {
   "cell_type": "code",
   "execution_count": 261,
   "metadata": {
    "collapsed": false
   },
   "outputs": [
    {
     "name": "stdout",
     "output_type": "stream",
     "text": [
      "324\n"
     ]
    }
   ],
   "source": [
    "#Optional: Remove 'TX' scores to test performance\n",
    "df_val = df_val[df_val['label'] != 'TX']\n",
    "print len(df_val)"
   ]
  },
  {
   "cell_type": "code",
   "execution_count": 412,
   "metadata": {
    "collapsed": false
   },
   "outputs": [
    {
     "name": "stdout",
     "output_type": "stream",
     "text": [
      "Cleaning and parsing the test set abstracts...\n",
      "\n",
      "Adding tfidf weights and converting to Bag of Words...\n"
     ]
    }
   ],
   "source": [
    "#Moving on to test set...\n",
    "# Create an empty list and append the clean reviews one by one\n",
    "clean_test_reviews_val = [] \n",
    "\n",
    "print \"Cleaning and parsing the test set abstracts...\\n\"\n",
    "for i in range(df_val[\"abstract\"].size):    \n",
    "    words = KaggleWord2VecUtility.review_to_words( df_val[\"abstract\"].iloc[i], remove_stopwords=stops, stemmer=stem)\n",
    "    words = words + ' ' + KaggleWord2VecUtility.review_to_words( df_val[\"title\"].iloc[i], remove_stopwords=stops, stemmer=stem)\n",
    "    if mesh_terms:\n",
    "        words = words + ' ' + KaggleWord2VecUtility.review_to_words( df_val[\"descriptor_terms\"].iloc[i], remove_stopwords=stops, stemmer=stem)\n",
    "        words = words + ' ' + KaggleWord2VecUtility.review_to_words( df_val[\"qualifier_terms\"].iloc[i], remove_stopwords=stops, stemmer=stem)\n",
    "    clean_test_reviews_val.append(words)\n",
    "\n",
    "print \"Adding tfidf weights and converting to Bag of Words...\"\n",
    "# Get a bag of words for the test set, and convert to a numpy array\n",
    "test_data_features_val = vectorizer.transform(clean_test_reviews_val)\n",
    "test_data_features_val = test_data_features_val.toarray()"
   ]
  },
  {
   "cell_type": "code",
   "execution_count": 13,
   "metadata": {
    "collapsed": false
   },
   "outputs": [],
   "source": [
    "#our vocab is in the vectorizer- same for all\n",
    "pickle.dump(vectorizer, open('/mnt/mypartition/pubmed_nlp_research/C_article_replication_and_translational_classification/meeting/vectorizerMeeting.p', 'wb'))\n",
    "pickle.dump(forest, open('/mnt/mypartition/pubmed_nlp_research/C_article_replication_and_translational_classification/meeting/forestMeeting.p', 'wb'))"
   ]
  },
  {
   "cell_type": "code",
   "execution_count": 413,
   "metadata": {
    "collapsed": false
   },
   "outputs": [
    {
     "ename": "ValueError",
     "evalue": "Number of features of the model must  match the input. Model n_features is 1 and  input n_features is 5000 ",
     "output_type": "error",
     "traceback": [
      "\u001b[1;31m---------------------------------------------------------------------------\u001b[0m",
      "\u001b[1;31mValueError\u001b[0m                                Traceback (most recent call last)",
      "\u001b[1;32m<ipython-input-413-c579301d752a>\u001b[0m in \u001b[0;36m<module>\u001b[1;34m()\u001b[0m\n\u001b[1;32m----> 1\u001b[1;33m \u001b[0mresult\u001b[0m \u001b[1;33m=\u001b[0m \u001b[0mforest\u001b[0m\u001b[1;33m.\u001b[0m\u001b[0mpredict\u001b[0m\u001b[1;33m(\u001b[0m\u001b[0mtest_data_features_val\u001b[0m\u001b[1;33m)\u001b[0m\u001b[1;33m\u001b[0m\u001b[0m\n\u001b[0m\u001b[0;32m      2\u001b[0m \u001b[1;32mfrom\u001b[0m \u001b[0msklearn\u001b[0m\u001b[1;33m.\u001b[0m\u001b[0mmetrics\u001b[0m \u001b[1;32mimport\u001b[0m \u001b[0mroc_auc_score\u001b[0m\u001b[1;33m\u001b[0m\u001b[0m\n\u001b[0;32m      3\u001b[0m \u001b[1;32mprint\u001b[0m \u001b[0mroc_auc_score\u001b[0m\u001b[1;33m(\u001b[0m\u001b[0mdf_val\u001b[0m\u001b[1;33m[\u001b[0m\u001b[1;34m'boolean_label'\u001b[0m\u001b[1;33m]\u001b[0m\u001b[1;33m,\u001b[0m\u001b[0mresult\u001b[0m\u001b[1;33m)\u001b[0m\u001b[1;33m\u001b[0m\u001b[0m\n",
      "\u001b[1;32m/home/nlp-vm/anaconda2/lib/python2.7/site-packages/sklearn/tree/tree.pyc\u001b[0m in \u001b[0;36mpredict\u001b[1;34m(self, X, check_input)\u001b[0m\n\u001b[0;32m    402\u001b[0m         \"\"\"\n\u001b[0;32m    403\u001b[0m \u001b[1;33m\u001b[0m\u001b[0m\n\u001b[1;32m--> 404\u001b[1;33m         \u001b[0mX\u001b[0m \u001b[1;33m=\u001b[0m \u001b[0mself\u001b[0m\u001b[1;33m.\u001b[0m\u001b[0m_validate_X_predict\u001b[0m\u001b[1;33m(\u001b[0m\u001b[0mX\u001b[0m\u001b[1;33m,\u001b[0m \u001b[0mcheck_input\u001b[0m\u001b[1;33m)\u001b[0m\u001b[1;33m\u001b[0m\u001b[0m\n\u001b[0m\u001b[0;32m    405\u001b[0m         \u001b[0mproba\u001b[0m \u001b[1;33m=\u001b[0m \u001b[0mself\u001b[0m\u001b[1;33m.\u001b[0m\u001b[0mtree_\u001b[0m\u001b[1;33m.\u001b[0m\u001b[0mpredict\u001b[0m\u001b[1;33m(\u001b[0m\u001b[0mX\u001b[0m\u001b[1;33m)\u001b[0m\u001b[1;33m\u001b[0m\u001b[0m\n\u001b[0;32m    406\u001b[0m         \u001b[0mn_samples\u001b[0m \u001b[1;33m=\u001b[0m \u001b[0mX\u001b[0m\u001b[1;33m.\u001b[0m\u001b[0mshape\u001b[0m\u001b[1;33m[\u001b[0m\u001b[1;36m0\u001b[0m\u001b[1;33m]\u001b[0m\u001b[1;33m\u001b[0m\u001b[0m\n",
      "\u001b[1;32m/home/nlp-vm/anaconda2/lib/python2.7/site-packages/sklearn/tree/tree.pyc\u001b[0m in \u001b[0;36m_validate_X_predict\u001b[1;34m(self, X, check_input)\u001b[0m\n\u001b[0;32m    374\u001b[0m                              \u001b[1;34m\" match the input. Model n_features is %s and \"\u001b[0m\u001b[1;33m\u001b[0m\u001b[0m\n\u001b[0;32m    375\u001b[0m                              \u001b[1;34m\" input n_features is %s \"\u001b[0m\u001b[1;33m\u001b[0m\u001b[0m\n\u001b[1;32m--> 376\u001b[1;33m                              % (self.n_features_, n_features))\n\u001b[0m\u001b[0;32m    377\u001b[0m \u001b[1;33m\u001b[0m\u001b[0m\n\u001b[0;32m    378\u001b[0m         \u001b[1;32mreturn\u001b[0m \u001b[0mX\u001b[0m\u001b[1;33m\u001b[0m\u001b[0m\n",
      "\u001b[1;31mValueError\u001b[0m: Number of features of the model must  match the input. Model n_features is 1 and  input n_features is 5000 "
     ]
    }
   ],
   "source": [
    "result = forest.predict(test_data_features_val)\n",
    "from sklearn.metrics import roc_auc_score\n",
    "print roc_auc_score(df_val['boolean_label'],result)"
   ]
  },
  {
   "cell_type": "code",
   "execution_count": 69,
   "metadata": {
    "collapsed": false
   },
   "outputs": [],
   "source": [
    "# Validation Data\n",
    "names=vectorizer.get_feature_names()\n",
    "names = np.array([x.encode('UTF8') for x in names])\n",
    "column_inx = np.where(names == 'patients')[0]\n",
    "#test_data_features_val[::,column_inx]\n",
    "T0_labels = np.where(df_val['boolean_label'] == 1)[0]\n",
    "notT0_labels = np.where(df_val['boolean_label'] != 1)[0]"
   ]
  },
  {
   "cell_type": "code",
   "execution_count": 70,
   "metadata": {
    "collapsed": false
   },
   "outputs": [
    {
     "data": {
      "image/png": "[encoded data removed]",
      "text/plain": [
       "<matplotlib.figure.Figure at 0x7f48d1bec790>"
      ]
     },
     "metadata": {},
     "output_type": "display_data"
    }
   ],
   "source": [
    "import numpy as np\n",
    "import matplotlib.mlab as mlab\n",
    "import matplotlib.pyplot as plt\n",
    "\n",
    "# the histogram of the data\n",
    "n, bins, patches = plt.hist(test_data_features_val[T0_labels,column_inx], 50, normed=1, facecolor='green', alpha=0.75)\n",
    "\n",
    "plt.xlabel('T0')\n",
    "plt.ylabel('Probability')\n",
    "plt.title('Validation Set')\n",
    "#plt.axis([40, 160, 0, 0.03])\n",
    "plt.grid(True)\n",
    "\n",
    "plt.show()"
   ]
  },
  {
   "cell_type": "code",
   "execution_count": 71,
   "metadata": {
    "collapsed": false
   },
   "outputs": [
    {
     "data": {
      "image/png": "[encoded data removed]",
      "text/plain": [
       "<matplotlib.figure.Figure at 0x7f48d78c8d50>"
      ]
     },
     "metadata": {},
     "output_type": "display_data"
    }
   ],
   "source": [
    "import numpy as np\n",
    "import matplotlib.mlab as mlab\n",
    "import matplotlib.pyplot as plt\n",
    "\n",
    "# the histogram of the data\n",
    "n, bins, patches = plt.hist(test_data_features_val[notT0_labels,column_inx], 50, normed=1, facecolor='green', alpha=0.75)\n",
    "\n",
    "plt.xlabel('Not T0')\n",
    "plt.ylabel('Probability')\n",
    "plt.title('Validation Set')\n",
    "#plt.axis([40, 160, 0, 0.03])\n",
    "plt.grid(True)\n",
    "\n",
    "plt.show()"
   ]
  },
  {
   "cell_type": "code",
   "execution_count": 72,
   "metadata": {
    "collapsed": true
   },
   "outputs": [],
   "source": [
    "T0_labels = np.where(test1['boolean_label'] == 1)[0]\n",
    "notT0_labels = np.where(test1['boolean_label'] != 1)[0]"
   ]
  },
  {
   "cell_type": "code",
   "execution_count": 73,
   "metadata": {
    "collapsed": false
   },
   "outputs": [
    {
     "data": {
      "image/png": "[encoded data removed]",
      "text/plain": [
       "<matplotlib.figure.Figure at 0x7f48d7884810>"
      ]
     },
     "metadata": {},
     "output_type": "display_data"
    }
   ],
   "source": [
    "# the histogram of the data\n",
    "n, bins, patches = plt.hist(test_data_features[T0_labels,column_inx], 50, normed=1, facecolor='green', alpha=0.75)\n",
    "\n",
    "plt.xlabel('T0')\n",
    "plt.ylabel('Probability')\n",
    "plt.title('Train Set')\n",
    "#plt.axis([40, 160, 0, 0.03])\n",
    "plt.grid(True)\n",
    "\n",
    "plt.show()"
   ]
  },
  {
   "cell_type": "code",
   "execution_count": 74,
   "metadata": {
    "collapsed": false
   },
   "outputs": [
    {
     "data": {
      "image/png": "[encoded data removed]",
      "text/plain": [
       "<matplotlib.figure.Figure at 0x7f48d1975bd0>"
      ]
     },
     "metadata": {},
     "output_type": "display_data"
    }
   ],
   "source": [
    "# the histogram of the data\n",
    "n, bins, patches = plt.hist(test_data_features[notT0_labels,column_inx], 50, normed=1, facecolor='green', alpha=0.75)\n",
    "\n",
    "plt.xlabel('Not T0')\n",
    "plt.ylabel('Probability')\n",
    "plt.title('Train Set')\n",
    "#plt.axis([40, 160, 0, 0.03])\n",
    "plt.grid(True)\n",
    "\n",
    "plt.show()"
   ]
  },
  {
   "cell_type": "markdown",
   "metadata": {},
   "source": [
    "### Now create VIP graphs"
   ]
  },
  {
   "cell_type": "code",
   "execution_count": 42,
   "metadata": {
    "collapsed": false
   },
   "outputs": [
    {
     "name": "stdout",
     "output_type": "stream",
     "text": [
      "5000\n",
      "5000\n",
      "51\n",
      "51\n",
      "51\n",
      "5000\n",
      "5000\n",
      "47\n",
      "47\n",
      "47\n",
      "5000\n",
      "5000\n",
      "34\n",
      "34\n",
      "34\n"
     ]
    }
   ],
   "source": [
    "getplots(0, 'T0')\n",
    "getplots(1, 'T1T2')\n",
    "getplots(2, 'T3T4')"
   ]
  },
  {
   "cell_type": "code",
   "execution_count": 41,
   "metadata": {
    "collapsed": true
   },
   "outputs": [],
   "source": [
    "def getplots(pos, lab):\n",
    "    # Take a look at the words in the vocabulary-- repeat for each position in feats\n",
    "    vocab = vectorizer.get_feature_names()\n",
    "    print len(vocab)\n",
    "    print len(feats[pos])\n",
    "    inxs = np.where(feats[pos] > 0.004)\n",
    "    print len(inxs[0])\n",
    "    features = feats[pos][inxs]\n",
    "    print len(features)\n",
    "    voc = [vocab[i] for (x,i) in np.ndenumerate(inxs)]\n",
    "    print len(voc)\n",
    "\n",
    "    plt.figure(figsize=(6 * 1.618, 6))\n",
    "    index = np.arange(len(voc))\n",
    "    bar_width = 0.35\n",
    "    plt.bar(index, features, color = 'black', alpha=0.5)\n",
    "    plt.xlabel('features')\n",
    "    plt.ylabel('importance')\n",
    "    plt.title('Feature importances ' + lab)\n",
    "    plt.xticks(index + bar_width, voc)\n",
    "    locs, labels = plt.xticks()\n",
    "    plt.setp(labels, rotation = 90)\n",
    "    plt.tight_layout()\n",
    "    #plt.show()\n",
    "    plt.savefig('/mnt/mypartition/pubmed_nlp_research/C_article_replication_and_translational_classification/try2-noMesh/vips' + lab + 'noMeshOrStops.png')"
   ]
  },
  {
   "cell_type": "code",
   "execution_count": null,
   "metadata": {
    "collapsed": true
   },
   "outputs": [],
   "source": []
  },
  {
   "cell_type": "code",
   "execution_count": 172,
   "metadata": {
    "collapsed": true
   },
   "outputs": [],
   "source": [
    "import re\n",
    "import nltk\n",
    "\n",
    "import pandas as pd\n",
    "import numpy as np\n",
    "\n",
    "from bs4 import BeautifulSoup\n",
    "from nltk.corpus import stopwords\n",
    "\n",
    "from nltk import PorterStemmer\n",
    "\n",
    "class KaggleWord2VecUtility(object):\n",
    "    \"\"\"KaggleWord2VecUtility is a utility class for processing raw HTML text into segments for further learning\"\"\"\n",
    "\n",
    "    @staticmethod\n",
    "    def review_to_wordlist( review, remove_stopwords=False ):\n",
    "        # Function to convert a document to a sequence of words,\n",
    "        # optionally removing stop words.  Returns a list of words.\n",
    "        #\n",
    "        # 1. Remove HTML\n",
    "        review_text = BeautifulSoup(review).get_text()\n",
    "        #\n",
    "        # 2. Remove non-letters\n",
    "        review_text = re.sub(\"[^a-zA-Z]\",\" \", review_text)\n",
    "        #\n",
    "        # 3. Convert words to lower case and split them\n",
    "        words = review_text.lower().split()\n",
    "        #\n",
    "        # 4. Optionally remove stop words (false by default)\n",
    "        if remove_stopwords:\n",
    "            stops = set(stopwords.words(\"english\"))\n",
    "            words = [w for w in words if not w in stops]\n",
    "        #\n",
    "        # 5. Return a list of words\n",
    "        return(words)\n",
    "    \n",
    "    @staticmethod\n",
    "    def review_to_words( review, remove_stopwords=False, stemmer=False):\n",
    "        # Function to convert a raw review to a string of words\n",
    "        # The input is a single string (a raw movie review), and \n",
    "        # the output is a single string (a preprocessed movie review)\n",
    "        #\n",
    "        # 1. Remove HTML\n",
    "        review_text = BeautifulSoup(review).get_text() \n",
    "        #\n",
    "        # 2. Remove non-letters        \n",
    "        review_text = re.sub(\"[^a-zA-Z]\", \" \", review_text) \n",
    "        #\n",
    "        # 3. Convert to lower case, split into individual words\n",
    "        words = review_text.lower().split()                             \n",
    "        #\n",
    "        # 4. Optionally remove stop words (false by default)\n",
    "        if remove_stopwords:\n",
    "            stops = set(stopwords.words(\"english\"))\n",
    "            words = [w for w in words if not w in stops]  \n",
    "            \n",
    "        if stemmer:\n",
    "            words = [PorterStemmer().stem_word(w) for w in words]\n",
    "        #\n",
    "        # 6. Join the words back into one string separated by space, \n",
    "        # and return the result.\n",
    "        return( \" \".join( words ))   \n",
    "\n",
    "    # Define a function to split a review into parsed sentences\n",
    "    @staticmethod\n",
    "    def review_to_sentences( review, tokenizer, remove_stopwords=False ):\n",
    "        # Function to split a review into parsed sentences. Returns a\n",
    "        # list of sentences, where each sentence is a list of words\n",
    "        #\n",
    "        # 1. Use the NLTK tokenizer to split the paragraph into sentences\n",
    "        raw_sentences = tokenizer.tokenize(review.decode('utf8').strip())\n",
    "        #\n",
    "        # 2. Loop over each sentence\n",
    "        sentences = []\n",
    "        for raw_sentence in raw_sentences:\n",
    "            # If a sentence is empty, skip it\n",
    "            if len(raw_sentence) > 0:\n",
    "                # Otherwise, call review_to_wordlist to get a list of words\n",
    "                sentences.append( KaggleWord2VecUtility.review_to_wordlist( raw_sentence, \\\n",
    "                  remove_stopwords ))\n",
    "        #\n",
    "        # Return the list of sentences (each sentence is a list of words,\n",
    "        # so this returns a list of lists\n",
    "        return sentences"
   ]
  }
 ],
 "metadata": {
  "kernelspec": {
   "display_name": "Python 2",
   "language": "python",
   "name": "python2"
  },
  "language_info": {
   "codemirror_mode": {
    "name": "ipython",
    "version": 2
   },
   "file_extension": ".py",
   "mimetype": "text/x-python",
   "name": "python",
   "nbconvert_exporter": "python",
   "pygments_lexer": "ipython2",
   "version": "2.7.11"
  }
 },
 "nbformat": 4,
 "nbformat_minor": 0
}
