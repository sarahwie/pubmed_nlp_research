{
 "cells": [
  {
   "cell_type": "code",
   "execution_count": 2,
   "metadata": {
    "collapsed": true
   },
   "outputs": [],
   "source": [
    "import pickle\n",
    "from sklearn import cross_validation\n",
    "import pandas as pd"
   ]
  },
  {
   "cell_type": "code",
   "execution_count": 17,
   "metadata": {
    "collapsed": false
   },
   "outputs": [],
   "source": [
    "df_art = pickle.load(open('/mnt/mypartition/pubmed_nlp_research/C_article_replication_and_translational_classification/df.p', 'rb'))"
   ]
  },
  {
   "cell_type": "code",
   "execution_count": 18,
   "metadata": {
    "collapsed": true
   },
   "outputs": [],
   "source": [
    "df_journals = pickle.load(open('/mnt/mypartition/pubmed_nlp_research/C_article_replication_and_translational_classification/pickled_objects/dfJournals_trans_categories.p', 'rb'))"
   ]
  },
  {
   "cell_type": "code",
   "execution_count": 19,
   "metadata": {
    "collapsed": false
   },
   "outputs": [
    {
     "name": "stdout",
     "output_type": "stream",
     "text": [
      "(354, 6)\n",
      "(97049, 5)\n",
      "['pmid' 'title' 'abstract' 'qualifier_terms' 'descriptor_terms' 'label']\n",
      "['sentiment' 'title' 'abstract' 'qualifier_terms' 'descriptor_terms']\n",
      "['title' 'abstract' 'qualifier_terms' 'descriptor_terms' 'label']\n",
      "['title' 'abstract' 'qualifier_terms' 'descriptor_terms' 'label']\n"
     ]
    }
   ],
   "source": [
    "print df_art.shape\n",
    "print df_journals.shape\n",
    "print df_art.columns.values\n",
    "print df_journals.columns.values\n",
    "\n",
    "df_art = df_art.drop('pmid', axis=1)\n",
    "print df_art.columns.values\n",
    "#for the journals df, change the label of the 'sentiment' column to 'label'\n",
    "df_journals.columns = ['label', 'title', 'abstract', 'qualifier_terms', 'descriptor_terms']\n",
    "#reorder\n",
    "df_journals = df_journals[df_art.columns.values]\n",
    "print df_journals.columns.values"
   ]
  },
  {
   "cell_type": "code",
   "execution_count": 20,
   "metadata": {
    "collapsed": false
   },
   "outputs": [
    {
     "name": "stdout",
     "output_type": "stream",
     "text": [
      "['T0' 'T1/T2' 'T3/T4' 'TX']\n",
      "['T0' 'T1/T2' 'T3/T4']\n"
     ]
    }
   ],
   "source": [
    "print df_art['label'].unique()\n",
    "print df_journals['label'].unique()"
   ]
  },
  {
   "cell_type": "code",
   "execution_count": 21,
   "metadata": {
    "collapsed": true
   },
   "outputs": [],
   "source": [
    "#add boolean labels\n",
    "df_art['boolean_label'] = 1\n",
    "for row in df_art.iterrows():\n",
    "    if row[1].loc['label'] != 'T0':\n",
    "        df_art.set_value(row[0], 'boolean_label', 0)\n",
    "        \n",
    "df_journals['boolean_label'] = 1\n",
    "for row in df_journals.iterrows():\n",
    "    if row[1].loc['label'] != 'T0':\n",
    "        df_journals.set_value(row[0], 'boolean_label', 0)"
   ]
  },
  {
   "cell_type": "code",
   "execution_count": 22,
   "metadata": {
    "collapsed": false
   },
   "outputs": [
    {
     "data": {
      "text/html": [
       "<div>\n",
       "<table border=\"1\" class=\"dataframe\">\n",
       "  <thead>\n",
       "    <tr style=\"text-align: right;\">\n",
       "      <th></th>\n",
       "      <th>title</th>\n",
       "      <th>abstract</th>\n",
       "      <th>qualifier_terms</th>\n",
       "      <th>descriptor_terms</th>\n",
       "      <th>label</th>\n",
       "      <th>boolean_label</th>\n",
       "    </tr>\n",
       "  </thead>\n",
       "  <tbody>\n",
       "    <tr>\n",
       "      <th>0</th>\n",
       "      <td>Gene expression profiles in peripheral blood m...</td>\n",
       "      <td>Occupational exposure to nickel (Ni) is associ...</td>\n",
       "      <td>genetics metabolism epidemiology drug effects ...</td>\n",
       "      <td>Adult Asian Continental Ancestry Group Biomark...</td>\n",
       "      <td>T0</td>\n",
       "      <td>1</td>\n",
       "    </tr>\n",
       "    <tr>\n",
       "      <th>1</th>\n",
       "      <td>SOX2 is a cancer-specific regulator of tumour ...</td>\n",
       "      <td>Although the principles that balance stem cell...</td>\n",
       "      <td>genetics metabolism pathology metabolism patho...</td>\n",
       "      <td>Animals Carcinoma, Squamous Cell Cell Line, Tu...</td>\n",
       "      <td>T0</td>\n",
       "      <td>1</td>\n",
       "    </tr>\n",
       "    <tr>\n",
       "      <th>2</th>\n",
       "      <td>Imaging and cerebrospinal fluid biomarkers in ...</td>\n",
       "      <td>The pathophysiological process of Alzheimer's ...</td>\n",
       "      <td>cerebrospinal fluid genetics radionuclide imag...</td>\n",
       "      <td>Aged Aged, 80 and over Alzheimer Disease Amylo...</td>\n",
       "      <td>T0</td>\n",
       "      <td>1</td>\n",
       "    </tr>\n",
       "    <tr>\n",
       "      <th>3</th>\n",
       "      <td>Preliminary evidence of cognitive and brain ab...</td>\n",
       "      <td>To ascertain whether pediatric obesity without...</td>\n",
       "      <td>pathology physiopathology physiopathology</td>\n",
       "      <td>Adolescent Attention Brain Cognition Executive...</td>\n",
       "      <td>T0</td>\n",
       "      <td>1</td>\n",
       "    </tr>\n",
       "    <tr>\n",
       "      <th>4</th>\n",
       "      <td>Obese Adolescents with Type 2 Diabetes Mellitu...</td>\n",
       "      <td>The rates of type 2 diabetes (T2DM) continue t...</td>\n",
       "      <td></td>\n",
       "      <td></td>\n",
       "      <td>T0</td>\n",
       "      <td>1</td>\n",
       "    </tr>\n",
       "  </tbody>\n",
       "</table>\n",
       "</div>"
      ],
      "text/plain": [
       "                                               title  \\\n",
       "0  Gene expression profiles in peripheral blood m...   \n",
       "1  SOX2 is a cancer-specific regulator of tumour ...   \n",
       "2  Imaging and cerebrospinal fluid biomarkers in ...   \n",
       "3  Preliminary evidence of cognitive and brain ab...   \n",
       "4  Obese Adolescents with Type 2 Diabetes Mellitu...   \n",
       "\n",
       "                                            abstract  \\\n",
       "0  Occupational exposure to nickel (Ni) is associ...   \n",
       "1  Although the principles that balance stem cell...   \n",
       "2  The pathophysiological process of Alzheimer's ...   \n",
       "3  To ascertain whether pediatric obesity without...   \n",
       "4  The rates of type 2 diabetes (T2DM) continue t...   \n",
       "\n",
       "                                     qualifier_terms  \\\n",
       "0  genetics metabolism epidemiology drug effects ...   \n",
       "1  genetics metabolism pathology metabolism patho...   \n",
       "2  cerebrospinal fluid genetics radionuclide imag...   \n",
       "3          pathology physiopathology physiopathology   \n",
       "4                                                      \n",
       "\n",
       "                                    descriptor_terms label  boolean_label  \n",
       "0  Adult Asian Continental Ancestry Group Biomark...    T0              1  \n",
       "1  Animals Carcinoma, Squamous Cell Cell Line, Tu...    T0              1  \n",
       "2  Aged Aged, 80 and over Alzheimer Disease Amylo...    T0              1  \n",
       "3  Adolescent Attention Brain Cognition Executive...    T0              1  \n",
       "4                                                       T0              1  "
      ]
     },
     "execution_count": 22,
     "metadata": {},
     "output_type": "execute_result"
    }
   ],
   "source": [
    "df_art[0:5]"
   ]
  },
  {
   "cell_type": "code",
   "execution_count": 23,
   "metadata": {
    "collapsed": false
   },
   "outputs": [
    {
     "data": {
      "text/html": [
       "<div>\n",
       "<table border=\"1\" class=\"dataframe\">\n",
       "  <thead>\n",
       "    <tr style=\"text-align: right;\">\n",
       "      <th></th>\n",
       "      <th>title</th>\n",
       "      <th>abstract</th>\n",
       "      <th>qualifier_terms</th>\n",
       "      <th>descriptor_terms</th>\n",
       "      <th>label</th>\n",
       "      <th>boolean_label</th>\n",
       "    </tr>\n",
       "  </thead>\n",
       "  <tbody>\n",
       "    <tr>\n",
       "      <th>150</th>\n",
       "      <td>Identifying Direct Downstream Targets: WT1 ChI...</td>\n",
       "      <td>Identifying targets of transcriptional regulat...</td>\n",
       "      <td></td>\n",
       "      <td></td>\n",
       "      <td>T0</td>\n",
       "      <td>1</td>\n",
       "    </tr>\n",
       "    <tr>\n",
       "      <th>151</th>\n",
       "      <td>Measuring Equilibrium Binding Constants for th...</td>\n",
       "      <td>Equilibrium binding of WT1 to specific sites i...</td>\n",
       "      <td></td>\n",
       "      <td></td>\n",
       "      <td>T0</td>\n",
       "      <td>1</td>\n",
       "    </tr>\n",
       "    <tr>\n",
       "      <th>152</th>\n",
       "      <td>In Vitro Transcription to Study WT1 Function.</td>\n",
       "      <td>In vitro transcription methods using mammalian...</td>\n",
       "      <td></td>\n",
       "      <td></td>\n",
       "      <td>T0</td>\n",
       "      <td>1</td>\n",
       "    </tr>\n",
       "    <tr>\n",
       "      <th>153</th>\n",
       "      <td>Fluorescence-Activated Cell Sorting (FACS) Pro...</td>\n",
       "      <td>Zebrafish is becoming a very important model f...</td>\n",
       "      <td></td>\n",
       "      <td></td>\n",
       "      <td>T0</td>\n",
       "      <td>1</td>\n",
       "    </tr>\n",
       "    <tr>\n",
       "      <th>154</th>\n",
       "      <td>Immunofluorescence Staining of Wt1 on Sections...</td>\n",
       "      <td>Immunohistochemistry is one of the most powerf...</td>\n",
       "      <td></td>\n",
       "      <td></td>\n",
       "      <td>T0</td>\n",
       "      <td>1</td>\n",
       "    </tr>\n",
       "  </tbody>\n",
       "</table>\n",
       "</div>"
      ],
      "text/plain": [
       "                                                 title  \\\n",
       "150  Identifying Direct Downstream Targets: WT1 ChI...   \n",
       "151  Measuring Equilibrium Binding Constants for th...   \n",
       "152      In Vitro Transcription to Study WT1 Function.   \n",
       "153  Fluorescence-Activated Cell Sorting (FACS) Pro...   \n",
       "154  Immunofluorescence Staining of Wt1 on Sections...   \n",
       "\n",
       "                                              abstract qualifier_terms  \\\n",
       "150  Identifying targets of transcriptional regulat...                   \n",
       "151  Equilibrium binding of WT1 to specific sites i...                   \n",
       "152  In vitro transcription methods using mammalian...                   \n",
       "153  Zebrafish is becoming a very important model f...                   \n",
       "154  Immunohistochemistry is one of the most powerf...                   \n",
       "\n",
       "    descriptor_terms label  boolean_label  \n",
       "150                     T0              1  \n",
       "151                     T0              1  \n",
       "152                     T0              1  \n",
       "153                     T0              1  \n",
       "154                     T0              1  "
      ]
     },
     "execution_count": 23,
     "metadata": {},
     "output_type": "execute_result"
    }
   ],
   "source": [
    "df_journals[150:155]"
   ]
  },
  {
   "cell_type": "markdown",
   "metadata": {},
   "source": [
    "### Combine 2 dfs together to make a training set, and 2 separate validation sets"
   ]
  },
  {
   "cell_type": "code",
   "execution_count": 46,
   "metadata": {
    "collapsed": false
   },
   "outputs": [
    {
     "name": "stdout",
     "output_type": "stream",
     "text": [
      "404\n",
      "152\n"
     ]
    },
    {
     "name": "stderr",
     "output_type": "stream",
     "text": [
      "/home/nlp-vm/anaconda2/lib/python2.7/site-packages/ipykernel/__main__.py:8: SettingWithCopyWarning: \n",
      "A value is trying to be set on a copy of a slice from a DataFrame.\n",
      "Try using .loc[row_indexer,col_indexer] = value instead\n",
      "\n",
      "See the caveats in the documentation: http://pandas.pydata.org/pandas-docs/stable/indexing.html#indexing-view-versus-copy\n"
     ]
    }
   ],
   "source": [
    "#get journals training/test set (size 400)\n",
    "skf = cross_validation.StratifiedShuffleSplit(df_journals['label'].values, n_iter=1, test_size=404)\n",
    "for train_index, test_index in skf:\n",
    "    train_journals = df_journals.iloc[test_index]\n",
    "    df_journals_left = df_journals.iloc[train_index]\n",
    "    print len(train_journals)\n",
    "\n",
    "train_journals['dataset'] = 'journal'\n",
    "    \n",
    "#get journals validation set (size 157) from what's left of dataset\n",
    "skf = cross_validation.StratifiedShuffleSplit(df_journals_left['label'].values, n_iter=1, test_size=152)\n",
    "for train_index, test_index in skf:\n",
    "    val_journals = df_journals_left.iloc[test_index]\n",
    "    print len(val_journals)"
   ]
  },
  {
   "cell_type": "code",
   "execution_count": 26,
   "metadata": {
    "collapsed": false
   },
   "outputs": [
    {
     "data": {
      "text/html": [
       "<div>\n",
       "<table border=\"1\" class=\"dataframe\">\n",
       "  <thead>\n",
       "    <tr style=\"text-align: right;\">\n",
       "      <th></th>\n",
       "      <th>title</th>\n",
       "      <th>abstract</th>\n",
       "      <th>qualifier_terms</th>\n",
       "      <th>descriptor_terms</th>\n",
       "      <th>label</th>\n",
       "      <th>boolean_label</th>\n",
       "      <th>dataset</th>\n",
       "    </tr>\n",
       "  </thead>\n",
       "  <tbody>\n",
       "    <tr>\n",
       "      <th>84953</th>\n",
       "      <td>The Impact of Chronic Liraglutide Therapy on G...</td>\n",
       "      <td>In patients with type 2 diabetes (T2DM), impai...</td>\n",
       "      <td>metabolism blood blood drug therapy blood ther...</td>\n",
       "      <td>Aged Blood Glucose C-Peptide Diabetes Mellitus...</td>\n",
       "      <td>T3/T4</td>\n",
       "      <td>0</td>\n",
       "      <td>journal</td>\n",
       "    </tr>\n",
       "    <tr>\n",
       "      <th>64987</th>\n",
       "      <td>Right-siting chronic kidney disease care-a sur...</td>\n",
       "      <td>Chronic kidney disease (CKD) is a major public...</td>\n",
       "      <td>utilization statistics &amp; numerical data diagno...</td>\n",
       "      <td>Ambulatory Care Facilities Female General Prac...</td>\n",
       "      <td>T3/T4</td>\n",
       "      <td>0</td>\n",
       "      <td>journal</td>\n",
       "    </tr>\n",
       "    <tr>\n",
       "      <th>27924</th>\n",
       "      <td>A genome-wide RNA interference screen identifi...</td>\n",
       "      <td>Tumor necrosis factor alpha (TNF-α) is a poten...</td>\n",
       "      <td>genetics immunology methods genetics immunolog...</td>\n",
       "      <td>Caspases, Initiator Genomics HEK293 Cells HeLa...</td>\n",
       "      <td>T0</td>\n",
       "      <td>1</td>\n",
       "      <td>journal</td>\n",
       "    </tr>\n",
       "    <tr>\n",
       "      <th>18418</th>\n",
       "      <td>A C-terminal acidic domain regulates degradati...</td>\n",
       "      <td>Bob1 (Obf-1 or OCA-B) is a 34-kDa transcriptio...</td>\n",
       "      <td>physiology metabolism genetics metabolism meta...</td>\n",
       "      <td>Amino Acid Sequence Animals B-Lymphocytes Biom...</td>\n",
       "      <td>T0</td>\n",
       "      <td>1</td>\n",
       "      <td>journal</td>\n",
       "    </tr>\n",
       "    <tr>\n",
       "      <th>65411</th>\n",
       "      <td>Mixed methods research in music therapy research.</td>\n",
       "      <td>Music therapists have an ethical and professio...</td>\n",
       "      <td>organization &amp; administration methods methods</td>\n",
       "      <td>Attitude to Health Benchmarking Biomedical Res...</td>\n",
       "      <td>T3/T4</td>\n",
       "      <td>0</td>\n",
       "      <td>journal</td>\n",
       "    </tr>\n",
       "  </tbody>\n",
       "</table>\n",
       "</div>"
      ],
      "text/plain": [
       "                                                   title  \\\n",
       "84953  The Impact of Chronic Liraglutide Therapy on G...   \n",
       "64987  Right-siting chronic kidney disease care-a sur...   \n",
       "27924  A genome-wide RNA interference screen identifi...   \n",
       "18418  A C-terminal acidic domain regulates degradati...   \n",
       "65411  Mixed methods research in music therapy research.   \n",
       "\n",
       "                                                abstract  \\\n",
       "84953  In patients with type 2 diabetes (T2DM), impai...   \n",
       "64987  Chronic kidney disease (CKD) is a major public...   \n",
       "27924  Tumor necrosis factor alpha (TNF-α) is a poten...   \n",
       "18418  Bob1 (Obf-1 or OCA-B) is a 34-kDa transcriptio...   \n",
       "65411  Music therapists have an ethical and professio...   \n",
       "\n",
       "                                         qualifier_terms  \\\n",
       "84953  metabolism blood blood drug therapy blood ther...   \n",
       "64987  utilization statistics & numerical data diagno...   \n",
       "27924  genetics immunology methods genetics immunolog...   \n",
       "18418  physiology metabolism genetics metabolism meta...   \n",
       "65411      organization & administration methods methods   \n",
       "\n",
       "                                        descriptor_terms  label  \\\n",
       "84953  Aged Blood Glucose C-Peptide Diabetes Mellitus...  T3/T4   \n",
       "64987  Ambulatory Care Facilities Female General Prac...  T3/T4   \n",
       "27924  Caspases, Initiator Genomics HEK293 Cells HeLa...     T0   \n",
       "18418  Amino Acid Sequence Animals B-Lymphocytes Biom...     T0   \n",
       "65411  Attitude to Health Benchmarking Biomedical Res...  T3/T4   \n",
       "\n",
       "       boolean_label  dataset  \n",
       "84953              0  journal  \n",
       "64987              0  journal  \n",
       "27924              1  journal  \n",
       "18418              1  journal  \n",
       "65411              0  journal  "
      ]
     },
     "execution_count": 26,
     "metadata": {},
     "output_type": "execute_result"
    }
   ],
   "source": [
    "train_journals[0:5]"
   ]
  },
  {
   "cell_type": "code",
   "execution_count": 47,
   "metadata": {
    "collapsed": false
   },
   "outputs": [
    {
     "name": "stdout",
     "output_type": "stream",
     "text": [
      "202\n",
      "152\n"
     ]
    },
    {
     "name": "stderr",
     "output_type": "stream",
     "text": [
      "/home/nlp-vm/anaconda2/lib/python2.7/site-packages/ipykernel/__main__.py:9: SettingWithCopyWarning: \n",
      "A value is trying to be set on a copy of a slice from a DataFrame.\n",
      "Try using .loc[row_indexer,col_indexer] = value instead\n",
      "\n",
      "See the caveats in the documentation: http://pandas.pydata.org/pandas-docs/stable/indexing.html#indexing-view-versus-copy\n"
     ]
    }
   ],
   "source": [
    "#get article training/test set (size 200) and validation set (size 157)\n",
    "skf = cross_validation.StratifiedShuffleSplit(df_art['label'].values, n_iter=1, test_size=152)\n",
    "for train_index, test_index in skf:\n",
    "    train_art = df_art.iloc[train_index]\n",
    "    val_art = df_art.iloc[test_index]\n",
    "    print len(train_art)\n",
    "    print len(val_art)\n",
    "\n",
    "train_art['dataset'] = 'article'"
   ]
  },
  {
   "cell_type": "code",
   "execution_count": 28,
   "metadata": {
    "collapsed": false
   },
   "outputs": [
    {
     "data": {
      "text/html": [
       "<div>\n",
       "<table border=\"1\" class=\"dataframe\">\n",
       "  <thead>\n",
       "    <tr style=\"text-align: right;\">\n",
       "      <th></th>\n",
       "      <th>title</th>\n",
       "      <th>abstract</th>\n",
       "      <th>qualifier_terms</th>\n",
       "      <th>descriptor_terms</th>\n",
       "      <th>label</th>\n",
       "      <th>boolean_label</th>\n",
       "      <th>dataset</th>\n",
       "    </tr>\n",
       "  </thead>\n",
       "  <tbody>\n",
       "    <tr>\n",
       "      <th>54</th>\n",
       "      <td>Pulmonary hypertension and other potentially f...</td>\n",
       "      <td>Systemic juvenile idiopathic arthritis (JIA) i...</td>\n",
       "      <td>complications diagnosis mortality diagnosis et...</td>\n",
       "      <td>Adolescent Arthritis, Juvenile Child Child, Pr...</td>\n",
       "      <td>T0</td>\n",
       "      <td>1</td>\n",
       "      <td>article</td>\n",
       "    </tr>\n",
       "    <tr>\n",
       "      <th>270</th>\n",
       "      <td>Are increased weight and appetite useful indic...</td>\n",
       "      <td>During childhood and adolescence, physiologica...</td>\n",
       "      <td>physiology diagnosis physiopathology physiology</td>\n",
       "      <td>Adolescent Appetite Child Child, Preschool Dep...</td>\n",
       "      <td>T0</td>\n",
       "      <td>1</td>\n",
       "      <td>article</td>\n",
       "    </tr>\n",
       "    <tr>\n",
       "      <th>191</th>\n",
       "      <td>How physician electronic health record screen ...</td>\n",
       "      <td>Use of electronic health records (EHRs) in pri...</td>\n",
       "      <td></td>\n",
       "      <td></td>\n",
       "      <td>T3/T4</td>\n",
       "      <td>0</td>\n",
       "      <td>article</td>\n",
       "    </tr>\n",
       "    <tr>\n",
       "      <th>213</th>\n",
       "      <td>Early identification and treatment of Alzheime...</td>\n",
       "      <td>Alzheimer's disease (AD) is a progressive neur...</td>\n",
       "      <td>diagnosis economics psychology therapy economi...</td>\n",
       "      <td>Alzheimer Disease Caregivers Cost Savings Cost...</td>\n",
       "      <td>T3/T4</td>\n",
       "      <td>0</td>\n",
       "      <td>article</td>\n",
       "    </tr>\n",
       "    <tr>\n",
       "      <th>320</th>\n",
       "      <td>Caregiver person-centeredness and behavioral s...</td>\n",
       "      <td>Mealtime behavioral symptoms are distressing a...</td>\n",
       "      <td></td>\n",
       "      <td></td>\n",
       "      <td>T3/T4</td>\n",
       "      <td>0</td>\n",
       "      <td>article</td>\n",
       "    </tr>\n",
       "  </tbody>\n",
       "</table>\n",
       "</div>"
      ],
      "text/plain": [
       "                                                 title  \\\n",
       "54   Pulmonary hypertension and other potentially f...   \n",
       "270  Are increased weight and appetite useful indic...   \n",
       "191  How physician electronic health record screen ...   \n",
       "213  Early identification and treatment of Alzheime...   \n",
       "320  Caregiver person-centeredness and behavioral s...   \n",
       "\n",
       "                                              abstract  \\\n",
       "54   Systemic juvenile idiopathic arthritis (JIA) i...   \n",
       "270  During childhood and adolescence, physiologica...   \n",
       "191  Use of electronic health records (EHRs) in pri...   \n",
       "213  Alzheimer's disease (AD) is a progressive neur...   \n",
       "320  Mealtime behavioral symptoms are distressing a...   \n",
       "\n",
       "                                       qualifier_terms  \\\n",
       "54   complications diagnosis mortality diagnosis et...   \n",
       "270    physiology diagnosis physiopathology physiology   \n",
       "191                                                      \n",
       "213  diagnosis economics psychology therapy economi...   \n",
       "320                                                      \n",
       "\n",
       "                                      descriptor_terms  label  boolean_label  \\\n",
       "54   Adolescent Arthritis, Juvenile Child Child, Pr...     T0              1   \n",
       "270  Adolescent Appetite Child Child, Preschool Dep...     T0              1   \n",
       "191                                                     T3/T4              0   \n",
       "213  Alzheimer Disease Caregivers Cost Savings Cost...  T3/T4              0   \n",
       "320                                                     T3/T4              0   \n",
       "\n",
       "     dataset  \n",
       "54   article  \n",
       "270  article  \n",
       "191  article  \n",
       "213  article  \n",
       "320  article  "
      ]
     },
     "execution_count": 28,
     "metadata": {},
     "output_type": "execute_result"
    }
   ],
   "source": [
    "train_art[0:5]"
   ]
  },
  {
   "cell_type": "code",
   "execution_count": 36,
   "metadata": {
    "collapsed": false
   },
   "outputs": [
    {
     "name": "stdout",
     "output_type": "stream",
     "text": [
      "(606, 7)\n"
     ]
    }
   ],
   "source": [
    "#test if properly stratified\n",
    "frames = [train_art, train_journals]\n",
    "df = pd.concat(frames)\n",
    "print df.shape"
   ]
  },
  {
   "cell_type": "code",
   "execution_count": 32,
   "metadata": {
    "collapsed": false
   },
   "outputs": [
    {
     "data": {
      "text/html": [
       "<div>\n",
       "<table border=\"1\" class=\"dataframe\">\n",
       "  <thead>\n",
       "    <tr style=\"text-align: right;\">\n",
       "      <th></th>\n",
       "      <th>title</th>\n",
       "      <th>abstract</th>\n",
       "      <th>qualifier_terms</th>\n",
       "      <th>descriptor_terms</th>\n",
       "      <th>label</th>\n",
       "      <th>boolean_label</th>\n",
       "      <th>dataset</th>\n",
       "    </tr>\n",
       "  </thead>\n",
       "  <tbody>\n",
       "    <tr>\n",
       "      <th>301</th>\n",
       "      <td>Importance of low preoperative platelet count ...</td>\n",
       "      <td>Low platelet count is a marker of portal hyper...</td>\n",
       "      <td>blood surgery blood surgery</td>\n",
       "      <td>Adult Aged Carcinoma, Hepatocellular Cohort St...</td>\n",
       "      <td>T3/T4</td>\n",
       "      <td>0</td>\n",
       "      <td>article</td>\n",
       "    </tr>\n",
       "    <tr>\n",
       "      <th>187</th>\n",
       "      <td>Community consultation and public disclosure: ...</td>\n",
       "      <td>Emergency medicine research conducted under th...</td>\n",
       "      <td>ethics legislation &amp; jurisprudence organizatio...</td>\n",
       "      <td>Community-Based Participatory Research Disclos...</td>\n",
       "      <td>T3/T4</td>\n",
       "      <td>0</td>\n",
       "      <td>article</td>\n",
       "    </tr>\n",
       "    <tr>\n",
       "      <th>84953</th>\n",
       "      <td>The Impact of Chronic Liraglutide Therapy on G...</td>\n",
       "      <td>In patients with type 2 diabetes (T2DM), impai...</td>\n",
       "      <td>metabolism blood blood drug therapy blood ther...</td>\n",
       "      <td>Aged Blood Glucose C-Peptide Diabetes Mellitus...</td>\n",
       "      <td>T3/T4</td>\n",
       "      <td>0</td>\n",
       "      <td>journal</td>\n",
       "    </tr>\n",
       "    <tr>\n",
       "      <th>64987</th>\n",
       "      <td>Right-siting chronic kidney disease care-a sur...</td>\n",
       "      <td>Chronic kidney disease (CKD) is a major public...</td>\n",
       "      <td>utilization statistics &amp; numerical data diagno...</td>\n",
       "      <td>Ambulatory Care Facilities Female General Prac...</td>\n",
       "      <td>T3/T4</td>\n",
       "      <td>0</td>\n",
       "      <td>journal</td>\n",
       "    </tr>\n",
       "    <tr>\n",
       "      <th>27924</th>\n",
       "      <td>A genome-wide RNA interference screen identifi...</td>\n",
       "      <td>Tumor necrosis factor alpha (TNF-α) is a poten...</td>\n",
       "      <td>genetics immunology methods genetics immunolog...</td>\n",
       "      <td>Caspases, Initiator Genomics HEK293 Cells HeLa...</td>\n",
       "      <td>T0</td>\n",
       "      <td>1</td>\n",
       "      <td>journal</td>\n",
       "    </tr>\n",
       "  </tbody>\n",
       "</table>\n",
       "</div>"
      ],
      "text/plain": [
       "                                                   title  \\\n",
       "301    Importance of low preoperative platelet count ...   \n",
       "187    Community consultation and public disclosure: ...   \n",
       "84953  The Impact of Chronic Liraglutide Therapy on G...   \n",
       "64987  Right-siting chronic kidney disease care-a sur...   \n",
       "27924  A genome-wide RNA interference screen identifi...   \n",
       "\n",
       "                                                abstract  \\\n",
       "301    Low platelet count is a marker of portal hyper...   \n",
       "187    Emergency medicine research conducted under th...   \n",
       "84953  In patients with type 2 diabetes (T2DM), impai...   \n",
       "64987  Chronic kidney disease (CKD) is a major public...   \n",
       "27924  Tumor necrosis factor alpha (TNF-α) is a poten...   \n",
       "\n",
       "                                         qualifier_terms  \\\n",
       "301                          blood surgery blood surgery   \n",
       "187    ethics legislation & jurisprudence organizatio...   \n",
       "84953  metabolism blood blood drug therapy blood ther...   \n",
       "64987  utilization statistics & numerical data diagno...   \n",
       "27924  genetics immunology methods genetics immunolog...   \n",
       "\n",
       "                                        descriptor_terms  label  \\\n",
       "301    Adult Aged Carcinoma, Hepatocellular Cohort St...  T3/T4   \n",
       "187    Community-Based Participatory Research Disclos...  T3/T4   \n",
       "84953  Aged Blood Glucose C-Peptide Diabetes Mellitus...  T3/T4   \n",
       "64987  Ambulatory Care Facilities Female General Prac...  T3/T4   \n",
       "27924  Caspases, Initiator Genomics HEK293 Cells HeLa...     T0   \n",
       "\n",
       "       boolean_label  dataset  \n",
       "301                0  article  \n",
       "187                0  article  \n",
       "84953              0  journal  \n",
       "64987              0  journal  \n",
       "27924              1  journal  "
      ]
     },
     "execution_count": 32,
     "metadata": {},
     "output_type": "execute_result"
    }
   ],
   "source": [
    "df[200:205]"
   ]
  },
  {
   "cell_type": "code",
   "execution_count": null,
   "metadata": {
    "collapsed": true
   },
   "outputs": [],
   "source": [
    "#input to algorithm\n",
    "#what algorithm? our multiclass random forest that mimics that of the original paper"
   ]
  },
  {
   "cell_type": "code",
   "execution_count": 51,
   "metadata": {
    "collapsed": true
   },
   "outputs": [],
   "source": [
    "pickle.dump(df, open('/mnt/mypartition/pubmed_nlp_research/C_article_replication_and_translational_classification/mixed_journals_article/df.p', 'wb'))"
   ]
  },
  {
   "cell_type": "code",
   "execution_count": 52,
   "metadata": {
    "collapsed": false
   },
   "outputs": [],
   "source": [
    "pickle.dump(val_journals, open('/mnt/mypartition/pubmed_nlp_research/C_article_replication_and_translational_classification/mixed_journals_article/val_journals.p', 'wb'))\n",
    "pickle.dump(val_art, open('/mnt/mypartition/pubmed_nlp_research/C_article_replication_and_translational_classification/mixed_journals_article/val_art.p', 'wb'))"
   ]
  },
  {
   "cell_type": "markdown",
   "metadata": {
    "collapsed": true
   },
   "source": [
    "Bootstrapping: include 2 copies of df_art in combined df:"
   ]
  },
  {
   "cell_type": "code",
   "execution_count": 50,
   "metadata": {
    "collapsed": false
   },
   "outputs": [
    {
     "name": "stdout",
     "output_type": "stream",
     "text": [
      "(1010, 7)\n"
     ]
    }
   ],
   "source": [
    "#test if properly stratified\n",
    "train_art_2 = train_art\n",
    "train_art_3 = train_art\n",
    "frames = [train_art, train_journals, train_art_2, train_art_3]\n",
    "df = pd.concat(frames)\n",
    "print df.shape"
   ]
  }
 ],
 "metadata": {
  "kernelspec": {
   "display_name": "Python 2",
   "language": "python",
   "name": "python2"
  },
  "language_info": {
   "codemirror_mode": {
    "name": "ipython",
    "version": 2
   },
   "file_extension": ".py",
   "mimetype": "text/x-python",
   "name": "python",
   "nbconvert_exporter": "python",
   "pygments_lexer": "ipython2",
   "version": "2.7.11"
  }
 },
 "nbformat": 4,
 "nbformat_minor": 0
}
