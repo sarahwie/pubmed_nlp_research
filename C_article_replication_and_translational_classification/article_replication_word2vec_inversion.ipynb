{
 "cells": [
  {
   "cell_type": "code",
   "execution_count": 1,
   "metadata": {
    "collapsed": true
   },
   "outputs": [],
   "source": [
    "import pickle\n",
    "import os\n",
    "import sys\n",
    "import datetime\n",
    "import pandas as pd\n",
    "import numpy as np\n",
    "import nltk.data\n",
    "from gensim.models import Word2Vec\n",
    "import multiprocessing\n",
    "from copy import deepcopy\n",
    "from sklearn.metrics import roc_auc_score    \n",
    "from sklearn.cross_validation import StratifiedKFold"
   ]
  },
  {
   "cell_type": "code",
   "execution_count": 3,
   "metadata": {
    "collapsed": false
   },
   "outputs": [],
   "source": [
    "#on VM\n",
    "os.chdir('/mnt/mypartition/Desktop2/pubmed_nlp_research/DeepLearningMovies_datasets/')\n",
    "import KaggleWord2VecUtility"
   ]
  },
  {
   "cell_type": "code",
   "execution_count": 2,
   "metadata": {
    "collapsed": false
   },
   "outputs": [],
   "source": [
    "#on local:\n",
    "sys.path.append('/home/sarahwie/Documents/pubmed-nlp-research/DeepLearningMovies_datasets/')\n",
    "from KaggleWord2VecUtility import KaggleWord2VecUtility\n",
    "DATADIR='/home/sarahwie/Documents/pubmed-nlp-research/DeepLearningMovies_datasets/'"
   ]
  },
  {
   "cell_type": "code",
   "execution_count": 2,
   "metadata": {
    "collapsed": false
   },
   "outputs": [],
   "source": [
    "# Load the punkt tokenizer\n",
    "tokenizer = nltk.data.load('tokenizers/punkt/english.pickle')"
   ]
  },
  {
   "cell_type": "code",
   "execution_count": 3,
   "metadata": {
    "collapsed": false
   },
   "outputs": [],
   "source": [
    "#df = pickle.load(open('/home/sarahwie/Documents/pubmed-nlp-research/article_replication/df.p', 'rb'))\n",
    "df = pickle.load(open('/mnt/mypartition/Desktop2/dfJournals_trans_categories.p', 'rb'))"
   ]
  },
  {
   "cell_type": "code",
   "execution_count": 5,
   "metadata": {
    "collapsed": true
   },
   "outputs": [],
   "source": [
    "#for the journals VM dataframe, change the label of the 'sentiment' column to 'label'\n",
    "df.columns = ['label', 'title', 'abstract', 'qualifier_terms', 'descriptor_terms']"
   ]
  },
  {
   "cell_type": "code",
   "execution_count": 4,
   "metadata": {
    "collapsed": false
   },
   "outputs": [
    {
     "name": "stdout",
     "output_type": "stream",
     "text": [
      "(97049, 5)\n",
      "['sentiment' 'title' 'abstract' 'qualifier_terms' 'descriptor_terms']\n"
     ]
    }
   ],
   "source": [
    "print df.shape\n",
    "print df.columns.values"
   ]
  },
  {
   "cell_type": "code",
   "execution_count": 6,
   "metadata": {
    "collapsed": false
   },
   "outputs": [
    {
     "data": {
      "text/html": [
       "<div>\n",
       "<table border=\"1\" class=\"dataframe\">\n",
       "  <thead>\n",
       "    <tr style=\"text-align: right;\">\n",
       "      <th></th>\n",
       "      <th>label</th>\n",
       "      <th>title</th>\n",
       "      <th>abstract</th>\n",
       "      <th>qualifier_terms</th>\n",
       "      <th>descriptor_terms</th>\n",
       "    </tr>\n",
       "  </thead>\n",
       "  <tbody>\n",
       "    <tr>\n",
       "      <th>0</th>\n",
       "      <td>T0</td>\n",
       "      <td>Quantification of the relative contributions o...</td>\n",
       "      <td>Amyotrophic lateral sclerosis (ALS) and fronto...</td>\n",
       "      <td></td>\n",
       "      <td></td>\n",
       "    </tr>\n",
       "    <tr>\n",
       "      <th>1</th>\n",
       "      <td>T0</td>\n",
       "      <td>Ubiquitin Specific Protease 36 (USP36) control...</td>\n",
       "      <td>Ubiquitination of the TrkA neurotrophin recept...</td>\n",
       "      <td></td>\n",
       "      <td></td>\n",
       "    </tr>\n",
       "    <tr>\n",
       "      <th>2</th>\n",
       "      <td>T0</td>\n",
       "      <td>Functional Diversity of Cytotoxic tRNase/immun...</td>\n",
       "      <td>Contact-dependent growth inhibition (CDI) is a...</td>\n",
       "      <td></td>\n",
       "      <td></td>\n",
       "    </tr>\n",
       "    <tr>\n",
       "      <th>3</th>\n",
       "      <td>T0</td>\n",
       "      <td>Identification of a distinct substrate binding...</td>\n",
       "      <td>The type III secretion system (T3SS) effector ...</td>\n",
       "      <td></td>\n",
       "      <td></td>\n",
       "    </tr>\n",
       "    <tr>\n",
       "      <th>4</th>\n",
       "      <td>T0</td>\n",
       "      <td>Role of chondroitin sulfate (CS) modification ...</td>\n",
       "      <td>Protein tyrosine phosphatase receptor type Z (...</td>\n",
       "      <td></td>\n",
       "      <td></td>\n",
       "    </tr>\n",
       "    <tr>\n",
       "      <th>5</th>\n",
       "      <td>T0</td>\n",
       "      <td>Chemically programmed bispecific antibodies in...</td>\n",
       "      <td>Chemically programmed bispecific antibodies (b...</td>\n",
       "      <td></td>\n",
       "      <td></td>\n",
       "    </tr>\n",
       "    <tr>\n",
       "      <th>6</th>\n",
       "      <td>T0</td>\n",
       "      <td>Non-mutagenic Suppression of Enterocyte Ferrop...</td>\n",
       "      <td>Iron transfer across the basolateral membrane ...</td>\n",
       "      <td></td>\n",
       "      <td></td>\n",
       "    </tr>\n",
       "    <tr>\n",
       "      <th>7</th>\n",
       "      <td>T0</td>\n",
       "      <td>Structural plasticity of cholesteryl ester tra...</td>\n",
       "      <td>Cholesteryl ester transfer protein (CETP) medi...</td>\n",
       "      <td></td>\n",
       "      <td></td>\n",
       "    </tr>\n",
       "    <tr>\n",
       "      <th>8</th>\n",
       "      <td>T0</td>\n",
       "      <td>Identification of a Membrane-Bound Prepore Spe...</td>\n",
       "      <td>Pore-forming toxins (PFT) are cytolytic protei...</td>\n",
       "      <td></td>\n",
       "      <td></td>\n",
       "    </tr>\n",
       "    <tr>\n",
       "      <th>9</th>\n",
       "      <td>T0</td>\n",
       "      <td>EspR-dependent ESAT-6 secretion of Mycobacteri...</td>\n",
       "      <td>Attenuation of M. bovis BCG strain is related ...</td>\n",
       "      <td></td>\n",
       "      <td></td>\n",
       "    </tr>\n",
       "  </tbody>\n",
       "</table>\n",
       "</div>"
      ],
      "text/plain": [
       "  label                                              title  \\\n",
       "0    T0  Quantification of the relative contributions o...   \n",
       "1    T0  Ubiquitin Specific Protease 36 (USP36) control...   \n",
       "2    T0  Functional Diversity of Cytotoxic tRNase/immun...   \n",
       "3    T0  Identification of a distinct substrate binding...   \n",
       "4    T0  Role of chondroitin sulfate (CS) modification ...   \n",
       "5    T0  Chemically programmed bispecific antibodies in...   \n",
       "6    T0  Non-mutagenic Suppression of Enterocyte Ferrop...   \n",
       "7    T0  Structural plasticity of cholesteryl ester tra...   \n",
       "8    T0  Identification of a Membrane-Bound Prepore Spe...   \n",
       "9    T0  EspR-dependent ESAT-6 secretion of Mycobacteri...   \n",
       "\n",
       "                                            abstract qualifier_terms  \\\n",
       "0  Amyotrophic lateral sclerosis (ALS) and fronto...                   \n",
       "1  Ubiquitination of the TrkA neurotrophin recept...                   \n",
       "2  Contact-dependent growth inhibition (CDI) is a...                   \n",
       "3  The type III secretion system (T3SS) effector ...                   \n",
       "4  Protein tyrosine phosphatase receptor type Z (...                   \n",
       "5  Chemically programmed bispecific antibodies (b...                   \n",
       "6  Iron transfer across the basolateral membrane ...                   \n",
       "7  Cholesteryl ester transfer protein (CETP) medi...                   \n",
       "8  Pore-forming toxins (PFT) are cytolytic protei...                   \n",
       "9  Attenuation of M. bovis BCG strain is related ...                   \n",
       "\n",
       "  descriptor_terms  \n",
       "0                   \n",
       "1                   \n",
       "2                   \n",
       "3                   \n",
       "4                   \n",
       "5                   \n",
       "6                   \n",
       "7                   \n",
       "8                   \n",
       "9                   "
      ]
     },
     "execution_count": 6,
     "metadata": {},
     "output_type": "execute_result"
    }
   ],
   "source": [
    "df[0:10]"
   ]
  },
  {
   "cell_type": "markdown",
   "metadata": {
    "collapsed": true
   },
   "source": [
    "## Apply word2vec inversion"
   ]
  },
  {
   "cell_type": "code",
   "execution_count": 7,
   "metadata": {
    "collapsed": true
   },
   "outputs": [],
   "source": [
    "\"\"\"\n",
    "docprob takes two lists\n",
    "* docs: a list of documents, each of which is a list of sentences\n",
    "* models: the candidate word2vec models (each potential class)\n",
    "\n",
    "it returns the array of class probabilities.  Everything is done in-memory.\n",
    "\"\"\"\n",
    "\n",
    "def docprob(docs, mods):\n",
    "    # score() takes a list [s] of sentences here; could also be a sentence generator\n",
    "    sentlist = [s for d in docs for s in d]\n",
    "    # the log likelihood of each sentence in this review under each w2v representation\n",
    "    llhd = np.array( [ m.score(sentlist, len(sentlist)) for m in mods ] )\n",
    "    # now exponentiate to get likelihoods, \n",
    "    lhd = np.exp(llhd - llhd.max(axis=0)) # subtract row max to avoid numeric overload\n",
    "    # normalize across models (stars) to get sentence-star probabilities\n",
    "    #all this transposing business does is make it so the total probability of a word \n",
    "    #   equals 1 between the 2 arrays (positive prob and negative).\n",
    "    #and the pandas data frame just puts everything into rows/columns format for easy viz\n",
    "    prob = pd.DataFrame( (lhd/lhd.sum(axis=0)).transpose() )\n",
    "    # and finally average the sentence probabilities to get the review probability\n",
    "    prob[\"doc\"] = [i for i,d in enumerate(docs) for s in d]\n",
    "    prob = prob.groupby(\"doc\").mean()\n",
    "    return prob"
   ]
  },
  {
   "cell_type": "code",
   "execution_count": 14,
   "metadata": {
    "collapsed": false
   },
   "outputs": [],
   "source": [
    "a = datetime.datetime.now().replace(microsecond=0)\n",
    "\n",
    "#5-fold stratified cross validation\n",
    "from sklearn.cross_validation import StratifiedKFold\n",
    "\n",
    "#add boolean labels\n",
    "df['boolean_label'] = 1\n",
    "for row in df.iterrows():\n",
    "    if row[1]['label'] != 'T1/T2':\n",
    "        df.set_value(row[0], 'boolean_label', 0)\n",
    "\n",
    "#because no validation set, 4/5 of values go to train and 1/5 to test\n",
    "#is this too high?***\n",
    "#even though we shuffle, not as randomly distributed as the former method was\n",
    "y = df['boolean_label'].values\n",
    "skf = StratifiedKFold(y, n_folds=5, shuffle=True)\n",
    "\n",
    "i = 1\n",
    "avg = []\n",
    "for train_index, test_index in skf:\n",
    "\n",
    "    print(\"ROUND\", i)\n",
    "    i = i + 1\n",
    "    #use the indexes to subset the df pandas dataframe\n",
    "    train1, test1 = df.iloc[train_index], df.iloc[test_index]\n",
    "\n",
    "    # ****** Split the training set into clean sentences\n",
    "    #\n",
    "    sentences_pos = []  # Initialize an empty list of sentences\n",
    "    sentences_neg = []  # Initialize an empty list of sentences\n",
    "\n",
    "    #here change to include all journal name labels of positive and negative\n",
    "    inxs_pos = np.where(train1['boolean_label'] == 1)[0].tolist()\n",
    "    inxs_neg = np.where(train1['boolean_label'] == 0)[0].tolist()\n",
    "\n",
    "    print \"Parsing sentences from training set\"\n",
    "    for inx in inxs_pos:\n",
    "        review = train1[\"abstract\"].iloc[inx]\n",
    "        title = train1['title'].iloc[inx]\n",
    "        #descriptors = train1['descriptor_terms'].iloc[inx]\n",
    "        #qualifiers = train1['qualifier_terms'].iloc[inx]\n",
    "        sentences_pos += KaggleWord2VecUtility.review_to_sentences(review, tokenizer)\n",
    "        sentences_pos += KaggleWord2VecUtility.review_to_sentences(title, tokenizer)\n",
    "        #sentences_pos += KaggleWord2VecUtility.review_to_sentences(descriptors, tokenizer)\n",
    "        #sentences_pos += KaggleWord2VecUtility.review_to_sentences(qualifiers, tokenizer)\n",
    "\n",
    "\n",
    "    for inx in inxs_neg:\n",
    "        review = train1[\"abstract\"].iloc[inx]\n",
    "        title = train1['title'].iloc[inx]\n",
    "        #descriptors = train1['descriptor_terms'].iloc[inx]\n",
    "        #qualifiers = train1['qualifier_terms'].iloc[inx]\n",
    "        sentences_neg += KaggleWord2VecUtility.review_to_sentences(review, tokenizer)\n",
    "        sentences_neg += KaggleWord2VecUtility.review_to_sentences(title, tokenizer)\n",
    "        #sentences_neg += KaggleWord2VecUtility.review_to_sentences(descriptors, tokenizer)\n",
    "        #sentences_neg += KaggleWord2VecUtility.review_to_sentences(qualifiers, tokenizer)\n",
    "\n",
    "    # ****** Split the labeled and unlabeled training sets into clean sentences\n",
    "    #\n",
    "    sentences = []  # Initialize an empty list of sentences\n",
    "\n",
    "    for j in range(len(train1)):\n",
    "        review = train1[\"abstract\"].iloc[j]\n",
    "        title = train1['title'].iloc[j]\n",
    "        #descriptors = train1['descriptor_terms'].iloc[j]\n",
    "        #qualifiers = train1['qualifier_terms'].iloc[j]\n",
    "\n",
    "        sentences += KaggleWord2VecUtility.review_to_sentences(review, tokenizer)\n",
    "        sentences += KaggleWord2VecUtility.review_to_sentences(title, tokenizer)\n",
    "        #sentences += KaggleWord2VecUtility.review_to_sentences(descriptors, tokenizer)\n",
    "        #sentences += KaggleWord2VecUtility.review_to_sentences(qualifiers, tokenizer)\n",
    "\n",
    "    print \"Building and training w2v models\"\n",
    "    ## create a w2v learner \n",
    "    basemodel = Word2Vec(\n",
    "        workers=multiprocessing.cpu_count(), # use your cores\n",
    "        iter=3, # iter = sweeps of SGD through the data; more is better\n",
    "        hs=1, negative=0 # we only have scoring for the hierarchical softmax setup\n",
    "        )\n",
    "    basemodel.build_vocab(sentences) \n",
    "\n",
    "    #train models\n",
    "    models = [deepcopy(basemodel) for y in range(2)]\n",
    "    models[0].train(sentences_neg, total_examples=len(sentences_neg) )\n",
    "    models[1].train(sentences_pos, total_examples=len(sentences_pos) )\n",
    "\n",
    "    print \"Parsing test sentences\"\n",
    "    # read in the test set as a list of a list of words\n",
    "\n",
    "    docs = []\n",
    "    for k in range(len(test1)):\n",
    "        sents = []\n",
    "        review = test1[\"abstract\"].iloc[k]\n",
    "        title = test1['title'].iloc[k]\n",
    "        #descriptors = test1['descriptor_terms'].iloc[k]\n",
    "        #qualifiers = test1['qualifier_terms'].iloc[k]\n",
    "\n",
    "        sents += KaggleWord2VecUtility.review_to_sentences(review, tokenizer)\n",
    "        sents += KaggleWord2VecUtility.review_to_sentences(title, tokenizer)\n",
    "        #sents += KaggleWord2VecUtility.review_to_sentences(descriptors, tokenizer)\n",
    "        #sents += KaggleWord2VecUtility.review_to_sentences(qualifiers, tokenizer)\n",
    "        docs.append(sents)\n",
    "\n",
    "    print \"scoring test set\"\n",
    "    # get the probs (note we give docprob our test set plus the models)\n",
    "    probs = docprob(docs,models).astype(object)\n",
    "\n",
    "    predictions = np.ones((probs.shape[0]))\n",
    "\n",
    "    predictions[np.where(probs.iloc[:,0] > 0.5)] = 0 # The first column is the negative model\n",
    "    print predictions\n",
    "    print np.size(predictions)\n",
    "\n",
    "    score = roc_auc_score(test1[\"boolean_label\"], predictions)\n",
    "    #score = np.size(np.where(predictions == test1[\"sentiment\"]))*1./np.size(predictions)\n",
    "    print score\n",
    "    #append to average\n",
    "    avg.append(score)\n",
    "\n",
    "\n",
    "print(\"average of 5 rotations:\", sum(avg)/float(len(avg)))\n",
    "    \n",
    "b = datetime.datetime.now().replace(microsecond=0)\n",
    "print(b-a)"
   ]
  },
  {
   "cell_type": "code",
   "execution_count": 10,
   "metadata": {
    "collapsed": true
   },
   "outputs": [],
   "source": [
    "def stratified_5_fold_cv(df, mesh_terms, title, label):\n",
    "    #5-fold stratified cross validation\n",
    "\n",
    "    #add boolean labels\n",
    "    df['boolean_label'] = 1\n",
    "    for row in df.iterrows():\n",
    "        if row[1]['label'] != label:\n",
    "            df.set_value(row[0], 'boolean_label', 0)\n",
    "\n",
    "    #because no validation set, 4/5 of values go to train and 1/5 to test\n",
    "    #is this too high?***\n",
    "    #even though we shuffle, not as randomly distributed as the former method was\n",
    "    y = df['boolean_label'].values\n",
    "    skf = StratifiedKFold(y, n_folds=5, shuffle=True)\n",
    "\n",
    "    i = 1\n",
    "    avg = []\n",
    "    for train_index, test_index in skf:\n",
    "        print(\"ROUND\", i)\n",
    "        i = i + 1\n",
    "        \n",
    "        if i == 2:\n",
    "            #use the indexes to subset the df pandas dataframe\n",
    "            train1, test1 = df.iloc[train_index], df.iloc[test_index]\n",
    "\n",
    "            # ****** Split the training set into clean sentences\n",
    "            #\n",
    "            sentences_pos = []  # Initialize an empty list of sentences\n",
    "            sentences_neg = []  # Initialize an empty list of sentences\n",
    "\n",
    "            #here change to include all journal name labels of positive and negative\n",
    "            inxs_pos = np.where(train1['boolean_label'] == 1)[0].tolist()\n",
    "            inxs_neg = np.where(train1['boolean_label'] == 0)[0].tolist()\n",
    "\n",
    "            print \"Parsing sentences from training set\"\n",
    "            for inx in inxs_pos:\n",
    "                review = train1[\"abstract\"].iloc[inx]\n",
    "                sentences_pos += KaggleWord2VecUtility.review_to_sentences(review, tokenizer)\n",
    "                if title:\n",
    "                    title = train1['title'].iloc[inx]\n",
    "                    sentences_pos += KaggleWord2VecUtility.review_to_sentences(title, tokenizer)\n",
    "                if mesh_terms:\n",
    "                    descriptors = train1['descriptor_terms'].iloc[inx]\n",
    "                    qualifiers = train1['qualifier_terms'].iloc[inx]\n",
    "                    sentences_pos += KaggleWord2VecUtility.review_to_sentences(descriptors, tokenizer)\n",
    "                    sentences_pos += KaggleWord2VecUtility.review_to_sentences(qualifiers, tokenizer)        \n",
    "\n",
    "            for inx in inxs_neg:\n",
    "                review = train1[\"abstract\"].iloc[inx]\n",
    "                sentences_neg += KaggleWord2VecUtility.review_to_sentences(review, tokenizer)\n",
    "                if title:\n",
    "                    title = train1['title'].iloc[inx]\n",
    "                    sentences_neg += KaggleWord2VecUtility.review_to_sentences(title, tokenizer)\n",
    "                if mesh_terms:\n",
    "                    descriptors = train1['descriptor_terms'].iloc[inx]\n",
    "                    qualifiers = train1['qualifier_terms'].iloc[inx]\n",
    "                    sentences_neg += KaggleWord2VecUtility.review_to_sentences(descriptors, tokenizer)\n",
    "                    sentences_neg += KaggleWord2VecUtility.review_to_sentences(qualifiers, tokenizer)\n",
    "\n",
    "            # ****** Split the labeled and unlabeled training sets into clean sentences\n",
    "            #\n",
    "            sentences = []  # Initialize an empty list of sentences\n",
    "\n",
    "            for j in range(len(train1)):\n",
    "                review = train1[\"abstract\"].iloc[j]\n",
    "                sentences += KaggleWord2VecUtility.review_to_sentences(review, tokenizer)\n",
    "                if title:\n",
    "                    title = train1['title'].iloc[j]\n",
    "                    sentences += KaggleWord2VecUtility.review_to_sentences(title, tokenizer)\n",
    "                if mesh_terms:\n",
    "                    descriptors = train1['descriptor_terms'].iloc[j]\n",
    "                    qualifiers = train1['qualifier_terms'].iloc[j]\n",
    "                    sentences += KaggleWord2VecUtility.review_to_sentences(descriptors, tokenizer)\n",
    "                    sentences += KaggleWord2VecUtility.review_to_sentences(qualifiers, tokenizer)\n",
    "\n",
    "            print \"Building and training w2v models\"\n",
    "            ## create a w2v learner \n",
    "            basemodel = Word2Vec(\n",
    "                workers=multiprocessing.cpu_count(), # use your cores\n",
    "                iter=3, # iter = sweeps of SGD through the data; more is better\n",
    "                hs=1, negative=0 # we only have scoring for the hierarchical softmax setup\n",
    "                )\n",
    "            basemodel.build_vocab(sentences) \n",
    "\n",
    "            #train models\n",
    "            models = [deepcopy(basemodel) for y in range(2)]\n",
    "            models[0].train(sentences_neg, total_examples=len(sentences_neg) )\n",
    "            models[1].train(sentences_pos, total_examples=len(sentences_pos) )\n",
    "\n",
    "            print \"Parsing test sentences\"\n",
    "            # read in the test set as a list of a list of words\n",
    "\n",
    "            docs = []\n",
    "            for k in range(len(test1)):\n",
    "                sents = []\n",
    "                review = test1[\"abstract\"].iloc[k]\n",
    "                sents += KaggleWord2VecUtility.review_to_sentences(review, tokenizer)\n",
    "                if title:\n",
    "                    title = test1['title'].iloc[k]\n",
    "                    sents += KaggleWord2VecUtility.review_to_sentences(title, tokenizer)\n",
    "                if mesh_terms:\n",
    "                    descriptors = test1['descriptor_terms'].iloc[k]\n",
    "                    qualifiers = test1['qualifier_terms'].iloc[k]\n",
    "                    sents += KaggleWord2VecUtility.review_to_sentences(descriptors, tokenizer)\n",
    "                    sents += KaggleWord2VecUtility.review_to_sentences(qualifiers, tokenizer)\n",
    "                docs.append(sents)\n",
    "\n",
    "            print \"scoring test set\"\n",
    "            # get the probs (note we give docprob our test set plus the models)\n",
    "            probs = docprob(docs,models).astype(object)\n",
    "\n",
    "            predictions = np.ones((probs.shape[0]))\n",
    "\n",
    "            predictions[np.where(probs.iloc[:,0] > 0.5)] = 0 # The first column is the negative model\n",
    "            print predictions\n",
    "            print np.size(predictions)\n",
    "\n",
    "            score = roc_auc_score(test1[\"boolean_label\"], predictions)\n",
    "            #score = np.size(np.where(predictions == test1[\"sentiment\"]))*1./np.size(predictions)\n",
    "            print score\n",
    "            #append to average\n",
    "            #avg.append(score)\n",
    "\n",
    "\n",
    "    #print(\"average of 5 rotations:\", sum(avg)/float(len(avg)))\n",
    "    \n",
    "    return models"
   ]
  },
  {
   "cell_type": "code",
   "execution_count": 39,
   "metadata": {
    "collapsed": false
   },
   "outputs": [
    {
     "name": "stdout",
     "output_type": "stream",
     "text": [
      "('ROUND', 1)\n",
      "Parsing sentences from training set\n",
      "Building and training w2v models\n",
      "Parsing test sentences\n",
      "scoring test set\n",
      "[ 1.  1.  1. ...,  0.  0.  0.]\n",
      "19411\n",
      "0.942976797945\n",
      "('ROUND', 2)\n",
      "('ROUND', 3)\n",
      "('ROUND', 4)\n",
      "('ROUND', 5)\n",
      "0:09:55\n"
     ]
    }
   ],
   "source": [
    "a = datetime.datetime.now().replace(microsecond=0)\n",
    "\n",
    "res = stratified_5_fold_cv(df, False, True, 'T0')\n",
    "\n",
    "b = datetime.datetime.now().replace(microsecond=0)\n",
    "print(b-a)"
   ]
  },
  {
   "cell_type": "code",
   "execution_count": 42,
   "metadata": {
    "collapsed": true
   },
   "outputs": [],
   "source": [
    "pickle.dump(res, open('/mnt/mypartition/Desktop2/pubmed_nlp_research/pickled_objects/w2vModelWithStopsT0.p', 'wb'))"
   ]
  },
  {
   "cell_type": "code",
   "execution_count": 15,
   "metadata": {
    "collapsed": false
   },
   "outputs": [
    {
     "name": "stdout",
     "output_type": "stream",
     "text": [
      "Parsing sentences from training set\n"
     ]
    },
    {
     "name": "stderr",
     "output_type": "stream",
     "text": [
      "/home/nlp-vm/anaconda2/lib/python2.7/site-packages/bs4/__init__.py:207: UserWarning: \"http://www.trialregister.nl/trialreg/admin/rctview.asp?TC=1173.\" looks like a URL. Beautiful Soup is not an HTTP client. You should probably use an HTTP client to get the document behind the URL, and feed that document to Beautiful Soup.\n",
      "  '\"%s\" looks like a URL. Beautiful Soup is not an HTTP client. You should probably use an HTTP client to get the document behind the URL, and feed that document to Beautiful Soup.' % markup)\n",
      "/home/nlp-vm/anaconda2/lib/python2.7/site-packages/bs4/__init__.py:207: UserWarning: \"http://www.controlled-trials.com/isrctn/pf/24165302.\" looks like a URL. Beautiful Soup is not an HTTP client. You should probably use an HTTP client to get the document behind the URL, and feed that document to Beautiful Soup.\n",
      "  '\"%s\" looks like a URL. Beautiful Soup is not an HTTP client. You should probably use an HTTP client to get the document behind the URL, and feed that document to Beautiful Soup.' % markup)\n"
     ]
    },
    {
     "name": "stdout",
     "output_type": "stream",
     "text": [
      "Building and training w2v models\n",
      "0:09:00\n"
     ]
    }
   ],
   "source": [
    "a = datetime.datetime.now().replace(microsecond=0)\n",
    "\n",
    "res1 = train_model(df, False, 'T1/T2')\n",
    "pickle.dump(res1, open('/mnt/mypartition/Desktop2/pubmed_nlp_research/pickled_objects/w2vModelWithStopsT1T2.p', 'wb'))\n",
    "    \n",
    "b = datetime.datetime.now().replace(microsecond=0)\n",
    "print(b-a)"
   ]
  },
  {
   "cell_type": "code",
   "execution_count": 16,
   "metadata": {
    "collapsed": false
   },
   "outputs": [
    {
     "name": "stdout",
     "output_type": "stream",
     "text": [
      "Parsing sentences from training set\n",
      "Building and training w2v models\n",
      "0:08:57\n"
     ]
    }
   ],
   "source": [
    "a = datetime.datetime.now().replace(microsecond=0)\n",
    "\n",
    "res2 = train_model(df, False, 'T3/T4')\n",
    "pickle.dump(res2, open('/mnt/mypartition/Desktop2/pubmed_nlp_research/pickled_objects/w2vModelWithStopsT3T4.p', 'wb'))\n",
    "    \n",
    "b = datetime.datetime.now().replace(microsecond=0)\n",
    "print(b-a)"
   ]
  },
  {
   "cell_type": "code",
   "execution_count": 14,
   "metadata": {
    "collapsed": true
   },
   "outputs": [],
   "source": [
    "#Define our function\n",
    "def train_model(df, mesh_terms, label):\n",
    "\n",
    "    #append 2-class labels\n",
    "    df['boolean_label'] = 1\n",
    "    for row in df.iterrows():\n",
    "        if row[1]['label'] != label:\n",
    "            df.set_value(row[0], 'boolean_label', 0)\n",
    "\n",
    "    y = df['boolean_label'].values\n",
    "    skf = StratifiedKFold(y, n_folds=5, shuffle=True)\n",
    "\n",
    "    j = 1\n",
    "    for train_index, test_index in skf:\n",
    "        if j == 1:\n",
    "            j = j + 1\n",
    "            #use the indexes to subset the df pandas dataframe\n",
    "            train1, test1 = df.iloc[train_index], df.iloc[test_index]\n",
    "\n",
    "            # ****** Split the training set into clean sentences\n",
    "            #\n",
    "            sentences_pos = []  # Initialize an empty list of sentences\n",
    "            sentences_neg = []  # Initialize an empty list of sentences\n",
    "\n",
    "            #here change to include all journal name labels of positive and negative\n",
    "            inxs_pos = np.where(train1['boolean_label'] == 1)[0].tolist()\n",
    "            inxs_neg = np.where(train1['boolean_label'] == 0)[0].tolist()\n",
    "            \n",
    "            print \"Parsing sentences from training set\"\n",
    "            for inx in inxs_pos:\n",
    "                review = train1[\"abstract\"].iloc[inx]\n",
    "                title = train1['title'].iloc[inx]\n",
    "                sentences_pos += KaggleWord2VecUtility.review_to_sentences(review, tokenizer)\n",
    "                sentences_pos += KaggleWord2VecUtility.review_to_sentences(title, tokenizer)\n",
    "                if mesh_terms:\n",
    "                    descriptors = train1['descriptor_terms'].iloc[inx]\n",
    "                    qualifiers = train1['qualifier_terms'].iloc[inx]\n",
    "                    sentences_pos += KaggleWord2VecUtility.review_to_sentences(descriptors, tokenizer)\n",
    "                    sentences_pos += KaggleWord2VecUtility.review_to_sentences(qualifiers, tokenizer)\n",
    "                \n",
    "            for inx in inxs_neg:\n",
    "                review = train1[\"abstract\"].iloc[inx]\n",
    "                title = train1['title'].iloc[inx]\n",
    "                sentences_neg += KaggleWord2VecUtility.review_to_sentences(review, tokenizer)\n",
    "                sentences_neg += KaggleWord2VecUtility.review_to_sentences(title, tokenizer)\n",
    "                if mesh_terms:\n",
    "                    descriptors = train1['descriptor_terms'].iloc[inx]\n",
    "                    qualifiers = train1['qualifier_terms'].iloc[inx]\n",
    "                    sentences_neg += KaggleWord2VecUtility.review_to_sentences(descriptors, tokenizer)\n",
    "                    sentences_neg += KaggleWord2VecUtility.review_to_sentences(qualifiers, tokenizer)\n",
    "                \n",
    "            # ****** Split the labeled and unlabeled training sets into clean sentences\n",
    "            #\n",
    "            sentences = []  # Initialize an empty list of sentences\n",
    "\n",
    "            for j in range(len(train1)):\n",
    "                review = train1[\"abstract\"].iloc[j]\n",
    "                title = train1['title'].iloc[j]\n",
    "                sentences += KaggleWord2VecUtility.review_to_sentences(review, tokenizer)\n",
    "                sentences += KaggleWord2VecUtility.review_to_sentences(title, tokenizer)\n",
    "                if mesh_terms:\n",
    "                    descriptors = train1['descriptor_terms'].iloc[j]\n",
    "                    qualifiers = train1['qualifier_terms'].iloc[j]\n",
    "                    sentences += KaggleWord2VecUtility.review_to_sentences(descriptors, tokenizer)\n",
    "                    sentences += KaggleWord2VecUtility.review_to_sentences(qualifiers, tokenizer)\n",
    "\n",
    "            print \"Building and training w2v models\"\n",
    "            ## create a w2v learner \n",
    "            basemodel = Word2Vec(\n",
    "                workers=multiprocessing.cpu_count(), # use your cores\n",
    "                iter=3, # iter = sweeps of SGD through the data; more is better\n",
    "                hs=1, negative=0 # we only have scoring for the hierarchical softmax setup\n",
    "                )\n",
    "            basemodel.build_vocab(sentences) \n",
    "\n",
    "            #train models\n",
    "            models = [deepcopy(basemodel) for y in range(2)]\n",
    "            models[0].train(sentences_neg, total_examples=len(sentences_neg) )\n",
    "            models[1].train(sentences_pos, total_examples=len(sentences_pos) )\n",
    "            \n",
    "    return models"
   ]
  },
  {
   "cell_type": "markdown",
   "metadata": {},
   "source": [
    "### External validation on paper's dataset"
   ]
  },
  {
   "cell_type": "code",
   "execution_count": 18,
   "metadata": {
    "collapsed": true
   },
   "outputs": [],
   "source": [
    "#df_val = pickle.load(open('/home/sarahwie/Documents/pubmed-nlp-research/article_replication/df.p', 'rb'))\n",
    "df_val = pickle.load(open('/mnt/mypartition/Desktop2/pubmed_nlp_research/article_replication/df.p', 'rb'))"
   ]
  },
  {
   "cell_type": "code",
   "execution_count": 19,
   "metadata": {
    "collapsed": false
   },
   "outputs": [
    {
     "name": "stdout",
     "output_type": "stream",
     "text": [
      "(354, 6)\n",
      "['pmid' 'title' 'abstract' 'qualifier_terms' 'descriptor_terms' 'label']\n"
     ]
    }
   ],
   "source": [
    "#check that column names are the same\n",
    "print df_val.shape\n",
    "print df_val.columns.values"
   ]
  },
  {
   "cell_type": "markdown",
   "metadata": {},
   "source": [
    "Get test set parsed and scored."
   ]
  },
  {
   "cell_type": "code",
   "execution_count": 20,
   "metadata": {
    "collapsed": false
   },
   "outputs": [
    {
     "name": "stdout",
     "output_type": "stream",
     "text": [
      "Parsing test sentences\n"
     ]
    }
   ],
   "source": [
    "print \"Parsing test sentences\"\n",
    "# read in the test set as a list of a list of words\n",
    "\n",
    "docs = []\n",
    "for k in range(len(df_val)):\n",
    "    sents = []\n",
    "    review = df_val[\"abstract\"].iloc[k]\n",
    "    title = df_val['title'].iloc[k]\n",
    "    #descriptors = df_val['descriptor_terms'].iloc[k]\n",
    "    #qualifiers = df_val['qualifier_terms'].iloc[k]\n",
    "    sents += KaggleWord2VecUtility.review_to_sentences(review, tokenizer)\n",
    "    sents += KaggleWord2VecUtility.review_to_sentences(title, tokenizer)\n",
    "    #sents += KaggleWord2VecUtility.review_to_sentences(descriptors, tokenizer)\n",
    "    #sents += KaggleWord2VecUtility.review_to_sentences(qualifiers, tokenizer)\n",
    "    docs.append(sents)"
   ]
  },
  {
   "cell_type": "code",
   "execution_count": 21,
   "metadata": {
    "collapsed": true
   },
   "outputs": [],
   "source": [
    "res = pickle.load(open('/mnt/mypartition/Desktop2/pubmed_nlp_research/pickled_objects/w2vModelWithStopsT0.p', 'rb'))"
   ]
  },
  {
   "cell_type": "code",
   "execution_count": 22,
   "metadata": {
    "collapsed": true
   },
   "outputs": [],
   "source": [
    "#Score validation set using models built for TO\n",
    "#Add labels to df\n",
    "df_val['boolean_label'] = 1\n",
    "for row in df_val.iterrows():\n",
    "    if row[1]['label'] != 'T0':\n",
    "        df_val.set_value(row[0], 'boolean_label', 0)"
   ]
  },
  {
   "cell_type": "code",
   "execution_count": 23,
   "metadata": {
    "collapsed": false
   },
   "outputs": [
    {
     "name": "stdout",
     "output_type": "stream",
     "text": [
      "scoring test set\n",
      "              0            1\n",
      "doc                         \n",
      "0      0.649182     0.350818\n",
      "1    0.00391977      0.99608\n",
      "2      0.831252     0.168748\n",
      "3       0.84759      0.15241\n",
      "4      0.999662  0.000338351\n",
      "5      0.300792     0.699208\n",
      "6      0.999924  7.55319e-05\n",
      "7      0.341294     0.658706\n",
      "8             1  3.87099e-08\n",
      "9       0.96874    0.0312598\n",
      "[ 0.  1.  0.  0.  0.  1.  0.  1.  0.  0.  1.  1.  0.  1.  1.  0.  1.  1.\n",
      "  0.  1.  0.  0.  0.  0.  1.  1.  1.  1.  1.  1.  0.  1.  1.  0.  0.  1.\n",
      "  0.  0.  1.  1.  0.  0.  1.  0.  0.  1.  1.  0.  0.  1.  1.  0.  0.  0.\n",
      "  0.  0.  0.  0.  0.  0.  0.  0.  0.  1.  1.  0.  0.  0.  0.  0.  0.  0.\n",
      "  0.  0.  0.  0.  0.  0.  0.  0.  1.  1.  0.  0.  1.  1.  0.  1.  1.  0.\n",
      "  0.  0.  1.  0.  1.  0.  0.  1.  0.  0.  0.  0.  0.  0.  0.  1.  0.  1.\n",
      "  1.  0.  0.  0.  1.  0.  1.  1.  0.  0.  0.  1.  0.  1.  0.  1.  1.  0.\n",
      "  0.  0.  0.  0.  0.  0.  0.  0.  0.  0.  0.  0.  0.  0.  0.  0.  0.  0.\n",
      "  0.  0.  0.  0.  0.  0.  0.  0.  0.  0.  0.  0.  0.  0.  0.  0.  0.  0.\n",
      "  0.  0.  0.  0.  0.  0.  0.  0.  0.  0.  0.  0.  0.  0.  0.  0.  0.  0.\n",
      "  0.  0.  0.  0.  0.  0.  0.  0.  0.  0.  0.  0.  0.  0.  0.  0.  0.  0.\n",
      "  0.  0.  0.  0.  0.  0.  0.  0.  0.  0.  0.  0.  0.  0.  0.  0.  0.  0.\n",
      "  0.  0.  0.  0.  0.  0.  0.  0.  0.  0.  0.  0.  0.  0.  0.  0.  0.  0.\n",
      "  0.  0.  0.  0.  0.  0.  0.  0.  0.  0.  0.  0.  0.  0.  0.  0.  0.  0.\n",
      "  0.  0.  0.  0.  0.  0.  0.  0.  0.  0.  0.  0.  0.  0.  0.  0.  0.  1.\n",
      "  0.  0.  0.  0.  0.  0.  0.  0.  0.  0.  0.  0.  0.  0.  0.  0.  0.  0.\n",
      "  0.  0.  0.  0.  0.  0.  0.  0.  0.  0.  0.  0.  0.  0.  0.  0.  0.  0.\n",
      "  0.  0.  0.  0.  0.  0.  0.  0.  0.  0.  0.  0.  0.  0.  0.  0.  0.  0.\n",
      "  0.  0.  0.  0.  0.  0.  0.  0.  0.  0.  0.  0.  0.  1.  0.  0.  1.  0.\n",
      "  0.  0.  1.  0.  0.  0.  0.  0.  0.  0.  0.  0.]\n",
      "354\n",
      "0.640335648148\n"
     ]
    }
   ],
   "source": [
    "print \"scoring test set\"\n",
    "# get the probs (note we give docprob our test set plus the models)\n",
    "probs = docprob(docs,res).astype(object)\n",
    "print probs[0:10]\n",
    "\n",
    "predictions = np.ones((probs.shape[0]))\n",
    "\n",
    "predictions[np.where(probs.iloc[:,0] > 0.5)] = 0 # The first column is the negative model\n",
    "print predictions\n",
    "print np.size(predictions)\n",
    "\n",
    "score = roc_auc_score(df_val[\"boolean_label\"], predictions)\n",
    "print score"
   ]
  },
  {
   "cell_type": "code",
   "execution_count": 24,
   "metadata": {
    "collapsed": true
   },
   "outputs": [],
   "source": [
    "#Score validation set using models built for T1/T2\n",
    "#Add labels to df\n",
    "df_val['boolean_label'] = 1\n",
    "for row in df_val.iterrows():\n",
    "    if row[1]['label'] != 'T1/T2':\n",
    "        df_val.set_value(row[0], 'boolean_label', 0)"
   ]
  },
  {
   "cell_type": "code",
   "execution_count": 25,
   "metadata": {
    "collapsed": false
   },
   "outputs": [
    {
     "name": "stdout",
     "output_type": "stream",
     "text": [
      "scoring test set\n",
      "            0           1\n",
      "doc                      \n",
      "0    0.697497    0.302503\n",
      "1    0.961737   0.0382625\n",
      "2    0.717966    0.282034\n",
      "3    0.605429    0.394571\n",
      "4    0.821622    0.178378\n",
      "5    0.993986  0.00601392\n",
      "6    0.837053    0.162947\n",
      "7    0.744812    0.255188\n",
      "8    0.994281  0.00571881\n",
      "9    0.967571   0.0324289\n",
      "[ 0.  0.  0.  0.  0.  0.  0.  0.  0.  0.  0.  0.  0.  1.  0.  0.  0.  0.\n",
      "  0.  0.  0.  1.  0.  0.  0.  0.  0.  0.  1.  0.  0.  0.  0.  0.  0.  0.\n",
      "  0.  0.  0.  0.  0.  0.  0.  0.  0.  0.  0.  0.  0.  0.  0.  0.  0.  0.\n",
      "  0.  1.  0.  1.  0.  1.  0.  0.  0.  0.  0.  0.  0.  1.  0.  1.  0.  1.\n",
      "  0.  0.  0.  0.  0.  1.  0.  0.  0.  0.  0.  0.  0.  0.  0.  0.  0.  0.\n",
      "  0.  0.  0.  0.  0.  0.  0.  1.  1.  0.  1.  0.  1.  0.  0.  0.  0.  1.\n",
      "  0.  0.  0.  1.  0.  1.  0.  0.  0.  0.  1.  0.  1.  0.  0.  0.  0.  0.\n",
      "  0.  0.  0.  0.  1.  1.  1.  1.  0.  1.  0.  1.  1.  1.  0.  1.  1.  1.\n",
      "  0.  0.  0.  0.  0.  0.  0.  1.  1.  0.  0.  1.  1.  0.  1.  1.  1.  0.\n",
      "  0.  0.  0.  1.  1.  1.  1.  1.  1.  1.  1.  1.  1.  0.  0.  0.  0.  0.\n",
      "  0.  0.  0.  0.  0.  0.  0.  0.  0.  0.  0.  0.  0.  0.  1.  0.  0.  0.\n",
      "  0.  1.  1.  0.  0.  0.  0.  0.  0.  0.  0.  0.  0.  0.  0.  0.  0.  0.\n",
      "  0.  0.  0.  0.  1.  0.  0.  0.  0.  0.  0.  0.  0.  0.  0.  0.  0.  0.\n",
      "  0.  0.  0.  0.  0.  0.  0.  0.  0.  0.  0.  0.  1.  0.  0.  0.  0.  1.\n",
      "  0.  0.  0.  0.  1.  0.  0.  1.  0.  0.  0.  0.  0.  0.  0.  0.  0.  0.\n",
      "  0.  0.  0.  0.  0.  0.  0.  0.  0.  0.  1.  0.  0.  1.  1.  0.  0.  0.\n",
      "  1.  1.  1.  1.  0.  0.  0.  0.  1.  0.  0.  0.  1.  0.  0.  0.  0.  0.\n",
      "  0.  0.  0.  0.  0.  0.  0.  0.  0.  0.  0.  0.  0.  0.  0.  0.  0.  0.\n",
      "  0.  0.  0.  0.  0.  1.  0.  0.  0.  0.  1.  1.  0.  0.  0.  0.  1.  0.\n",
      "  0.  1.  0.  0.  0.  1.  0.  0.  0.  0.  0.  0.]\n",
      "354\n",
      "0.709423266941\n"
     ]
    }
   ],
   "source": [
    "print \"scoring test set\"\n",
    "# get the probs (note we give docprob our test set plus the models)\n",
    "probs = docprob(docs,res1).astype(object)\n",
    "print probs[0:10]\n",
    "\n",
    "predictions = np.ones((probs.shape[0]))\n",
    "\n",
    "predictions[np.where(probs.iloc[:,0] > 0.5)] = 0 # The first column is the negative model\n",
    "print predictions\n",
    "print np.size(predictions)\n",
    "\n",
    "score = roc_auc_score(df_val[\"boolean_label\"], predictions)\n",
    "print score"
   ]
  },
  {
   "cell_type": "code",
   "execution_count": 26,
   "metadata": {
    "collapsed": true
   },
   "outputs": [],
   "source": [
    "#Score validation set using models built for T3/T4\n",
    "#Add labels to df\n",
    "df_val['boolean_label'] = 1\n",
    "for row in df_val.iterrows():\n",
    "    if row[1]['label'] != 'T3/T4':\n",
    "        df_val.set_value(row[0], 'boolean_label', 0)"
   ]
  },
  {
   "cell_type": "code",
   "execution_count": 27,
   "metadata": {
    "collapsed": false
   },
   "outputs": [
    {
     "name": "stdout",
     "output_type": "stream",
     "text": [
      "scoring test set\n",
      "              0         1\n",
      "doc                      \n",
      "0      0.515032  0.484968\n",
      "1      0.841101  0.158899\n",
      "2      0.654105  0.345895\n",
      "3      0.740195  0.259805\n",
      "4      0.304986  0.695014\n",
      "5      0.668322  0.331678\n",
      "6      0.137801  0.862199\n",
      "7      0.756234  0.243766\n",
      "8    0.00119575  0.998804\n",
      "9      0.340777  0.659223\n",
      "[ 0.  0.  0.  0.  1.  0.  1.  0.  1.  1.  0.  0.  0.  0.  0.  0.  0.  0.\n",
      "  1.  0.  0.  0.  0.  0.  0.  0.  0.  0.  0.  0.  0.  0.  0.  0.  0.  0.\n",
      "  1.  1.  0.  0.  0.  1.  0.  1.  1.  0.  0.  1.  1.  0.  0.  0.  1.  1.\n",
      "  1.  0.  0.  0.  1.  1.  0.  1.  0.  0.  0.  1.  1.  0.  1.  0.  0.  0.\n",
      "  1.  1.  1.  1.  1.  0.  1.  1.  0.  0.  0.  1.  0.  0.  1.  0.  0.  1.\n",
      "  0.  0.  0.  0.  0.  0.  0.  0.  0.  1.  0.  1.  0.  1.  1.  0.  0.  0.\n",
      "  0.  1.  0.  0.  0.  0.  0.  0.  1.  0.  0.  0.  0.  0.  1.  0.  0.  1.\n",
      "  1.  0.  1.  1.  0.  1.  0.  0.  1.  1.  1.  0.  1.  1.  1.  0.  1.  1.\n",
      "  1.  1.  1.  1.  1.  1.  1.  0.  0.  1.  1.  0.  0.  1.  0.  0.  0.  0.\n",
      "  0.  0.  1.  1.  0.  0.  0.  0.  0.  0.  0.  1.  0.  1.  1.  1.  1.  1.\n",
      "  1.  1.  1.  1.  1.  1.  1.  1.  1.  1.  1.  1.  1.  1.  1.  1.  1.  1.\n",
      "  1.  0.  1.  1.  1.  1.  0.  1.  1.  1.  1.  1.  1.  1.  1.  1.  1.  1.\n",
      "  1.  1.  1.  1.  1.  1.  1.  1.  1.  1.  1.  1.  1.  1.  1.  1.  1.  1.\n",
      "  1.  1.  0.  1.  1.  1.  0.  1.  1.  1.  1.  1.  0.  0.  1.  1.  1.  0.\n",
      "  1.  1.  0.  1.  0.  1.  1.  0.  1.  1.  1.  1.  1.  1.  1.  1.  1.  0.\n",
      "  1.  1.  1.  1.  1.  1.  1.  1.  1.  1.  1.  1.  1.  0.  0.  1.  1.  1.\n",
      "  0.  1.  1.  0.  1.  1.  1.  1.  0.  1.  1.  1.  0.  1.  1.  1.  1.  1.\n",
      "  1.  1.  1.  1.  1.  1.  1.  1.  1.  1.  1.  1.  1.  1.  1.  1.  1.  1.\n",
      "  1.  1.  1.  1.  1.  1.  1.  1.  1.  1.  1.  0.  1.  0.  1.  1.  0.  1.\n",
      "  1.  0.  0.  0.  0.  0.  0.  1.  1.  1.  1.  1.]\n",
      "354\n",
      "0.741734860884\n"
     ]
    }
   ],
   "source": [
    "print \"scoring test set\"\n",
    "# get the probs (note we give docprob our test set plus the models)\n",
    "probs = docprob(docs,res2).astype(object)\n",
    "print probs[0:10]\n",
    "\n",
    "predictions = np.ones((probs.shape[0]))\n",
    "\n",
    "predictions[np.where(probs.iloc[:,0] > 0.5)] = 0 # The first column is the negative model\n",
    "print predictions\n",
    "print np.size(predictions)\n",
    "\n",
    "score = roc_auc_score(df_val[\"boolean_label\"], predictions)\n",
    "print score"
   ]
  },
  {
   "cell_type": "markdown",
   "metadata": {
    "collapsed": true
   },
   "source": [
    "## Performance with abstract, title, and mesh terms on PAPER'S DATASET (much worse than BOWs/RF because so few records)\n",
    "T0 class- 0.68 (0.63, 0.73)\n",
    "\n",
    "T1/T2 class- 0.49 (0.45, 0.52)\n",
    "\n",
    "T3/T4 class- 0.51 (0.48, 0.55)"
   ]
  },
  {
   "cell_type": "markdown",
   "metadata": {},
   "source": [
    "## Performance with abstract, title, and mesh terms on PUBMED JOURNALS (performs how compared to BOWs/RF?)\n",
    "T0 class- 0.94\n",
    "\n",
    "T1/T2 class- 0.82\n",
    "\n",
    "T3/T4 class- 0.88"
   ]
  },
  {
   "cell_type": "markdown",
   "metadata": {
    "collapsed": true
   },
   "source": [
    "### Import KaggleWord2VecUtility since didn't work from file\n",
    "### Note: remove_stopwords set to True"
   ]
  },
  {
   "cell_type": "code",
   "execution_count": 8,
   "metadata": {
    "collapsed": true
   },
   "outputs": [],
   "source": [
    "import re\n",
    "import nltk\n",
    "\n",
    "import pandas as pd\n",
    "import numpy as np\n",
    "\n",
    "from bs4 import BeautifulSoup\n",
    "from nltk.corpus import stopwords\n",
    "\n",
    "\n",
    "class KaggleWord2VecUtility(object):\n",
    "    \"\"\"KaggleWord2VecUtility is a utility class for processing raw HTML text into segments for further learning\"\"\"\n",
    "\n",
    "    @staticmethod\n",
    "    def review_to_wordlist( review, remove_stopwords=False ):\n",
    "        # Function to convert a document to a sequence of words,\n",
    "        # optionally removing stop words.  Returns a list of words.\n",
    "        #\n",
    "        # 1. Remove HTML\n",
    "        review_text = BeautifulSoup(review).get_text()\n",
    "        #\n",
    "        # 2. Remove non-letters\n",
    "        review_text = re.sub(\"[^a-zA-Z]\",\" \", review_text)\n",
    "        #\n",
    "        # 3. Convert words to lower case and split them\n",
    "        words = review_text.lower().split()\n",
    "        #\n",
    "        # 4. Optionally remove stop words (false by default)\n",
    "        if remove_stopwords:\n",
    "            stops = set(stopwords.words(\"english\"))\n",
    "            words = [w for w in words if not w in stops]\n",
    "        #\n",
    "        # 5. Return a list of words\n",
    "        return(words)\n",
    "    \n",
    "    @staticmethod\n",
    "    def review_to_words( review, remove_stopwords=False ):\n",
    "        # Function to convert a raw review to a string of words\n",
    "        # The input is a single string (a raw movie review), and \n",
    "        # the output is a single string (a preprocessed movie review)\n",
    "        #\n",
    "        # 1. Remove HTML\n",
    "        review_text = BeautifulSoup(review).get_text() \n",
    "        #\n",
    "        # 2. Remove non-letters        \n",
    "        review_text = re.sub(\"[^a-zA-Z]\", \" \", review_text) \n",
    "        #\n",
    "        # 3. Convert to lower case, split into individual words\n",
    "        words = review_text.lower().split()                             \n",
    "        #\n",
    "        # 4. Optionally remove stop words (false by default)\n",
    "        if remove_stopwords:\n",
    "            stops = set(stopwords.words(\"english\"))\n",
    "            words = [w for w in words if not w in stops]   \n",
    "        #\n",
    "        # 6. Join the words back into one string separated by space, \n",
    "        # and return the result.\n",
    "        return( \" \".join( words ))   \n",
    "\n",
    "    # Define a function to split a review into parsed sentences\n",
    "    @staticmethod\n",
    "    def review_to_sentences( review, tokenizer, remove_stopwords=False ):\n",
    "        # Function to split a review into parsed sentences. Returns a\n",
    "        # list of sentences, where each sentence is a list of words\n",
    "        #\n",
    "        # 1. Use the NLTK tokenizer to split the paragraph into sentences\n",
    "        raw_sentences = tokenizer.tokenize(review.decode('utf8').strip())\n",
    "        #\n",
    "        # 2. Loop over each sentence\n",
    "        sentences = []\n",
    "        for raw_sentence in raw_sentences:\n",
    "            # If a sentence is empty, skip it\n",
    "            if len(raw_sentence) > 0:\n",
    "                # Otherwise, call review_to_wordlist to get a list of words\n",
    "                sentences.append( KaggleWord2VecUtility.review_to_wordlist( raw_sentence, \\\n",
    "                  remove_stopwords ))\n",
    "        #\n",
    "        # Return the list of sentences (each sentence is a list of words,\n",
    "        # so this returns a list of lists\n",
    "        return sentences"
   ]
  }
 ],
 "metadata": {
  "kernelspec": {
   "display_name": "Python 2",
   "language": "python",
   "name": "python2"
  },
  "language_info": {
   "codemirror_mode": {
    "name": "ipython",
    "version": 2
   },
   "file_extension": ".py",
   "mimetype": "text/x-python",
   "name": "python",
   "nbconvert_exporter": "python",
   "pygments_lexer": "ipython2",
   "version": "2.7.11"
  }
 },
 "nbformat": 4,
 "nbformat_minor": 0
}
