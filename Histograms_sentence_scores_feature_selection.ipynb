{
 "cells": [
  {
   "cell_type": "code",
   "execution_count": 1,
   "metadata": {
    "collapsed": true
   },
   "outputs": [],
   "source": [
    "import pickle\n",
    "import numpy as np\n",
    "import pandas as pd\n",
    "import matplotlib\n",
    "import matplotlib.pyplot as plt\n",
    "matplotlib.style.use('ggplot')\n",
    "import datetime\n",
    "import sklearn"
   ]
  },
  {
   "cell_type": "code",
   "execution_count": 3,
   "metadata": {
    "collapsed": false
   },
   "outputs": [],
   "source": [
    "#Average probs for 0 and 1 for each doc\n",
    "probs = pickle.load(open('./pickled_objects/probs.p','rb'))"
   ]
  },
  {
   "cell_type": "code",
   "execution_count": 6,
   "metadata": {
    "collapsed": false
   },
   "outputs": [
    {
     "data": {
      "text/html": [
       "<div>\n",
       "<table border=\"1\" class=\"dataframe\">\n",
       "  <thead>\n",
       "    <tr style=\"text-align: right;\">\n",
       "      <th></th>\n",
       "      <th>0</th>\n",
       "      <th>1</th>\n",
       "    </tr>\n",
       "    <tr>\n",
       "      <th>doc</th>\n",
       "      <th></th>\n",
       "      <th></th>\n",
       "    </tr>\n",
       "  </thead>\n",
       "  <tbody>\n",
       "    <tr>\n",
       "      <th>0</th>\n",
       "      <td>0.484133</td>\n",
       "      <td>0.515867</td>\n",
       "    </tr>\n",
       "    <tr>\n",
       "      <th>1</th>\n",
       "      <td>0.573073</td>\n",
       "      <td>0.426927</td>\n",
       "    </tr>\n",
       "    <tr>\n",
       "      <th>2</th>\n",
       "      <td>0.261172</td>\n",
       "      <td>0.738828</td>\n",
       "    </tr>\n",
       "  </tbody>\n",
       "</table>\n",
       "</div>"
      ],
      "text/plain": [
       "            0         1\n",
       "doc                    \n",
       "0    0.484133  0.515867\n",
       "1    0.573073  0.426927\n",
       "2    0.261172  0.738828"
      ]
     },
     "execution_count": 6,
     "metadata": {},
     "output_type": "execute_result"
    }
   ],
   "source": [
    "probs[0:3]"
   ]
  },
  {
   "cell_type": "code",
   "execution_count": 4,
   "metadata": {
    "collapsed": true
   },
   "outputs": [],
   "source": [
    "test1 = pickle.load(open('./pickled_objects/test1.p','rb'))"
   ]
  },
  {
   "cell_type": "code",
   "execution_count": 7,
   "metadata": {
    "collapsed": false
   },
   "outputs": [
    {
     "name": "stdout",
     "output_type": "stream",
     "text": [
      "             id  sentiment                                             review\n",
      "21130  \"5706_2\"          0  \"This movie is like the thousand \\\"cat and mou...\n"
     ]
    }
   ],
   "source": [
    "print test1.iloc[[0]]"
   ]
  },
  {
   "cell_type": "code",
   "execution_count": 5,
   "metadata": {
    "collapsed": true
   },
   "outputs": [],
   "source": [
    "docs = pickle.load(open('./pickled_objects/docs.p','rb'))"
   ]
  },
  {
   "cell_type": "code",
   "execution_count": 11,
   "metadata": {
    "collapsed": false
   },
   "outputs": [
    {
     "name": "stdout",
     "output_type": "stream",
     "text": [
      "[[u'this', u'movie', u'is', u'like', u'the', u'thousand', u'cat', u'and', u'mouse', u'movies', u'that', u'preceded', u'it'], [u'the', u'following', u'may', u'look', u'like', u'a', u'spoiler', u'but', u'it', u'really', u'just', u'describes', u'a', u'large', u'class', u'of', u'movies', u'there', u'is', u'the', u'passionate', u'wise', u'main', u'character', u'his', u'goofy', u'but', u'well', u'meaning', u'sidekick', u'with', u'his', u'ill', u'placed', u'attempts', u'at', u'humorous', u'comments', u'the', u'initially', u'hostile', u'but', u'soon', u'softened', u'gorgeous', u'lady', u'who', u'triggers', u'the', u'inevitable', u'unlikely', u'love', u'story', u'the', u'loved', u'ones', u'taken', u'hostage', u'and', u'of', u'course', u'the', u'careless', u'evil', u'adversary', u'with', u'his', u'brutal', u'minions'], [u'everybody', u'has', u'seen', u'tons', u'of', u'these', u'movies', u'already', u'and', u'national', u'treasure', u'is', u'like', u'any', u'one', u'of', u'them', u'with', u'only', u'a', u'slightly', u'modified', u'wrapping'], [u'every', u'turn', u'of', u'the', u'story', u'was', u'easily', u'predicted', u'and', u'i', u'can', u'assure', u'you', u'i', u'am', u'not', u'the', u'sharpest', u'tool', u'in', u'the', u'shed'], [u'i', u'am', u'quite', u'tired', u'of', u'feeling', u'tricked', u'for', u'money', u'after', u'exiting', u'the', u'theater', u'from', u'a', u'hollywood', u'movie', u'and', u'if', u'you', u'have', u'ever', u'felt', u'that', u'way', u'too', u'heed', u'my', u'warning', u'stay', u'miles', u'away', u'from', u'this', u'movie']]\n"
     ]
    }
   ],
   "source": [
    "print docs[0]"
   ]
  },
  {
   "cell_type": "code",
   "execution_count": 6,
   "metadata": {
    "collapsed": true
   },
   "outputs": [],
   "source": [
    "models = pickle.load(open('./pickled_objects/models.p','rb'))"
   ]
  },
  {
   "cell_type": "code",
   "execution_count": 7,
   "metadata": {
    "collapsed": true
   },
   "outputs": [],
   "source": [
    "probssentences = pickle.load(open('./pickled_objects/probssentences.p', 'rb'))"
   ]
  },
  {
   "cell_type": "code",
   "execution_count": 11,
   "metadata": {
    "collapsed": false
   },
   "outputs": [
    {
     "data": {
      "text/html": [
       "<div>\n",
       "<table border=\"1\" class=\"dataframe\">\n",
       "  <thead>\n",
       "    <tr style=\"text-align: right;\">\n",
       "      <th></th>\n",
       "      <th>0</th>\n",
       "      <th>1</th>\n",
       "      <th>doc</th>\n",
       "    </tr>\n",
       "  </thead>\n",
       "  <tbody>\n",
       "    <tr>\n",
       "      <th>0</th>\n",
       "      <td>0.5986</td>\n",
       "      <td>0.4014</td>\n",
       "      <td>0</td>\n",
       "    </tr>\n",
       "    <tr>\n",
       "      <th>1</th>\n",
       "      <td>0.00792023</td>\n",
       "      <td>0.99208</td>\n",
       "      <td>0</td>\n",
       "    </tr>\n",
       "    <tr>\n",
       "      <th>2</th>\n",
       "      <td>0.369248</td>\n",
       "      <td>0.630752</td>\n",
       "      <td>0</td>\n",
       "    </tr>\n",
       "    <tr>\n",
       "      <th>3</th>\n",
       "      <td>0.445318</td>\n",
       "      <td>0.554682</td>\n",
       "      <td>0</td>\n",
       "    </tr>\n",
       "    <tr>\n",
       "      <th>4</th>\n",
       "      <td>0.999581</td>\n",
       "      <td>0.000419095</td>\n",
       "      <td>0</td>\n",
       "    </tr>\n",
       "    <tr>\n",
       "      <th>5</th>\n",
       "      <td>0.00449226</td>\n",
       "      <td>0.995508</td>\n",
       "      <td>1</td>\n",
       "    </tr>\n",
       "    <tr>\n",
       "      <th>6</th>\n",
       "      <td>0.918007</td>\n",
       "      <td>0.0819928</td>\n",
       "      <td>1</td>\n",
       "    </tr>\n",
       "    <tr>\n",
       "      <th>7</th>\n",
       "      <td>0.55223</td>\n",
       "      <td>0.44777</td>\n",
       "      <td>1</td>\n",
       "    </tr>\n",
       "    <tr>\n",
       "      <th>8</th>\n",
       "      <td>0.986808</td>\n",
       "      <td>0.0131918</td>\n",
       "      <td>1</td>\n",
       "    </tr>\n",
       "    <tr>\n",
       "      <th>9</th>\n",
       "      <td>0.721142</td>\n",
       "      <td>0.278858</td>\n",
       "      <td>1</td>\n",
       "    </tr>\n",
       "    <tr>\n",
       "      <th>10</th>\n",
       "      <td>0.111639</td>\n",
       "      <td>0.888361</td>\n",
       "      <td>1</td>\n",
       "    </tr>\n",
       "    <tr>\n",
       "      <th>11</th>\n",
       "      <td>0.717194</td>\n",
       "      <td>0.282805</td>\n",
       "      <td>1</td>\n",
       "    </tr>\n",
       "    <tr>\n",
       "      <th>12</th>\n",
       "      <td>0.0193013</td>\n",
       "      <td>0.980699</td>\n",
       "      <td>2</td>\n",
       "    </tr>\n",
       "    <tr>\n",
       "      <th>13</th>\n",
       "      <td>0.0159692</td>\n",
       "      <td>0.984031</td>\n",
       "      <td>2</td>\n",
       "    </tr>\n",
       "    <tr>\n",
       "      <th>14</th>\n",
       "      <td>0.0224181</td>\n",
       "      <td>0.977582</td>\n",
       "      <td>2</td>\n",
       "    </tr>\n",
       "    <tr>\n",
       "      <th>15</th>\n",
       "      <td>0.986999</td>\n",
       "      <td>0.0130013</td>\n",
       "      <td>2</td>\n",
       "    </tr>\n",
       "    <tr>\n",
       "      <th>16</th>\n",
       "      <td>0.0593864</td>\n",
       "      <td>0.940614</td>\n",
       "      <td>3</td>\n",
       "    </tr>\n",
       "    <tr>\n",
       "      <th>17</th>\n",
       "      <td>0.0795348</td>\n",
       "      <td>0.920465</td>\n",
       "      <td>3</td>\n",
       "    </tr>\n",
       "    <tr>\n",
       "      <th>18</th>\n",
       "      <td>0.00578835</td>\n",
       "      <td>0.994212</td>\n",
       "      <td>3</td>\n",
       "    </tr>\n",
       "    <tr>\n",
       "      <th>19</th>\n",
       "      <td>0.00138163</td>\n",
       "      <td>0.998618</td>\n",
       "      <td>4</td>\n",
       "    </tr>\n",
       "  </tbody>\n",
       "</table>\n",
       "</div>"
      ],
      "text/plain": [
       "             0            1 doc\n",
       "0       0.5986       0.4014   0\n",
       "1   0.00792023      0.99208   0\n",
       "2     0.369248     0.630752   0\n",
       "3     0.445318     0.554682   0\n",
       "4     0.999581  0.000419095   0\n",
       "5   0.00449226     0.995508   1\n",
       "6     0.918007    0.0819928   1\n",
       "7      0.55223      0.44777   1\n",
       "8     0.986808    0.0131918   1\n",
       "9     0.721142     0.278858   1\n",
       "10    0.111639     0.888361   1\n",
       "11    0.717194     0.282805   1\n",
       "12   0.0193013     0.980699   2\n",
       "13   0.0159692     0.984031   2\n",
       "14   0.0224181     0.977582   2\n",
       "15    0.986999    0.0130013   2\n",
       "16   0.0593864     0.940614   3\n",
       "17   0.0795348     0.920465   3\n",
       "18  0.00578835     0.994212   3\n",
       "19  0.00138163     0.998618   4"
      ]
     },
     "execution_count": 11,
     "metadata": {},
     "output_type": "execute_result"
    }
   ],
   "source": [
    "probssentences[0:20]"
   ]
  },
  {
   "cell_type": "code",
   "execution_count": 8,
   "metadata": {
    "collapsed": false
   },
   "outputs": [],
   "source": [
    "#append the true class value\n",
    "probssentences[\"truelabel\"] = 0\n",
    "for i in range(len(probssentences)):\n",
    "    #get true label value from test1 where index matches doc number\n",
    "    j = probssentences.iloc[i]['doc']\n",
    "    probssentences.set_value(i, 'truelabel', test1.iloc[[j]][\"sentiment\"])"
   ]
  },
  {
   "cell_type": "code",
   "execution_count": 10,
   "metadata": {
    "collapsed": false
   },
   "outputs": [
    {
     "name": "stdout",
     "output_type": "stream",
     "text": [
      "              id  sentiment                                             review\n",
      "21130   \"5706_2\"          0  \"This movie is like the thousand \\\"cat and mou...\n",
      "3404   \"11132_3\"          0  \"A documentarist, like any filmmaker, must con...\n",
      "14560  \"10770_7\"          1  \"With a well thought out cast, this movie was ...\n",
      "6671   \"1058_10\"          1  \"this is the best sci-fi that I have seen in m...\n",
      "10982  \"12239_1\"          0  \"Ever since I was eight years old I have been ...\n",
      "5526     \"966_7\"          1  \"2005 Toronto Film Festival Report It is offic...\n",
      "19301  \"11645_2\"          0  \"This is a review of 'Freddy Mercury The Untol...\n",
      "17060   \"5920_9\"          1  \"American icon Henry Fonda portrays \\\"Elegant\\...\n",
      "24744   \"9501_2\"          0  \"This is the page for \\\"House of Exorcism\\\", b...\n",
      "5253    \"7877_4\"          0  \"The makers of this film have created a future...\n",
      "             0           1\n",
      "doc                       \n",
      "0     0.484133    0.515867\n",
      "1     0.573073    0.426927\n",
      "2     0.261172    0.738828\n",
      "3    0.0482365    0.951763\n",
      "4     0.536646    0.463354\n",
      "5     0.335723    0.664277\n",
      "6     0.527615    0.472385\n",
      "7    0.0064288    0.993571\n",
      "8     0.594172    0.405828\n",
      "9     0.992335  0.00766541\n",
      "[u'this', u'movie', u'is', u'like', u'the', u'thousand', u'cat', u'and', u'mouse', u'movies', u'that', u'preceded', u'it']\n",
      "            0            1 doc  truelabel\n",
      "0      0.5986       0.4014   0          0\n",
      "1  0.00792023      0.99208   0          0\n",
      "2    0.369248     0.630752   0          0\n",
      "3    0.445318     0.554682   0          0\n",
      "4    0.999581  0.000419095   0          0\n",
      "5  0.00449226     0.995508   1          0\n",
      "6    0.918007    0.0819928   1          0\n",
      "7     0.55223      0.44777   1          0\n",
      "8    0.986808    0.0131918   1          0\n",
      "9    0.721142     0.278858   1          0\n"
     ]
    }
   ],
   "source": [
    "#check that correct true labels were added\n",
    "#seems like it\n",
    "print test1[0:10]\n",
    "print probs[0:10]\n",
    "print docs[0][0]\n",
    "print probssentences[0:10]"
   ]
  },
  {
   "cell_type": "code",
   "execution_count": 17,
   "metadata": {
    "collapsed": false
   },
   "outputs": [
    {
     "name": "stdout",
     "output_type": "stream",
     "text": [
      "33\n",
      "738\n",
      "3987\n",
      "5239\n",
      "9041\n",
      "9559\n",
      "9836\n",
      "11675\n",
      "12458\n"
     ]
    }
   ],
   "source": [
    "#count number of sentences for each review\n",
    "#also print reviews with the most sentences\n",
    "#Note: don't think this is the most accurate since these reviews may or may not be better classified for having more sentences\n",
    "for i in range(len(probs)):\n",
    "    rows = probssentences.loc[probssentences['doc'] == probs.index.values[i]]\n",
    "    numrows = rows.shape\n",
    "    if numrows[0] > 60:\n",
    "        print probs.index.values[i]"
   ]
  },
  {
   "cell_type": "code",
   "execution_count": 19,
   "metadata": {
    "collapsed": false
   },
   "outputs": [
    {
     "name": "stdout",
     "output_type": "stream",
     "text": [
      "10\n"
     ]
    }
   ],
   "source": [
    "#average number of sentences per review:\n",
    "print len(probssentences)/len(probs)"
   ]
  },
  {
   "cell_type": "code",
   "execution_count": 9,
   "metadata": {
    "collapsed": false
   },
   "outputs": [],
   "source": [
    "#get subsets based on inxs returned above\n",
    "subset1 = probssentences.loc[probssentences[\"doc\"] == 33]\n",
    "subset2 = probssentences.loc[probssentences[\"doc\"] == 738]\n",
    "subset3 = probssentences.loc[probssentences[\"doc\"] == 3987]\n",
    "subset4 = probssentences.loc[probssentences[\"doc\"] == 5239]\n",
    "subset5 = probssentences.loc[probssentences[\"doc\"] == 9041]\n",
    "subset6 = probssentences.loc[probssentences[\"doc\"] == 9559]\n",
    "subset7 = probssentences.loc[probssentences[\"doc\"] == 9836]\n",
    "subset8 = probssentences.loc[probssentences[\"doc\"] == 11675]"
   ]
  },
  {
   "cell_type": "code",
   "execution_count": 20,
   "metadata": {
    "collapsed": false
   },
   "outputs": [
    {
     "name": "stdout",
     "output_type": "stream",
     "text": [
      "[[[u'smallville', u'episode', u'justice', u'is', u'the', u'best', u'episode', u'of', u'smallville'], [], [], [], [], [], [], [], [], [], [], [], [], [], [], [], [], [], [], [], [], [], [], [], [], [], [], [], [], [], [], [], [], [], [], [], [], [], [], [], [], [], [], [], [], [], [], [], [], [], [], [], [], [], [], [], [], [], [], [], [], [], [], [], [], [], [], [], [], [], [], [], [], [], [], [], [], [], [], [], [], [], [], [], [], [], [], [], [], [], [], [], [], [], [], [], [], [], [], [], [], [], [], [], [], [], [], [], [], [], [], [], [], [], [], [], [], [], [], [], [], [], [], [], [], [], [], [], [], [], [], [], [], [], [], [], [], [], [], [], [], [], [], [], [u'it', u's', u'my', u'favorite', u'episode', u'of', u'smallville'], [], [], [], [], [], [], [], [], [], [], [], [], [], [], [], [], [], [], [], [], [], [], [], [], [], [], [], [], [], [], [], [], [], [], [], [], [], [], [], [], [], [], [], [], [], [], [], [], [], [], [], [], [], [], [], [], [], [], [], [], [], [], [], [], [], [], [], [], [], [], [], [], [], [], [], [], [], [], [], [], [], [], [], [], [], [], [], [], [], [], [], [], [], [], [], [], [], [], [], [], [], [], [], [], [], [], [], [], [], [], [], [], [], [], [], [], [], [], [], [], [], [], [], [], [], [], [], [], [], [], [], [], [], [], [], [], []]]\n"
     ]
    }
   ],
   "source": [
    "#testing mistakes: check that none of the docs have blanks. Note* index 12458 does.\n",
    "#This review goes \"smallville episode justice is the best episode of smallville\"(tons of blanks)\"it is my favorite episode of smallville\"(tons of blanks)\n",
    "#sentence parsing error of some sort\n",
    "print docs[12458:12459]"
   ]
  },
  {
   "cell_type": "code",
   "execution_count": 11,
   "metadata": {
    "collapsed": false
   },
   "outputs": [
    {
     "name": "stdout",
     "output_type": "stream",
     "text": [
      "62\n",
      "70\n",
      "86\n",
      "63\n",
      "71\n",
      "118\n",
      "69\n",
      "67\n"
     ]
    }
   ],
   "source": [
    "#check that all subsets are the correct indices\n",
    "print len(subset1)\n",
    "print len(subset2)\n",
    "print len(subset3)\n",
    "print len(subset4)\n",
    "print len(subset5)\n",
    "print len(subset6)\n",
    "print len(subset7)\n",
    "print len(subset8)"
   ]
  },
  {
   "cell_type": "markdown",
   "metadata": {},
   "source": [
    "## Plot 1 (neg)"
   ]
  },
  {
   "cell_type": "code",
   "execution_count": 22,
   "metadata": {
    "collapsed": false
   },
   "outputs": [
    {
     "name": "stdout",
     "output_type": "stream",
     "text": [
      "            0         1 doc  truelabel\n",
      "342  0.833163  0.166837  33          0\n"
     ]
    }
   ],
   "source": [
    "print subset1[0:1]"
   ]
  },
  {
   "cell_type": "code",
   "execution_count": 88,
   "metadata": {
    "collapsed": false
   },
   "outputs": [],
   "source": [
    "#subset to the only column being that of the probabilities for each class\n",
    "probsneg1 = subset1[[0]]"
   ]
  },
  {
   "cell_type": "code",
   "execution_count": 89,
   "metadata": {
    "collapsed": false
   },
   "outputs": [
    {
     "data": {
      "text/plain": [
       "[0.0, 1.0, 0.0, 40.0]"
      ]
     },
     "execution_count": 89,
     "metadata": {},
     "output_type": "execute_result"
    },
    {
     "data": {
      "image/png": "[encoded data removed]",
      "text/plain": [
       "<matplotlib.figure.Figure at 0x7f44f7689b10>"
      ]
     },
     "metadata": {},
     "output_type": "display_data"
    }
   ],
   "source": [
    "#negative plot\n",
    "%matplotlib inline\n",
    "\n",
    "(n, bins, patches) = plt.hist(probsneg1, bins=[0.0, 0.1, 0.2, 0.3, 0.4, 0.5, 0.6, 0.7, 0.8, 0.9, 1.0])\n",
    "#plt.title('Probability Distribution of Negative Sentence Scores among Misclassified True Negative Reviews (MaxDiff method)')\n",
    "#plt.xlabel(\"Probabilities assigned to sentences of being negative\")\n",
    "plt.ylabel(\"Number of Sentences\")\n",
    "plt.axis([0.0,1.0,0.0,40.0])"
   ]
  },
  {
   "cell_type": "markdown",
   "metadata": {},
   "source": [
    "## Plot 2 (neg)"
   ]
  },
  {
   "cell_type": "code",
   "execution_count": 26,
   "metadata": {
    "collapsed": false
   },
   "outputs": [
    {
     "name": "stdout",
     "output_type": "stream",
     "text": [
      "             0         1  doc  truelabel\n",
      "8155  0.614754  0.385246  738          0\n"
     ]
    }
   ],
   "source": [
    "print subset2[0:1]"
   ]
  },
  {
   "cell_type": "code",
   "execution_count": 74,
   "metadata": {
    "collapsed": false
   },
   "outputs": [],
   "source": [
    "#subset to the only column being that of the probabilities of the true label\n",
    "probsneg2 = subset2[[0]]"
   ]
  },
  {
   "cell_type": "code",
   "execution_count": 75,
   "metadata": {
    "collapsed": false
   },
   "outputs": [
    {
     "data": {
      "text/plain": [
       "[0.0, 1.0, 0.0, 40.0]"
      ]
     },
     "execution_count": 75,
     "metadata": {},
     "output_type": "execute_result"
    },
    {
     "data": {
      "image/png": "[encoded data removed]",
      "text/plain": [
       "<matplotlib.figure.Figure at 0x7f44efbc8d10>"
      ]
     },
     "metadata": {},
     "output_type": "display_data"
    }
   ],
   "source": [
    "#negative plot\n",
    "%matplotlib inline\n",
    "\n",
    "(n, bins, patches) = plt.hist(probsneg2, bins=[0.0, 0.1, 0.2, 0.3, 0.4, 0.5, 0.6, 0.7, 0.8, 0.9, 1.0])\n",
    "#plt.title('Probability Distribution of Negative Sentence Scores among Misclassified True Negative Reviews (MaxDiff method)')\n",
    "#plt.xlabel(\"Probabilities assigned to sentences of being negative\")\n",
    "#plt.ylabel(\"Frequency\")\n",
    "plt.axis([0.0,1.0,0.0,40.0])"
   ]
  },
  {
   "cell_type": "markdown",
   "metadata": {},
   "source": [
    "## Plot 3 (neg)"
   ]
  },
  {
   "cell_type": "code",
   "execution_count": 29,
   "metadata": {
    "collapsed": false
   },
   "outputs": [
    {
     "name": "stdout",
     "output_type": "stream",
     "text": [
      "               0         1   doc  truelabel\n",
      "42811  0.0853548  0.914645  3987          0\n"
     ]
    }
   ],
   "source": [
    "print subset3[0:1]"
   ]
  },
  {
   "cell_type": "code",
   "execution_count": 76,
   "metadata": {
    "collapsed": true
   },
   "outputs": [],
   "source": [
    "#subset to the only column being that of the probabilities of the true label\n",
    "probspos3 = subset3[[0]]"
   ]
  },
  {
   "cell_type": "code",
   "execution_count": 77,
   "metadata": {
    "collapsed": false
   },
   "outputs": [
    {
     "data": {
      "text/plain": [
       "[0.0, 1.0, 0.0, 40.0]"
      ]
     },
     "execution_count": 77,
     "metadata": {},
     "output_type": "execute_result"
    },
    {
     "data": {
      "image/png": "[encoded data removed]",
      "text/plain": [
       "<matplotlib.figure.Figure at 0x7f44f3d1c590>"
      ]
     },
     "metadata": {},
     "output_type": "display_data"
    }
   ],
   "source": [
    "#negative plot\n",
    "%matplotlib inline\n",
    "\n",
    "(n, bins, patches) = plt.hist(probspos3, bins=[0.0, 0.1, 0.2, 0.3, 0.4, 0.5, 0.6, 0.7, 0.8, 0.9, 1.0])\n",
    "#plt.title('Probability Distribution of Negative Sentence Scores among Misclassified True Negative Reviews (MaxDiff method)')\n",
    "#plt.xlabel(\"Probabilities assigned to sentences of being negative\")\n",
    "#plt.ylabel(\"Frequency\")\n",
    "plt.axis([0.0,1.0,0.0,40.0])"
   ]
  },
  {
   "cell_type": "markdown",
   "metadata": {},
   "source": [
    "## Plot 4 (pos)"
   ]
  },
  {
   "cell_type": "code",
   "execution_count": 32,
   "metadata": {
    "collapsed": false
   },
   "outputs": [
    {
     "name": "stdout",
     "output_type": "stream",
     "text": [
      "              0         1   doc  truelabel\n",
      "56468  0.817997  0.182003  5239          1\n"
     ]
    }
   ],
   "source": [
    "print subset4[0:1]"
   ]
  },
  {
   "cell_type": "code",
   "execution_count": 78,
   "metadata": {
    "collapsed": true
   },
   "outputs": [],
   "source": [
    "#subset to the only column being that of the probabilities of the true label\n",
    "probspos4 = subset4[[1]]"
   ]
  },
  {
   "cell_type": "code",
   "execution_count": 79,
   "metadata": {
    "collapsed": false
   },
   "outputs": [
    {
     "data": {
      "text/plain": [
       "[0.0, 1.0, 0.0, 40.0]"
      ]
     },
     "execution_count": 79,
     "metadata": {},
     "output_type": "execute_result"
    },
    {
     "data": {
      "image/png": "[encoded data removed]",
      "text/plain": [
       "<matplotlib.figure.Figure at 0x7f44cab4f950>"
      ]
     },
     "metadata": {},
     "output_type": "display_data"
    }
   ],
   "source": [
    "#positive plot\n",
    "%matplotlib inline\n",
    "\n",
    "(n, bins, patches) = plt.hist(probspos4, bins=[0.0, 0.1, 0.2, 0.3, 0.4, 0.5, 0.6, 0.7, 0.8, 0.9, 1.0])\n",
    "#plt.title('Probability Distribution of Negative Sentence Scores among Misclassified True Negative Reviews (MaxDiff method)')\n",
    "#plt.xlabel(\"Probabilities assigned to sentences of being negative\")\n",
    "#plt.ylabel(\"Frequency\")\n",
    "plt.axis([0.0,1.0,0.0,40.0])"
   ]
  },
  {
   "cell_type": "markdown",
   "metadata": {},
   "source": [
    "## Plot 5 (neg)"
   ]
  },
  {
   "cell_type": "code",
   "execution_count": 35,
   "metadata": {
    "collapsed": false
   },
   "outputs": [
    {
     "name": "stdout",
     "output_type": "stream",
     "text": [
      "              0         1   doc  truelabel\n",
      "96719  0.258636  0.741364  9041          0\n"
     ]
    }
   ],
   "source": [
    "print subset5[0:1]"
   ]
  },
  {
   "cell_type": "code",
   "execution_count": 80,
   "metadata": {
    "collapsed": true
   },
   "outputs": [],
   "source": [
    "#subset to the only column being that of the probabilities of the true label\n",
    "probsneg5 = subset5[[0]]"
   ]
  },
  {
   "cell_type": "code",
   "execution_count": 81,
   "metadata": {
    "collapsed": false
   },
   "outputs": [
    {
     "data": {
      "text/plain": [
       "[0.0, 1.0, 0.0, 40.0]"
      ]
     },
     "execution_count": 81,
     "metadata": {},
     "output_type": "execute_result"
    },
    {
     "data": {
      "image/png": "[encoded data removed]",
      "text/plain": [
       "<matplotlib.figure.Figure at 0x7f44c9933310>"
      ]
     },
     "metadata": {},
     "output_type": "display_data"
    }
   ],
   "source": [
    "#negative plot\n",
    "%matplotlib inline\n",
    "\n",
    "(n, bins, patches) = plt.hist(probsneg5, bins=[0.0, 0.1, 0.2, 0.3, 0.4, 0.5, 0.6, 0.7, 0.8, 0.9, 1.0])\n",
    "#plt.title('Probability Distribution of Negative Sentence Scores among Misclassified True Negative Reviews (MaxDiff method)')\n",
    "#plt.xlabel(\"Probabilities assigned to sentences of being negative\")\n",
    "#plt.ylabel(\"Frequency\")\n",
    "plt.axis([0.0,1.0,0.0,40.0])"
   ]
  },
  {
   "cell_type": "markdown",
   "metadata": {},
   "source": [
    "## Plot 6 (neg)"
   ]
  },
  {
   "cell_type": "code",
   "execution_count": 38,
   "metadata": {
    "collapsed": false
   },
   "outputs": [
    {
     "name": "stdout",
     "output_type": "stream",
     "text": [
      "               0         1   doc  truelabel\n",
      "102063  0.335907  0.664093  9559          0\n"
     ]
    }
   ],
   "source": [
    "print subset6[0:1]"
   ]
  },
  {
   "cell_type": "code",
   "execution_count": 82,
   "metadata": {
    "collapsed": true
   },
   "outputs": [],
   "source": [
    "#subset to the only column being that of the probabilities of the true label\n",
    "probsneg6 = subset6[[0]]"
   ]
  },
  {
   "cell_type": "code",
   "execution_count": 83,
   "metadata": {
    "collapsed": false
   },
   "outputs": [
    {
     "data": {
      "text/plain": [
       "[0.0, 1.0, 0.0, 40.0]"
      ]
     },
     "execution_count": 83,
     "metadata": {},
     "output_type": "execute_result"
    },
    {
     "data": {
      "image/png": "[encoded data removed]",
      "text/plain": [
       "<matplotlib.figure.Figure at 0x7f44f3f3e0d0>"
      ]
     },
     "metadata": {},
     "output_type": "display_data"
    }
   ],
   "source": [
    "#negative plot\n",
    "%matplotlib inline\n",
    "\n",
    "(n, bins, patches) = plt.hist(probsneg6, bins=[0.0, 0.1, 0.2, 0.3, 0.4, 0.5, 0.6, 0.7, 0.8, 0.9, 1.0])\n",
    "#plt.title('Probability Distribution of Negative Sentence Scores among Misclassified True Negative Reviews (MaxDiff method)')\n",
    "#plt.xlabel(\"Probabilities assigned to sentences of being negative\")\n",
    "#plt.ylabel(\"Frequency\")\n",
    "plt.axis([0.0,1.0,0.0,40.0])"
   ]
  },
  {
   "cell_type": "markdown",
   "metadata": {},
   "source": [
    "## Plot 7 (pos)"
   ]
  },
  {
   "cell_type": "code",
   "execution_count": 41,
   "metadata": {
    "collapsed": false
   },
   "outputs": [
    {
     "name": "stdout",
     "output_type": "stream",
     "text": [
      "               0         1   doc  truelabel\n",
      "105097  0.122349  0.877651  9836          1\n"
     ]
    }
   ],
   "source": [
    "print subset7[0:1]"
   ]
  },
  {
   "cell_type": "code",
   "execution_count": 84,
   "metadata": {
    "collapsed": true
   },
   "outputs": [],
   "source": [
    "#subset to the only column being that of the probabilities of the true label\n",
    "probspos7 = subset7[[1]]"
   ]
  },
  {
   "cell_type": "code",
   "execution_count": 85,
   "metadata": {
    "collapsed": false
   },
   "outputs": [
    {
     "data": {
      "text/plain": [
       "[0.0, 1.0, 0.0, 40.0]"
      ]
     },
     "execution_count": 85,
     "metadata": {},
     "output_type": "execute_result"
    },
    {
     "data": {
      "image/png": "[encoded data removed]",
      "text/plain": [
       "<matplotlib.figure.Figure at 0x7f44d095db10>"
      ]
     },
     "metadata": {},
     "output_type": "display_data"
    }
   ],
   "source": [
    "#positive plot\n",
    "%matplotlib inline\n",
    "\n",
    "(n, bins, patches) = plt.hist(probspos7, bins=[0.0, 0.1, 0.2, 0.3, 0.4, 0.5, 0.6, 0.7, 0.8, 0.9, 1.0])\n",
    "#plt.title('Probability Distribution of Negative Sentence Scores among Misclassified True Negative Reviews (MaxDiff method)')\n",
    "#plt.xlabel(\"Probabilities assigned to sentences of being negative\")\n",
    "#plt.ylabel(\"Frequency\")\n",
    "plt.axis([0.0,1.0,0.0,40.0])"
   ]
  },
  {
   "cell_type": "markdown",
   "metadata": {},
   "source": [
    "## Plot 8 (pos)"
   ]
  },
  {
   "cell_type": "code",
   "execution_count": 18,
   "metadata": {
    "collapsed": false
   },
   "outputs": [
    {
     "name": "stdout",
     "output_type": "stream",
     "text": [
      "          0    1    doc  truelabel\n",
      "124330  0.5  0.5  11675          1\n"
     ]
    }
   ],
   "source": [
    "print subset8[0:1]"
   ]
  },
  {
   "cell_type": "code",
   "execution_count": 19,
   "metadata": {
    "collapsed": false
   },
   "outputs": [],
   "source": [
    "#subset to the only column being that of the probabilities of the true label\n",
    "probspos8 = subset8[[1]]"
   ]
  },
  {
   "cell_type": "code",
   "execution_count": 20,
   "metadata": {
    "collapsed": false
   },
   "outputs": [
    {
     "name": "stdout",
     "output_type": "stream",
     "text": [
      "[  5.   6.   4.   4.   3.  11.   2.   5.   4.  23.]\n",
      "[ 0.   0.1  0.2  0.3  0.4  0.5  0.6  0.7  0.8  0.9  1. ]\n"
     ]
    },
    {
     "data": {
      "image/png": "[encoded data removed]",
      "text/plain": [
       "<matplotlib.figure.Figure at 0x7f0455d72790>"
      ]
     },
     "metadata": {},
     "output_type": "display_data"
    }
   ],
   "source": [
    "#positive plot\n",
    "%matplotlib inline\n",
    "\n",
    "(n, bins, patches) = plt.hist(probspos8, bins=[0.0, 0.1, 0.2, 0.3, 0.4, 0.5, 0.6, 0.7, 0.8, 0.9, 1.0])\n",
    "#plt.title('Probability Distribution of Negative Sentence Scores among Misclassified True Negative Reviews (MaxDiff method)')\n",
    "#plt.xlabel(\"Probabilities assigned to sentences of being negative\")\n",
    "#plt.ylabel(\"Frequency\")\n",
    "plt.axis([0.0,1.0,0.0,40.0])\n",
    "print n\n",
    "print bins"
   ]
  },
  {
   "cell_type": "markdown",
   "metadata": {},
   "source": [
    "## Get features from each histogram"
   ]
  },
  {
   "cell_type": "markdown",
   "metadata": {},
   "source": [
    "Probssentences comes from the test set only."
   ]
  },
  {
   "cell_type": "code",
   "execution_count": 28,
   "metadata": {
    "collapsed": false
   },
   "outputs": [
    {
     "data": {
      "text/html": [
       "<div>\n",
       "<table border=\"1\" class=\"dataframe\">\n",
       "  <thead>\n",
       "    <tr style=\"text-align: right;\">\n",
       "      <th></th>\n",
       "      <th>1</th>\n",
       "    </tr>\n",
       "  </thead>\n",
       "  <tbody>\n",
       "    <tr>\n",
       "      <th>124391</th>\n",
       "      <td>0.786609</td>\n",
       "    </tr>\n",
       "    <tr>\n",
       "      <th>124392</th>\n",
       "      <td>0.5</td>\n",
       "    </tr>\n",
       "    <tr>\n",
       "      <th>124393</th>\n",
       "      <td>0.187339</td>\n",
       "    </tr>\n",
       "    <tr>\n",
       "      <th>124394</th>\n",
       "      <td>0.286786</td>\n",
       "    </tr>\n",
       "    <tr>\n",
       "      <th>124395</th>\n",
       "      <td>0.5</td>\n",
       "    </tr>\n",
       "    <tr>\n",
       "      <th>124396</th>\n",
       "      <td>0.336154</td>\n",
       "    </tr>\n",
       "  </tbody>\n",
       "</table>\n",
       "</div>"
      ],
      "text/plain": [
       "               1\n",
       "124391  0.786609\n",
       "124392       0.5\n",
       "124393  0.187339\n",
       "124394  0.286786\n",
       "124395       0.5\n",
       "124396  0.336154"
      ]
     },
     "execution_count": 28,
     "metadata": {},
     "output_type": "execute_result"
    }
   ],
   "source": [
    "subset8[[1]][61:68]"
   ]
  },
  {
   "cell_type": "code",
   "execution_count": 20,
   "metadata": {
    "collapsed": false
   },
   "outputs": [
    {
     "name": "stdout",
     "output_type": "stream",
     "text": [
      "[  5.   6.   4.   4.   3.  11.   2.   5.   4.  23.]\n",
      "67.0\n",
      "[0.074626865671641784, 0.089552238805970144, 0.059701492537313432, 0.059701492537313432, 0.044776119402985072, 0.16417910447761194, 0.029850746268656716, 0.074626865671641784, 0.059701492537313432, 0.34328358208955223]\n",
      "1.0\n"
     ]
    }
   ],
   "source": [
    "#testing\n",
    "(n, bins, patches) = plt.hist(probspos8, bins=[0.0, 0.1, 0.2, 0.3, 0.4, 0.5, 0.6, 0.7, 0.8, 0.9, 1.0])\n",
    "plt.close()\n",
    "print n\n",
    "print sum(n)\n",
    "percentages = [x/sum(n) for x in n]\n",
    "print percentages\n",
    "print sum(percentages)"
   ]
  },
  {
   "cell_type": "markdown",
   "metadata": {},
   "source": [
    "### Features are the numbers of sentences scoring in each 0.10 range between 0 and 1"
   ]
  },
  {
   "cell_type": "code",
   "execution_count": 12,
   "metadata": {
    "collapsed": false
   },
   "outputs": [
    {
     "name": "stdout",
     "output_type": "stream",
     "text": [
      "12499\n",
      "0:03:54\n"
     ]
    }
   ],
   "source": [
    "#code to generate our arrays\n",
    "a = datetime.datetime.now().replace(microsecond=0)\n",
    "\n",
    "features = []\n",
    "labels = []\n",
    "\n",
    "for i in probssentences[\"doc\"].unique():\n",
    "    subset = probssentences.loc[probssentences[\"doc\"] == i]\n",
    "    #get label\n",
    "    labels.append(subset['truelabel'].iloc[0])\n",
    "    #always get the same column: negative\n",
    "    probsneg = subset[[0]]\n",
    "    (n, bins, patches) = plt.hist(probsneg, bins=[0.0, 0.1, 0.2, 0.3, 0.4, 0.5, 0.6, 0.7, 0.8, 0.9, 1.0])\n",
    "    percentages = [x/sum(n) for x in n]\n",
    "    #append feature vector to list\n",
    "    features.append(percentages)\n",
    "print i\n",
    "b = datetime.datetime.now().replace(microsecond=0)\n",
    "print b-a"
   ]
  },
  {
   "cell_type": "code",
   "execution_count": 29,
   "metadata": {
    "collapsed": false
   },
   "outputs": [
    {
     "name": "stdout",
     "output_type": "stream",
     "text": [
      "12500\n",
      "12500\n",
      "10\n"
     ]
    }
   ],
   "source": [
    "print len(features)\n",
    "print len(labels)\n",
    "print len(features[0])"
   ]
  },
  {
   "cell_type": "code",
   "execution_count": 31,
   "metadata": {
    "collapsed": false
   },
   "outputs": [],
   "source": [
    "pickle.dump(features, open('/home/sarahwie/Documents/pubmed-nlp-research/pickled_objects/features.p', 'wb'))\n",
    "pickle.dump(labels, open('/home/sarahwie/Documents/pubmed-nlp-research/pickled_objects/labels.p', 'wb'))"
   ]
  },
  {
   "cell_type": "code",
   "execution_count": null,
   "metadata": {
    "collapsed": true
   },
   "outputs": [],
   "source": []
  },
  {
   "cell_type": "code",
   "execution_count": 5,
   "metadata": {
    "collapsed": false
   },
   "outputs": [],
   "source": [
    "features = pickle.load(open('/home/sarahwie/Documents/pubmed-nlp-research/pickled_objects/features.p', 'rb'))\n",
    "labels = pickle.load(open('/home/sarahwie/Documents/pubmed-nlp-research/pickled_objects/labels.p', 'rb'))"
   ]
  },
  {
   "cell_type": "code",
   "execution_count": 47,
   "metadata": {
    "collapsed": false
   },
   "outputs": [],
   "source": [
    "from sklearn.feature_selection import VarianceThreshold\n",
    "#have to pick a value for this (out of 1.0, ex. 0.8)\n",
    "\n",
    "#sel = VarianceThreshold(threshold=(.1 * (1 - .1)))\n",
    "#result = sel.fit_transform(features)\n",
    "#print len(result[0])"
   ]
  },
  {
   "cell_type": "code",
   "execution_count": 15,
   "metadata": {
    "collapsed": false
   },
   "outputs": [
    {
     "name": "stdout",
     "output_type": "stream",
     "text": [
      "[ 0.36812537  0.05697697  0.04036798  0.03704495  0.03592119  0.03822575\n",
      "  0.03351539  0.03927818  0.0542975   0.29624671]\n",
      "[0.14285714285714285, 0.14285714285714285, 0.0, 0.0, 0.0, 0.14285714285714285, 0.0, 0.2857142857142857, 0.0, 0.2857142857142857]\n",
      "[ 0.14285714  0.28571429]\n"
     ]
    }
   ],
   "source": [
    "#tree selection- weighs \n",
    "from sklearn.ensemble import ExtraTreesClassifier\n",
    "from sklearn.feature_selection import SelectFromModel\n",
    "\n",
    "clf = ExtraTreesClassifier()\n",
    "clf = clf.fit(features, labels)\n",
    "print clf.feature_importances_  \n",
    "model = SelectFromModel(clf, prefit=True)\n",
    "features_new = model.transform(features)\n",
    "features_new.shape \n",
    "print features[1]\n",
    "print features_new[1]"
   ]
  },
  {
   "cell_type": "code",
   "execution_count": 13,
   "metadata": {
    "collapsed": false
   },
   "outputs": [
    {
     "name": "stdout",
     "output_type": "stream",
     "text": [
      "4\n",
      "[0.1875, 0.0, 0.1875, 0.0, 0.125, 0.0, 0.125, 0.0, 0.125, 0.25]\n",
      "[ 0.1875  0.      0.125   0.25  ]\n"
     ]
    }
   ],
   "source": [
    "#Linear SVC Model- reduces from 10 to 4 features\n",
    "#but how to see which ones? \n",
    "from sklearn.svm import LinearSVC\n",
    "\n",
    "lsvc = LinearSVC(C=0.01, penalty=\"l1\", dual=False).fit(features, labels)\n",
    "model = SelectFromModel(lsvc, prefit=True)\n",
    "features_new = model.transform(features)\n",
    "print len(features_new[3])\n",
    "\n",
    "#so it's obviously picking the first and last but can't tell about the others\n",
    "print features[4]\n",
    "print features_new[4]"
   ]
  },
  {
   "cell_type": "code",
   "execution_count": 13,
   "metadata": {
    "collapsed": false
   },
   "outputs": [
    {
     "name": "stdout",
     "output_type": "stream",
     "text": [
      "[ 2  6  7  8  9 10  5  4  3  1]\n"
     ]
    }
   ],
   "source": [
    "from sklearn.svm import SVC\n",
    "from sklearn.feature_selection import RFE\n",
    "\n",
    "# Create the RFE object and rank each feature\n",
    "svc = SVC(kernel=\"linear\", C=1)\n",
    "rfe = RFE(estimator=svc, n_features_to_select=1, step=1)\n",
    "rfe.fit(features, labels)\n",
    "ranking = rfe.ranking_\n",
    "print ranking"
   ]
  },
  {
   "cell_type": "code",
   "execution_count": 20,
   "metadata": {
    "collapsed": false
   },
   "outputs": [
    {
     "name": "stdout",
     "output_type": "stream",
     "text": [
      "[ 0.75  0.25]\n",
      "[0.75, 0.0, 0.0, 0.0, 0.0, 0.0, 0.0, 0.0, 0.0, 0.25]\n"
     ]
    }
   ],
   "source": [
    "from sklearn.feature_selection import SelectKBest\n",
    "from sklearn.feature_selection import chi2\n",
    "\n",
    "X_new = SelectKBest(chi2, k=2).fit_transform(features, labels)\n",
    "print X_new[2]\n",
    "print features[2]"
   ]
  },
  {
   "cell_type": "markdown",
   "metadata": {
    "collapsed": true
   },
   "source": [
    "## Implement Random Forest"
   ]
  },
  {
   "cell_type": "markdown",
   "metadata": {},
   "source": [
    "Split test set (sentences scored on models) into a training and test set for classifier."
   ]
  },
  {
   "cell_type": "code",
   "execution_count": 29,
   "metadata": {
    "collapsed": false
   },
   "outputs": [
    {
     "name": "stdout",
     "output_type": "stream",
     "text": [
      "[ 1524  5168   686 ..., 10982  2947  5308]\n",
      "7433\n"
     ]
    }
   ],
   "source": [
    "fracTrain = 0.5\n",
    "nSamples = len(labels)\n",
    "order = np.random.permutation(nSamples) # come up with a random ordering\n",
    "print order\n",
    "splitIndex = int(np.round(nSamples*fracTrain))\n",
    "train_indices = order[:splitIndex]\n",
    "test_indices = order[splitIndex:]\n",
    "\n",
    "print order[splitIndex]\n",
    "#train1 = [features[i] for i in 0:splitIndex]\n",
    "#test1 = \n",
    "#train1 = features[order[:splitIndex]]\n",
    "#test1 = features[order[splitIndex:]]"
   ]
  },
  {
   "cell_type": "code",
   "execution_count": 17,
   "metadata": {
    "collapsed": false
   },
   "outputs": [
    {
     "ename": "SyntaxError",
     "evalue": "invalid syntax (<ipython-input-17-0e8e83c45704>, line 1)",
     "output_type": "error",
     "traceback": [
      "\u001b[1;36m  File \u001b[1;32m\"<ipython-input-17-0e8e83c45704>\"\u001b[1;36m, line \u001b[1;32m1\u001b[0m\n\u001b[1;33m    for i in range(len(0:splitIndex)):\u001b[0m\n\u001b[1;37m                        ^\u001b[0m\n\u001b[1;31mSyntaxError\u001b[0m\u001b[1;31m:\u001b[0m invalid syntax\n"
     ]
    }
   ],
   "source": [
    "for i in range(len(0:splitIndex)):\n",
    "    print i"
   ]
  },
  {
   "cell_type": "code",
   "execution_count": null,
   "metadata": {
    "collapsed": true
   },
   "outputs": [],
   "source": [
    "from sklearn.ensemble import RandomForestClassifier\n",
    "from sklearn.metrics import roc_auc_score\n",
    "\n",
    "# Initialize a Random Forest classifier with 100 trees\n",
    "forest = RandomForestClassifier(n_estimators = 100, max_depth=1000) \n",
    "\n",
    "# Fit the forest to the training set, using the bag of words as \n",
    "# features and the sentiment labels as the response variable\n",
    "#\n",
    "# This may take a few minutes to run\n",
    "forest = forest.fit( train_data_features, train1[\"sentiment\"] )"
   ]
  },
  {
   "cell_type": "code",
   "execution_count": null,
   "metadata": {
    "collapsed": true
   },
   "outputs": [],
   "source": []
  },
  {
   "cell_type": "code",
   "execution_count": null,
   "metadata": {
    "collapsed": true
   },
   "outputs": [],
   "source": []
  },
  {
   "cell_type": "code",
   "execution_count": null,
   "metadata": {
    "collapsed": true
   },
   "outputs": [],
   "source": []
  },
  {
   "cell_type": "code",
   "execution_count": null,
   "metadata": {
    "collapsed": true
   },
   "outputs": [],
   "source": []
  }
 ],
 "metadata": {
  "kernelspec": {
   "display_name": "Python 2",
   "language": "python",
   "name": "python2"
  },
  "language_info": {
   "codemirror_mode": {
    "name": "ipython",
    "version": 2
   },
   "file_extension": ".py",
   "mimetype": "text/x-python",
   "name": "python",
   "nbconvert_exporter": "python",
   "pygments_lexer": "ipython2",
   "version": "2.7.11"
  }
 },
 "nbformat": 4,
 "nbformat_minor": 0
}
