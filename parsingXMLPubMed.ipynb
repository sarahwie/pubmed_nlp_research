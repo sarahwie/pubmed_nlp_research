{
 "cells": [
  {
   "cell_type": "code",
   "execution_count": 1,
   "metadata": {
    "collapsed": false
   },
   "outputs": [],
   "source": [
    "import xml.etree.ElementTree as ET\n",
    "import datetime\n",
    "import os\n",
    "import urlparse"
   ]
  },
  {
   "cell_type": "markdown",
   "metadata": {},
   "source": [
    "Load in one XML file (of 30,000 records)"
   ]
  },
  {
   "cell_type": "markdown",
   "metadata": {},
   "source": [
    "Read in PMIDs text file as a list:"
   ]
  },
  {
   "cell_type": "code",
   "execution_count": 2,
   "metadata": {
    "collapsed": false
   },
   "outputs": [],
   "source": [
    "my_list = [line.strip() for line in open('/home/sarahwie/Desktop/MUSC_PMIDs.txt', 'r')]"
   ]
  },
  {
   "cell_type": "markdown",
   "metadata": {},
   "source": [
    "Convert list to dictionary:"
   ]
  },
  {
   "cell_type": "code",
   "execution_count": 3,
   "metadata": {
    "collapsed": false
   },
   "outputs": [],
   "source": [
    "pmids = dict(zip(my_list, range(len(my_list))))"
   ]
  },
  {
   "cell_type": "markdown",
   "metadata": {},
   "source": [
    "Match the pmids:"
   ]
  },
  {
   "cell_type": "code",
   "execution_count": 4,
   "metadata": {
    "collapsed": false
   },
   "outputs": [
    {
     "name": "stdout",
     "output_type": "stream",
     "text": [
      "0:01:11\n"
     ]
    }
   ],
   "source": [
    "a = datetime.datetime.now().replace(microsecond=0)\n",
    "\n",
    "full_list = []\n",
    "\n",
    "#***must check that they're being read in order!\n",
    "for filename in os.listdir('/home/sarahwie/Downloads/zip/'):\n",
    "    if filename.endswith(\".xml.zip\"):\n",
    "        #inside loop that goes through each file and unzips:\n",
    "        zip = ZipFile(filename)\n",
    "        zip.extractall()\n",
    "        print ZipFile.namelist\n",
    "        i=0\n",
    "        indices_list = []\n",
    "        \n",
    "        #xml_file = ET.parse(urlparse.urljoin('/home/sarahwie/Downloads/zip/', filename))\n",
    "        #root = xml_file.getroot()\n",
    "        \n",
    "        #for pmid in root.iter('PMID'):\n",
    "            #find out if pmid.text matches dictionary\n",
    "        #    if pmid.text in pmids:\n",
    "                #append the index to a list\n",
    "        #        indices_list.append(i)\n",
    "                #remove the pmid from pmids dict so that at the end we can see what's left.\n",
    "                #will also speed up search time.\n",
    "        #        pmids.pop(pmid.text)\n",
    "        #    i=i+1\n",
    "    \n",
    "        #then append indices_list to the full_list (note: check if in numeric order)\n",
    "        #full_list.append(indices_list)\n",
    "        \n",
    "b = datetime.datetime.now().replace(microsecond=0)\n",
    "print(b-a)"
   ]
  },
  {
   "cell_type": "code",
   "execution_count": 45,
   "metadata": {
    "collapsed": false
   },
   "outputs": [
    {
     "name": "stdout",
     "output_type": "stream",
     "text": [
      "30\n"
     ]
    }
   ],
   "source": [
    "print len(indices_list)"
   ]
  },
  {
   "cell_type": "code",
   "execution_count": 47,
   "metadata": {
    "collapsed": false
   },
   "outputs": [
    {
     "name": "stdout",
     "output_type": "stream",
     "text": [
      "30\n"
     ]
    }
   ],
   "source": [
    "#compare pmids dict now with original\n",
    "shared_items = set(pmids.items()) & set(pmids2.items())\n",
    "print 38814-len(shared_items)"
   ]
  },
  {
   "cell_type": "code",
   "execution_count": null,
   "metadata": {
    "collapsed": true
   },
   "outputs": [],
   "source": [
    "pmid1 = root[0].find('PMID').text"
   ]
  },
  {
   "cell_type": "code",
   "execution_count": null,
   "metadata": {
    "collapsed": true
   },
   "outputs": [],
   "source": [
    "#Checking that the dictionary was properly created by sorting\n",
    "import operator\n",
    "sorted_pmids = sorted(pmids.items(), key=operator.itemgetter(1))"
   ]
  }
 ],
 "metadata": {
  "kernelspec": {
   "display_name": "Python 2",
   "language": "python",
   "name": "python2"
  },
  "language_info": {
   "codemirror_mode": {
    "name": "ipython",
    "version": 2
   },
   "file_extension": ".py",
   "mimetype": "text/x-python",
   "name": "python",
   "nbconvert_exporter": "python",
   "pygments_lexer": "ipython2",
   "version": "2.7.11"
  }
 },
 "nbformat": 4,
 "nbformat_minor": 0
}
