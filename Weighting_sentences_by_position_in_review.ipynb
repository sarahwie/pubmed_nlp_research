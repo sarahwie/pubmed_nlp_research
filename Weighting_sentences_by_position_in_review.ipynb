{
 "cells": [
  {
   "cell_type": "markdown",
   "metadata": {},
   "source": [
    "Weighting sentences by their position in the review:\n",
    "\n",
    "We calculate feature importance off of the test set's features because only the test set's sentences get scored (probssentences). Is this legal?"
   ]
  },
  {
   "cell_type": "code",
   "execution_count": 1,
   "metadata": {
    "collapsed": true
   },
   "outputs": [],
   "source": [
    "import pickle\n",
    "import datetime\n",
    "import numpy as np\n",
    "import pandas as pd\n",
    "from sklearn.ensemble import ExtraTreesClassifier\n",
    "from sklearn.feature_selection import SelectFromModel"
   ]
  },
  {
   "cell_type": "code",
   "execution_count": 2,
   "metadata": {
    "collapsed": false
   },
   "outputs": [],
   "source": [
    "probssentences = pickle.load(open('/home/sarahwie/Documents/pubmed-nlp-research/pickled_objects/probssentences.p', 'rb'))\n",
    "test1 = pickle.load(open('/home/sarahwie/Documents/pubmed-nlp-research/pickled_objects/test1.p', 'rb'))"
   ]
  },
  {
   "cell_type": "code",
   "execution_count": 3,
   "metadata": {
    "collapsed": false
   },
   "outputs": [
    {
     "name": "stdout",
     "output_type": "stream",
     "text": [
      "(12500, 4)\n",
      "(133515, 3)\n"
     ]
    }
   ],
   "source": [
    "#append doc value to test1\n",
    "test1['doc'] = [ i for i in range(len(test1))]\n",
    "print test1.shape\n",
    "print probssentences.shape"
   ]
  },
  {
   "cell_type": "code",
   "execution_count": 4,
   "metadata": {
    "collapsed": false
   },
   "outputs": [
    {
     "data": {
      "text/html": [
       "<div>\n",
       "<table border=\"1\" class=\"dataframe\">\n",
       "  <thead>\n",
       "    <tr style=\"text-align: right;\">\n",
       "      <th></th>\n",
       "      <th>id</th>\n",
       "      <th>sentiment</th>\n",
       "      <th>review</th>\n",
       "      <th>doc</th>\n",
       "    </tr>\n",
       "  </thead>\n",
       "  <tbody>\n",
       "    <tr>\n",
       "      <th>21130</th>\n",
       "      <td>\"5706_2\"</td>\n",
       "      <td>0</td>\n",
       "      <td>\"This movie is like the thousand \\\"cat and mou...</td>\n",
       "      <td>0</td>\n",
       "    </tr>\n",
       "    <tr>\n",
       "      <th>3404</th>\n",
       "      <td>\"11132_3\"</td>\n",
       "      <td>0</td>\n",
       "      <td>\"A documentarist, like any filmmaker, must con...</td>\n",
       "      <td>1</td>\n",
       "    </tr>\n",
       "    <tr>\n",
       "      <th>14560</th>\n",
       "      <td>\"10770_7\"</td>\n",
       "      <td>1</td>\n",
       "      <td>\"With a well thought out cast, this movie was ...</td>\n",
       "      <td>2</td>\n",
       "    </tr>\n",
       "    <tr>\n",
       "      <th>6671</th>\n",
       "      <td>\"1058_10\"</td>\n",
       "      <td>1</td>\n",
       "      <td>\"this is the best sci-fi that I have seen in m...</td>\n",
       "      <td>3</td>\n",
       "    </tr>\n",
       "    <tr>\n",
       "      <th>10982</th>\n",
       "      <td>\"12239_1\"</td>\n",
       "      <td>0</td>\n",
       "      <td>\"Ever since I was eight years old I have been ...</td>\n",
       "      <td>4</td>\n",
       "    </tr>\n",
       "    <tr>\n",
       "      <th>5526</th>\n",
       "      <td>\"966_7\"</td>\n",
       "      <td>1</td>\n",
       "      <td>\"2005 Toronto Film Festival Report It is offic...</td>\n",
       "      <td>5</td>\n",
       "    </tr>\n",
       "    <tr>\n",
       "      <th>19301</th>\n",
       "      <td>\"11645_2\"</td>\n",
       "      <td>0</td>\n",
       "      <td>\"This is a review of 'Freddy Mercury The Untol...</td>\n",
       "      <td>6</td>\n",
       "    </tr>\n",
       "    <tr>\n",
       "      <th>17060</th>\n",
       "      <td>\"5920_9\"</td>\n",
       "      <td>1</td>\n",
       "      <td>\"American icon Henry Fonda portrays \\\"Elegant\\...</td>\n",
       "      <td>7</td>\n",
       "    </tr>\n",
       "    <tr>\n",
       "      <th>24744</th>\n",
       "      <td>\"9501_2\"</td>\n",
       "      <td>0</td>\n",
       "      <td>\"This is the page for \\\"House of Exorcism\\\", b...</td>\n",
       "      <td>8</td>\n",
       "    </tr>\n",
       "    <tr>\n",
       "      <th>5253</th>\n",
       "      <td>\"7877_4\"</td>\n",
       "      <td>0</td>\n",
       "      <td>\"The makers of this film have created a future...</td>\n",
       "      <td>9</td>\n",
       "    </tr>\n",
       "  </tbody>\n",
       "</table>\n",
       "</div>"
      ],
      "text/plain": [
       "              id  sentiment  \\\n",
       "21130   \"5706_2\"          0   \n",
       "3404   \"11132_3\"          0   \n",
       "14560  \"10770_7\"          1   \n",
       "6671   \"1058_10\"          1   \n",
       "10982  \"12239_1\"          0   \n",
       "5526     \"966_7\"          1   \n",
       "19301  \"11645_2\"          0   \n",
       "17060   \"5920_9\"          1   \n",
       "24744   \"9501_2\"          0   \n",
       "5253    \"7877_4\"          0   \n",
       "\n",
       "                                                  review  doc  \n",
       "21130  \"This movie is like the thousand \\\"cat and mou...    0  \n",
       "3404   \"A documentarist, like any filmmaker, must con...    1  \n",
       "14560  \"With a well thought out cast, this movie was ...    2  \n",
       "6671   \"this is the best sci-fi that I have seen in m...    3  \n",
       "10982  \"Ever since I was eight years old I have been ...    4  \n",
       "5526   \"2005 Toronto Film Festival Report It is offic...    5  \n",
       "19301  \"This is a review of 'Freddy Mercury The Untol...    6  \n",
       "17060  \"American icon Henry Fonda portrays \\\"Elegant\\...    7  \n",
       "24744  \"This is the page for \\\"House of Exorcism\\\", b...    8  \n",
       "5253   \"The makers of this film have created a future...    9  "
      ]
     },
     "execution_count": 4,
     "metadata": {},
     "output_type": "execute_result"
    }
   ],
   "source": [
    "test1[0:10]"
   ]
  },
  {
   "cell_type": "code",
   "execution_count": 5,
   "metadata": {
    "collapsed": true
   },
   "outputs": [],
   "source": [
    "#append the true class value\n",
    "probssentences[\"truelabel\"] = 0\n",
    "for i in range(len(probssentences)):\n",
    "    #get true label value from test1 where index matches doc number\n",
    "    j = probssentences.iloc[i]['doc']\n",
    "    probssentences.set_value(i, 'truelabel', test1.iloc[[j]][\"sentiment\"])"
   ]
  },
  {
   "cell_type": "code",
   "execution_count": 6,
   "metadata": {
    "collapsed": false
   },
   "outputs": [
    {
     "data": {
      "text/html": [
       "<div>\n",
       "<table border=\"1\" class=\"dataframe\">\n",
       "  <thead>\n",
       "    <tr style=\"text-align: right;\">\n",
       "      <th></th>\n",
       "      <th>0</th>\n",
       "      <th>1</th>\n",
       "      <th>doc</th>\n",
       "      <th>truelabel</th>\n",
       "    </tr>\n",
       "  </thead>\n",
       "  <tbody>\n",
       "    <tr>\n",
       "      <th>0</th>\n",
       "      <td>0.5986</td>\n",
       "      <td>0.4014</td>\n",
       "      <td>0</td>\n",
       "      <td>0</td>\n",
       "    </tr>\n",
       "    <tr>\n",
       "      <th>1</th>\n",
       "      <td>0.00792023</td>\n",
       "      <td>0.99208</td>\n",
       "      <td>0</td>\n",
       "      <td>0</td>\n",
       "    </tr>\n",
       "    <tr>\n",
       "      <th>2</th>\n",
       "      <td>0.369248</td>\n",
       "      <td>0.630752</td>\n",
       "      <td>0</td>\n",
       "      <td>0</td>\n",
       "    </tr>\n",
       "    <tr>\n",
       "      <th>3</th>\n",
       "      <td>0.445318</td>\n",
       "      <td>0.554682</td>\n",
       "      <td>0</td>\n",
       "      <td>0</td>\n",
       "    </tr>\n",
       "    <tr>\n",
       "      <th>4</th>\n",
       "      <td>0.999581</td>\n",
       "      <td>0.000419095</td>\n",
       "      <td>0</td>\n",
       "      <td>0</td>\n",
       "    </tr>\n",
       "    <tr>\n",
       "      <th>5</th>\n",
       "      <td>0.00449226</td>\n",
       "      <td>0.995508</td>\n",
       "      <td>1</td>\n",
       "      <td>0</td>\n",
       "    </tr>\n",
       "    <tr>\n",
       "      <th>6</th>\n",
       "      <td>0.918007</td>\n",
       "      <td>0.0819928</td>\n",
       "      <td>1</td>\n",
       "      <td>0</td>\n",
       "    </tr>\n",
       "    <tr>\n",
       "      <th>7</th>\n",
       "      <td>0.55223</td>\n",
       "      <td>0.44777</td>\n",
       "      <td>1</td>\n",
       "      <td>0</td>\n",
       "    </tr>\n",
       "    <tr>\n",
       "      <th>8</th>\n",
       "      <td>0.986808</td>\n",
       "      <td>0.0131918</td>\n",
       "      <td>1</td>\n",
       "      <td>0</td>\n",
       "    </tr>\n",
       "    <tr>\n",
       "      <th>9</th>\n",
       "      <td>0.721142</td>\n",
       "      <td>0.278858</td>\n",
       "      <td>1</td>\n",
       "      <td>0</td>\n",
       "    </tr>\n",
       "  </tbody>\n",
       "</table>\n",
       "</div>"
      ],
      "text/plain": [
       "            0            1 doc  truelabel\n",
       "0      0.5986       0.4014   0          0\n",
       "1  0.00792023      0.99208   0          0\n",
       "2    0.369248     0.630752   0          0\n",
       "3    0.445318     0.554682   0          0\n",
       "4    0.999581  0.000419095   0          0\n",
       "5  0.00449226     0.995508   1          0\n",
       "6    0.918007    0.0819928   1          0\n",
       "7     0.55223      0.44777   1          0\n",
       "8    0.986808    0.0131918   1          0\n",
       "9    0.721142     0.278858   1          0"
      ]
     },
     "execution_count": 6,
     "metadata": {},
     "output_type": "execute_result"
    }
   ],
   "source": [
    "probssentences[0:10]"
   ]
  },
  {
   "cell_type": "code",
   "execution_count": 7,
   "metadata": {
    "collapsed": false
   },
   "outputs": [
    {
     "name": "stdout",
     "output_type": "stream",
     "text": [
      "12500\n",
      "12500\n",
      "6250\n",
      "6250\n"
     ]
    }
   ],
   "source": [
    "#split test set into two\n",
    "fracTrain = 0.5\n",
    "nSamples = test1.shape[0]\n",
    "print nSamples\n",
    "order = np.random.permutation(nSamples) # come up with a random ordering\n",
    "print len(order)\n",
    "splitIndex = int(np.round(nSamples*fracTrain))\n",
    "print len(order[:splitIndex])\n",
    "print len(order[splitIndex:])\n",
    "testA = test1.iloc[order[:splitIndex],:]\n",
    "testB = test1.iloc[order[splitIndex:],:]"
   ]
  },
  {
   "cell_type": "code",
   "execution_count": 8,
   "metadata": {
    "collapsed": false
   },
   "outputs": [],
   "source": [
    "#split probssentences the same way\n",
    "probssentencesA = probssentences.loc[probssentences['doc'].isin(testA['doc'].unique())]\n",
    "probssentencesB = probssentences.loc[probssentences['doc'].isin(testB['doc'].unique())]"
   ]
  },
  {
   "cell_type": "code",
   "execution_count": 9,
   "metadata": {
    "collapsed": false
   },
   "outputs": [
    {
     "name": "stdout",
     "output_type": "stream",
     "text": [
      "133515\n",
      "66244\n",
      "67271\n",
      "6250\n",
      "6250\n"
     ]
    }
   ],
   "source": [
    "print len(probssentences)\n",
    "print len(probssentencesA)\n",
    "print len(probssentencesB)\n",
    "print len(testA)\n",
    "print len(testB)"
   ]
  },
  {
   "cell_type": "code",
   "execution_count": 10,
   "metadata": {
    "collapsed": false
   },
   "outputs": [
    {
     "data": {
      "text/html": [
       "<div>\n",
       "<table border=\"1\" class=\"dataframe\">\n",
       "  <thead>\n",
       "    <tr style=\"text-align: right;\">\n",
       "      <th></th>\n",
       "      <th>0</th>\n",
       "      <th>1</th>\n",
       "      <th>doc</th>\n",
       "      <th>truelabel</th>\n",
       "    </tr>\n",
       "  </thead>\n",
       "  <tbody>\n",
       "    <tr>\n",
       "      <th>0</th>\n",
       "      <td>0.5986</td>\n",
       "      <td>0.4014</td>\n",
       "      <td>0</td>\n",
       "      <td>0</td>\n",
       "    </tr>\n",
       "    <tr>\n",
       "      <th>1</th>\n",
       "      <td>0.00792023</td>\n",
       "      <td>0.99208</td>\n",
       "      <td>0</td>\n",
       "      <td>0</td>\n",
       "    </tr>\n",
       "    <tr>\n",
       "      <th>2</th>\n",
       "      <td>0.369248</td>\n",
       "      <td>0.630752</td>\n",
       "      <td>0</td>\n",
       "      <td>0</td>\n",
       "    </tr>\n",
       "    <tr>\n",
       "      <th>3</th>\n",
       "      <td>0.445318</td>\n",
       "      <td>0.554682</td>\n",
       "      <td>0</td>\n",
       "      <td>0</td>\n",
       "    </tr>\n",
       "    <tr>\n",
       "      <th>4</th>\n",
       "      <td>0.999581</td>\n",
       "      <td>0.000419095</td>\n",
       "      <td>0</td>\n",
       "      <td>0</td>\n",
       "    </tr>\n",
       "    <tr>\n",
       "      <th>5</th>\n",
       "      <td>0.00449226</td>\n",
       "      <td>0.995508</td>\n",
       "      <td>1</td>\n",
       "      <td>0</td>\n",
       "    </tr>\n",
       "    <tr>\n",
       "      <th>6</th>\n",
       "      <td>0.918007</td>\n",
       "      <td>0.0819928</td>\n",
       "      <td>1</td>\n",
       "      <td>0</td>\n",
       "    </tr>\n",
       "    <tr>\n",
       "      <th>7</th>\n",
       "      <td>0.55223</td>\n",
       "      <td>0.44777</td>\n",
       "      <td>1</td>\n",
       "      <td>0</td>\n",
       "    </tr>\n",
       "    <tr>\n",
       "      <th>8</th>\n",
       "      <td>0.986808</td>\n",
       "      <td>0.0131918</td>\n",
       "      <td>1</td>\n",
       "      <td>0</td>\n",
       "    </tr>\n",
       "    <tr>\n",
       "      <th>9</th>\n",
       "      <td>0.721142</td>\n",
       "      <td>0.278858</td>\n",
       "      <td>1</td>\n",
       "      <td>0</td>\n",
       "    </tr>\n",
       "  </tbody>\n",
       "</table>\n",
       "</div>"
      ],
      "text/plain": [
       "            0            1 doc  truelabel\n",
       "0      0.5986       0.4014   0          0\n",
       "1  0.00792023      0.99208   0          0\n",
       "2    0.369248     0.630752   0          0\n",
       "3    0.445318     0.554682   0          0\n",
       "4    0.999581  0.000419095   0          0\n",
       "5  0.00449226     0.995508   1          0\n",
       "6    0.918007    0.0819928   1          0\n",
       "7     0.55223      0.44777   1          0\n",
       "8    0.986808    0.0131918   1          0\n",
       "9    0.721142     0.278858   1          0"
      ]
     },
     "execution_count": 10,
     "metadata": {},
     "output_type": "execute_result"
    }
   ],
   "source": [
    "probssentencesA[0:10]"
   ]
  },
  {
   "cell_type": "code",
   "execution_count": 11,
   "metadata": {
    "collapsed": false
   },
   "outputs": [
    {
     "data": {
      "text/html": [
       "<div>\n",
       "<table border=\"1\" class=\"dataframe\">\n",
       "  <thead>\n",
       "    <tr style=\"text-align: right;\">\n",
       "      <th></th>\n",
       "      <th>0</th>\n",
       "      <th>1</th>\n",
       "      <th>doc</th>\n",
       "      <th>truelabel</th>\n",
       "    </tr>\n",
       "  </thead>\n",
       "  <tbody>\n",
       "    <tr>\n",
       "      <th>12</th>\n",
       "      <td>0.0193013</td>\n",
       "      <td>0.980699</td>\n",
       "      <td>2</td>\n",
       "      <td>1</td>\n",
       "    </tr>\n",
       "    <tr>\n",
       "      <th>13</th>\n",
       "      <td>0.0159692</td>\n",
       "      <td>0.984031</td>\n",
       "      <td>2</td>\n",
       "      <td>1</td>\n",
       "    </tr>\n",
       "    <tr>\n",
       "      <th>14</th>\n",
       "      <td>0.0224181</td>\n",
       "      <td>0.977582</td>\n",
       "      <td>2</td>\n",
       "      <td>1</td>\n",
       "    </tr>\n",
       "    <tr>\n",
       "      <th>15</th>\n",
       "      <td>0.986999</td>\n",
       "      <td>0.0130013</td>\n",
       "      <td>2</td>\n",
       "      <td>1</td>\n",
       "    </tr>\n",
       "    <tr>\n",
       "      <th>16</th>\n",
       "      <td>0.0593864</td>\n",
       "      <td>0.940614</td>\n",
       "      <td>3</td>\n",
       "      <td>1</td>\n",
       "    </tr>\n",
       "    <tr>\n",
       "      <th>17</th>\n",
       "      <td>0.0795348</td>\n",
       "      <td>0.920465</td>\n",
       "      <td>3</td>\n",
       "      <td>1</td>\n",
       "    </tr>\n",
       "    <tr>\n",
       "      <th>18</th>\n",
       "      <td>0.00578835</td>\n",
       "      <td>0.994212</td>\n",
       "      <td>3</td>\n",
       "      <td>1</td>\n",
       "    </tr>\n",
       "    <tr>\n",
       "      <th>47</th>\n",
       "      <td>0.615371</td>\n",
       "      <td>0.384629</td>\n",
       "      <td>6</td>\n",
       "      <td>0</td>\n",
       "    </tr>\n",
       "    <tr>\n",
       "      <th>48</th>\n",
       "      <td>0.0662093</td>\n",
       "      <td>0.933791</td>\n",
       "      <td>6</td>\n",
       "      <td>0</td>\n",
       "    </tr>\n",
       "    <tr>\n",
       "      <th>49</th>\n",
       "      <td>0.0751976</td>\n",
       "      <td>0.924802</td>\n",
       "      <td>6</td>\n",
       "      <td>0</td>\n",
       "    </tr>\n",
       "  </tbody>\n",
       "</table>\n",
       "</div>"
      ],
      "text/plain": [
       "             0          1 doc  truelabel\n",
       "12   0.0193013   0.980699   2          1\n",
       "13   0.0159692   0.984031   2          1\n",
       "14   0.0224181   0.977582   2          1\n",
       "15    0.986999  0.0130013   2          1\n",
       "16   0.0593864   0.940614   3          1\n",
       "17   0.0795348   0.920465   3          1\n",
       "18  0.00578835   0.994212   3          1\n",
       "47    0.615371   0.384629   6          0\n",
       "48   0.0662093   0.933791   6          0\n",
       "49   0.0751976   0.924802   6          0"
      ]
     },
     "execution_count": 11,
     "metadata": {},
     "output_type": "execute_result"
    }
   ],
   "source": [
    "probssentencesB[0:10]"
   ]
  },
  {
   "cell_type": "code",
   "execution_count": 12,
   "metadata": {
    "collapsed": false
   },
   "outputs": [
    {
     "data": {
      "text/html": [
       "<div>\n",
       "<table border=\"1\" class=\"dataframe\">\n",
       "  <thead>\n",
       "    <tr style=\"text-align: right;\">\n",
       "      <th></th>\n",
       "      <th>id</th>\n",
       "      <th>sentiment</th>\n",
       "      <th>review</th>\n",
       "      <th>doc</th>\n",
       "    </tr>\n",
       "  </thead>\n",
       "  <tbody>\n",
       "    <tr>\n",
       "      <th>10909</th>\n",
       "      <td>\"2367_4\"</td>\n",
       "      <td>0</td>\n",
       "      <td>\"This movie had a good story, but was brought ...</td>\n",
       "      <td>7418</td>\n",
       "    </tr>\n",
       "    <tr>\n",
       "      <th>8464</th>\n",
       "      <td>\"10967_10\"</td>\n",
       "      <td>1</td>\n",
       "      <td>\"I first saw this movie in my plays &amp; playwrig...</td>\n",
       "      <td>5918</td>\n",
       "    </tr>\n",
       "    <tr>\n",
       "      <th>1651</th>\n",
       "      <td>\"1767_1\"</td>\n",
       "      <td>0</td>\n",
       "      <td>\"one may ask why? the characters snarl, yell, ...</td>\n",
       "      <td>1566</td>\n",
       "    </tr>\n",
       "    <tr>\n",
       "      <th>4795</th>\n",
       "      <td>\"5491_10\"</td>\n",
       "      <td>1</td>\n",
       "      <td>\"Even though we know how the story ends, this ...</td>\n",
       "      <td>2426</td>\n",
       "    </tr>\n",
       "    <tr>\n",
       "      <th>15263</th>\n",
       "      <td>\"7161_9\"</td>\n",
       "      <td>1</td>\n",
       "      <td>\"Loved the movie. Loved the two families cross...</td>\n",
       "      <td>2884</td>\n",
       "    </tr>\n",
       "    <tr>\n",
       "      <th>20877</th>\n",
       "      <td>\"3134_3\"</td>\n",
       "      <td>0</td>\n",
       "      <td>\"\\\"The fallen ones\\\" falls under the waste of ...</td>\n",
       "      <td>3992</td>\n",
       "    </tr>\n",
       "    <tr>\n",
       "      <th>15512</th>\n",
       "      <td>\"125_7\"</td>\n",
       "      <td>1</td>\n",
       "      <td>\"Lars Von Trier is never backward in trying ou...</td>\n",
       "      <td>7448</td>\n",
       "    </tr>\n",
       "    <tr>\n",
       "      <th>10528</th>\n",
       "      <td>\"5174_10\"</td>\n",
       "      <td>1</td>\n",
       "      <td>\"I swear I could watch this movie every weeken...</td>\n",
       "      <td>4857</td>\n",
       "    </tr>\n",
       "    <tr>\n",
       "      <th>19765</th>\n",
       "      <td>\"3043_1\"</td>\n",
       "      <td>0</td>\n",
       "      <td>\"This movie is supposed to be a \\\"lighthearted...</td>\n",
       "      <td>2326</td>\n",
       "    </tr>\n",
       "    <tr>\n",
       "      <th>9862</th>\n",
       "      <td>\"2923_4\"</td>\n",
       "      <td>0</td>\n",
       "      <td>\"The plot was quite interesting, with the Russ...</td>\n",
       "      <td>8052</td>\n",
       "    </tr>\n",
       "  </tbody>\n",
       "</table>\n",
       "</div>"
      ],
      "text/plain": [
       "               id  sentiment  \\\n",
       "10909    \"2367_4\"          0   \n",
       "8464   \"10967_10\"          1   \n",
       "1651     \"1767_1\"          0   \n",
       "4795    \"5491_10\"          1   \n",
       "15263    \"7161_9\"          1   \n",
       "20877    \"3134_3\"          0   \n",
       "15512     \"125_7\"          1   \n",
       "10528   \"5174_10\"          1   \n",
       "19765    \"3043_1\"          0   \n",
       "9862     \"2923_4\"          0   \n",
       "\n",
       "                                                  review   doc  \n",
       "10909  \"This movie had a good story, but was brought ...  7418  \n",
       "8464   \"I first saw this movie in my plays & playwrig...  5918  \n",
       "1651   \"one may ask why? the characters snarl, yell, ...  1566  \n",
       "4795   \"Even though we know how the story ends, this ...  2426  \n",
       "15263  \"Loved the movie. Loved the two families cross...  2884  \n",
       "20877  \"\\\"The fallen ones\\\" falls under the waste of ...  3992  \n",
       "15512  \"Lars Von Trier is never backward in trying ou...  7448  \n",
       "10528  \"I swear I could watch this movie every weeken...  4857  \n",
       "19765  \"This movie is supposed to be a \\\"lighthearted...  2326  \n",
       "9862   \"The plot was quite interesting, with the Russ...  8052  "
      ]
     },
     "execution_count": 12,
     "metadata": {},
     "output_type": "execute_result"
    }
   ],
   "source": [
    "testA[0:10]"
   ]
  },
  {
   "cell_type": "code",
   "execution_count": 13,
   "metadata": {
    "collapsed": false
   },
   "outputs": [
    {
     "name": "stdout",
     "output_type": "stream",
     "text": [
      "              id  sentiment  \\\n",
      "14560  \"10770_7\"          1   \n",
      "\n",
      "                                                  review  doc  \n",
      "14560  \"With a well thought out cast, this movie was ...    2  \n"
     ]
    }
   ],
   "source": [
    "#checking that testB matches probssentencesB\n",
    "print testB.loc[testB['doc']==2]"
   ]
  },
  {
   "cell_type": "markdown",
   "metadata": {},
   "source": [
    "### NOTE: probssentences and test set are not in same order. Must match on doc number."
   ]
  },
  {
   "cell_type": "code",
   "execution_count": 14,
   "metadata": {
    "collapsed": false
   },
   "outputs": [
    {
     "name": "stdout",
     "output_type": "stream",
     "text": [
      "6250\n"
     ]
    }
   ],
   "source": [
    "print len(testA['doc'].unique())"
   ]
  },
  {
   "cell_type": "code",
   "execution_count": 15,
   "metadata": {
    "collapsed": false
   },
   "outputs": [
    {
     "name": "stdout",
     "output_type": "stream",
     "text": [
      "0:01:01\n"
     ]
    }
   ],
   "source": [
    "a = datetime.datetime.now().replace(microsecond=0)\n",
    "\n",
    "#put into function and make split number the parameter\n",
    "def getFeaturesAndLabels(numSplits):\n",
    "    i = 0\n",
    "    features = []\n",
    "    labels = []\n",
    "    #for each doc in probssentences:\n",
    "    for doc in testA['doc'].unique():  \n",
    "        avgScores = []\n",
    "        df = probssentencesA.loc[probssentencesA['doc'] == doc]\n",
    "        if len(df) >= numSplits:\n",
    "            #split into x groups\n",
    "            lst = np.array_split(df[[0]], numSplits)\n",
    "            for z in lst:\n",
    "                #make the average score for each group the feature\n",
    "                avgScores.append(z.mean()[0])\n",
    "                #convert to a 0 or 1 (?)\n",
    "            features.append(avgScores)\n",
    "            labels.append(testA.loc[testA['doc'] == doc]['sentiment'].values[0])\n",
    "        i = i + 1\n",
    "    return (features, labels)\n",
    "    \n",
    "#function call\n",
    "x = 3\n",
    "tuple1 = getFeaturesAndLabels(x)\n",
    "\n",
    "b = datetime.datetime.now().replace(microsecond=0)\n",
    "print b-a"
   ]
  },
  {
   "cell_type": "code",
   "execution_count": 35,
   "metadata": {
    "collapsed": false
   },
   "outputs": [
    {
     "name": "stdout",
     "output_type": "stream",
     "text": [
      "6008\n",
      "6008\n"
     ]
    }
   ],
   "source": [
    "#ignore those reviews with fewer sentences than splits, so instead of 6250 datapoints to build on, have lost about 242:\n",
    "print len(tuple1[0])\n",
    "print len(tuple1[1])\n",
    "features = tuple1[0]\n",
    "labels = tuple1[1]"
   ]
  },
  {
   "cell_type": "code",
   "execution_count": 36,
   "metadata": {
    "collapsed": false
   },
   "outputs": [
    {
     "name": "stdout",
     "output_type": "stream",
     "text": [
      "[ 0.33510705  0.28484426  0.38004869]\n"
     ]
    }
   ],
   "source": [
    "#perform feature weighting-\n",
    "clf = ExtraTreesClassifier()\n",
    "clf = clf.fit(features, labels)\n",
    "weights = clf.feature_importances_  \n",
    "print weights"
   ]
  },
  {
   "cell_type": "markdown",
   "metadata": {},
   "source": [
    "### Split test set 2 into x subsets as well"
   ]
  },
  {
   "cell_type": "code",
   "execution_count": 33,
   "metadata": {
    "collapsed": false
   },
   "outputs": [
    {
     "name": "stdout",
     "output_type": "stream",
     "text": [
      "0:00:59\n"
     ]
    }
   ],
   "source": [
    "a = datetime.datetime.now().replace(microsecond=0)\n",
    "\n",
    "#put into function and make split number the parameter\n",
    "x = 3\n",
    "\n",
    "i = 0\n",
    "featuresTest = []\n",
    "labelsTest = []\n",
    "#for each doc in probssentences:\n",
    "for doc in testB['doc'].unique():  \n",
    "    avgScoresTest = []\n",
    "    df = probssentencesB.loc[probssentencesB['doc'] == doc]\n",
    "    if len(df) >= x:\n",
    "        #split into x groups\n",
    "        lst = np.array_split(df[[0]], x)\n",
    "        for z in lst:\n",
    "            #make the average score for each group the feature\n",
    "            avgScoresTest.append(z.mean()[0])\n",
    "            #convert to a 0 or 1 (?)\n",
    "        featuresTest.append(avgScoresTest)\n",
    "        labelsTest.append(testB.loc[testB['doc'] == doc]['sentiment'].values[0])\n",
    "    i = i + 1\n",
    "\n",
    "b = datetime.datetime.now().replace(microsecond=0)\n",
    "print b-a"
   ]
  },
  {
   "cell_type": "code",
   "execution_count": 3,
   "metadata": {
    "collapsed": false
   },
   "outputs": [
    {
     "ename": "NameError",
     "evalue": "name 'featuresTest' is not defined",
     "output_type": "error",
     "traceback": [
      "\u001b[1;31m---------------------------------------------------------------------------\u001b[0m",
      "\u001b[1;31mNameError\u001b[0m                                 Traceback (most recent call last)",
      "\u001b[1;32m<ipython-input-3-027d99ddb7fe>\u001b[0m in \u001b[0;36m<module>\u001b[1;34m()\u001b[0m\n\u001b[1;32m----> 1\u001b[1;33m \u001b[1;32mprint\u001b[0m \u001b[1;33m(\u001b[0m\u001b[0mfeaturesTest\u001b[0m\u001b[1;33m*\u001b[0m\u001b[0mweights\u001b[0m\u001b[1;33m)\u001b[0m\u001b[1;33m.\u001b[0m\u001b[0mshape\u001b[0m\u001b[1;33m\u001b[0m\u001b[0m\n\u001b[0m\u001b[0;32m      2\u001b[0m \u001b[1;32mprint\u001b[0m \u001b[0mfeaturesTest\u001b[0m\u001b[1;33m[\u001b[0m\u001b[1;36m0\u001b[0m\u001b[1;33m]\u001b[0m\u001b[1;33m\u001b[0m\u001b[0m\n",
      "\u001b[1;31mNameError\u001b[0m: name 'featuresTest' is not defined"
     ]
    }
   ],
   "source": [
    "print (featuresTest*weights).shape\n",
    "print featuresTest[0]"
   ]
  },
  {
   "cell_type": "code",
   "execution_count": null,
   "metadata": {
    "collapsed": true
   },
   "outputs": [],
   "source": [
    "print "
   ]
  },
  {
   "cell_type": "code",
   "execution_count": 39,
   "metadata": {
    "collapsed": false
   },
   "outputs": [
    {
     "name": "stdout",
     "output_type": "stream",
     "text": [
      "(12500,)\n"
     ]
    }
   ],
   "source": [
    "preds = np.ones((prob.shape[0]))\n",
    "print preds.shape"
   ]
  },
  {
   "cell_type": "code",
   "execution_count": 40,
   "metadata": {
    "collapsed": false
   },
   "outputs": [],
   "source": [
    "preds[np.where(prob.iloc[:,0] >  prob.iloc[:,1])] = 0 # The first column is the negative model"
   ]
  },
  {
   "cell_type": "code",
   "execution_count": 41,
   "metadata": {
    "collapsed": false
   },
   "outputs": [
    {
     "name": "stdout",
     "output_type": "stream",
     "text": [
      "(12500,)\n",
      "(12500,)\n"
     ]
    }
   ],
   "source": [
    "print preds.shape\n",
    "print test1[\"sentiment\"].shape"
   ]
  },
  {
   "cell_type": "code",
   "execution_count": 42,
   "metadata": {
    "collapsed": false
   },
   "outputs": [
    {
     "name": "stdout",
     "output_type": "stream",
     "text": [
      "0.86848\n"
     ]
    }
   ],
   "source": [
    "print np.size(np.where(preds == test1[\"sentiment\"]))*1./np.size(preds)"
   ]
  },
  {
   "cell_type": "code",
   "execution_count": 15,
   "metadata": {
    "collapsed": false
   },
   "outputs": [
    {
     "name": "stdout",
     "output_type": "stream",
     "text": [
      "0.868160030313\n"
     ]
    }
   ],
   "source": [
    "from sklearn.metrics import roc_auc_score\n",
    "print roc_auc_score(test1[\"sentiment\"], preds)"
   ]
  },
  {
   "cell_type": "markdown",
   "metadata": {
    "collapsed": true
   },
   "source": [
    "Especially considering the weights are fit from the test data itself, we would expect to see a big increase in performance, which we're not getting."
   ]
  },
  {
   "cell_type": "markdown",
   "metadata": {},
   "source": [
    "Why? :/ could have something to do with the fact that we fit a classifier on the test data which is pretty wacky. Or could be the way the weights were applied to the sentence scores (unlikely). "
   ]
  }
 ],
 "metadata": {
  "kernelspec": {
   "display_name": "Python 2",
   "language": "python",
   "name": "python2"
  },
  "language_info": {
   "codemirror_mode": {
    "name": "ipython",
    "version": 2
   },
   "file_extension": ".py",
   "mimetype": "text/x-python",
   "name": "python",
   "nbconvert_exporter": "python",
   "pygments_lexer": "ipython2",
   "version": "2.7.11"
  }
 },
 "nbformat": 4,
 "nbformat_minor": 0
}
