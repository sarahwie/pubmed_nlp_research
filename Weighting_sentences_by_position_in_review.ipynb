{
 "cells": [
  {
   "cell_type": "markdown",
   "metadata": {},
   "source": [
    "Weighting sentences by their position in the review:\n",
    "\n",
    "We calculate feature importance off of the test set's features because only the test set's sentences get scored (probssentences). Is this legal?"
   ]
  },
  {
   "cell_type": "code",
   "execution_count": 1,
   "metadata": {
    "collapsed": true
   },
   "outputs": [],
   "source": [
    "import pickle\n",
    "import datetime\n",
    "import numpy as np\n",
    "import pandas as pd\n",
    "from sklearn.ensemble import ExtraTreesClassifier\n",
    "from sklearn.feature_selection import SelectFromModel"
   ]
  },
  {
   "cell_type": "code",
   "execution_count": 2,
   "metadata": {
    "collapsed": false
   },
   "outputs": [],
   "source": [
    "probssentences = pickle.load(open('/home/sarahwie/Documents/pubmed-nlp-research/pickled_objects/probssentences.p', 'rb'))\n",
    "test1 = pickle.load(open('/home/sarahwie/Documents/pubmed-nlp-research/pickled_objects/test1.p', 'rb'))"
   ]
  },
  {
   "cell_type": "code",
   "execution_count": 3,
   "metadata": {
    "collapsed": false
   },
   "outputs": [
    {
     "name": "stdout",
     "output_type": "stream",
     "text": [
      "(12500, 4)\n",
      "(133515, 3)\n"
     ]
    }
   ],
   "source": [
    "#append doc value to test1\n",
    "test1['doc'] = [ i for i in range(len(test1))]\n",
    "print test1.shape\n",
    "print probssentences.shape"
   ]
  },
  {
   "cell_type": "code",
   "execution_count": 4,
   "metadata": {
    "collapsed": false
   },
   "outputs": [
    {
     "data": {
      "text/html": [
       "<div>\n",
       "<table border=\"1\" class=\"dataframe\">\n",
       "  <thead>\n",
       "    <tr style=\"text-align: right;\">\n",
       "      <th></th>\n",
       "      <th>id</th>\n",
       "      <th>sentiment</th>\n",
       "      <th>review</th>\n",
       "      <th>doc</th>\n",
       "    </tr>\n",
       "  </thead>\n",
       "  <tbody>\n",
       "    <tr>\n",
       "      <th>21130</th>\n",
       "      <td>\"5706_2\"</td>\n",
       "      <td>0</td>\n",
       "      <td>\"This movie is like the thousand \\\"cat and mou...</td>\n",
       "      <td>0</td>\n",
       "    </tr>\n",
       "    <tr>\n",
       "      <th>3404</th>\n",
       "      <td>\"11132_3\"</td>\n",
       "      <td>0</td>\n",
       "      <td>\"A documentarist, like any filmmaker, must con...</td>\n",
       "      <td>1</td>\n",
       "    </tr>\n",
       "    <tr>\n",
       "      <th>14560</th>\n",
       "      <td>\"10770_7\"</td>\n",
       "      <td>1</td>\n",
       "      <td>\"With a well thought out cast, this movie was ...</td>\n",
       "      <td>2</td>\n",
       "    </tr>\n",
       "    <tr>\n",
       "      <th>6671</th>\n",
       "      <td>\"1058_10\"</td>\n",
       "      <td>1</td>\n",
       "      <td>\"this is the best sci-fi that I have seen in m...</td>\n",
       "      <td>3</td>\n",
       "    </tr>\n",
       "    <tr>\n",
       "      <th>10982</th>\n",
       "      <td>\"12239_1\"</td>\n",
       "      <td>0</td>\n",
       "      <td>\"Ever since I was eight years old I have been ...</td>\n",
       "      <td>4</td>\n",
       "    </tr>\n",
       "    <tr>\n",
       "      <th>5526</th>\n",
       "      <td>\"966_7\"</td>\n",
       "      <td>1</td>\n",
       "      <td>\"2005 Toronto Film Festival Report It is offic...</td>\n",
       "      <td>5</td>\n",
       "    </tr>\n",
       "    <tr>\n",
       "      <th>19301</th>\n",
       "      <td>\"11645_2\"</td>\n",
       "      <td>0</td>\n",
       "      <td>\"This is a review of 'Freddy Mercury The Untol...</td>\n",
       "      <td>6</td>\n",
       "    </tr>\n",
       "    <tr>\n",
       "      <th>17060</th>\n",
       "      <td>\"5920_9\"</td>\n",
       "      <td>1</td>\n",
       "      <td>\"American icon Henry Fonda portrays \\\"Elegant\\...</td>\n",
       "      <td>7</td>\n",
       "    </tr>\n",
       "    <tr>\n",
       "      <th>24744</th>\n",
       "      <td>\"9501_2\"</td>\n",
       "      <td>0</td>\n",
       "      <td>\"This is the page for \\\"House of Exorcism\\\", b...</td>\n",
       "      <td>8</td>\n",
       "    </tr>\n",
       "    <tr>\n",
       "      <th>5253</th>\n",
       "      <td>\"7877_4\"</td>\n",
       "      <td>0</td>\n",
       "      <td>\"The makers of this film have created a future...</td>\n",
       "      <td>9</td>\n",
       "    </tr>\n",
       "  </tbody>\n",
       "</table>\n",
       "</div>"
      ],
      "text/plain": [
       "              id  sentiment  \\\n",
       "21130   \"5706_2\"          0   \n",
       "3404   \"11132_3\"          0   \n",
       "14560  \"10770_7\"          1   \n",
       "6671   \"1058_10\"          1   \n",
       "10982  \"12239_1\"          0   \n",
       "5526     \"966_7\"          1   \n",
       "19301  \"11645_2\"          0   \n",
       "17060   \"5920_9\"          1   \n",
       "24744   \"9501_2\"          0   \n",
       "5253    \"7877_4\"          0   \n",
       "\n",
       "                                                  review  doc  \n",
       "21130  \"This movie is like the thousand \\\"cat and mou...    0  \n",
       "3404   \"A documentarist, like any filmmaker, must con...    1  \n",
       "14560  \"With a well thought out cast, this movie was ...    2  \n",
       "6671   \"this is the best sci-fi that I have seen in m...    3  \n",
       "10982  \"Ever since I was eight years old I have been ...    4  \n",
       "5526   \"2005 Toronto Film Festival Report It is offic...    5  \n",
       "19301  \"This is a review of 'Freddy Mercury The Untol...    6  \n",
       "17060  \"American icon Henry Fonda portrays \\\"Elegant\\...    7  \n",
       "24744  \"This is the page for \\\"House of Exorcism\\\", b...    8  \n",
       "5253   \"The makers of this film have created a future...    9  "
      ]
     },
     "execution_count": 4,
     "metadata": {},
     "output_type": "execute_result"
    }
   ],
   "source": [
    "test1[0:10]"
   ]
  },
  {
   "cell_type": "code",
   "execution_count": 5,
   "metadata": {
    "collapsed": true
   },
   "outputs": [],
   "source": [
    "#append the true class value\n",
    "probssentences[\"truelabel\"] = 0\n",
    "for i in range(len(probssentences)):\n",
    "    #get true label value from test1 where index matches doc number\n",
    "    j = probssentences.iloc[i]['doc']\n",
    "    probssentences.set_value(i, 'truelabel', test1.iloc[[j]][\"sentiment\"])"
   ]
  },
  {
   "cell_type": "code",
   "execution_count": 6,
   "metadata": {
    "collapsed": false
   },
   "outputs": [
    {
     "data": {
      "text/html": [
       "<div>\n",
       "<table border=\"1\" class=\"dataframe\">\n",
       "  <thead>\n",
       "    <tr style=\"text-align: right;\">\n",
       "      <th></th>\n",
       "      <th>0</th>\n",
       "      <th>1</th>\n",
       "      <th>doc</th>\n",
       "      <th>truelabel</th>\n",
       "    </tr>\n",
       "  </thead>\n",
       "  <tbody>\n",
       "    <tr>\n",
       "      <th>0</th>\n",
       "      <td>0.5986</td>\n",
       "      <td>0.4014</td>\n",
       "      <td>0</td>\n",
       "      <td>0</td>\n",
       "    </tr>\n",
       "    <tr>\n",
       "      <th>1</th>\n",
       "      <td>0.00792023</td>\n",
       "      <td>0.99208</td>\n",
       "      <td>0</td>\n",
       "      <td>0</td>\n",
       "    </tr>\n",
       "    <tr>\n",
       "      <th>2</th>\n",
       "      <td>0.369248</td>\n",
       "      <td>0.630752</td>\n",
       "      <td>0</td>\n",
       "      <td>0</td>\n",
       "    </tr>\n",
       "    <tr>\n",
       "      <th>3</th>\n",
       "      <td>0.445318</td>\n",
       "      <td>0.554682</td>\n",
       "      <td>0</td>\n",
       "      <td>0</td>\n",
       "    </tr>\n",
       "    <tr>\n",
       "      <th>4</th>\n",
       "      <td>0.999581</td>\n",
       "      <td>0.000419095</td>\n",
       "      <td>0</td>\n",
       "      <td>0</td>\n",
       "    </tr>\n",
       "    <tr>\n",
       "      <th>5</th>\n",
       "      <td>0.00449226</td>\n",
       "      <td>0.995508</td>\n",
       "      <td>1</td>\n",
       "      <td>0</td>\n",
       "    </tr>\n",
       "    <tr>\n",
       "      <th>6</th>\n",
       "      <td>0.918007</td>\n",
       "      <td>0.0819928</td>\n",
       "      <td>1</td>\n",
       "      <td>0</td>\n",
       "    </tr>\n",
       "    <tr>\n",
       "      <th>7</th>\n",
       "      <td>0.55223</td>\n",
       "      <td>0.44777</td>\n",
       "      <td>1</td>\n",
       "      <td>0</td>\n",
       "    </tr>\n",
       "    <tr>\n",
       "      <th>8</th>\n",
       "      <td>0.986808</td>\n",
       "      <td>0.0131918</td>\n",
       "      <td>1</td>\n",
       "      <td>0</td>\n",
       "    </tr>\n",
       "    <tr>\n",
       "      <th>9</th>\n",
       "      <td>0.721142</td>\n",
       "      <td>0.278858</td>\n",
       "      <td>1</td>\n",
       "      <td>0</td>\n",
       "    </tr>\n",
       "  </tbody>\n",
       "</table>\n",
       "</div>"
      ],
      "text/plain": [
       "            0            1 doc  truelabel\n",
       "0      0.5986       0.4014   0          0\n",
       "1  0.00792023      0.99208   0          0\n",
       "2    0.369248     0.630752   0          0\n",
       "3    0.445318     0.554682   0          0\n",
       "4    0.999581  0.000419095   0          0\n",
       "5  0.00449226     0.995508   1          0\n",
       "6    0.918007    0.0819928   1          0\n",
       "7     0.55223      0.44777   1          0\n",
       "8    0.986808    0.0131918   1          0\n",
       "9    0.721142     0.278858   1          0"
      ]
     },
     "execution_count": 6,
     "metadata": {},
     "output_type": "execute_result"
    }
   ],
   "source": [
    "probssentences[0:10]"
   ]
  },
  {
   "cell_type": "code",
   "execution_count": 7,
   "metadata": {
    "collapsed": false
   },
   "outputs": [
    {
     "name": "stdout",
     "output_type": "stream",
     "text": [
      "12500\n",
      "12500\n",
      "6250\n",
      "6250\n"
     ]
    }
   ],
   "source": [
    "#split test set into two\n",
    "fracTrain = 0.5\n",
    "nSamples = test1.shape[0]\n",
    "print nSamples\n",
    "order = np.random.permutation(nSamples) # come up with a random ordering\n",
    "print len(order)\n",
    "splitIndex = int(np.round(nSamples*fracTrain))\n",
    "print len(order[:splitIndex])\n",
    "print len(order[splitIndex:])\n",
    "testA = test1.iloc[order[:splitIndex],:]\n",
    "testB = test1.iloc[order[splitIndex:],:]"
   ]
  },
  {
   "cell_type": "code",
   "execution_count": 54,
   "metadata": {
    "collapsed": true
   },
   "outputs": [],
   "source": [
    "#order 2 test sets in order of docs?"
   ]
  },
  {
   "cell_type": "code",
   "execution_count": 8,
   "metadata": {
    "collapsed": false
   },
   "outputs": [],
   "source": [
    "#split probssentences the same way\n",
    "probssentencesA = probssentences.loc[probssentences['doc'].isin(testA['doc'].unique())]\n",
    "probssentencesB = probssentences.loc[probssentences['doc'].isin(testB['doc'].unique())]"
   ]
  },
  {
   "cell_type": "code",
   "execution_count": 9,
   "metadata": {
    "collapsed": false
   },
   "outputs": [
    {
     "name": "stdout",
     "output_type": "stream",
     "text": [
      "133515\n",
      "67287\n",
      "66228\n",
      "6250\n",
      "6250\n"
     ]
    }
   ],
   "source": [
    "print len(probssentences)\n",
    "print len(probssentencesA)\n",
    "print len(probssentencesB)\n",
    "print len(testA)\n",
    "print len(testB)"
   ]
  },
  {
   "cell_type": "code",
   "execution_count": 10,
   "metadata": {
    "collapsed": false
   },
   "outputs": [
    {
     "data": {
      "text/html": [
       "<div>\n",
       "<table border=\"1\" class=\"dataframe\">\n",
       "  <thead>\n",
       "    <tr style=\"text-align: right;\">\n",
       "      <th></th>\n",
       "      <th>0</th>\n",
       "      <th>1</th>\n",
       "      <th>doc</th>\n",
       "      <th>truelabel</th>\n",
       "    </tr>\n",
       "  </thead>\n",
       "  <tbody>\n",
       "    <tr>\n",
       "      <th>0</th>\n",
       "      <td>0.5986</td>\n",
       "      <td>0.4014</td>\n",
       "      <td>0</td>\n",
       "      <td>0</td>\n",
       "    </tr>\n",
       "    <tr>\n",
       "      <th>1</th>\n",
       "      <td>0.00792023</td>\n",
       "      <td>0.99208</td>\n",
       "      <td>0</td>\n",
       "      <td>0</td>\n",
       "    </tr>\n",
       "    <tr>\n",
       "      <th>2</th>\n",
       "      <td>0.369248</td>\n",
       "      <td>0.630752</td>\n",
       "      <td>0</td>\n",
       "      <td>0</td>\n",
       "    </tr>\n",
       "    <tr>\n",
       "      <th>3</th>\n",
       "      <td>0.445318</td>\n",
       "      <td>0.554682</td>\n",
       "      <td>0</td>\n",
       "      <td>0</td>\n",
       "    </tr>\n",
       "    <tr>\n",
       "      <th>4</th>\n",
       "      <td>0.999581</td>\n",
       "      <td>0.000419095</td>\n",
       "      <td>0</td>\n",
       "      <td>0</td>\n",
       "    </tr>\n",
       "    <tr>\n",
       "      <th>5</th>\n",
       "      <td>0.00449226</td>\n",
       "      <td>0.995508</td>\n",
       "      <td>1</td>\n",
       "      <td>0</td>\n",
       "    </tr>\n",
       "    <tr>\n",
       "      <th>6</th>\n",
       "      <td>0.918007</td>\n",
       "      <td>0.0819928</td>\n",
       "      <td>1</td>\n",
       "      <td>0</td>\n",
       "    </tr>\n",
       "    <tr>\n",
       "      <th>7</th>\n",
       "      <td>0.55223</td>\n",
       "      <td>0.44777</td>\n",
       "      <td>1</td>\n",
       "      <td>0</td>\n",
       "    </tr>\n",
       "    <tr>\n",
       "      <th>8</th>\n",
       "      <td>0.986808</td>\n",
       "      <td>0.0131918</td>\n",
       "      <td>1</td>\n",
       "      <td>0</td>\n",
       "    </tr>\n",
       "    <tr>\n",
       "      <th>9</th>\n",
       "      <td>0.721142</td>\n",
       "      <td>0.278858</td>\n",
       "      <td>1</td>\n",
       "      <td>0</td>\n",
       "    </tr>\n",
       "  </tbody>\n",
       "</table>\n",
       "</div>"
      ],
      "text/plain": [
       "            0            1 doc  truelabel\n",
       "0      0.5986       0.4014   0          0\n",
       "1  0.00792023      0.99208   0          0\n",
       "2    0.369248     0.630752   0          0\n",
       "3    0.445318     0.554682   0          0\n",
       "4    0.999581  0.000419095   0          0\n",
       "5  0.00449226     0.995508   1          0\n",
       "6    0.918007    0.0819928   1          0\n",
       "7     0.55223      0.44777   1          0\n",
       "8    0.986808    0.0131918   1          0\n",
       "9    0.721142     0.278858   1          0"
      ]
     },
     "execution_count": 10,
     "metadata": {},
     "output_type": "execute_result"
    }
   ],
   "source": [
    "probssentencesA[0:10]"
   ]
  },
  {
   "cell_type": "code",
   "execution_count": 11,
   "metadata": {
    "collapsed": false
   },
   "outputs": [
    {
     "data": {
      "text/html": [
       "<div>\n",
       "<table border=\"1\" class=\"dataframe\">\n",
       "  <thead>\n",
       "    <tr style=\"text-align: right;\">\n",
       "      <th></th>\n",
       "      <th>0</th>\n",
       "      <th>1</th>\n",
       "      <th>doc</th>\n",
       "      <th>truelabel</th>\n",
       "    </tr>\n",
       "  </thead>\n",
       "  <tbody>\n",
       "    <tr>\n",
       "      <th>16</th>\n",
       "      <td>0.0593864</td>\n",
       "      <td>0.940614</td>\n",
       "      <td>3</td>\n",
       "      <td>1</td>\n",
       "    </tr>\n",
       "    <tr>\n",
       "      <th>17</th>\n",
       "      <td>0.0795348</td>\n",
       "      <td>0.920465</td>\n",
       "      <td>3</td>\n",
       "      <td>1</td>\n",
       "    </tr>\n",
       "    <tr>\n",
       "      <th>18</th>\n",
       "      <td>0.00578835</td>\n",
       "      <td>0.994212</td>\n",
       "      <td>3</td>\n",
       "      <td>1</td>\n",
       "    </tr>\n",
       "    <tr>\n",
       "      <th>35</th>\n",
       "      <td>3.08829e-07</td>\n",
       "      <td>1</td>\n",
       "      <td>5</td>\n",
       "      <td>1</td>\n",
       "    </tr>\n",
       "    <tr>\n",
       "      <th>36</th>\n",
       "      <td>0.139833</td>\n",
       "      <td>0.860167</td>\n",
       "      <td>5</td>\n",
       "      <td>1</td>\n",
       "    </tr>\n",
       "    <tr>\n",
       "      <th>37</th>\n",
       "      <td>0.193762</td>\n",
       "      <td>0.806238</td>\n",
       "      <td>5</td>\n",
       "      <td>1</td>\n",
       "    </tr>\n",
       "    <tr>\n",
       "      <th>38</th>\n",
       "      <td>0.666227</td>\n",
       "      <td>0.333773</td>\n",
       "      <td>5</td>\n",
       "      <td>1</td>\n",
       "    </tr>\n",
       "    <tr>\n",
       "      <th>39</th>\n",
       "      <td>0.0583559</td>\n",
       "      <td>0.941644</td>\n",
       "      <td>5</td>\n",
       "      <td>1</td>\n",
       "    </tr>\n",
       "    <tr>\n",
       "      <th>40</th>\n",
       "      <td>0.000877276</td>\n",
       "      <td>0.999123</td>\n",
       "      <td>5</td>\n",
       "      <td>1</td>\n",
       "    </tr>\n",
       "    <tr>\n",
       "      <th>41</th>\n",
       "      <td>0.602586</td>\n",
       "      <td>0.397414</td>\n",
       "      <td>5</td>\n",
       "      <td>1</td>\n",
       "    </tr>\n",
       "  </tbody>\n",
       "</table>\n",
       "</div>"
      ],
      "text/plain": [
       "              0         1 doc  truelabel\n",
       "16    0.0593864  0.940614   3          1\n",
       "17    0.0795348  0.920465   3          1\n",
       "18   0.00578835  0.994212   3          1\n",
       "35  3.08829e-07         1   5          1\n",
       "36     0.139833  0.860167   5          1\n",
       "37     0.193762  0.806238   5          1\n",
       "38     0.666227  0.333773   5          1\n",
       "39    0.0583559  0.941644   5          1\n",
       "40  0.000877276  0.999123   5          1\n",
       "41     0.602586  0.397414   5          1"
      ]
     },
     "execution_count": 11,
     "metadata": {},
     "output_type": "execute_result"
    }
   ],
   "source": [
    "probssentencesB[0:10]"
   ]
  },
  {
   "cell_type": "code",
   "execution_count": 12,
   "metadata": {
    "collapsed": false
   },
   "outputs": [
    {
     "data": {
      "text/html": [
       "<div>\n",
       "<table border=\"1\" class=\"dataframe\">\n",
       "  <thead>\n",
       "    <tr style=\"text-align: right;\">\n",
       "      <th></th>\n",
       "      <th>id</th>\n",
       "      <th>sentiment</th>\n",
       "      <th>review</th>\n",
       "      <th>doc</th>\n",
       "    </tr>\n",
       "  </thead>\n",
       "  <tbody>\n",
       "    <tr>\n",
       "      <th>11462</th>\n",
       "      <td>\"252_9\"</td>\n",
       "      <td>1</td>\n",
       "      <td>\"The performances were superb, the costumes de...</td>\n",
       "      <td>11991</td>\n",
       "    </tr>\n",
       "    <tr>\n",
       "      <th>2223</th>\n",
       "      <td>\"7651_8\"</td>\n",
       "      <td>1</td>\n",
       "      <td>\"An interesting TV movie based on true fact, b...</td>\n",
       "      <td>8352</td>\n",
       "    </tr>\n",
       "    <tr>\n",
       "      <th>23972</th>\n",
       "      <td>\"2956_8\"</td>\n",
       "      <td>1</td>\n",
       "      <td>\"There are very few performers today who can k...</td>\n",
       "      <td>4394</td>\n",
       "    </tr>\n",
       "    <tr>\n",
       "      <th>8913</th>\n",
       "      <td>\"11904_10\"</td>\n",
       "      <td>1</td>\n",
       "      <td>\"I gave it a 10, since everyone else seemed to...</td>\n",
       "      <td>11368</td>\n",
       "    </tr>\n",
       "    <tr>\n",
       "      <th>3891</th>\n",
       "      <td>\"10947_8\"</td>\n",
       "      <td>1</td>\n",
       "      <td>\"The Sarah Silverman program is very similar t...</td>\n",
       "      <td>4806</td>\n",
       "    </tr>\n",
       "    <tr>\n",
       "      <th>18172</th>\n",
       "      <td>\"10034_1\"</td>\n",
       "      <td>0</td>\n",
       "      <td>\"If there is one film which is the worst of th...</td>\n",
       "      <td>2623</td>\n",
       "    </tr>\n",
       "    <tr>\n",
       "      <th>19396</th>\n",
       "      <td>\"5576_3\"</td>\n",
       "      <td>0</td>\n",
       "      <td>\"To this day when you speak of the Japanese ci...</td>\n",
       "      <td>12171</td>\n",
       "    </tr>\n",
       "    <tr>\n",
       "      <th>20284</th>\n",
       "      <td>\"8359_4\"</td>\n",
       "      <td>0</td>\n",
       "      <td>\"Despite some moments in heavy rain, an encoun...</td>\n",
       "      <td>11703</td>\n",
       "    </tr>\n",
       "    <tr>\n",
       "      <th>13237</th>\n",
       "      <td>\"1465_3\"</td>\n",
       "      <td>0</td>\n",
       "      <td>\"Well first off I'd like to add that I myself ...</td>\n",
       "      <td>4973</td>\n",
       "    </tr>\n",
       "    <tr>\n",
       "      <th>21651</th>\n",
       "      <td>\"4873_8\"</td>\n",
       "      <td>1</td>\n",
       "      <td>\"For those of you who are not aware with the t...</td>\n",
       "      <td>11710</td>\n",
       "    </tr>\n",
       "  </tbody>\n",
       "</table>\n",
       "</div>"
      ],
      "text/plain": [
       "               id  sentiment  \\\n",
       "11462     \"252_9\"          1   \n",
       "2223     \"7651_8\"          1   \n",
       "23972    \"2956_8\"          1   \n",
       "8913   \"11904_10\"          1   \n",
       "3891    \"10947_8\"          1   \n",
       "18172   \"10034_1\"          0   \n",
       "19396    \"5576_3\"          0   \n",
       "20284    \"8359_4\"          0   \n",
       "13237    \"1465_3\"          0   \n",
       "21651    \"4873_8\"          1   \n",
       "\n",
       "                                                  review    doc  \n",
       "11462  \"The performances were superb, the costumes de...  11991  \n",
       "2223   \"An interesting TV movie based on true fact, b...   8352  \n",
       "23972  \"There are very few performers today who can k...   4394  \n",
       "8913   \"I gave it a 10, since everyone else seemed to...  11368  \n",
       "3891   \"The Sarah Silverman program is very similar t...   4806  \n",
       "18172  \"If there is one film which is the worst of th...   2623  \n",
       "19396  \"To this day when you speak of the Japanese ci...  12171  \n",
       "20284  \"Despite some moments in heavy rain, an encoun...  11703  \n",
       "13237  \"Well first off I'd like to add that I myself ...   4973  \n",
       "21651  \"For those of you who are not aware with the t...  11710  "
      ]
     },
     "execution_count": 12,
     "metadata": {},
     "output_type": "execute_result"
    }
   ],
   "source": [
    "testA[0:10]"
   ]
  },
  {
   "cell_type": "code",
   "execution_count": 13,
   "metadata": {
    "collapsed": false
   },
   "outputs": [
    {
     "name": "stdout",
     "output_type": "stream",
     "text": [
      "Empty DataFrame\n",
      "Columns: [id, sentiment, review, doc]\n",
      "Index: []\n"
     ]
    }
   ],
   "source": [
    "#checking that testB matches probssentencesB\n",
    "print testB.loc[testB['doc']==2]"
   ]
  },
  {
   "cell_type": "markdown",
   "metadata": {},
   "source": [
    "### NOTE: probssentences and test set are not in same order. Must match on doc number."
   ]
  },
  {
   "cell_type": "code",
   "execution_count": 29,
   "metadata": {
    "collapsed": false
   },
   "outputs": [
    {
     "name": "stdout",
     "output_type": "stream",
     "text": [
      "6250\n"
     ]
    }
   ],
   "source": [
    "print len(testA['doc'].unique())"
   ]
  },
  {
   "cell_type": "code",
   "execution_count": 30,
   "metadata": {
    "collapsed": false
   },
   "outputs": [
    {
     "name": "stdout",
     "output_type": "stream",
     "text": [
      "0:01:24\n"
     ]
    }
   ],
   "source": [
    "a = datetime.datetime.now().replace(microsecond=0)\n",
    "\n",
    "#put into function and make split number the parameter\n",
    "def getFeaturesAndLabels(numSplits):\n",
    "    i = 0\n",
    "    featuresNeg = []\n",
    "    featuresPos = []\n",
    "    labels = []\n",
    "    #for each doc in probssentences:\n",
    "    for doc in testA['doc'].unique():  \n",
    "        avgScoresPos = []\n",
    "        avgScoresNeg = []\n",
    "        df = probssentencesA.loc[probssentencesA['doc'] == doc]\n",
    "        if len(df) >= numSplits:\n",
    "            #split into x groups\n",
    "            lst = np.array_split(df, numSplits)\n",
    "            for z in lst:\n",
    "                #make the average score for each group the feature\n",
    "                avgScoresNeg.append(z[[0]].mean()[0])\n",
    "                avgScoresPos.append(z[[1]].mean()[1])\n",
    "                #convert to a 0 or 1 (?)\n",
    "            featuresNeg.append(avgScoresNeg)\n",
    "            featuresPos.append(avgScoresPos)\n",
    "            labels.append(testA.loc[testA['doc'] == doc]['sentiment'].values[0])\n",
    "        i = i + 1\n",
    "    return (featuresNeg, featuresPos, labels)\n",
    "    \n",
    "#function call\n",
    "x = 3\n",
    "tuple1 = getFeaturesAndLabels(x)\n",
    "\n",
    "b = datetime.datetime.now().replace(microsecond=0)\n",
    "print b-a"
   ]
  },
  {
   "cell_type": "code",
   "execution_count": 82,
   "metadata": {
    "collapsed": false
   },
   "outputs": [
    {
     "name": "stdout",
     "output_type": "stream",
     "text": [
      "3\n"
     ]
    }
   ],
   "source": [
    "print len(tuple1)"
   ]
  },
  {
   "cell_type": "code",
   "execution_count": 31,
   "metadata": {
    "collapsed": false
   },
   "outputs": [
    {
     "name": "stdout",
     "output_type": "stream",
     "text": [
      "6009\n",
      "6009\n",
      "6009\n"
     ]
    }
   ],
   "source": [
    "#ignore those reviews with fewer sentences than splits, so instead of 6250 datapoints to build on, have lost about 242:\n",
    "print len(tuple1[0])\n",
    "print len(tuple1[1])\n",
    "print len(tuple1[2])\n",
    "featuresPos = tuple1[0]\n",
    "featuresNeg = tuple1[1]\n",
    "labels = tuple1[2]"
   ]
  },
  {
   "cell_type": "code",
   "execution_count": 32,
   "metadata": {
    "collapsed": false
   },
   "outputs": [
    {
     "name": "stdout",
     "output_type": "stream",
     "text": [
      "[ 0.37734511  0.2849706   0.33768429]\n",
      "[ 0.27535623  0.36157908  0.36306469]\n"
     ]
    }
   ],
   "source": [
    "#perform feature weighting-\n",
    "clf = ExtraTreesClassifier()\n",
    "clf = clf.fit(featuresNeg, labels)\n",
    "weightsNeg = clf.feature_importances_  \n",
    "print weightsNeg\n",
    "clf = ExtraTreesClassifier()\n",
    "clf = clf.fit(featuresPos, labels)\n",
    "weightsPos = clf.feature_importances_\n",
    "print weightsPos"
   ]
  },
  {
   "cell_type": "markdown",
   "metadata": {},
   "source": [
    "### Split test set 2 into x subsets as well"
   ]
  },
  {
   "cell_type": "code",
   "execution_count": 49,
   "metadata": {
    "collapsed": false
   },
   "outputs": [
    {
     "name": "stdout",
     "output_type": "stream",
     "text": [
      "6671      3\n",
      "5526      5\n",
      "19301     6\n",
      "21967    10\n",
      "19991    12\n",
      "18997    13\n",
      "10666    14\n",
      "1898     15\n",
      "7095     19\n",
      "4000     20\n",
      "5440     21\n",
      "11623    22\n",
      "9706     23\n",
      "1694     24\n",
      "571      25\n",
      "9950     26\n",
      "12458    28\n",
      "13710    29\n",
      "13269    30\n",
      "13529    31\n",
      "Name: doc, dtype: int64\n",
      "              0           1 doc  truelabel\n",
      "16    0.0593864    0.940614   3          1\n",
      "17    0.0795348    0.920465   3          1\n",
      "18   0.00578835    0.994212   3          1\n",
      "35  3.08829e-07           1   5          1\n",
      "36     0.139833    0.860167   5          1\n",
      "37     0.193762    0.806238   5          1\n",
      "38     0.666227    0.333773   5          1\n",
      "39    0.0583559    0.941644   5          1\n",
      "40  0.000877276    0.999123   5          1\n",
      "41     0.602586    0.397414   5          1\n",
      "42     0.680643    0.319357   5          1\n",
      "43     0.370615    0.629385   5          1\n",
      "44     0.633409    0.366591   5          1\n",
      "45     0.155581    0.844419   5          1\n",
      "46     0.526781    0.473219   5          1\n",
      "47     0.615371    0.384629   6          0\n",
      "48    0.0662093    0.933791   6          0\n",
      "49    0.0751976    0.924802   6          0\n",
      "50     0.995847  0.00415336   6          0\n",
      "51     0.322619    0.677381   6          0\n",
      "52      0.77551    0.224489   6          0\n",
      "53    0.0407758    0.959224   6          0\n",
      "54      0.93637   0.0636299   6          0\n",
      "55      0.97243   0.0275697   6          0\n",
      "56   0.00466961     0.99533   6          0\n"
     ]
    },
    {
     "name": "stderr",
     "output_type": "stream",
     "text": [
      "/home/sarahwie/anaconda2/lib/python2.7/site-packages/ipykernel/__main__.py:2: FutureWarning: sort(columns=....) is deprecated, use sort_values(by=.....)\n",
      "  from ipykernel import kernelapp as app\n"
     ]
    }
   ],
   "source": [
    "#try to order\n",
    "testB = testB.sort(columns='doc')\n",
    "print testB['doc'][0:20]\n",
    "print probssentencesB[0:25]"
   ]
  },
  {
   "cell_type": "code",
   "execution_count": 33,
   "metadata": {
    "collapsed": false
   },
   "outputs": [
    {
     "name": "stdout",
     "output_type": "stream",
     "text": [
      "0:01:25\n"
     ]
    }
   ],
   "source": [
    "a = datetime.datetime.now().replace(microsecond=0)\n",
    "\n",
    "#numSplits variable to be consistent with training set\n",
    "x = 3\n",
    "\n",
    "i = 0\n",
    "featuresTestPos = []\n",
    "featuresTestNeg = []\n",
    "labelsTest = []\n",
    "#for each doc in probssentences:\n",
    "for doc in testB['doc'].unique():\n",
    "    avgScoresTestPos = []\n",
    "    avgScoresTestNeg = []\n",
    "    df = probssentencesB.loc[probssentencesB['doc'] == doc]\n",
    "    if len(df) >= x:\n",
    "        #split into x groups\n",
    "        lst = np.array_split(df, x)\n",
    "        for z in lst:\n",
    "            avgScoresTestNeg.append(z[[0]].mean()[0])\n",
    "            avgScoresTestPos.append(z[[1]].mean()[1])\n",
    "        featuresTestNeg.append(avgScoresTestNeg)\n",
    "        featuresTestPos.append(avgScoresTestPos)\n",
    "        labelsTest.append(testB.loc[testB['doc'] == doc]['sentiment'].values[0])\n",
    "    i = i + 1\n",
    "\n",
    "b = datetime.datetime.now().replace(microsecond=0)\n",
    "print b-a"
   ]
  },
  {
   "cell_type": "code",
   "execution_count": 35,
   "metadata": {
    "collapsed": false
   },
   "outputs": [
    {
     "name": "stdout",
     "output_type": "stream",
     "text": [
      "(6014, 3)\n",
      "[ 0.2590038   0.33282095  0.36096313]\n",
      "[0.94061356782913208, 0.92046517133712769, 0.99421161413192749]\n",
      "[ 0.27535623  0.36157908  0.36306469]\n"
     ]
    }
   ],
   "source": [
    "print (featuresTestPos*weightsPos).shape\n",
    "print (featuresTestPos*weightsPos)[0]\n",
    "print featuresTestPos[0]\n",
    "print weightsPos"
   ]
  },
  {
   "cell_type": "code",
   "execution_count": 36,
   "metadata": {
    "collapsed": false
   },
   "outputs": [
    {
     "name": "stdout",
     "output_type": "stream",
     "text": [
      "(6014, 3)\n",
      "[ 0.02240918  0.02266507  0.00195463]\n",
      "[0.059386439621448517, 0.079534783959388733, 0.0057883495464920998]\n",
      "[ 0.37734511  0.2849706   0.33768429]\n"
     ]
    }
   ],
   "source": [
    "print (featuresTestNeg*weightsNeg).shape\n",
    "print (featuresTestNeg*weightsNeg)[0]\n",
    "print featuresTestNeg[0]\n",
    "print weightsNeg"
   ]
  },
  {
   "cell_type": "code",
   "execution_count": 37,
   "metadata": {
    "collapsed": false
   },
   "outputs": [
    {
     "name": "stdout",
     "output_type": "stream",
     "text": [
      "(6014, 3)\n",
      "[ 0.2590038   0.33282095  0.36096313]\n",
      "0.317595962392\n",
      "(6014,)\n"
     ]
    }
   ],
   "source": [
    "#get probs for each doc in test2:\n",
    "probsThreePos = featuresTestPos * weightsPos\n",
    "print probsThreePos.shape\n",
    "#combine into one prob per review\n",
    "probPos = probsThreePos.mean(1)\n",
    "print probsThreePos[0]\n",
    "print probPos[0]\n",
    "print probPos.shape"
   ]
  },
  {
   "cell_type": "code",
   "execution_count": 38,
   "metadata": {
    "collapsed": false
   },
   "outputs": [
    {
     "name": "stdout",
     "output_type": "stream",
     "text": [
      "(6014, 3)\n",
      "[ 0.02240918  0.02266507  0.00195463]\n",
      "0.0156762974252\n",
      "(6014,)\n"
     ]
    }
   ],
   "source": [
    "probsThreeNeg = featuresTestNeg * weightsNeg\n",
    "print probsThreeNeg.shape\n",
    "#combine into one prob per review\n",
    "probNeg = probsThreeNeg.mean(1)\n",
    "print probsThreeNeg[0]\n",
    "print probNeg[0]\n",
    "print probNeg.shape"
   ]
  },
  {
   "cell_type": "code",
   "execution_count": null,
   "metadata": {
    "collapsed": true
   },
   "outputs": [],
   "source": [
    "#labelsTest is in same order as the doc probs"
   ]
  },
  {
   "cell_type": "code",
   "execution_count": 39,
   "metadata": {
    "collapsed": false
   },
   "outputs": [
    {
     "name": "stdout",
     "output_type": "stream",
     "text": [
      "(6014,)\n"
     ]
    }
   ],
   "source": [
    "preds = np.ones((probPos.shape[0]))\n",
    "print preds.shape"
   ]
  },
  {
   "cell_type": "code",
   "execution_count": 40,
   "metadata": {
    "collapsed": false
   },
   "outputs": [],
   "source": [
    "preds[np.where(probPos < probNeg)] = 0 # The first column is the negative model"
   ]
  },
  {
   "cell_type": "code",
   "execution_count": 41,
   "metadata": {
    "collapsed": false
   },
   "outputs": [
    {
     "name": "stdout",
     "output_type": "stream",
     "text": [
      "[ 1.  1.  0.  1.  1.  0.  1.  0.  0.  1.]\n",
      "[ 0.31759596  0.21891827  0.15087839  0.22911343  0.24748008  0.0546729\n",
      "  0.30589389  0.11112584  0.0437495   0.16956054]\n",
      "[ 0.0156763   0.11077552  0.17852998  0.09435523  0.0913307   0.27048462\n",
      "  0.0370252   0.21975946  0.28702394  0.16177221]\n"
     ]
    }
   ],
   "source": [
    "print preds[0:10]\n",
    "print probPos[0:10]\n",
    "print probNeg[0:10]"
   ]
  },
  {
   "cell_type": "code",
   "execution_count": 42,
   "metadata": {
    "collapsed": false
   },
   "outputs": [
    {
     "name": "stdout",
     "output_type": "stream",
     "text": [
      "<type 'numpy.ndarray'>\n",
      "(6014,)\n",
      "(6014,)\n"
     ]
    }
   ],
   "source": [
    "print type(preds)\n",
    "print preds.shape\n",
    "#convert labels also to numpy array\n",
    "labelsTest = np.asarray(labelsTest)\n",
    "print labelsTest.shape"
   ]
  },
  {
   "cell_type": "code",
   "execution_count": 43,
   "metadata": {
    "collapsed": false
   },
   "outputs": [
    {
     "name": "stdout",
     "output_type": "stream",
     "text": [
      "0.864316594613\n"
     ]
    }
   ],
   "source": [
    "print np.size(np.where(preds == labelsTest))*1./np.size(preds)"
   ]
  },
  {
   "cell_type": "code",
   "execution_count": 44,
   "metadata": {
    "collapsed": false
   },
   "outputs": [
    {
     "name": "stdout",
     "output_type": "stream",
     "text": [
      "0.864013308451\n"
     ]
    }
   ],
   "source": [
    "from sklearn.metrics import roc_auc_score\n",
    "print roc_auc_score(labelsTest, preds)"
   ]
  },
  {
   "cell_type": "markdown",
   "metadata": {
    "collapsed": true
   },
   "source": [
    "Essentially same performance. Why??"
   ]
  },
  {
   "cell_type": "code",
   "execution_count": 112,
   "metadata": {
    "collapsed": false
   },
   "outputs": [
    {
     "name": "stdout",
     "output_type": "stream",
     "text": [
      "\"This movie is like the thousand \\\"cat and mouse\\\" movies that preceded it. (The following may look like a spoiler, but it really just describes a large class of movies) There is the passionate, wise main character, his goofy but well-meaning sidekick with his ill-placed attempts at humorous comments, the initially-hostile but soon softened gorgeous lady who triggers the inevitable \\\"unlikely\\\" love story, the loved ones taken hostage, and of course the careless evil adversary with his brutal minions. Everybody has seen tons of these movies already, and \\\"National Treasure\\\" is like any one of them, with only a slightly modified wrapping. Every turn of the story was easily predicted (and I can assure you I am not the sharpest tool in the shed). I am quite tired of feeling tricked for money after exiting the theater from a Hollywood movie, and if you have ever felt that way too, heed my warning; stay miles away from this movie.\"\n"
     ]
    }
   ],
   "source": [
    "print test1['review'].iloc[0]"
   ]
  },
  {
   "cell_type": "code",
   "execution_count": 111,
   "metadata": {
    "collapsed": false
   },
   "outputs": [
    {
     "name": "stdout",
     "output_type": "stream",
     "text": [
      "              id  sentiment  \\\n",
      "21130   \"5706_2\"          0   \n",
      "3404   \"11132_3\"          0   \n",
      "14560  \"10770_7\"          1   \n",
      "6671   \"1058_10\"          1   \n",
      "10982  \"12239_1\"          0   \n",
      "5526     \"966_7\"          1   \n",
      "19301  \"11645_2\"          0   \n",
      "17060   \"5920_9\"          1   \n",
      "24744   \"9501_2\"          0   \n",
      "5253    \"7877_4\"          0   \n",
      "21967   \"5442_8\"          1   \n",
      "18609   \"7027_4\"          0   \n",
      "\n",
      "                                                  review  doc  \n",
      "21130  \"This movie is like the thousand \\\"cat and mou...    0  \n",
      "3404   \"A documentarist, like any filmmaker, must con...    1  \n",
      "14560  \"With a well thought out cast, this movie was ...    2  \n",
      "6671   \"this is the best sci-fi that I have seen in m...    3  \n",
      "10982  \"Ever since I was eight years old I have been ...    4  \n",
      "5526   \"2005 Toronto Film Festival Report It is offic...    5  \n",
      "19301  \"This is a review of 'Freddy Mercury The Untol...    6  \n",
      "17060  \"American icon Henry Fonda portrays \\\"Elegant\\...    7  \n",
      "24744  \"This is the page for \\\"House of Exorcism\\\", b...    8  \n",
      "5253   \"The makers of this film have created a future...    9  \n",
      "21967  \"This is a great movie. In the same genre of t...   10  \n",
      "18609  \"On the face of it, Ruiz has set out to make a...   11  \n"
     ]
    }
   ],
   "source": [
    "print test1[0:12]"
   ]
  },
  {
   "cell_type": "code",
   "execution_count": 57,
   "metadata": {
    "collapsed": false
   },
   "outputs": [
    {
     "name": "stdout",
     "output_type": "stream",
     "text": [
      "             id  sentiment                                             review  \\\n",
      "11623  \"8983_8\"          1  \"Shot into car from through the windscreen, so...   \n",
      "\n",
      "       doc  \n",
      "11623   22  \n",
      "id                                                    \"8983_8\"\n",
      "sentiment                                                    1\n",
      "review       \"Shot into car from through the windscreen, so...\n",
      "doc                                                         22\n",
      "Name: 11623, dtype: object\n",
      "0.0\n",
      "[0.85332351922988892, 0.70063495635986328, 0.47064865659922361]\n",
      "[ 0.37734511  0.2849706   0.33768429]\n",
      "[0.1466764829820022, 0.29936500173062086, 0.52935130521655083]\n",
      "[ 0.27535623  0.36157908  0.36306469]\n",
      "            0           1 doc  truelabel\n",
      "269  0.997813  0.00218711  22          1\n",
      "270  0.708834    0.291166  22          1\n",
      "271  0.413562    0.586438  22          1\n",
      "272  0.987708   0.0122923  22          1\n",
      "273  0.924647   0.0753527  22          1\n",
      "274   0.01665     0.98335  22          1\n"
     ]
    }
   ],
   "source": [
    "#This review is still scored negatively even though last sentence should have been most heavily weighted.\n",
    "print testB.loc[testB['doc']==22]\n",
    "#in position 11\n",
    "print testB.iloc[11]\n",
    "print preds[11]\n",
    "print featuresTestNeg[11]\n",
    "print weightsNeg\n",
    "print featuresTestPos[11]\n",
    "print weightsPos\n",
    "print probssentencesB.loc[probssentencesB['doc']==22]"
   ]
  },
  {
   "cell_type": "code",
   "execution_count": 16,
   "metadata": {
    "collapsed": false
   },
   "outputs": [
    {
     "name": "stdout",
     "output_type": "stream",
     "text": [
      "            0            1 doc  truelabel\n",
      "0      0.5986       0.4014   0          0\n",
      "1  0.00792023      0.99208   0          0\n",
      "2    0.369248     0.630752   0          0\n",
      "3    0.445318     0.554682   0          0\n",
      "4    0.999581  0.000419095   0          0\n"
     ]
    }
   ],
   "source": [
    "print probssentencesA.loc[probssentencesA['doc']==0]"
   ]
  },
  {
   "cell_type": "code",
   "execution_count": null,
   "metadata": {
    "collapsed": true
   },
   "outputs": [],
   "source": []
  },
  {
   "cell_type": "code",
   "execution_count": null,
   "metadata": {
    "collapsed": true
   },
   "outputs": [],
   "source": []
  },
  {
   "cell_type": "code",
   "execution_count": null,
   "metadata": {
    "collapsed": true
   },
   "outputs": [],
   "source": []
  },
  {
   "cell_type": "code",
   "execution_count": null,
   "metadata": {
    "collapsed": true
   },
   "outputs": [],
   "source": []
  }
 ],
 "metadata": {
  "kernelspec": {
   "display_name": "Python 2",
   "language": "python",
   "name": "python2"
  },
  "language_info": {
   "codemirror_mode": {
    "name": "ipython",
    "version": 2
   },
   "file_extension": ".py",
   "mimetype": "text/x-python",
   "name": "python",
   "nbconvert_exporter": "python",
   "pygments_lexer": "ipython2",
   "version": "2.7.11"
  }
 },
 "nbformat": 4,
 "nbformat_minor": 0
}
