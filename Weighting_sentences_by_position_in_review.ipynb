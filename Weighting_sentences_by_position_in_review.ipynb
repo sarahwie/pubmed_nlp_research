{
 "cells": [
  {
   "cell_type": "markdown",
   "metadata": {},
   "source": [
    "Weighting sentences by their position in the review:\n",
    "\n",
    "We calculate feature importance off of the test set's features because only the test set's sentences get scored (probssentences). Is this legal?"
   ]
  },
  {
   "cell_type": "code",
   "execution_count": 16,
   "metadata": {
    "collapsed": true
   },
   "outputs": [],
   "source": [
    "import pickle\n",
    "import datetime\n",
    "import numpy as np\n",
    "import pandas as pd\n",
    "from sklearn.ensemble import ExtraTreesClassifier\n",
    "from sklearn.feature_selection import SelectFromModel"
   ]
  },
  {
   "cell_type": "code",
   "execution_count": 17,
   "metadata": {
    "collapsed": false
   },
   "outputs": [],
   "source": [
    "probssentences = pickle.load(open('/home/sarahwie/Documents/pubmed-nlp-research/pickled_objects/probssentences.p', 'rb'))\n",
    "test1 = pickle.load(open('/home/sarahwie/Documents/pubmed-nlp-research/pickled_objects/test1.p', 'rb'))"
   ]
  },
  {
   "cell_type": "code",
   "execution_count": 18,
   "metadata": {
    "collapsed": false
   },
   "outputs": [
    {
     "name": "stdout",
     "output_type": "stream",
     "text": [
      "(12500, 4)\n",
      "(133515, 3)\n"
     ]
    }
   ],
   "source": [
    "#append doc value to test1\n",
    "test1['doc'] = [ i for i in range(len(test1))]\n",
    "print test1.shape\n",
    "print probssentences.shape"
   ]
  },
  {
   "cell_type": "code",
   "execution_count": 19,
   "metadata": {
    "collapsed": false
   },
   "outputs": [
    {
     "data": {
      "text/html": [
       "<div>\n",
       "<table border=\"1\" class=\"dataframe\">\n",
       "  <thead>\n",
       "    <tr style=\"text-align: right;\">\n",
       "      <th></th>\n",
       "      <th>id</th>\n",
       "      <th>sentiment</th>\n",
       "      <th>review</th>\n",
       "      <th>doc</th>\n",
       "    </tr>\n",
       "  </thead>\n",
       "  <tbody>\n",
       "    <tr>\n",
       "      <th>21130</th>\n",
       "      <td>\"5706_2\"</td>\n",
       "      <td>0</td>\n",
       "      <td>\"This movie is like the thousand \\\"cat and mou...</td>\n",
       "      <td>0</td>\n",
       "    </tr>\n",
       "    <tr>\n",
       "      <th>3404</th>\n",
       "      <td>\"11132_3\"</td>\n",
       "      <td>0</td>\n",
       "      <td>\"A documentarist, like any filmmaker, must con...</td>\n",
       "      <td>1</td>\n",
       "    </tr>\n",
       "    <tr>\n",
       "      <th>14560</th>\n",
       "      <td>\"10770_7\"</td>\n",
       "      <td>1</td>\n",
       "      <td>\"With a well thought out cast, this movie was ...</td>\n",
       "      <td>2</td>\n",
       "    </tr>\n",
       "    <tr>\n",
       "      <th>6671</th>\n",
       "      <td>\"1058_10\"</td>\n",
       "      <td>1</td>\n",
       "      <td>\"this is the best sci-fi that I have seen in m...</td>\n",
       "      <td>3</td>\n",
       "    </tr>\n",
       "    <tr>\n",
       "      <th>10982</th>\n",
       "      <td>\"12239_1\"</td>\n",
       "      <td>0</td>\n",
       "      <td>\"Ever since I was eight years old I have been ...</td>\n",
       "      <td>4</td>\n",
       "    </tr>\n",
       "    <tr>\n",
       "      <th>5526</th>\n",
       "      <td>\"966_7\"</td>\n",
       "      <td>1</td>\n",
       "      <td>\"2005 Toronto Film Festival Report It is offic...</td>\n",
       "      <td>5</td>\n",
       "    </tr>\n",
       "    <tr>\n",
       "      <th>19301</th>\n",
       "      <td>\"11645_2\"</td>\n",
       "      <td>0</td>\n",
       "      <td>\"This is a review of 'Freddy Mercury The Untol...</td>\n",
       "      <td>6</td>\n",
       "    </tr>\n",
       "    <tr>\n",
       "      <th>17060</th>\n",
       "      <td>\"5920_9\"</td>\n",
       "      <td>1</td>\n",
       "      <td>\"American icon Henry Fonda portrays \\\"Elegant\\...</td>\n",
       "      <td>7</td>\n",
       "    </tr>\n",
       "    <tr>\n",
       "      <th>24744</th>\n",
       "      <td>\"9501_2\"</td>\n",
       "      <td>0</td>\n",
       "      <td>\"This is the page for \\\"House of Exorcism\\\", b...</td>\n",
       "      <td>8</td>\n",
       "    </tr>\n",
       "    <tr>\n",
       "      <th>5253</th>\n",
       "      <td>\"7877_4\"</td>\n",
       "      <td>0</td>\n",
       "      <td>\"The makers of this film have created a future...</td>\n",
       "      <td>9</td>\n",
       "    </tr>\n",
       "  </tbody>\n",
       "</table>\n",
       "</div>"
      ],
      "text/plain": [
       "              id  sentiment  \\\n",
       "21130   \"5706_2\"          0   \n",
       "3404   \"11132_3\"          0   \n",
       "14560  \"10770_7\"          1   \n",
       "6671   \"1058_10\"          1   \n",
       "10982  \"12239_1\"          0   \n",
       "5526     \"966_7\"          1   \n",
       "19301  \"11645_2\"          0   \n",
       "17060   \"5920_9\"          1   \n",
       "24744   \"9501_2\"          0   \n",
       "5253    \"7877_4\"          0   \n",
       "\n",
       "                                                  review  doc  \n",
       "21130  \"This movie is like the thousand \\\"cat and mou...    0  \n",
       "3404   \"A documentarist, like any filmmaker, must con...    1  \n",
       "14560  \"With a well thought out cast, this movie was ...    2  \n",
       "6671   \"this is the best sci-fi that I have seen in m...    3  \n",
       "10982  \"Ever since I was eight years old I have been ...    4  \n",
       "5526   \"2005 Toronto Film Festival Report It is offic...    5  \n",
       "19301  \"This is a review of 'Freddy Mercury The Untol...    6  \n",
       "17060  \"American icon Henry Fonda portrays \\\"Elegant\\...    7  \n",
       "24744  \"This is the page for \\\"House of Exorcism\\\", b...    8  \n",
       "5253   \"The makers of this film have created a future...    9  "
      ]
     },
     "execution_count": 19,
     "metadata": {},
     "output_type": "execute_result"
    }
   ],
   "source": [
    "test1[0:10]"
   ]
  },
  {
   "cell_type": "code",
   "execution_count": 20,
   "metadata": {
    "collapsed": true
   },
   "outputs": [],
   "source": [
    "#append the true class value\n",
    "probssentences[\"truelabel\"] = 0\n",
    "for i in range(len(probssentences)):\n",
    "    #get true label value from test1 where index matches doc number\n",
    "    j = probssentences.iloc[i]['doc']\n",
    "    probssentences.set_value(i, 'truelabel', test1.iloc[[j]][\"sentiment\"])"
   ]
  },
  {
   "cell_type": "code",
   "execution_count": 6,
   "metadata": {
    "collapsed": false
   },
   "outputs": [
    {
     "data": {
      "text/html": [
       "<div>\n",
       "<table border=\"1\" class=\"dataframe\">\n",
       "  <thead>\n",
       "    <tr style=\"text-align: right;\">\n",
       "      <th></th>\n",
       "      <th>0</th>\n",
       "      <th>1</th>\n",
       "      <th>doc</th>\n",
       "      <th>truelabel</th>\n",
       "    </tr>\n",
       "  </thead>\n",
       "  <tbody>\n",
       "    <tr>\n",
       "      <th>0</th>\n",
       "      <td>0.5986</td>\n",
       "      <td>0.4014</td>\n",
       "      <td>0</td>\n",
       "      <td>0</td>\n",
       "    </tr>\n",
       "    <tr>\n",
       "      <th>1</th>\n",
       "      <td>0.00792023</td>\n",
       "      <td>0.99208</td>\n",
       "      <td>0</td>\n",
       "      <td>0</td>\n",
       "    </tr>\n",
       "    <tr>\n",
       "      <th>2</th>\n",
       "      <td>0.369248</td>\n",
       "      <td>0.630752</td>\n",
       "      <td>0</td>\n",
       "      <td>0</td>\n",
       "    </tr>\n",
       "    <tr>\n",
       "      <th>3</th>\n",
       "      <td>0.445318</td>\n",
       "      <td>0.554682</td>\n",
       "      <td>0</td>\n",
       "      <td>0</td>\n",
       "    </tr>\n",
       "    <tr>\n",
       "      <th>4</th>\n",
       "      <td>0.999581</td>\n",
       "      <td>0.000419095</td>\n",
       "      <td>0</td>\n",
       "      <td>0</td>\n",
       "    </tr>\n",
       "    <tr>\n",
       "      <th>5</th>\n",
       "      <td>0.00449226</td>\n",
       "      <td>0.995508</td>\n",
       "      <td>1</td>\n",
       "      <td>0</td>\n",
       "    </tr>\n",
       "    <tr>\n",
       "      <th>6</th>\n",
       "      <td>0.918007</td>\n",
       "      <td>0.0819928</td>\n",
       "      <td>1</td>\n",
       "      <td>0</td>\n",
       "    </tr>\n",
       "    <tr>\n",
       "      <th>7</th>\n",
       "      <td>0.55223</td>\n",
       "      <td>0.44777</td>\n",
       "      <td>1</td>\n",
       "      <td>0</td>\n",
       "    </tr>\n",
       "    <tr>\n",
       "      <th>8</th>\n",
       "      <td>0.986808</td>\n",
       "      <td>0.0131918</td>\n",
       "      <td>1</td>\n",
       "      <td>0</td>\n",
       "    </tr>\n",
       "    <tr>\n",
       "      <th>9</th>\n",
       "      <td>0.721142</td>\n",
       "      <td>0.278858</td>\n",
       "      <td>1</td>\n",
       "      <td>0</td>\n",
       "    </tr>\n",
       "  </tbody>\n",
       "</table>\n",
       "</div>"
      ],
      "text/plain": [
       "            0            1 doc  truelabel\n",
       "0      0.5986       0.4014   0          0\n",
       "1  0.00792023      0.99208   0          0\n",
       "2    0.369248     0.630752   0          0\n",
       "3    0.445318     0.554682   0          0\n",
       "4    0.999581  0.000419095   0          0\n",
       "5  0.00449226     0.995508   1          0\n",
       "6    0.918007    0.0819928   1          0\n",
       "7     0.55223      0.44777   1          0\n",
       "8    0.986808    0.0131918   1          0\n",
       "9    0.721142     0.278858   1          0"
      ]
     },
     "execution_count": 6,
     "metadata": {},
     "output_type": "execute_result"
    }
   ],
   "source": [
    "probssentences[0:10]"
   ]
  },
  {
   "cell_type": "code",
   "execution_count": 21,
   "metadata": {
    "collapsed": false
   },
   "outputs": [
    {
     "name": "stdout",
     "output_type": "stream",
     "text": [
      "12500\n",
      "12500\n",
      "6250\n",
      "6250\n"
     ]
    }
   ],
   "source": [
    "#split test set into two\n",
    "fracTrain = 0.5\n",
    "nSamples = test1.shape[0]\n",
    "print nSamples\n",
    "order = np.random.permutation(nSamples) # come up with a random ordering\n",
    "print len(order)\n",
    "splitIndex = int(np.round(nSamples*fracTrain))\n",
    "print len(order[:splitIndex])\n",
    "print len(order[splitIndex:])\n",
    "testA = test1.iloc[order[:splitIndex],:]\n",
    "testB = test1.iloc[order[splitIndex:],:]"
   ]
  },
  {
   "cell_type": "code",
   "execution_count": 54,
   "metadata": {
    "collapsed": true
   },
   "outputs": [],
   "source": [
    "#order 2 test sets in order of docs?"
   ]
  },
  {
   "cell_type": "code",
   "execution_count": 22,
   "metadata": {
    "collapsed": false
   },
   "outputs": [],
   "source": [
    "#split probssentences the same way\n",
    "probssentencesA = probssentences.loc[probssentences['doc'].isin(testA['doc'].unique())]\n",
    "probssentencesB = probssentences.loc[probssentences['doc'].isin(testB['doc'].unique())]"
   ]
  },
  {
   "cell_type": "code",
   "execution_count": 23,
   "metadata": {
    "collapsed": false
   },
   "outputs": [
    {
     "name": "stdout",
     "output_type": "stream",
     "text": [
      "133515\n",
      "66361\n",
      "67154\n",
      "6250\n",
      "6250\n"
     ]
    }
   ],
   "source": [
    "print len(probssentences)\n",
    "print len(probssentencesA)\n",
    "print len(probssentencesB)\n",
    "print len(testA)\n",
    "print len(testB)"
   ]
  },
  {
   "cell_type": "code",
   "execution_count": 24,
   "metadata": {
    "collapsed": false
   },
   "outputs": [
    {
     "data": {
      "text/html": [
       "<div>\n",
       "<table border=\"1\" class=\"dataframe\">\n",
       "  <thead>\n",
       "    <tr style=\"text-align: right;\">\n",
       "      <th></th>\n",
       "      <th>0</th>\n",
       "      <th>1</th>\n",
       "      <th>doc</th>\n",
       "      <th>truelabel</th>\n",
       "    </tr>\n",
       "  </thead>\n",
       "  <tbody>\n",
       "    <tr>\n",
       "      <th>0</th>\n",
       "      <td>0.5986</td>\n",
       "      <td>0.4014</td>\n",
       "      <td>0</td>\n",
       "      <td>0</td>\n",
       "    </tr>\n",
       "    <tr>\n",
       "      <th>1</th>\n",
       "      <td>0.00792023</td>\n",
       "      <td>0.99208</td>\n",
       "      <td>0</td>\n",
       "      <td>0</td>\n",
       "    </tr>\n",
       "    <tr>\n",
       "      <th>2</th>\n",
       "      <td>0.369248</td>\n",
       "      <td>0.630752</td>\n",
       "      <td>0</td>\n",
       "      <td>0</td>\n",
       "    </tr>\n",
       "    <tr>\n",
       "      <th>3</th>\n",
       "      <td>0.445318</td>\n",
       "      <td>0.554682</td>\n",
       "      <td>0</td>\n",
       "      <td>0</td>\n",
       "    </tr>\n",
       "    <tr>\n",
       "      <th>4</th>\n",
       "      <td>0.999581</td>\n",
       "      <td>0.000419095</td>\n",
       "      <td>0</td>\n",
       "      <td>0</td>\n",
       "    </tr>\n",
       "    <tr>\n",
       "      <th>12</th>\n",
       "      <td>0.0193013</td>\n",
       "      <td>0.980699</td>\n",
       "      <td>2</td>\n",
       "      <td>1</td>\n",
       "    </tr>\n",
       "    <tr>\n",
       "      <th>13</th>\n",
       "      <td>0.0159692</td>\n",
       "      <td>0.984031</td>\n",
       "      <td>2</td>\n",
       "      <td>1</td>\n",
       "    </tr>\n",
       "    <tr>\n",
       "      <th>14</th>\n",
       "      <td>0.0224181</td>\n",
       "      <td>0.977582</td>\n",
       "      <td>2</td>\n",
       "      <td>1</td>\n",
       "    </tr>\n",
       "    <tr>\n",
       "      <th>15</th>\n",
       "      <td>0.986999</td>\n",
       "      <td>0.0130013</td>\n",
       "      <td>2</td>\n",
       "      <td>1</td>\n",
       "    </tr>\n",
       "    <tr>\n",
       "      <th>19</th>\n",
       "      <td>0.00138163</td>\n",
       "      <td>0.998618</td>\n",
       "      <td>4</td>\n",
       "      <td>0</td>\n",
       "    </tr>\n",
       "  </tbody>\n",
       "</table>\n",
       "</div>"
      ],
      "text/plain": [
       "             0            1 doc  truelabel\n",
       "0       0.5986       0.4014   0          0\n",
       "1   0.00792023      0.99208   0          0\n",
       "2     0.369248     0.630752   0          0\n",
       "3     0.445318     0.554682   0          0\n",
       "4     0.999581  0.000419095   0          0\n",
       "12   0.0193013     0.980699   2          1\n",
       "13   0.0159692     0.984031   2          1\n",
       "14   0.0224181     0.977582   2          1\n",
       "15    0.986999    0.0130013   2          1\n",
       "19  0.00138163     0.998618   4          0"
      ]
     },
     "execution_count": 24,
     "metadata": {},
     "output_type": "execute_result"
    }
   ],
   "source": [
    "probssentencesA[0:10]"
   ]
  },
  {
   "cell_type": "code",
   "execution_count": 25,
   "metadata": {
    "collapsed": false
   },
   "outputs": [
    {
     "data": {
      "text/html": [
       "<div>\n",
       "<table border=\"1\" class=\"dataframe\">\n",
       "  <thead>\n",
       "    <tr style=\"text-align: right;\">\n",
       "      <th></th>\n",
       "      <th>0</th>\n",
       "      <th>1</th>\n",
       "      <th>doc</th>\n",
       "      <th>truelabel</th>\n",
       "    </tr>\n",
       "  </thead>\n",
       "  <tbody>\n",
       "    <tr>\n",
       "      <th>5</th>\n",
       "      <td>0.00449226</td>\n",
       "      <td>0.995508</td>\n",
       "      <td>1</td>\n",
       "      <td>0</td>\n",
       "    </tr>\n",
       "    <tr>\n",
       "      <th>6</th>\n",
       "      <td>0.918007</td>\n",
       "      <td>0.0819928</td>\n",
       "      <td>1</td>\n",
       "      <td>0</td>\n",
       "    </tr>\n",
       "    <tr>\n",
       "      <th>7</th>\n",
       "      <td>0.55223</td>\n",
       "      <td>0.44777</td>\n",
       "      <td>1</td>\n",
       "      <td>0</td>\n",
       "    </tr>\n",
       "    <tr>\n",
       "      <th>8</th>\n",
       "      <td>0.986808</td>\n",
       "      <td>0.0131918</td>\n",
       "      <td>1</td>\n",
       "      <td>0</td>\n",
       "    </tr>\n",
       "    <tr>\n",
       "      <th>9</th>\n",
       "      <td>0.721142</td>\n",
       "      <td>0.278858</td>\n",
       "      <td>1</td>\n",
       "      <td>0</td>\n",
       "    </tr>\n",
       "    <tr>\n",
       "      <th>10</th>\n",
       "      <td>0.111639</td>\n",
       "      <td>0.888361</td>\n",
       "      <td>1</td>\n",
       "      <td>0</td>\n",
       "    </tr>\n",
       "    <tr>\n",
       "      <th>11</th>\n",
       "      <td>0.717194</td>\n",
       "      <td>0.282805</td>\n",
       "      <td>1</td>\n",
       "      <td>0</td>\n",
       "    </tr>\n",
       "    <tr>\n",
       "      <th>16</th>\n",
       "      <td>0.0593864</td>\n",
       "      <td>0.940614</td>\n",
       "      <td>3</td>\n",
       "      <td>1</td>\n",
       "    </tr>\n",
       "    <tr>\n",
       "      <th>17</th>\n",
       "      <td>0.0795348</td>\n",
       "      <td>0.920465</td>\n",
       "      <td>3</td>\n",
       "      <td>1</td>\n",
       "    </tr>\n",
       "    <tr>\n",
       "      <th>18</th>\n",
       "      <td>0.00578835</td>\n",
       "      <td>0.994212</td>\n",
       "      <td>3</td>\n",
       "      <td>1</td>\n",
       "    </tr>\n",
       "  </tbody>\n",
       "</table>\n",
       "</div>"
      ],
      "text/plain": [
       "             0          1 doc  truelabel\n",
       "5   0.00449226   0.995508   1          0\n",
       "6     0.918007  0.0819928   1          0\n",
       "7      0.55223    0.44777   1          0\n",
       "8     0.986808  0.0131918   1          0\n",
       "9     0.721142   0.278858   1          0\n",
       "10    0.111639   0.888361   1          0\n",
       "11    0.717194   0.282805   1          0\n",
       "16   0.0593864   0.940614   3          1\n",
       "17   0.0795348   0.920465   3          1\n",
       "18  0.00578835   0.994212   3          1"
      ]
     },
     "execution_count": 25,
     "metadata": {},
     "output_type": "execute_result"
    }
   ],
   "source": [
    "probssentencesB[0:10]"
   ]
  },
  {
   "cell_type": "code",
   "execution_count": 26,
   "metadata": {
    "collapsed": false
   },
   "outputs": [
    {
     "data": {
      "text/html": [
       "<div>\n",
       "<table border=\"1\" class=\"dataframe\">\n",
       "  <thead>\n",
       "    <tr style=\"text-align: right;\">\n",
       "      <th></th>\n",
       "      <th>id</th>\n",
       "      <th>sentiment</th>\n",
       "      <th>review</th>\n",
       "      <th>doc</th>\n",
       "    </tr>\n",
       "  </thead>\n",
       "  <tbody>\n",
       "    <tr>\n",
       "      <th>12313</th>\n",
       "      <td>\"10709_1\"</td>\n",
       "      <td>0</td>\n",
       "      <td>\"I can't think of much to say about this film....</td>\n",
       "      <td>1700</td>\n",
       "    </tr>\n",
       "    <tr>\n",
       "      <th>2757</th>\n",
       "      <td>\"2702_9\"</td>\n",
       "      <td>1</td>\n",
       "      <td>\"OK, so I know of this movie because of a frie...</td>\n",
       "      <td>4823</td>\n",
       "    </tr>\n",
       "    <tr>\n",
       "      <th>23834</th>\n",
       "      <td>\"6490_10\"</td>\n",
       "      <td>1</td>\n",
       "      <td>\"Still the definitive program about the Second...</td>\n",
       "      <td>8536</td>\n",
       "    </tr>\n",
       "    <tr>\n",
       "      <th>21756</th>\n",
       "      <td>\"5709_1\"</td>\n",
       "      <td>0</td>\n",
       "      <td>\"Nick Cage is Gates, a treasure hunter (oh, ex...</td>\n",
       "      <td>5428</td>\n",
       "    </tr>\n",
       "    <tr>\n",
       "      <th>1164</th>\n",
       "      <td>\"1132_4\"</td>\n",
       "      <td>0</td>\n",
       "      <td>\"The point of the vastly extended preparatory ...</td>\n",
       "      <td>7111</td>\n",
       "    </tr>\n",
       "    <tr>\n",
       "      <th>10508</th>\n",
       "      <td>\"8260_9\"</td>\n",
       "      <td>1</td>\n",
       "      <td>\"Those French and those Germans sure have a lo...</td>\n",
       "      <td>4925</td>\n",
       "    </tr>\n",
       "    <tr>\n",
       "      <th>10295</th>\n",
       "      <td>\"4796_8\"</td>\n",
       "      <td>1</td>\n",
       "      <td>\"\\\"A truly nice story with a moral about broth...</td>\n",
       "      <td>5786</td>\n",
       "    </tr>\n",
       "    <tr>\n",
       "      <th>15194</th>\n",
       "      <td>\"6833_10\"</td>\n",
       "      <td>1</td>\n",
       "      <td>\"Beautiful film, pure Cassavetes style. Gena R...</td>\n",
       "      <td>8456</td>\n",
       "    </tr>\n",
       "    <tr>\n",
       "      <th>654</th>\n",
       "      <td>\"1113_10\"</td>\n",
       "      <td>1</td>\n",
       "      <td>\"Sandra Bernhard is quite a character, and cer...</td>\n",
       "      <td>2508</td>\n",
       "    </tr>\n",
       "    <tr>\n",
       "      <th>18595</th>\n",
       "      <td>\"5054_7\"</td>\n",
       "      <td>1</td>\n",
       "      <td>\"Richard Attenborough who already given us mag...</td>\n",
       "      <td>5858</td>\n",
       "    </tr>\n",
       "  </tbody>\n",
       "</table>\n",
       "</div>"
      ],
      "text/plain": [
       "              id  sentiment  \\\n",
       "12313  \"10709_1\"          0   \n",
       "2757    \"2702_9\"          1   \n",
       "23834  \"6490_10\"          1   \n",
       "21756   \"5709_1\"          0   \n",
       "1164    \"1132_4\"          0   \n",
       "10508   \"8260_9\"          1   \n",
       "10295   \"4796_8\"          1   \n",
       "15194  \"6833_10\"          1   \n",
       "654    \"1113_10\"          1   \n",
       "18595   \"5054_7\"          1   \n",
       "\n",
       "                                                  review   doc  \n",
       "12313  \"I can't think of much to say about this film....  1700  \n",
       "2757   \"OK, so I know of this movie because of a frie...  4823  \n",
       "23834  \"Still the definitive program about the Second...  8536  \n",
       "21756  \"Nick Cage is Gates, a treasure hunter (oh, ex...  5428  \n",
       "1164   \"The point of the vastly extended preparatory ...  7111  \n",
       "10508  \"Those French and those Germans sure have a lo...  4925  \n",
       "10295  \"\\\"A truly nice story with a moral about broth...  5786  \n",
       "15194  \"Beautiful film, pure Cassavetes style. Gena R...  8456  \n",
       "654    \"Sandra Bernhard is quite a character, and cer...  2508  \n",
       "18595  \"Richard Attenborough who already given us mag...  5858  "
      ]
     },
     "execution_count": 26,
     "metadata": {},
     "output_type": "execute_result"
    }
   ],
   "source": [
    "testA[0:10]"
   ]
  },
  {
   "cell_type": "code",
   "execution_count": 27,
   "metadata": {
    "collapsed": false
   },
   "outputs": [
    {
     "name": "stdout",
     "output_type": "stream",
     "text": [
      "Empty DataFrame\n",
      "Columns: [id, sentiment, review, doc]\n",
      "Index: []\n"
     ]
    }
   ],
   "source": [
    "#checking that testB matches probssentencesB\n",
    "print testB.loc[testB['doc']==2]"
   ]
  },
  {
   "cell_type": "markdown",
   "metadata": {},
   "source": [
    "### NOTE: probssentences and test set are not in same order. Must match on doc number."
   ]
  },
  {
   "cell_type": "code",
   "execution_count": 28,
   "metadata": {
    "collapsed": false
   },
   "outputs": [
    {
     "name": "stdout",
     "output_type": "stream",
     "text": [
      "6250\n"
     ]
    }
   ],
   "source": [
    "print len(testA['doc'].unique())"
   ]
  },
  {
   "cell_type": "code",
   "execution_count": 78,
   "metadata": {
    "collapsed": false
   },
   "outputs": [
    {
     "name": "stdout",
     "output_type": "stream",
     "text": [
      "0:01:28\n"
     ]
    }
   ],
   "source": [
    "a = datetime.datetime.now().replace(microsecond=0)\n",
    "\n",
    "#put into function and make split number the parameter\n",
    "def getFeaturesAndLabels(numSplits):\n",
    "    i = 0\n",
    "    featuresNeg = []\n",
    "    featuresPos = []\n",
    "    labels = []\n",
    "    #for each doc in probssentences:\n",
    "    for doc in testA['doc'].unique():  \n",
    "        avgScoresPos = []\n",
    "        avgScoresNeg = []\n",
    "        df = probssentencesA.loc[probssentencesA['doc'] == doc]\n",
    "        if len(df) >= numSplits:\n",
    "            #split into x groups\n",
    "            lst = np.array_split(df, numSplits)\n",
    "            for z in lst:\n",
    "                #make the average score for each group the feature\n",
    "                avgScoresNeg.append(z[[0]].mean()[0])\n",
    "                avgScoresPos.append(z[[1]].mean()[1])\n",
    "                #convert to a 0 or 1 (?)\n",
    "            featuresNeg.append(avgScoresNeg)\n",
    "            featuresPos.append(avgScoresPos)\n",
    "            labels.append(testA.loc[testA['doc'] == doc]['sentiment'].values[0])\n",
    "        i = i + 1\n",
    "    return (featuresNeg, featuresPos, labels)\n",
    "    \n",
    "#function call\n",
    "x = 3\n",
    "tuple1 = getFeaturesAndLabels(x)\n",
    "\n",
    "b = datetime.datetime.now().replace(microsecond=0)\n",
    "print b-a"
   ]
  },
  {
   "cell_type": "code",
   "execution_count": 82,
   "metadata": {
    "collapsed": false
   },
   "outputs": [
    {
     "name": "stdout",
     "output_type": "stream",
     "text": [
      "3\n"
     ]
    }
   ],
   "source": [
    "print len(tuple1)"
   ]
  },
  {
   "cell_type": "code",
   "execution_count": 84,
   "metadata": {
    "collapsed": false
   },
   "outputs": [
    {
     "name": "stdout",
     "output_type": "stream",
     "text": [
      "6018\n",
      "6018\n",
      "6018\n"
     ]
    }
   ],
   "source": [
    "#ignore those reviews with fewer sentences than splits, so instead of 6250 datapoints to build on, have lost about 242:\n",
    "print len(tuple1[0])\n",
    "print len(tuple1[1])\n",
    "print len(tuple1[2])\n",
    "featuresPos = tuple1[0]\n",
    "featuresNeg = tuple1[1]\n",
    "labels = tuple1[2]"
   ]
  },
  {
   "cell_type": "code",
   "execution_count": 85,
   "metadata": {
    "collapsed": false
   },
   "outputs": [
    {
     "name": "stdout",
     "output_type": "stream",
     "text": [
      "[ 0.32137548  0.33372699  0.34489753]\n",
      "[ 0.35465163  0.34982594  0.29552243]\n"
     ]
    }
   ],
   "source": [
    "#perform feature weighting-\n",
    "clf = ExtraTreesClassifier()\n",
    "clf = clf.fit(featuresNeg, labels)\n",
    "weightsNeg = clf.feature_importances_  \n",
    "print weightsNeg\n",
    "clf = ExtraTreesClassifier()\n",
    "clf = clf.fit(featuresPos, labels)\n",
    "weightsPos = clf.feature_importances_\n",
    "print weightsPos"
   ]
  },
  {
   "cell_type": "markdown",
   "metadata": {},
   "source": [
    "### Split test set 2 into x subsets as well"
   ]
  },
  {
   "cell_type": "code",
   "execution_count": 88,
   "metadata": {
    "collapsed": false
   },
   "outputs": [
    {
     "name": "stdout",
     "output_type": "stream",
     "text": [
      "0:01:26\n"
     ]
    }
   ],
   "source": [
    "a = datetime.datetime.now().replace(microsecond=0)\n",
    "\n",
    "#numSplits variable to be consistent with training set\n",
    "x = 3\n",
    "\n",
    "i = 0\n",
    "featuresTestPos = []\n",
    "featuresTestNeg = []\n",
    "labelsTest = []\n",
    "#for each doc in probssentences:\n",
    "for doc in testB['doc'].unique():\n",
    "    avgScoresTestPos = []\n",
    "    avgScoresTestNeg = []\n",
    "    df = probssentencesB.loc[probssentencesB['doc'] == doc]\n",
    "    if len(df) >= x:\n",
    "        #split into x groups\n",
    "        lst = np.array_split(df, x)\n",
    "        for z in lst:\n",
    "            avgScoresTestNeg.append(z[[0]].mean()[0])\n",
    "            avgScoresTestPos.append(z[[1]].mean()[1])\n",
    "        featuresTestNeg.append(avgScoresTestNeg)\n",
    "        featuresTestPos.append(avgScoresTestPos)\n",
    "        labelsTest.append(testB.loc[testB['doc'] == doc]['sentiment'].values[0])\n",
    "    i = i + 1\n",
    "\n",
    "b = datetime.datetime.now().replace(microsecond=0)\n",
    "print b-a"
   ]
  },
  {
   "cell_type": "code",
   "execution_count": 89,
   "metadata": {
    "collapsed": false
   },
   "outputs": [
    {
     "name": "stdout",
     "output_type": "stream",
     "text": [
      "(6005, 3)\n",
      "[ 0.22891767  0.1762777   0.16712046]\n",
      "[0.64547192901372907, 0.50390118360519409, 0.56550852954387665]\n",
      "[ 0.35465163  0.34982594  0.29552243]\n"
     ]
    }
   ],
   "source": [
    "print (featuresTestPos*weightsPos).shape\n",
    "print (featuresTestPos*weightsPos)[0]\n",
    "print featuresTestPos[0]\n",
    "print weightsPos"
   ]
  },
  {
   "cell_type": "code",
   "execution_count": 90,
   "metadata": {
    "collapsed": false
   },
   "outputs": [
    {
     "name": "stdout",
     "output_type": "stream",
     "text": [
      "(6005, 3)\n",
      "[ 0.11393664  0.16556156  0.14985503]\n",
      "[0.35452809333801272, 0.49609879404306412, 0.43449146300554276]\n",
      "[ 0.32137548  0.33372699  0.34489753]\n"
     ]
    }
   ],
   "source": [
    "print (featuresTestNeg*weightsNeg).shape\n",
    "print (featuresTestNeg*weightsNeg)[0]\n",
    "print featuresTestNeg[0]\n",
    "print weightsNeg"
   ]
  },
  {
   "cell_type": "code",
   "execution_count": 91,
   "metadata": {
    "collapsed": false
   },
   "outputs": [
    {
     "name": "stdout",
     "output_type": "stream",
     "text": [
      "(6005, 3)\n",
      "[ 0.22891767  0.1762777   0.16712046]\n",
      "0.190771943971\n",
      "(6005,)\n"
     ]
    }
   ],
   "source": [
    "#get probs for each doc in test2:\n",
    "probsThreePos = featuresTestPos * weightsPos\n",
    "print probsThreePos.shape\n",
    "#combine into one prob per review\n",
    "probPos = probsThreePos.mean(1)\n",
    "print probsThreePos[0]\n",
    "print probPos[0]\n",
    "print probPos.shape"
   ]
  },
  {
   "cell_type": "code",
   "execution_count": 92,
   "metadata": {
    "collapsed": false
   },
   "outputs": [
    {
     "name": "stdout",
     "output_type": "stream",
     "text": [
      "(6005, 3)\n",
      "[ 0.11393664  0.16556156  0.14985503]\n",
      "0.143117741845\n",
      "(6005,)\n"
     ]
    }
   ],
   "source": [
    "probsThreeNeg = featuresTestNeg * weightsNeg\n",
    "print probsThreeNeg.shape\n",
    "#combine into one prob per review\n",
    "probNeg = probsThreeNeg.mean(1)\n",
    "print probsThreeNeg[0]\n",
    "print probNeg[0]\n",
    "print probNeg.shape"
   ]
  },
  {
   "cell_type": "code",
   "execution_count": null,
   "metadata": {
    "collapsed": true
   },
   "outputs": [],
   "source": [
    "#labelsTest is in same order as the doc probs"
   ]
  },
  {
   "cell_type": "code",
   "execution_count": 93,
   "metadata": {
    "collapsed": false
   },
   "outputs": [
    {
     "name": "stdout",
     "output_type": "stream",
     "text": [
      "(6005,)\n"
     ]
    }
   ],
   "source": [
    "preds = np.ones((probPos.shape[0]))\n",
    "print preds.shape"
   ]
  },
  {
   "cell_type": "code",
   "execution_count": 94,
   "metadata": {
    "collapsed": false
   },
   "outputs": [],
   "source": [
    "preds[np.where(probPos < probNeg)] = 0 # The first column is the negative model"
   ]
  },
  {
   "cell_type": "code",
   "execution_count": 97,
   "metadata": {
    "collapsed": false
   },
   "outputs": [
    {
     "name": "stdout",
     "output_type": "stream",
     "text": [
      "[ 1.  0.  0.  1.  1.  0.  1.  1.  1.  0.]\n",
      "[ 0.19077194  0.10215564  0.06243355  0.1744457   0.17002082  0.1197537\n",
      "  0.22775357  0.21177292  0.22857614  0.12202001]\n",
      "[ 0.14311774  0.22806665  0.27076661  0.16778775  0.1661257   0.21666086\n",
      "  0.10850201  0.12447677  0.10833112  0.21852137]\n"
     ]
    }
   ],
   "source": [
    "print preds[0:10]\n",
    "print probPos[0:10]\n",
    "print probNeg[0:10]"
   ]
  },
  {
   "cell_type": "code",
   "execution_count": 106,
   "metadata": {
    "collapsed": false
   },
   "outputs": [
    {
     "name": "stdout",
     "output_type": "stream",
     "text": [
      "<type 'numpy.ndarray'>\n",
      "(6005,)\n",
      "(6005,)\n"
     ]
    }
   ],
   "source": [
    "print type(preds)\n",
    "print preds.shape\n",
    "#convert labels also to numpy array\n",
    "labelsTest = np.asarray(labelsTest)\n",
    "print labelsTest.shape"
   ]
  },
  {
   "cell_type": "code",
   "execution_count": 107,
   "metadata": {
    "collapsed": false
   },
   "outputs": [
    {
     "name": "stdout",
     "output_type": "stream",
     "text": [
      "0.867610324729\n"
     ]
    }
   ],
   "source": [
    "print np.size(np.where(preds == labelsTest))*1./np.size(preds)"
   ]
  },
  {
   "cell_type": "code",
   "execution_count": 108,
   "metadata": {
    "collapsed": false
   },
   "outputs": [
    {
     "name": "stdout",
     "output_type": "stream",
     "text": [
      "0.86689992426\n"
     ]
    }
   ],
   "source": [
    "from sklearn.metrics import roc_auc_score\n",
    "print roc_auc_score(labelsTest, preds)"
   ]
  },
  {
   "cell_type": "markdown",
   "metadata": {
    "collapsed": true
   },
   "source": [
    "Essentially same performance. Why??"
   ]
  },
  {
   "cell_type": "code",
   "execution_count": 112,
   "metadata": {
    "collapsed": false
   },
   "outputs": [
    {
     "name": "stdout",
     "output_type": "stream",
     "text": [
      "\"This movie is like the thousand \\\"cat and mouse\\\" movies that preceded it. (The following may look like a spoiler, but it really just describes a large class of movies) There is the passionate, wise main character, his goofy but well-meaning sidekick with his ill-placed attempts at humorous comments, the initially-hostile but soon softened gorgeous lady who triggers the inevitable \\\"unlikely\\\" love story, the loved ones taken hostage, and of course the careless evil adversary with his brutal minions. Everybody has seen tons of these movies already, and \\\"National Treasure\\\" is like any one of them, with only a slightly modified wrapping. Every turn of the story was easily predicted (and I can assure you I am not the sharpest tool in the shed). I am quite tired of feeling tricked for money after exiting the theater from a Hollywood movie, and if you have ever felt that way too, heed my warning; stay miles away from this movie.\"\n"
     ]
    }
   ],
   "source": [
    "print test1['review'].iloc[0]"
   ]
  },
  {
   "cell_type": "code",
   "execution_count": 111,
   "metadata": {
    "collapsed": false
   },
   "outputs": [
    {
     "name": "stdout",
     "output_type": "stream",
     "text": [
      "              id  sentiment  \\\n",
      "21130   \"5706_2\"          0   \n",
      "3404   \"11132_3\"          0   \n",
      "14560  \"10770_7\"          1   \n",
      "6671   \"1058_10\"          1   \n",
      "10982  \"12239_1\"          0   \n",
      "5526     \"966_7\"          1   \n",
      "19301  \"11645_2\"          0   \n",
      "17060   \"5920_9\"          1   \n",
      "24744   \"9501_2\"          0   \n",
      "5253    \"7877_4\"          0   \n",
      "21967   \"5442_8\"          1   \n",
      "18609   \"7027_4\"          0   \n",
      "\n",
      "                                                  review  doc  \n",
      "21130  \"This movie is like the thousand \\\"cat and mou...    0  \n",
      "3404   \"A documentarist, like any filmmaker, must con...    1  \n",
      "14560  \"With a well thought out cast, this movie was ...    2  \n",
      "6671   \"this is the best sci-fi that I have seen in m...    3  \n",
      "10982  \"Ever since I was eight years old I have been ...    4  \n",
      "5526   \"2005 Toronto Film Festival Report It is offic...    5  \n",
      "19301  \"This is a review of 'Freddy Mercury The Untol...    6  \n",
      "17060  \"American icon Henry Fonda portrays \\\"Elegant\\...    7  \n",
      "24744  \"This is the page for \\\"House of Exorcism\\\", b...    8  \n",
      "5253   \"The makers of this film have created a future...    9  \n",
      "21967  \"This is a great movie. In the same genre of t...   10  \n",
      "18609  \"On the face of it, Ruiz has set out to make a...   11  \n"
     ]
    }
   ],
   "source": [
    "print test1[0:12]"
   ]
  },
  {
   "cell_type": "code",
   "execution_count": null,
   "metadata": {
    "collapsed": true
   },
   "outputs": [],
   "source": []
  },
  {
   "cell_type": "code",
   "execution_count": null,
   "metadata": {
    "collapsed": true
   },
   "outputs": [],
   "source": []
  },
  {
   "cell_type": "code",
   "execution_count": null,
   "metadata": {
    "collapsed": true
   },
   "outputs": [],
   "source": []
  },
  {
   "cell_type": "code",
   "execution_count": null,
   "metadata": {
    "collapsed": true
   },
   "outputs": [],
   "source": []
  },
  {
   "cell_type": "code",
   "execution_count": null,
   "metadata": {
    "collapsed": true
   },
   "outputs": [],
   "source": []
  },
  {
   "cell_type": "code",
   "execution_count": null,
   "metadata": {
    "collapsed": true
   },
   "outputs": [],
   "source": []
  }
 ],
 "metadata": {
  "kernelspec": {
   "display_name": "Python 2",
   "language": "python",
   "name": "python2"
  },
  "language_info": {
   "codemirror_mode": {
    "name": "ipython",
    "version": 2
   },
   "file_extension": ".py",
   "mimetype": "text/x-python",
   "name": "python",
   "nbconvert_exporter": "python",
   "pygments_lexer": "ipython2",
   "version": "2.7.11"
  }
 },
 "nbformat": 4,
 "nbformat_minor": 0
}
