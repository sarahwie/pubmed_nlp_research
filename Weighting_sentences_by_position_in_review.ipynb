{
 "cells": [
  {
   "cell_type": "markdown",
   "metadata": {},
   "source": [
    "Weighting sentences by their position in the review:\n",
    "\n",
    "We calculate feature importance off of the test set's features because only the test set's sentences get scored (probssentences). Is this legal?"
   ]
  },
  {
   "cell_type": "code",
   "execution_count": 1,
   "metadata": {
    "collapsed": true
   },
   "outputs": [],
   "source": [
    "import pickle\n",
    "import datetime\n",
    "import numpy as np\n",
    "import pandas as pd\n",
    "from sklearn.ensemble import ExtraTreesClassifier\n",
    "from sklearn.feature_selection import SelectFromModel"
   ]
  },
  {
   "cell_type": "code",
   "execution_count": 64,
   "metadata": {
    "collapsed": false
   },
   "outputs": [],
   "source": [
    "probssentences = pickle.load(open('/home/sarahwie/Documents/pubmed-nlp-research/pickled_objects/probssentences.p', 'rb'))\n",
    "test1 = pickle.load(open('/home/sarahwie/Documents/pubmed-nlp-research/pickled_objects/test1.p', 'rb'))"
   ]
  },
  {
   "cell_type": "code",
   "execution_count": 72,
   "metadata": {
    "collapsed": false
   },
   "outputs": [
    {
     "name": "stdout",
     "output_type": "stream",
     "text": [
      "(12500, 4)\n",
      "(133515, 3)\n"
     ]
    }
   ],
   "source": [
    "#append doc value to test1\n",
    "test1['doc'] = [ i for i in range(len(test1))]\n",
    "print test1.shape\n",
    "print probssentences.shape"
   ]
  },
  {
   "cell_type": "code",
   "execution_count": 55,
   "metadata": {
    "collapsed": false
   },
   "outputs": [
    {
     "data": {
      "text/html": [
       "<div>\n",
       "<table border=\"1\" class=\"dataframe\">\n",
       "  <thead>\n",
       "    <tr style=\"text-align: right;\">\n",
       "      <th></th>\n",
       "      <th>id</th>\n",
       "      <th>sentiment</th>\n",
       "      <th>review</th>\n",
       "      <th>doc</th>\n",
       "    </tr>\n",
       "  </thead>\n",
       "  <tbody>\n",
       "    <tr>\n",
       "      <th>21130</th>\n",
       "      <td>\"5706_2\"</td>\n",
       "      <td>0.0</td>\n",
       "      <td>\"This movie is like the thousand \\\"cat and mou...</td>\n",
       "      <td>0</td>\n",
       "    </tr>\n",
       "    <tr>\n",
       "      <th>3404</th>\n",
       "      <td>\"11132_3\"</td>\n",
       "      <td>0.0</td>\n",
       "      <td>\"A documentarist, like any filmmaker, must con...</td>\n",
       "      <td>1</td>\n",
       "    </tr>\n",
       "    <tr>\n",
       "      <th>14560</th>\n",
       "      <td>\"10770_7\"</td>\n",
       "      <td>1.0</td>\n",
       "      <td>\"With a well thought out cast, this movie was ...</td>\n",
       "      <td>2</td>\n",
       "    </tr>\n",
       "    <tr>\n",
       "      <th>6671</th>\n",
       "      <td>\"1058_10\"</td>\n",
       "      <td>1.0</td>\n",
       "      <td>\"this is the best sci-fi that I have seen in m...</td>\n",
       "      <td>3</td>\n",
       "    </tr>\n",
       "    <tr>\n",
       "      <th>10982</th>\n",
       "      <td>\"12239_1\"</td>\n",
       "      <td>0.0</td>\n",
       "      <td>\"Ever since I was eight years old I have been ...</td>\n",
       "      <td>4</td>\n",
       "    </tr>\n",
       "    <tr>\n",
       "      <th>5526</th>\n",
       "      <td>\"966_7\"</td>\n",
       "      <td>1.0</td>\n",
       "      <td>\"2005 Toronto Film Festival Report It is offic...</td>\n",
       "      <td>5</td>\n",
       "    </tr>\n",
       "    <tr>\n",
       "      <th>19301</th>\n",
       "      <td>\"11645_2\"</td>\n",
       "      <td>0.0</td>\n",
       "      <td>\"This is a review of 'Freddy Mercury The Untol...</td>\n",
       "      <td>6</td>\n",
       "    </tr>\n",
       "    <tr>\n",
       "      <th>17060</th>\n",
       "      <td>\"5920_9\"</td>\n",
       "      <td>1.0</td>\n",
       "      <td>\"American icon Henry Fonda portrays \\\"Elegant\\...</td>\n",
       "      <td>7</td>\n",
       "    </tr>\n",
       "    <tr>\n",
       "      <th>24744</th>\n",
       "      <td>\"9501_2\"</td>\n",
       "      <td>0.0</td>\n",
       "      <td>\"This is the page for \\\"House of Exorcism\\\", b...</td>\n",
       "      <td>8</td>\n",
       "    </tr>\n",
       "    <tr>\n",
       "      <th>5253</th>\n",
       "      <td>\"7877_4\"</td>\n",
       "      <td>0.0</td>\n",
       "      <td>\"The makers of this film have created a future...</td>\n",
       "      <td>9</td>\n",
       "    </tr>\n",
       "  </tbody>\n",
       "</table>\n",
       "</div>"
      ],
      "text/plain": [
       "              id  sentiment  \\\n",
       "21130   \"5706_2\"        0.0   \n",
       "3404   \"11132_3\"        0.0   \n",
       "14560  \"10770_7\"        1.0   \n",
       "6671   \"1058_10\"        1.0   \n",
       "10982  \"12239_1\"        0.0   \n",
       "5526     \"966_7\"        1.0   \n",
       "19301  \"11645_2\"        0.0   \n",
       "17060   \"5920_9\"        1.0   \n",
       "24744   \"9501_2\"        0.0   \n",
       "5253    \"7877_4\"        0.0   \n",
       "\n",
       "                                                  review  doc  \n",
       "21130  \"This movie is like the thousand \\\"cat and mou...    0  \n",
       "3404   \"A documentarist, like any filmmaker, must con...    1  \n",
       "14560  \"With a well thought out cast, this movie was ...    2  \n",
       "6671   \"this is the best sci-fi that I have seen in m...    3  \n",
       "10982  \"Ever since I was eight years old I have been ...    4  \n",
       "5526   \"2005 Toronto Film Festival Report It is offic...    5  \n",
       "19301  \"This is a review of 'Freddy Mercury The Untol...    6  \n",
       "17060  \"American icon Henry Fonda portrays \\\"Elegant\\...    7  \n",
       "24744  \"This is the page for \\\"House of Exorcism\\\", b...    8  \n",
       "5253   \"The makers of this film have created a future...    9  "
      ]
     },
     "execution_count": 55,
     "metadata": {},
     "output_type": "execute_result"
    }
   ],
   "source": [
    "test1[0:10]"
   ]
  },
  {
   "cell_type": "code",
   "execution_count": 52,
   "metadata": {
    "collapsed": true
   },
   "outputs": [],
   "source": [
    "#append the true class value\n",
    "probssentences[\"truelabel\"] = 0\n",
    "for i in range(len(probssentences)):\n",
    "    #get true label value from test1 where index matches doc number\n",
    "    j = probssentences.iloc[i]['doc']\n",
    "    probssentences.set_value(i, 'truelabel', test1.iloc[[j]][\"sentiment\"])"
   ]
  },
  {
   "cell_type": "code",
   "execution_count": 57,
   "metadata": {
    "collapsed": false
   },
   "outputs": [
    {
     "data": {
      "text/html": [
       "<div>\n",
       "<table border=\"1\" class=\"dataframe\">\n",
       "  <thead>\n",
       "    <tr style=\"text-align: right;\">\n",
       "      <th></th>\n",
       "      <th>0</th>\n",
       "      <th>1</th>\n",
       "      <th>doc</th>\n",
       "      <th>truelabel</th>\n",
       "    </tr>\n",
       "  </thead>\n",
       "  <tbody>\n",
       "    <tr>\n",
       "      <th>0</th>\n",
       "      <td>0.5986</td>\n",
       "      <td>0.4014</td>\n",
       "      <td>0</td>\n",
       "      <td>0</td>\n",
       "    </tr>\n",
       "    <tr>\n",
       "      <th>1</th>\n",
       "      <td>0.00792023</td>\n",
       "      <td>0.99208</td>\n",
       "      <td>0</td>\n",
       "      <td>0</td>\n",
       "    </tr>\n",
       "    <tr>\n",
       "      <th>2</th>\n",
       "      <td>0.369248</td>\n",
       "      <td>0.630752</td>\n",
       "      <td>0</td>\n",
       "      <td>0</td>\n",
       "    </tr>\n",
       "    <tr>\n",
       "      <th>3</th>\n",
       "      <td>0.445318</td>\n",
       "      <td>0.554682</td>\n",
       "      <td>0</td>\n",
       "      <td>0</td>\n",
       "    </tr>\n",
       "    <tr>\n",
       "      <th>4</th>\n",
       "      <td>0.999581</td>\n",
       "      <td>0.000419095</td>\n",
       "      <td>0</td>\n",
       "      <td>0</td>\n",
       "    </tr>\n",
       "    <tr>\n",
       "      <th>5</th>\n",
       "      <td>0.00449226</td>\n",
       "      <td>0.995508</td>\n",
       "      <td>1</td>\n",
       "      <td>0</td>\n",
       "    </tr>\n",
       "    <tr>\n",
       "      <th>6</th>\n",
       "      <td>0.918007</td>\n",
       "      <td>0.0819928</td>\n",
       "      <td>1</td>\n",
       "      <td>0</td>\n",
       "    </tr>\n",
       "    <tr>\n",
       "      <th>7</th>\n",
       "      <td>0.55223</td>\n",
       "      <td>0.44777</td>\n",
       "      <td>1</td>\n",
       "      <td>0</td>\n",
       "    </tr>\n",
       "    <tr>\n",
       "      <th>8</th>\n",
       "      <td>0.986808</td>\n",
       "      <td>0.0131918</td>\n",
       "      <td>1</td>\n",
       "      <td>0</td>\n",
       "    </tr>\n",
       "    <tr>\n",
       "      <th>9</th>\n",
       "      <td>0.721142</td>\n",
       "      <td>0.278858</td>\n",
       "      <td>1</td>\n",
       "      <td>0</td>\n",
       "    </tr>\n",
       "  </tbody>\n",
       "</table>\n",
       "</div>"
      ],
      "text/plain": [
       "            0            1 doc  truelabel\n",
       "0      0.5986       0.4014   0          0\n",
       "1  0.00792023      0.99208   0          0\n",
       "2    0.369248     0.630752   0          0\n",
       "3    0.445318     0.554682   0          0\n",
       "4    0.999581  0.000419095   0          0\n",
       "5  0.00449226     0.995508   1          0\n",
       "6    0.918007    0.0819928   1          0\n",
       "7     0.55223      0.44777   1          0\n",
       "8    0.986808    0.0131918   1          0\n",
       "9    0.721142     0.278858   1          0"
      ]
     },
     "execution_count": 57,
     "metadata": {},
     "output_type": "execute_result"
    }
   ],
   "source": [
    "probssentences[0:10]"
   ]
  },
  {
   "cell_type": "code",
   "execution_count": 67,
   "metadata": {
    "collapsed": false
   },
   "outputs": [
    {
     "name": "stdout",
     "output_type": "stream",
     "text": [
      "(12500, 4)\n",
      "12500\n",
      "12500\n",
      "6250\n",
      "6250\n"
     ]
    }
   ],
   "source": [
    "#split test set into two\n",
    "fracTrain = 0.5\n",
    "nSamples = test1.shape[0]\n",
    "print nSamples\n",
    "order = np.random.permutation(nSamples) # come up with a random ordering\n",
    "print len(order)\n",
    "splitIndex = int(np.round(nSamples*fracTrain))\n",
    "print len(order[:splitIndex])\n",
    "print len(order[splitIndex:])\n",
    "testA = test1.iloc[order[:splitIndex],:]\n",
    "testB = test1.iloc[order[splitIndex:],:]"
   ]
  },
  {
   "cell_type": "code",
   "execution_count": 69,
   "metadata": {
    "collapsed": false
   },
   "outputs": [],
   "source": [
    "#split probssentences the same way\n",
    "probssentencesA = probssentences.loc[probssentences['doc'].isin(testA['doc'].unique())]\n",
    "probssentencesB = probssentences.loc[probssentences['doc'].isin(testB['doc'].unique())]"
   ]
  },
  {
   "cell_type": "code",
   "execution_count": 71,
   "metadata": {
    "collapsed": false
   },
   "outputs": [
    {
     "name": "stdout",
     "output_type": "stream",
     "text": [
      "133515\n",
      "66863\n",
      "66652\n",
      "6250\n",
      "6250\n"
     ]
    }
   ],
   "source": [
    "print len(probssentences)\n",
    "print len(probssentencesA)\n",
    "print len(probssentencesB)\n",
    "print len(testA)\n",
    "print len(testB)"
   ]
  },
  {
   "cell_type": "code",
   "execution_count": 75,
   "metadata": {
    "collapsed": false
   },
   "outputs": [
    {
     "data": {
      "text/html": [
       "<div>\n",
       "<table border=\"1\" class=\"dataframe\">\n",
       "  <thead>\n",
       "    <tr style=\"text-align: right;\">\n",
       "      <th></th>\n",
       "      <th>0</th>\n",
       "      <th>1</th>\n",
       "      <th>doc</th>\n",
       "    </tr>\n",
       "  </thead>\n",
       "  <tbody>\n",
       "    <tr>\n",
       "      <th>47</th>\n",
       "      <td>0.615371</td>\n",
       "      <td>0.384629</td>\n",
       "      <td>6</td>\n",
       "    </tr>\n",
       "    <tr>\n",
       "      <th>48</th>\n",
       "      <td>0.0662093</td>\n",
       "      <td>0.933791</td>\n",
       "      <td>6</td>\n",
       "    </tr>\n",
       "    <tr>\n",
       "      <th>49</th>\n",
       "      <td>0.0751976</td>\n",
       "      <td>0.924802</td>\n",
       "      <td>6</td>\n",
       "    </tr>\n",
       "    <tr>\n",
       "      <th>50</th>\n",
       "      <td>0.995847</td>\n",
       "      <td>0.00415336</td>\n",
       "      <td>6</td>\n",
       "    </tr>\n",
       "    <tr>\n",
       "      <th>51</th>\n",
       "      <td>0.322619</td>\n",
       "      <td>0.677381</td>\n",
       "      <td>6</td>\n",
       "    </tr>\n",
       "    <tr>\n",
       "      <th>52</th>\n",
       "      <td>0.77551</td>\n",
       "      <td>0.224489</td>\n",
       "      <td>6</td>\n",
       "    </tr>\n",
       "    <tr>\n",
       "      <th>53</th>\n",
       "      <td>0.0407758</td>\n",
       "      <td>0.959224</td>\n",
       "      <td>6</td>\n",
       "    </tr>\n",
       "    <tr>\n",
       "      <th>54</th>\n",
       "      <td>0.93637</td>\n",
       "      <td>0.0636299</td>\n",
       "      <td>6</td>\n",
       "    </tr>\n",
       "    <tr>\n",
       "      <th>55</th>\n",
       "      <td>0.97243</td>\n",
       "      <td>0.0275697</td>\n",
       "      <td>6</td>\n",
       "    </tr>\n",
       "    <tr>\n",
       "      <th>56</th>\n",
       "      <td>0.00466961</td>\n",
       "      <td>0.99533</td>\n",
       "      <td>6</td>\n",
       "    </tr>\n",
       "  </tbody>\n",
       "</table>\n",
       "</div>"
      ],
      "text/plain": [
       "             0           1 doc\n",
       "47    0.615371    0.384629   6\n",
       "48   0.0662093    0.933791   6\n",
       "49   0.0751976    0.924802   6\n",
       "50    0.995847  0.00415336   6\n",
       "51    0.322619    0.677381   6\n",
       "52     0.77551    0.224489   6\n",
       "53   0.0407758    0.959224   6\n",
       "54     0.93637   0.0636299   6\n",
       "55     0.97243   0.0275697   6\n",
       "56  0.00466961     0.99533   6"
      ]
     },
     "execution_count": 75,
     "metadata": {},
     "output_type": "execute_result"
    }
   ],
   "source": [
    "probssentencesB[0:10]"
   ]
  },
  {
   "cell_type": "code",
   "execution_count": 76,
   "metadata": {
    "collapsed": false
   },
   "outputs": [
    {
     "data": {
      "text/html": [
       "<div>\n",
       "<table border=\"1\" class=\"dataframe\">\n",
       "  <thead>\n",
       "    <tr style=\"text-align: right;\">\n",
       "      <th></th>\n",
       "      <th>id</th>\n",
       "      <th>sentiment</th>\n",
       "      <th>review</th>\n",
       "      <th>doc</th>\n",
       "    </tr>\n",
       "  </thead>\n",
       "  <tbody>\n",
       "    <tr>\n",
       "      <th>8403</th>\n",
       "      <td>\"4316_1\"</td>\n",
       "      <td>0</td>\n",
       "      <td>\"I'm not usually given to hyperbole, but after...</td>\n",
       "      <td>10239</td>\n",
       "    </tr>\n",
       "    <tr>\n",
       "      <th>9953</th>\n",
       "      <td>\"7233_7\"</td>\n",
       "      <td>1</td>\n",
       "      <td>\"I haven't read through all the comments, but ...</td>\n",
       "      <td>2925</td>\n",
       "    </tr>\n",
       "    <tr>\n",
       "      <th>23611</th>\n",
       "      <td>\"9810_2\"</td>\n",
       "      <td>0</td>\n",
       "      <td>\"It's hard to criticize this movie, because I ...</td>\n",
       "      <td>2849</td>\n",
       "    </tr>\n",
       "    <tr>\n",
       "      <th>1350</th>\n",
       "      <td>\"9683_9\"</td>\n",
       "      <td>1</td>\n",
       "      <td>\"Spoiler This is a great film about a conure. ...</td>\n",
       "      <td>1295</td>\n",
       "    </tr>\n",
       "    <tr>\n",
       "      <th>13824</th>\n",
       "      <td>\"6672_10\"</td>\n",
       "      <td>1</td>\n",
       "      <td>\"I've seen Mystery Men cop a bit of stick in t...</td>\n",
       "      <td>6490</td>\n",
       "    </tr>\n",
       "    <tr>\n",
       "      <th>1586</th>\n",
       "      <td>\"762_9\"</td>\n",
       "      <td>1</td>\n",
       "      <td>\"I enjoy watching people doing breakdance, esp...</td>\n",
       "      <td>10367</td>\n",
       "    </tr>\n",
       "    <tr>\n",
       "      <th>1099</th>\n",
       "      <td>\"9626_8\"</td>\n",
       "      <td>1</td>\n",
       "      <td>\"Warning! Spoilers ahead!&lt;br /&gt;&lt;br /&gt; SPOILERS...</td>\n",
       "      <td>7118</td>\n",
       "    </tr>\n",
       "    <tr>\n",
       "      <th>12693</th>\n",
       "      <td>\"9538_10\"</td>\n",
       "      <td>1</td>\n",
       "      <td>\"Why aren't more films (especially American) m...</td>\n",
       "      <td>7562</td>\n",
       "    </tr>\n",
       "    <tr>\n",
       "      <th>20256</th>\n",
       "      <td>\"3981_10\"</td>\n",
       "      <td>1</td>\n",
       "      <td>\"This is my fourth Joe McDoakes short that I'v...</td>\n",
       "      <td>9709</td>\n",
       "    </tr>\n",
       "    <tr>\n",
       "      <th>20733</th>\n",
       "      <td>\"541_7\"</td>\n",
       "      <td>1</td>\n",
       "      <td>\"as a sequel,this is not a bad movie.i actuall...</td>\n",
       "      <td>4421</td>\n",
       "    </tr>\n",
       "  </tbody>\n",
       "</table>\n",
       "</div>"
      ],
      "text/plain": [
       "              id  sentiment  \\\n",
       "8403    \"4316_1\"          0   \n",
       "9953    \"7233_7\"          1   \n",
       "23611   \"9810_2\"          0   \n",
       "1350    \"9683_9\"          1   \n",
       "13824  \"6672_10\"          1   \n",
       "1586     \"762_9\"          1   \n",
       "1099    \"9626_8\"          1   \n",
       "12693  \"9538_10\"          1   \n",
       "20256  \"3981_10\"          1   \n",
       "20733    \"541_7\"          1   \n",
       "\n",
       "                                                  review    doc  \n",
       "8403   \"I'm not usually given to hyperbole, but after...  10239  \n",
       "9953   \"I haven't read through all the comments, but ...   2925  \n",
       "23611  \"It's hard to criticize this movie, because I ...   2849  \n",
       "1350   \"Spoiler This is a great film about a conure. ...   1295  \n",
       "13824  \"I've seen Mystery Men cop a bit of stick in t...   6490  \n",
       "1586   \"I enjoy watching people doing breakdance, esp...  10367  \n",
       "1099   \"Warning! Spoilers ahead!<br /><br /> SPOILERS...   7118  \n",
       "12693  \"Why aren't more films (especially American) m...   7562  \n",
       "20256  \"This is my fourth Joe McDoakes short that I'v...   9709  \n",
       "20733  \"as a sequel,this is not a bad movie.i actuall...   4421  "
      ]
     },
     "execution_count": 76,
     "metadata": {},
     "output_type": "execute_result"
    }
   ],
   "source": [
    "testA[0:10]"
   ]
  },
  {
   "cell_type": "code",
   "execution_count": 77,
   "metadata": {
    "collapsed": false
   },
   "outputs": [
    {
     "data": {
      "text/html": [
       "<div>\n",
       "<table border=\"1\" class=\"dataframe\">\n",
       "  <thead>\n",
       "    <tr style=\"text-align: right;\">\n",
       "      <th></th>\n",
       "      <th>id</th>\n",
       "      <th>sentiment</th>\n",
       "      <th>review</th>\n",
       "      <th>doc</th>\n",
       "    </tr>\n",
       "  </thead>\n",
       "  <tbody>\n",
       "    <tr>\n",
       "      <th>5332</th>\n",
       "      <td>\"7988_10\"</td>\n",
       "      <td>1</td>\n",
       "      <td>\"I get teased all the time by family and frien...</td>\n",
       "      <td>1266</td>\n",
       "    </tr>\n",
       "    <tr>\n",
       "      <th>22736</th>\n",
       "      <td>\"3993_7\"</td>\n",
       "      <td>1</td>\n",
       "      <td>\"\\\"The Mother\\\" is a weird low-budget movie, t...</td>\n",
       "      <td>55</td>\n",
       "    </tr>\n",
       "    <tr>\n",
       "      <th>17040</th>\n",
       "      <td>\"893_2\"</td>\n",
       "      <td>0</td>\n",
       "      <td>\"When I bought this DVD I though: \\\"It seems t...</td>\n",
       "      <td>9443</td>\n",
       "    </tr>\n",
       "    <tr>\n",
       "      <th>22406</th>\n",
       "      <td>\"1047_2\"</td>\n",
       "      <td>0</td>\n",
       "      <td>\"Someone will have to explain to me why every ...</td>\n",
       "      <td>11748</td>\n",
       "    </tr>\n",
       "    <tr>\n",
       "      <th>8282</th>\n",
       "      <td>\"9342_8\"</td>\n",
       "      <td>1</td>\n",
       "      <td>\"A powerfully wonderful movie. You are held in...</td>\n",
       "      <td>7742</td>\n",
       "    </tr>\n",
       "    <tr>\n",
       "      <th>17688</th>\n",
       "      <td>\"3532_1\"</td>\n",
       "      <td>0</td>\n",
       "      <td>\"Its like if you took the general themes of Th...</td>\n",
       "      <td>7496</td>\n",
       "    </tr>\n",
       "    <tr>\n",
       "      <th>3522</th>\n",
       "      <td>\"12387_4\"</td>\n",
       "      <td>0</td>\n",
       "      <td>\"Lipstick is another glossy movie failure.I am...</td>\n",
       "      <td>7408</td>\n",
       "    </tr>\n",
       "    <tr>\n",
       "      <th>11608</th>\n",
       "      <td>\"2793_9\"</td>\n",
       "      <td>1</td>\n",
       "      <td>\"It's such a shame that because of it's title ...</td>\n",
       "      <td>10308</td>\n",
       "    </tr>\n",
       "    <tr>\n",
       "      <th>3335</th>\n",
       "      <td>\"2566_8\"</td>\n",
       "      <td>1</td>\n",
       "      <td>\"Any film that deals with bigotry in a positiv...</td>\n",
       "      <td>11807</td>\n",
       "    </tr>\n",
       "    <tr>\n",
       "      <th>1235</th>\n",
       "      <td>\"11928_8\"</td>\n",
       "      <td>1</td>\n",
       "      <td>\"This movie, while seemingly based off of a mo...</td>\n",
       "      <td>8666</td>\n",
       "    </tr>\n",
       "  </tbody>\n",
       "</table>\n",
       "</div>"
      ],
      "text/plain": [
       "              id  sentiment  \\\n",
       "5332   \"7988_10\"          1   \n",
       "22736   \"3993_7\"          1   \n",
       "17040    \"893_2\"          0   \n",
       "22406   \"1047_2\"          0   \n",
       "8282    \"9342_8\"          1   \n",
       "17688   \"3532_1\"          0   \n",
       "3522   \"12387_4\"          0   \n",
       "11608   \"2793_9\"          1   \n",
       "3335    \"2566_8\"          1   \n",
       "1235   \"11928_8\"          1   \n",
       "\n",
       "                                                  review    doc  \n",
       "5332   \"I get teased all the time by family and frien...   1266  \n",
       "22736  \"\\\"The Mother\\\" is a weird low-budget movie, t...     55  \n",
       "17040  \"When I bought this DVD I though: \\\"It seems t...   9443  \n",
       "22406  \"Someone will have to explain to me why every ...  11748  \n",
       "8282   \"A powerfully wonderful movie. You are held in...   7742  \n",
       "17688  \"Its like if you took the general themes of Th...   7496  \n",
       "3522   \"Lipstick is another glossy movie failure.I am...   7408  \n",
       "11608  \"It's such a shame that because of it's title ...  10308  \n",
       "3335   \"Any film that deals with bigotry in a positiv...  11807  \n",
       "1235   \"This movie, while seemingly based off of a mo...   8666  "
      ]
     },
     "execution_count": 77,
     "metadata": {},
     "output_type": "execute_result"
    }
   ],
   "source": [
    "testB[0:10]"
   ]
  },
  {
   "cell_type": "markdown",
   "metadata": {},
   "source": [
    "### NOTE: probssentences and test sets are not in same order. Must match on doc number."
   ]
  },
  {
   "cell_type": "code",
   "execution_count": 81,
   "metadata": {
    "collapsed": false
   },
   "outputs": [
    {
     "name": "stdout",
     "output_type": "stream",
     "text": [
      "6250\n"
     ]
    }
   ],
   "source": [
    "print len(testA['doc'].unique())"
   ]
  },
  {
   "cell_type": "code",
   "execution_count": 118,
   "metadata": {
    "collapsed": false
   },
   "outputs": [
    {
     "name": "stdout",
     "output_type": "stream",
     "text": [
      "0\n",
      "               0\n",
      "109421  0.979633\n",
      "109422  0.562139\n",
      "109423  0.266345\n",
      "109424  0.761915\n",
      "109425  0.981866\n",
      "109426  0.961239\n",
      "0    0.75219\n",
      "dtype: float64\n",
      "               0\n",
      "109427  0.993496\n",
      "109428  0.971686\n",
      "109429  0.787073\n",
      "109430  0.766586\n",
      "109431  0.998035\n",
      "109432  0.970219\n",
      "0    0.914516\n",
      "dtype: float64\n",
      "                0\n",
      "109433  0.0874177\n",
      "109434   0.621483\n",
      "109435   0.730015\n",
      "109436   0.942324\n",
      "109437   0.984106\n",
      "0    0.673069\n",
      "dtype: float64\n",
      "[0.75218957165877021, 0.9145159820715586, 0.67306907027959828]\n",
      "\n"
     ]
    }
   ],
   "source": [
    "features = []\n",
    "labels = []\n",
    "#for each doc in probssentences:\n",
    "for doc in testA['doc'].unique():\n",
    "    avgScores = []\n",
    "    df = probssentencesA.loc[probssentences['doc'] == doc]\n",
    "    #split into x groups\n",
    "    lst = np.array_split(df[[0]], 3)\n",
    "    for z in lst:\n",
    "        print z\n",
    "        print z.mean()\n",
    "        #make the average score for each group the feature\n",
    "        avgScores.append(z.mean()[0])\n",
    "        #convert to a 0 or 1 (?)\n",
    "    print avgScores\n",
    "    features.append(avgScores)\n",
    "    labels.append(testA.loc[testA['doc'] == doc]['sentiment'].values[0])\n",
    "    \n",
    "#perform feature weighting- START HERE MONDAY\n",
    "clf = ExtraTreesClassifier()\n",
    "clf = clf.fit(features, labels)\n",
    "weights = clf.feature_importances_  \n",
    "print weights"
   ]
  },
  {
   "cell_type": "code",
   "execution_count": null,
   "metadata": {
    "collapsed": true
   },
   "outputs": [],
   "source": [
    "#put into function and make split number the parameter"
   ]
  },
  {
   "cell_type": "code",
   "execution_count": null,
   "metadata": {
    "collapsed": true
   },
   "outputs": [],
   "source": [
    "#apply on test set 2"
   ]
  },
  {
   "cell_type": "code",
   "execution_count": 39,
   "metadata": {
    "collapsed": false
   },
   "outputs": [
    {
     "name": "stdout",
     "output_type": "stream",
     "text": [
      "(12500,)\n"
     ]
    }
   ],
   "source": [
    "preds = np.ones((prob.shape[0]))\n",
    "print preds.shape"
   ]
  },
  {
   "cell_type": "code",
   "execution_count": 40,
   "metadata": {
    "collapsed": false
   },
   "outputs": [],
   "source": [
    "preds[np.where(prob.iloc[:,0] >  prob.iloc[:,1])] = 0 # The first column is the negative model"
   ]
  },
  {
   "cell_type": "code",
   "execution_count": 41,
   "metadata": {
    "collapsed": false
   },
   "outputs": [
    {
     "name": "stdout",
     "output_type": "stream",
     "text": [
      "(12500,)\n",
      "(12500,)\n"
     ]
    }
   ],
   "source": [
    "print preds.shape\n",
    "print test1[\"sentiment\"].shape"
   ]
  },
  {
   "cell_type": "code",
   "execution_count": 42,
   "metadata": {
    "collapsed": false
   },
   "outputs": [
    {
     "name": "stdout",
     "output_type": "stream",
     "text": [
      "0.86848\n"
     ]
    }
   ],
   "source": [
    "print np.size(np.where(preds == test1[\"sentiment\"]))*1./np.size(preds)"
   ]
  },
  {
   "cell_type": "code",
   "execution_count": 15,
   "metadata": {
    "collapsed": false
   },
   "outputs": [
    {
     "name": "stdout",
     "output_type": "stream",
     "text": [
      "0.868160030313\n"
     ]
    }
   ],
   "source": [
    "from sklearn.metrics import roc_auc_score\n",
    "print roc_auc_score(test1[\"sentiment\"], preds)"
   ]
  },
  {
   "cell_type": "markdown",
   "metadata": {
    "collapsed": true
   },
   "source": [
    "Especially considering the weights are fit from the test data itself, we would expect to see a big increase in performance, which we're not getting."
   ]
  },
  {
   "cell_type": "markdown",
   "metadata": {},
   "source": [
    "Why? :/ could have something to do with the fact that we fit a classifier on the test data which is pretty wacky. Or could be the way the weights were applied to the sentence scores (unlikely). "
   ]
  }
 ],
 "metadata": {
  "kernelspec": {
   "display_name": "Python 2",
   "language": "python",
   "name": "python2"
  },
  "language_info": {
   "codemirror_mode": {
    "name": "ipython",
    "version": 2
   },
   "file_extension": ".py",
   "mimetype": "text/x-python",
   "name": "python",
   "nbconvert_exporter": "python",
   "pygments_lexer": "ipython2",
   "version": "2.7.11"
  }
 },
 "nbformat": 4,
 "nbformat_minor": 0
}
