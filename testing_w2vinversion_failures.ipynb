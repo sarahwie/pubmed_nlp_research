{
 "cells": [
  {
   "cell_type": "code",
   "execution_count": 2,
   "metadata": {
    "collapsed": true
   },
   "outputs": [],
   "source": [
    "import pickle\n",
    "import numpy as np\n",
    "import pandas as pd"
   ]
  },
  {
   "cell_type": "code",
   "execution_count": 5,
   "metadata": {
    "collapsed": false
   },
   "outputs": [],
   "source": [
    "test1 = pickle.load(open('./pickled_objects/test1.p','rb'))"
   ]
  },
  {
   "cell_type": "code",
   "execution_count": 6,
   "metadata": {
    "collapsed": true
   },
   "outputs": [],
   "source": [
    "predictions = pickle.load(open('./pickled_objects/predictions.p', 'rb'))"
   ]
  },
  {
   "cell_type": "code",
   "execution_count": 7,
   "metadata": {
    "collapsed": true
   },
   "outputs": [],
   "source": [
    "probssentences = pickle.load(open('./pickled_objects/probssentences.p', 'rb'))"
   ]
  },
  {
   "cell_type": "code",
   "execution_count": 8,
   "metadata": {
    "collapsed": false
   },
   "outputs": [],
   "source": [
    "probs = pickle.load(open('./pickled_objects/probs.p', 'rb'))"
   ]
  },
  {
   "cell_type": "code",
   "execution_count": 73,
   "metadata": {
    "collapsed": false
   },
   "outputs": [
    {
     "name": "stdout",
     "output_type": "stream",
     "text": [
      "              id  sentiment                                             review\n",
      "21130   \"5706_2\"          0  \"This movie is like the thousand \\\"cat and mou...\n",
      "3404   \"11132_3\"          0  \"A documentarist, like any filmmaker, must con...\n",
      "14560  \"10770_7\"          1  \"With a well thought out cast, this movie was ...\n",
      "6671   \"1058_10\"          1  \"this is the best sci-fi that I have seen in m...\n",
      "10982  \"12239_1\"          0  \"Ever since I was eight years old I have been ...\n",
      "5526     \"966_7\"          1  \"2005 Toronto Film Festival Report It is offic...\n",
      "19301  \"11645_2\"          0  \"This is a review of 'Freddy Mercury The Untol...\n",
      "17060   \"5920_9\"          1  \"American icon Henry Fonda portrays \\\"Elegant\\...\n",
      "24744   \"9501_2\"          0  \"This is the page for \\\"House of Exorcism\\\", b...\n",
      "5253    \"7877_4\"          0  \"The makers of this film have created a future...\n",
      "21967   \"5442_8\"          1  \"This is a great movie. In the same genre of t...\n",
      "18609   \"7027_4\"          0  \"On the face of it, Ruiz has set out to make a...\n"
     ]
    }
   ],
   "source": [
    "print test1[0:12]"
   ]
  },
  {
   "cell_type": "code",
   "execution_count": 37,
   "metadata": {
    "collapsed": false
   },
   "outputs": [
    {
     "name": "stdout",
     "output_type": "stream",
     "text": [
      "[ 1.  0.  1.  1.  0.  1.  0.  1.  0.  0.  1.  1.]\n"
     ]
    }
   ],
   "source": [
    "print predictions[0:12]"
   ]
  },
  {
   "cell_type": "code",
   "execution_count": 36,
   "metadata": {
    "collapsed": false
   },
   "outputs": [
    {
     "name": "stdout",
     "output_type": "stream",
     "text": [
      "             0           1\n",
      "doc                       \n",
      "0     0.484133    0.515867\n",
      "1     0.573073    0.426927\n",
      "2     0.261172    0.738828\n",
      "3    0.0482365    0.951763\n",
      "4     0.536646    0.463354\n",
      "5     0.335723    0.664277\n",
      "6     0.527615    0.472385\n",
      "7    0.0064288    0.993571\n",
      "8     0.594172    0.405828\n",
      "9     0.992335  0.00766541\n",
      "10     0.29742     0.70258\n",
      "11    0.464517    0.535483\n"
     ]
    }
   ],
   "source": [
    "print probs[0:12]"
   ]
  },
  {
   "cell_type": "markdown",
   "metadata": {},
   "source": [
    "## Reviewing some mislabelled reviews (averaging):"
   ]
  },
  {
   "cell_type": "code",
   "execution_count": 101,
   "metadata": {
    "collapsed": false
   },
   "outputs": [
    {
     "name": "stdout",
     "output_type": "stream",
     "text": [
      "1663\n",
      "12500\n",
      "0.86696\n",
      "(array([    0,    11,    20, ..., 12465, 12474, 12498]),)\n",
      "0\n",
      "11\n",
      "20\n",
      "22\n",
      "23\n",
      "31\n",
      "59\n",
      "60\n",
      "61\n",
      "86\n"
     ]
    }
   ],
   "source": [
    "#indexes that were mislabeled:\n",
    "bad_inxs = np.where(predictions != test1[\"sentiment\"])\n",
    "print len(bad_inxs[0])\n",
    "print len(test1[\"sentiment\"])\n",
    "print np.size(np.where(predictions == test1[\"sentiment\"]))*1./np.size(predictions)\n",
    "print bad_inxs\n",
    "\n",
    "i = 0\n",
    "for inxs in bad_inxs[0]:\n",
    "    if i < 10:\n",
    "        print inxs\n",
    "        #print test1[\"review\"][inxs]\n",
    "    i = i + 1"
   ]
  },
  {
   "cell_type": "code",
   "execution_count": 99,
   "metadata": {
    "collapsed": false
   },
   "outputs": [
    {
     "name": "stdout",
     "output_type": "stream",
     "text": [
      "One very negative sentence at end should have described whole review. Sentence 2 grossly mislabeled.\n",
      "Would have properly been labeled by MaxProb.\n",
      "Probs are very close.\n",
      "Prediction: 1\n",
      "Real Score: 0\n",
      "Probs:\n",
      "0    0.484133\n",
      "1    0.515867\n",
      "Name: 0, dtype: object\n",
      "\n",
      "\"This movie is like the thousand \\\"cat and mouse\\\" movies that preceded it. (The following may look like a spoiler, but it really just describes a large class of movies) There is the passionate, wise main character, his goofy but well-meaning sidekick with his ill-placed attempts at humorous comments, the initially-hostile but soon softened gorgeous lady who triggers the inevitable \\\"unlikely\\\" love story, the loved ones taken hostage, and of course the careless evil adversary with his brutal minions. Everybody has seen tons of these movies already, and \\\"National Treasure\\\" is like any one of them, with only a slightly modified wrapping. Every turn of the story was easily predicted (and I can assure you I am not the sharpest tool in the shed). I am quite tired of feeling tricked for money after exiting the theater from a Hollywood movie, and if you have ever felt that way too, heed my warning; stay miles away from this movie.\"\n",
      "\n",
      "Sentence Scores:\n",
      "            0            1 doc\n",
      "0      0.5986       0.4014   0\n",
      "1  0.00792023      0.99208   0\n",
      "2    0.369248     0.630752   0\n",
      "3    0.445318     0.554682   0\n",
      "4    0.999581  0.000419095   0\n"
     ]
    }
   ],
   "source": [
    "print \"One very negative sentence at end should have described whole review. Sentence 2 grossly mislabeled.\"\n",
    "print \"Would have properly been labeled by MaxProb.\"\n",
    "print \"Probs are very close.\"\n",
    "print \"Prediction:\", int(predictions[0])\n",
    "print \"Real Score:\", test1[\"sentiment\"].iloc[0]\n",
    "print \"Probs:\"\n",
    "print probs.iloc[0]\n",
    "print \"\"\n",
    "print test1[\"review\"].iloc[0]\n",
    "print \"\"\n",
    "print \"Sentence Scores:\"\n",
    "print  probssentences.loc[probssentences[\"doc\"] == 0]"
   ]
  },
  {
   "cell_type": "code",
   "execution_count": 100,
   "metadata": {
    "collapsed": false
   },
   "outputs": [
    {
     "name": "stdout",
     "output_type": "stream",
     "text": [
      "Too many overly complex sentences. Also last sentence not classified negative (score of 4/10).\n",
      "Probs are quite close.\n",
      "Prediction: 1\n",
      "Real Score: 0\n",
      "Probs:\n",
      "0    0.464517\n",
      "1    0.535483\n",
      "Name: 11, dtype: object\n",
      "\n",
      "\"On the face of it, Ruiz has set out to make a psychological thriller. Although it's not as satisfying as a classic piece in that genre, there are compensations. The tensions generated between Huppert and Balibar as women calmly but calculatingly at war over a boy they both claim are compelling; however, in a true European art-house style, Ruiz doesn't give us release of this tension as the women alternately also try to behave compassionately towards each other. The only raised voice is that of Huppert's waking from a nightmare (an uncontested irrational event in the film).<br /><br />In fact, if we follow the title, the film is as little about its thriller skeleton as Jane Campion's In The Cut. Instead it is an intergender psychological study focusing on men. The boy, Camille (Nils Hugon), decides on a practical joke, playing his mother off against an emotionally vulnerable other woman. Both women seem to pander to him rather than scold and this compounds the problem. In the background is an intemperate psychologist (Charles Berling), swift to confront the women in his life - his sister Huppert, the nanny or his pa - and so acting as a symbolic adult counterbalance to the, calm and (we learn) manipulative Camille. It is particularly interesting that, like the father in Henry James' The Turn of The Screw, Denis Podalydes' law-enforcer Father is absent for the duration of the film. Ruiz fashions an Oedipal moment out of Huppert's reaction to his return at the film's close.<br /><br />Read either as a thriller or as a psychiatric essay, this film is ultimately rather disappointing. I'm officially rather fed up with Mme Huppert's screen method, which is too buried and so I'll be looking to see her on stage before I come back to her (European - enjoyed Heaven's Gate) films again. The support is good. Ruiz does the cast no favours though. Quite apart from some poor lighting and some wilfully odd shots, its as if his direction has left characterisation quite out of reach - I'm thinking particularly of Edith Scob's Shamanic neighbour to Isabelle, who acts knowing but communicates bafflement. The set pieces do not link up to a forward driving plot - the tension I have already referred to is not only weakly dissipated but wasted in its directional potential.<br /><br />Want to see a good contemporary French thriller? Go and see L'Appartement instead. 4/10\"\n",
      "\n",
      "Sentence Scores:\n",
      "               0          1 doc\n",
      "93      0.717875   0.282125  11\n",
      "94     0.0173377   0.982662  11\n",
      "95   0.000282313   0.999718  11\n",
      "96      0.330255   0.669745  11\n",
      "97     0.0937843   0.906216  11\n",
      "98      0.634246   0.365754  11\n",
      "99      0.297044   0.702956  11\n",
      "100   0.00639879   0.993601  11\n",
      "101      0.29517    0.70483  11\n",
      "102     0.980774  0.0192262  11\n",
      "103     0.893237   0.106763  11\n",
      "104     0.178596   0.821404  11\n",
      "105     0.799543   0.200457  11\n",
      "106      0.98153  0.0184695  11\n",
      "107     0.187951   0.812049  11\n",
      "108     0.982765  0.0172349  11\n",
      "109          0.5        0.5  11\n"
     ]
    }
   ],
   "source": [
    "print \"Too many overly complex sentences. Also last sentence not classified negative (score of 4/10).\"\n",
    "print \"Probs are quite close.\"\n",
    "print \"Prediction:\", int(predictions[11])\n",
    "print \"Real Score:\", test1[\"sentiment\"].iloc[11]\n",
    "print \"Probs:\"\n",
    "print probs.iloc[11]\n",
    "print \"\"\n",
    "print test1[\"review\"].iloc[11]\n",
    "print \"\"\n",
    "print \"Sentence Scores:\"\n",
    "print  probssentences.loc[probssentences[\"doc\"] == 11]"
   ]
  },
  {
   "cell_type": "code",
   "execution_count": 85,
   "metadata": {
    "collapsed": false
   },
   "outputs": [
    {
     "name": "stdout",
     "output_type": "stream",
     "text": [
      "One very strong negative sentence- this would have been correctly classified by maxProb.\n",
      "Also a very mixed review- explains mediocre scores for both models.\n",
      "Prediction: 1\n",
      "Real Score: 0\n",
      "Probs:\n",
      "0    0.474654\n",
      "1    0.525346\n",
      "Name: 20, dtype: object\n",
      "\n",
      "\"The story is very trustworthy and powerful. The technical side of the movie is quite fine.. even the directing of it. The main problem is with the castings, that turned that movie into almost another local and regular cliché with a great lack of impact and even greater lack of impression. Beside the small role of the father, Rafael (played impressively by Asi Dayan), all other actors were unfortunately not in their best. The role of the elder Blind girl, played by Taly Sharon, was fresh but without any intensity as the leading role. therefore the figure she acted had become mild and low profile. There were moments and episodes that looked more like a rehearsal then a real movie. But after all it's a good point to begin from and to make big improvements in the future.\"\n",
      "\n",
      "Sentence Scores:\n",
      "             0            1 doc\n",
      "244  0.0200399      0.97996  20\n",
      "245   0.258914     0.741086  20\n",
      "246   0.999992  7.58449e-06  20\n",
      "247   0.406923     0.593077  20\n",
      "248   0.140624     0.859376  20\n",
      "249   0.816588     0.183412  20\n",
      "250   0.698662     0.301338  20\n",
      "251   0.455488     0.544512  20\n"
     ]
    }
   ],
   "source": [
    "print \"One very strong negative sentence- this would have been correctly classified by maxProb.\"\n",
    "print \"Also a very mixed review- explains mediocre scores for both models.\"\n",
    "print \"Prediction:\", int(predictions[20])\n",
    "print \"Real Score:\", test1[\"sentiment\"].iloc[20]\n",
    "print \"Probs:\"\n",
    "print probs.iloc[20]\n",
    "print \"\"\n",
    "print test1[\"review\"].iloc[20]\n",
    "print \"\"\n",
    "print \"Sentence Scores:\"\n",
    "print  probssentences.loc[probssentences[\"doc\"] == 20]"
   ]
  },
  {
   "cell_type": "code",
   "execution_count": 89,
   "metadata": {
    "collapsed": false
   },
   "outputs": [
    {
     "name": "stdout",
     "output_type": "stream",
     "text": [
      "Only last sentence valuable. Rest make no sense and are actually somewhat negative.\n",
      "Prediction: 0\n",
      "Real Score: 1\n",
      "Probs:\n",
      "0    0.674869\n",
      "1    0.325131\n",
      "Name: 22, dtype: object\n",
      "\n",
      "\"Shot into car from through the windscreen, someone is playing someone else their latest song, someone else didn't react, according to the voice-over. I just wonder how that came to be made. There were too many scenes in this movie that I wondered about how come a camera was there. If the scenes shot where the Warhols descended on a BJM post-party are true then that was inexcusable exploitation to the max, if not, then it was a total fabrication, either way it made me uncomfortable, if that was the purpose? All the way thru this movie I kept wondering how the footage came about. Taken at face value, a nice portrait of the (tortured) genius we all believe ourselves to be.\"\n",
      "\n",
      "Sentence Scores:\n",
      "            0           1 doc\n",
      "269  0.997813  0.00218711  22\n",
      "270  0.708834    0.291166  22\n",
      "271  0.413562    0.586438  22\n",
      "272  0.987708   0.0122923  22\n",
      "273  0.924647   0.0753527  22\n",
      "274   0.01665     0.98335  22\n"
     ]
    }
   ],
   "source": [
    "print \"Only last sentence valuable. Rest make no sense and are actually somewhat negative.\"\n",
    "print \"Prediction:\", int(predictions[22])\n",
    "print \"Real Score:\", test1[\"sentiment\"].iloc[22]\n",
    "print \"Probs:\"\n",
    "print probs.iloc[22]\n",
    "print \"\"\n",
    "print test1[\"review\"].iloc[22]\n",
    "print \"\"\n",
    "print \"Sentence Scores:\"\n",
    "print  probssentences.loc[probssentences[\"doc\"] == 22]"
   ]
  },
  {
   "cell_type": "code",
   "execution_count": 96,
   "metadata": {
    "collapsed": false
   },
   "outputs": [
    {
     "name": "stdout",
     "output_type": "stream",
     "text": [
      "Only got parsed into 3 sentences instead of 6. First 4 sentences meaningless, only last 2 sentences worthwhile.\n",
      "Important because prob is VERY high for the wrong score.\n",
      "Prediction: 0\n",
      "Real Score: 1\n",
      "Probs:\n",
      "0     0.939341\n",
      "1    0.0606587\n",
      "Name: 23, dtype: object\n",
      "\n",
      "\"I'm on the opposite end of the previous comment.<br /><br />First of all, I don't think this was intended to be a straight sequel to \\\"The Jerk\\\". I mean, it's not titled \\\"The Jerk 2\\\"... it's \\\"The Jerk, Too\\\", which leads me to believe that while a lot of the character names are the same, it actually revolves around a completely different person.<br /><br />Think about it: Virtually no connection to the previous movie, other than character names; a totally different story; different cast; and the fact that it's a partial musical.<br /><br />I say give this movie some credit. It does have plenty of laughs in it.. Mark Blankfield at his prime.\"\n",
      "\n",
      "Sentence Scores:\n",
      "            0           1 doc\n",
      "275  0.975727   0.0242727  23\n",
      "276  0.993554  0.00644572  23\n",
      "277  0.848742    0.151258  23\n"
     ]
    }
   ],
   "source": [
    "print \"Only got parsed into 3 sentences instead of 6. First 4 sentences meaningless, only last 2 sentences worthwhile.\"\n",
    "print \"Important because prob is VERY high for the wrong score.\"\n",
    "print \"Prediction:\", int(predictions[23])\n",
    "print \"Real Score:\", test1[\"sentiment\"].iloc[23]\n",
    "print \"Probs:\"\n",
    "print probs.iloc[23]\n",
    "print \"\"\n",
    "print test1[\"review\"].iloc[23]\n",
    "print \"\"\n",
    "print \"Sentence Scores:\"\n",
    "print  probssentences.loc[probssentences[\"doc\"] == 23]"
   ]
  },
  {
   "cell_type": "code",
   "execution_count": 93,
   "metadata": {
    "collapsed": false
   },
   "outputs": [
    {
     "name": "stdout",
     "output_type": "stream",
     "text": [
      "Think real label is wrong here and w2v is quite right.\n",
      "Prediction: 1\n",
      "Real Score: 0\n",
      "Probs:\n",
      "0    0.420767\n",
      "1    0.579233\n",
      "Name: 31, dtype: object\n",
      "\n",
      "\"Interesting film about an actual event that took place during the Civil War in Vermont. It kept my attention to the end and I don't regret viewing it. I haven't ever read any on this raid incident so I was curious to see if the rebels pulled it off. I enjoy historical films from that era.<br /><br />My major complaint is with the Confederate uniforms. They look too good!!! The acting was a little stiff at times. I like the old man eating the mashed potatoes because he didn't have any teeth. The wounded soldier playing fetch with a hound was a little strange. Overall, it was a descent film.\"\n",
      "\n",
      "Sentence Scores:\n",
      "              0         1 doc\n",
      "326  0.00501662  0.994983  31\n",
      "327    0.109255  0.890745  31\n",
      "328    0.549848  0.450152  31\n",
      "329   0.0241339  0.975866  31\n",
      "330    0.807488  0.192512  31\n",
      "331    0.720029  0.279971  31\n",
      "332    0.361526  0.638474  31\n",
      "333    0.681361  0.318639  31\n",
      "334    0.528248  0.471752  31\n"
     ]
    }
   ],
   "source": [
    "print \"Think real label is wrong here and w2v is quite right.\"\n",
    "print \"Prediction:\", int(predictions[31])\n",
    "print \"Real Score:\", test1[\"sentiment\"].iloc[31]\n",
    "print \"Probs:\"\n",
    "print probs.iloc[31]\n",
    "print \"\"\n",
    "print test1[\"review\"].iloc[31]\n",
    "print \"\"\n",
    "print \"Sentence Scores:\"\n",
    "print  probssentences.loc[probssentences[\"doc\"] == 31]"
   ]
  },
  {
   "cell_type": "code",
   "execution_count": 103,
   "metadata": {
    "collapsed": false
   },
   "outputs": [
    {
     "name": "stdout",
     "output_type": "stream",
     "text": [
      "Pretty much all sentences are negative until the last.\n",
      "Not correctly split into sentences.\n",
      "Incredibly close probabilities.\n",
      "Prediction: 0\n",
      "Real Score: 1\n",
      "Probs:\n",
      "0    0.500203\n",
      "1    0.499797\n",
      "Name: 59, dtype: object\n",
      "\n",
      "\"A very silly movie, this starts with a soft porn sequence, ventures into farcelike comedy in the art gallery, adds a shocker of a discovery in the hotel room then introduces a random murder for no obvious reason.<br /><br />What follows is bizarre and surreal (the stopwatch scene in particular is exquisitely unnecessary), culminating in a revelatory \\\"twist\\\" ending which is as obvious as it is unfair on the viewer (see the trivia section for precisely why it's deliberately unfair).<br /><br />The movie goes out of its way to be offensive to as many groups as possible - transsexuals, the insane, and the wonderful \\\"Huggie Bear\\\"-style racial stereotyping on the subway - and condescendingly treats the viewer like an idiot in the closing scenes, as characters endlessly explain to one another in great detail and over and over again what just happened in the film. Though the background female characters in the restaurant scene at the end are a joy to watch.<br /><br />In fact, the whole movie is a joy to watch: Despite its many, many flaws, the whole package just, well, works.\"\n",
      "\n",
      "Sentence Scores:\n",
      "              0            1 doc\n",
      "693    0.999831  0.000169055  59\n",
      "694  0.00057412     0.999426  59\n"
     ]
    }
   ],
   "source": [
    "print \"Pretty much all sentences are negative until the last.\"\n",
    "print \"Not correctly split into sentences.\"\n",
    "print \"Incredibly close probabilities.\"\n",
    "print \"Prediction:\", int(predictions[59])\n",
    "print \"Real Score:\", test1[\"sentiment\"].iloc[59]\n",
    "print \"Probs:\"\n",
    "print probs.iloc[59]\n",
    "print \"\"\n",
    "print test1[\"review\"].iloc[59]\n",
    "print \"\"\n",
    "print \"Sentence Scores:\"\n",
    "print  probssentences.loc[probssentences[\"doc\"] == 59]"
   ]
  },
  {
   "cell_type": "code",
   "execution_count": null,
   "metadata": {
    "collapsed": true
   },
   "outputs": [],
   "source": []
  },
  {
   "cell_type": "code",
   "execution_count": null,
   "metadata": {
    "collapsed": true
   },
   "outputs": [],
   "source": []
  },
  {
   "cell_type": "code",
   "execution_count": null,
   "metadata": {
    "collapsed": true
   },
   "outputs": [],
   "source": []
  },
  {
   "cell_type": "code",
   "execution_count": null,
   "metadata": {
    "collapsed": true
   },
   "outputs": [],
   "source": []
  },
  {
   "cell_type": "code",
   "execution_count": null,
   "metadata": {
    "collapsed": true
   },
   "outputs": [],
   "source": []
  }
 ],
 "metadata": {
  "kernelspec": {
   "display_name": "Python 2",
   "language": "python",
   "name": "python2"
  },
  "language_info": {
   "codemirror_mode": {
    "name": "ipython",
    "version": 2
   },
   "file_extension": ".py",
   "mimetype": "text/x-python",
   "name": "python",
   "nbconvert_exporter": "python",
   "pygments_lexer": "ipython2",
   "version": "2.7.11"
  }
 },
 "nbformat": 4,
 "nbformat_minor": 0
}
